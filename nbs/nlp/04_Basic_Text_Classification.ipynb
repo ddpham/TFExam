{
 "cells": [
  {
   "cell_type": "markdown",
   "id": "882b48b6-1ff2-4b1f-9a50-53869c5a102a",
   "metadata": {},
   "source": [
    "# Mục Đích\n",
    "> Bài này được viết ra nhằm tổng hợp lại một vài kiến tức cơ bản của text classification như sentiment analysis (phân loại cảm xúc) hay phân loại câu hỏi... Bài này sẽ tổng hợp các kiến thức của các bài trước hoặc bổ sung kiến thức mới về NLP.\n",
    "> Bài này được viết dựa trên nội dung của bài [Basic text classification](https://www.tensorflow.org/tutorials/keras/text_classification) do team Tensorflow thực hiện. Có rất nhiều bài khác nhau ở đây, chúng ta cũng có thể sử dụng nguồn này làm tài liệu luyện thi Tensorflow Developer Certificate được."
   ]
  },
  {
   "cell_type": "code",
   "execution_count": null,
   "id": "e5432ec1-a8d7-4bd0-9f74-81b6319c746f",
   "metadata": {},
   "outputs": [],
   "source": [
    "#default_exp nlp.basic_text_classification"
   ]
  },
  {
   "cell_type": "code",
   "execution_count": null,
   "id": "99c71ca5-8d4a-4763-a1f7-806a8fa50571",
   "metadata": {},
   "outputs": [],
   "source": [
    "#export\n",
    "import tensorflow as tf\n",
    "import tensorflow.keras as keras\n",
    "import matplotlib.pyplot as plt\n",
    "import os, re, shutil, string\n",
    "import matplotlib.pyplot as plt\n",
    "%matplotlib inline"
   ]
  },
  {
   "cell_type": "markdown",
   "id": "ba175a46-2f34-4a2b-ae07-3addd027a848",
   "metadata": {},
   "source": [
    "# Sentiment Analysis\n",
    "> Chúng ta sẽ sử dụng dữ liệu IMBD kinh điển cho phân loại cảm xúc."
   ]
  },
  {
   "cell_type": "markdown",
   "id": "c2cc11ea-cebf-4bdc-a65c-1a8eb0f7598e",
   "metadata": {},
   "source": [
    "## Download dữ liệu\n",
    "> Sử dụng phương thức get_file của keras.utils để download dữ liệu từ url về:"
   ]
  },
  {
   "cell_type": "code",
   "execution_count": null,
   "id": "345af6d6-2df1-48c7-9ce1-c923e6145015",
   "metadata": {},
   "outputs": [
    {
     "data": {
      "text/plain": [
       "\u001b[0;31mSignature:\u001b[0m\n",
       "\u001b[0mkeras\u001b[0m\u001b[0;34m.\u001b[0m\u001b[0mutils\u001b[0m\u001b[0;34m.\u001b[0m\u001b[0mget_file\u001b[0m\u001b[0;34m(\u001b[0m\u001b[0;34m\u001b[0m\n",
       "\u001b[0;34m\u001b[0m    \u001b[0mfname\u001b[0m\u001b[0;34m,\u001b[0m\u001b[0;34m\u001b[0m\n",
       "\u001b[0;34m\u001b[0m    \u001b[0morigin\u001b[0m\u001b[0;34m,\u001b[0m\u001b[0;34m\u001b[0m\n",
       "\u001b[0;34m\u001b[0m    \u001b[0muntar\u001b[0m\u001b[0;34m=\u001b[0m\u001b[0;32mFalse\u001b[0m\u001b[0;34m,\u001b[0m\u001b[0;34m\u001b[0m\n",
       "\u001b[0;34m\u001b[0m    \u001b[0mmd5_hash\u001b[0m\u001b[0;34m=\u001b[0m\u001b[0;32mNone\u001b[0m\u001b[0;34m,\u001b[0m\u001b[0;34m\u001b[0m\n",
       "\u001b[0;34m\u001b[0m    \u001b[0mfile_hash\u001b[0m\u001b[0;34m=\u001b[0m\u001b[0;32mNone\u001b[0m\u001b[0;34m,\u001b[0m\u001b[0;34m\u001b[0m\n",
       "\u001b[0;34m\u001b[0m    \u001b[0mcache_subdir\u001b[0m\u001b[0;34m=\u001b[0m\u001b[0;34m'datasets'\u001b[0m\u001b[0;34m,\u001b[0m\u001b[0;34m\u001b[0m\n",
       "\u001b[0;34m\u001b[0m    \u001b[0mhash_algorithm\u001b[0m\u001b[0;34m=\u001b[0m\u001b[0;34m'auto'\u001b[0m\u001b[0;34m,\u001b[0m\u001b[0;34m\u001b[0m\n",
       "\u001b[0;34m\u001b[0m    \u001b[0mextract\u001b[0m\u001b[0;34m=\u001b[0m\u001b[0;32mFalse\u001b[0m\u001b[0;34m,\u001b[0m\u001b[0;34m\u001b[0m\n",
       "\u001b[0;34m\u001b[0m    \u001b[0marchive_format\u001b[0m\u001b[0;34m=\u001b[0m\u001b[0;34m'auto'\u001b[0m\u001b[0;34m,\u001b[0m\u001b[0;34m\u001b[0m\n",
       "\u001b[0;34m\u001b[0m    \u001b[0mcache_dir\u001b[0m\u001b[0;34m=\u001b[0m\u001b[0;32mNone\u001b[0m\u001b[0;34m,\u001b[0m\u001b[0;34m\u001b[0m\n",
       "\u001b[0;34m\u001b[0m\u001b[0;34m)\u001b[0m\u001b[0;34m\u001b[0m\u001b[0;34m\u001b[0m\u001b[0m\n",
       "\u001b[0;31mDocstring:\u001b[0m\n",
       "Downloads a file from a URL if it not already in the cache.\n",
       "\n",
       "By default the file at the url `origin` is downloaded to the\n",
       "cache_dir `~/.keras`, placed in the cache_subdir `datasets`,\n",
       "and given the filename `fname`. The final location of a file\n",
       "`example.txt` would therefore be `~/.keras/datasets/example.txt`.\n",
       "\n",
       "Files in tar, tar.gz, tar.bz, and zip formats can also be extracted.\n",
       "Passing a hash will verify the file after download. The command line\n",
       "programs `shasum` and `sha256sum` can compute the hash.\n",
       "\n",
       "Example:\n",
       "\n",
       "```python\n",
       "path_to_downloaded_file = tf.keras.utils.get_file(\n",
       "    \"flower_photos\",\n",
       "    \"https://storage.googleapis.com/download.tensorflow.org/example_images/flower_photos.tgz\",\n",
       "    untar=True)\n",
       "```\n",
       "\n",
       "Arguments:\n",
       "    fname: Name of the file. If an absolute path `/path/to/file.txt` is\n",
       "        specified the file will be saved at that location.\n",
       "    origin: Original URL of the file.\n",
       "    untar: Deprecated in favor of `extract` argument.\n",
       "        boolean, whether the file should be decompressed\n",
       "    md5_hash: Deprecated in favor of `file_hash` argument.\n",
       "        md5 hash of the file for verification\n",
       "    file_hash: The expected hash string of the file after download.\n",
       "        The sha256 and md5 hash algorithms are both supported.\n",
       "    cache_subdir: Subdirectory under the Keras cache dir where the file is\n",
       "        saved. If an absolute path `/path/to/folder` is\n",
       "        specified the file will be saved at that location.\n",
       "    hash_algorithm: Select the hash algorithm to verify the file.\n",
       "        options are `'md5'`, `'sha256'`, and `'auto'`.\n",
       "        The default 'auto' detects the hash algorithm in use.\n",
       "    extract: True tries extracting the file as an Archive, like tar or zip.\n",
       "    archive_format: Archive format to try for extracting the file.\n",
       "        Options are `'auto'`, `'tar'`, `'zip'`, and `None`.\n",
       "        `'tar'` includes tar, tar.gz, and tar.bz files.\n",
       "        The default `'auto'` corresponds to `['tar', 'zip']`.\n",
       "        None or an empty list will return no matches found.\n",
       "    cache_dir: Location to store cached files, when None it\n",
       "        defaults to the default directory `~/.keras/`.\n",
       "\n",
       "Returns:\n",
       "    Path to the downloaded file\n",
       "\u001b[0;31mFile:\u001b[0m      ~/miniconda3/envs/tf/lib/python3.8/site-packages/tensorflow/python/keras/utils/data_utils.py\n",
       "\u001b[0;31mType:\u001b[0m      function\n"
      ]
     },
     "metadata": {},
     "output_type": "display_data"
    }
   ],
   "source": [
    "#hide\n",
    "?keras.utils.get_file"
   ]
  },
  {
   "cell_type": "code",
   "execution_count": null,
   "id": "bf5f1e6a-cff8-4645-8440-9eca15414e07",
   "metadata": {},
   "outputs": [],
   "source": [
    "#export\n",
    "# Download dữ liệu từ url về path:\n",
    "path = '/home/ddpham/git/TFExam/data/'\n",
    "url = 'https://ai.stanford.edu/~amaas/data/sentiment/aclImdb_v1.tar.gz'\n",
    "dataset = keras.utils.get_file('aclImdb_v1', origin=url, untar=True, cache_dir=path, cache_subdir='')"
   ]
  },
  {
   "cell_type": "code",
   "execution_count": null,
   "id": "3d4e664c-1f59-4c6f-ad54-be5bd0003399",
   "metadata": {},
   "outputs": [],
   "source": [
    "#export\n",
    "# Tạo lại path:\n",
    "path = os.path.join(os.path.dirname(dataset), 'aclImdb')"
   ]
  },
  {
   "cell_type": "code",
   "execution_count": null,
   "id": "92c5e29d-cc03-4386-9095-9674bfd33c2e",
   "metadata": {},
   "outputs": [
    {
     "name": "stdout",
     "output_type": "stream",
     "text": [
      "Path:  /home/ddpham/git/TFExam/data/aclImdb\n",
      "Subfolders of Path: ['imdbEr.txt', 'imdb.vocab', 'test', 'train', 'README']\n"
     ]
    }
   ],
   "source": [
    "#hide\n",
    "# Kiểm tra path:\n",
    "print(\"Path: \", path)\n",
    "print(\"Subfolders of Path:\", os.listdir(path))"
   ]
  },
  {
   "cell_type": "code",
   "execution_count": null,
   "id": "94f7ea67-2097-4f89-9872-aa951fb9b480",
   "metadata": {},
   "outputs": [
    {
     "name": "stdout",
     "output_type": "stream",
     "text": [
      "Test subfolders: ['labeledBow.feat', 'neg', 'urls_pos.txt', 'pos', 'urls_neg.txt'] \n",
      "Train subfolders: ['labeledBow.feat', 'neg', 'unsupBow.feat', 'urls_pos.txt', 'pos', 'urls_neg.txt', 'urls_unsup.txt', 'unsup']\n"
     ]
    }
   ],
   "source": [
    "#hide\n",
    "# Kiểm tra subfolders:\n",
    "print(\"Test subfolders:\", os.listdir(os.path.join(path, 'test')), \n",
    "      \"\\nTrain subfolders:\", os.listdir(os.path.join(path, 'train')))"
   ]
  },
  {
   "cell_type": "markdown",
   "id": "246c0a48-ee3a-4ae8-9229-3144d41c9fea",
   "metadata": {},
   "source": [
    "Chúng ta có thể thấy trong tập train có dữ liệu `unsup` là dữ liệu unsupervised của IMDB. Do đây là dữ liệu chúng ta sẽ không sử dụng nên cần được loại bỏ path trước khi load dữ liệu tạo tập train."
   ]
  },
  {
   "cell_type": "code",
   "execution_count": null,
   "id": "fda54b2f-d766-4e84-ac87-a058ab091b0e",
   "metadata": {},
   "outputs": [
    {
     "name": "stdout",
     "output_type": "stream",
     "text": [
      "Sample files in subfolders: \n",
      " ['713_1.txt', '10511_1.txt', '9228_3.txt', '9898_1.txt', '7524_1.txt', '7108_3.txt', '3376_3.txt', '485_3.txt', '8039_1.txt', '12103_3.txt']\n"
     ]
    }
   ],
   "source": [
    "#hide\n",
    "# Kiểm tra subfolder:\n",
    "print(\"Sample files in subfolders: \\n\", os.listdir(os.path.join(path, 'train', 'neg'))[:10])"
   ]
  },
  {
   "cell_type": "code",
   "execution_count": null,
   "id": "538a5679-394a-403c-8ee3-df2ecef6efc9",
   "metadata": {},
   "outputs": [
    {
     "name": "stdout",
     "output_type": "stream",
     "text": [
      "Can I please say first of all, that I felt so strongly about this movie that I signed up to IMDb specifically to review it. And my review? This is easily the worst movie I have ever seen.<br /><br />The synopsis of the movie sounded interesting- Nazis, occult, time travel, etc., but the movies plot failed to properly bring all these elements together. Remember the episode of South Park that featured manatees writing Family Guy using 'idea balls'? Did these manatees also write Unholy? Its like the writer wanted to include all these different ideas, but had no idea how to link them all together, and then to make things make even less sense, included a Donnie Darko-esquire time travel theme to the ending, messing up the chronology.<br /><br />I could tell from early on that this was a bad movie. Special effects were too low budget for anything better than straight to DVD. The acting wasn't great, but in fairness I've seen worse. I will praise the Nazi paintings, they were creepy, but the evil Nazi butcher guy was just comic.<br /><br />I don't have a vendetta against this movie or anything, but to be honest, I'm not even into the horror genre. But this movie cannot be described as a thriller or a drama. If this story had been well told, this would have been a good movie. But it has been over hyped. Waaaaay over hyped.\n"
     ]
    }
   ],
   "source": [
    "#hide\n",
    "# Kiểm tra dữ liệu:\n",
    "with open(f'{path}/train/neg/713_1.txt') as file:\n",
    "    print(file.readline())"
   ]
  },
  {
   "cell_type": "markdown",
   "id": "c00a2d43-674e-473f-8bfe-59ae1516deaa",
   "metadata": {},
   "source": [
    "__Trước khi chúng ta bắt đầu, hãy loại bỏ subfolder unsup:__"
   ]
  },
  {
   "cell_type": "code",
   "execution_count": null,
   "id": "06b931c7-e67e-4c91-8a77-adc84ae058c3",
   "metadata": {},
   "outputs": [],
   "source": [
    "#export\n",
    "# Loại unsup khỏi path:\n",
    "remove_dir = os.path.join(path, 'train/unsup')\n",
    "shutil.rmtree(remove_dir)"
   ]
  },
  {
   "cell_type": "code",
   "execution_count": null,
   "id": "058da338-cb2b-4f98-94bb-5de24b6a8839",
   "metadata": {},
   "outputs": [
    {
     "data": {
      "text/plain": [
       "['labeledBow.feat',\n",
       " 'neg',\n",
       " 'unsupBow.feat',\n",
       " 'urls_pos.txt',\n",
       " 'pos',\n",
       " 'urls_neg.txt',\n",
       " 'urls_unsup.txt']"
      ]
     },
     "execution_count": null,
     "metadata": {},
     "output_type": "execute_result"
    }
   ],
   "source": [
    "#hide\n",
    "# Kiểm tra lại directory:\n",
    "os.listdir(os.path.join(path, 'train'))"
   ]
  },
  {
   "cell_type": "markdown",
   "id": "eb24871c-f354-490e-93da-67d826861815",
   "metadata": {},
   "source": [
    "## Tạo dữ liệu\n",
    "> Với dữ liệu IMDB, chúng ta có thể dùng phương pháp `text_dataset_from_directory` tương tự như `image_dataset_from_directory` đã dùng với image."
   ]
  },
  {
   "cell_type": "code",
   "execution_count": null,
   "id": "22d840bc-cde1-4cf6-a113-e3a1bbca4324",
   "metadata": {},
   "outputs": [
    {
     "data": {
      "text/plain": [
       "\u001b[0;31mSignature:\u001b[0m\n",
       "\u001b[0mkeras\u001b[0m\u001b[0;34m.\u001b[0m\u001b[0mpreprocessing\u001b[0m\u001b[0;34m.\u001b[0m\u001b[0mtext_dataset_from_directory\u001b[0m\u001b[0;34m(\u001b[0m\u001b[0;34m\u001b[0m\n",
       "\u001b[0;34m\u001b[0m    \u001b[0mdirectory\u001b[0m\u001b[0;34m,\u001b[0m\u001b[0;34m\u001b[0m\n",
       "\u001b[0;34m\u001b[0m    \u001b[0mlabels\u001b[0m\u001b[0;34m=\u001b[0m\u001b[0;34m'inferred'\u001b[0m\u001b[0;34m,\u001b[0m\u001b[0;34m\u001b[0m\n",
       "\u001b[0;34m\u001b[0m    \u001b[0mlabel_mode\u001b[0m\u001b[0;34m=\u001b[0m\u001b[0;34m'int'\u001b[0m\u001b[0;34m,\u001b[0m\u001b[0;34m\u001b[0m\n",
       "\u001b[0;34m\u001b[0m    \u001b[0mclass_names\u001b[0m\u001b[0;34m=\u001b[0m\u001b[0;32mNone\u001b[0m\u001b[0;34m,\u001b[0m\u001b[0;34m\u001b[0m\n",
       "\u001b[0;34m\u001b[0m    \u001b[0mbatch_size\u001b[0m\u001b[0;34m=\u001b[0m\u001b[0;36m32\u001b[0m\u001b[0;34m,\u001b[0m\u001b[0;34m\u001b[0m\n",
       "\u001b[0;34m\u001b[0m    \u001b[0mmax_length\u001b[0m\u001b[0;34m=\u001b[0m\u001b[0;32mNone\u001b[0m\u001b[0;34m,\u001b[0m\u001b[0;34m\u001b[0m\n",
       "\u001b[0;34m\u001b[0m    \u001b[0mshuffle\u001b[0m\u001b[0;34m=\u001b[0m\u001b[0;32mTrue\u001b[0m\u001b[0;34m,\u001b[0m\u001b[0;34m\u001b[0m\n",
       "\u001b[0;34m\u001b[0m    \u001b[0mseed\u001b[0m\u001b[0;34m=\u001b[0m\u001b[0;32mNone\u001b[0m\u001b[0;34m,\u001b[0m\u001b[0;34m\u001b[0m\n",
       "\u001b[0;34m\u001b[0m    \u001b[0mvalidation_split\u001b[0m\u001b[0;34m=\u001b[0m\u001b[0;32mNone\u001b[0m\u001b[0;34m,\u001b[0m\u001b[0;34m\u001b[0m\n",
       "\u001b[0;34m\u001b[0m    \u001b[0msubset\u001b[0m\u001b[0;34m=\u001b[0m\u001b[0;32mNone\u001b[0m\u001b[0;34m,\u001b[0m\u001b[0;34m\u001b[0m\n",
       "\u001b[0;34m\u001b[0m    \u001b[0mfollow_links\u001b[0m\u001b[0;34m=\u001b[0m\u001b[0;32mFalse\u001b[0m\u001b[0;34m,\u001b[0m\u001b[0;34m\u001b[0m\n",
       "\u001b[0;34m\u001b[0m\u001b[0;34m)\u001b[0m\u001b[0;34m\u001b[0m\u001b[0;34m\u001b[0m\u001b[0m\n",
       "\u001b[0;31mDocstring:\u001b[0m\n",
       "Generates a `tf.data.Dataset` from text files in a directory.\n",
       "\n",
       "If your directory structure is:\n",
       "\n",
       "```\n",
       "main_directory/\n",
       "...class_a/\n",
       "......a_text_1.txt\n",
       "......a_text_2.txt\n",
       "...class_b/\n",
       "......b_text_1.txt\n",
       "......b_text_2.txt\n",
       "```\n",
       "\n",
       "Then calling `text_dataset_from_directory(main_directory, labels='inferred')`\n",
       "will return a `tf.data.Dataset` that yields batches of texts from\n",
       "the subdirectories `class_a` and `class_b`, together with labels\n",
       "0 and 1 (0 corresponding to `class_a` and 1 corresponding to `class_b`).\n",
       "\n",
       "Only `.txt` files are supported at this time.\n",
       "\n",
       "Arguments:\n",
       "  directory: Directory where the data is located.\n",
       "      If `labels` is \"inferred\", it should contain\n",
       "      subdirectories, each containing text files for a class.\n",
       "      Otherwise, the directory structure is ignored.\n",
       "  labels: Either \"inferred\"\n",
       "      (labels are generated from the directory structure),\n",
       "      or a list/tuple of integer labels of the same size as the number of\n",
       "      text files found in the directory. Labels should be sorted according\n",
       "      to the alphanumeric order of the text file paths\n",
       "      (obtained via `os.walk(directory)` in Python).\n",
       "  label_mode:\n",
       "      - 'int': means that the labels are encoded as integers\n",
       "          (e.g. for `sparse_categorical_crossentropy` loss).\n",
       "      - 'categorical' means that the labels are\n",
       "          encoded as a categorical vector\n",
       "          (e.g. for `categorical_crossentropy` loss).\n",
       "      - 'binary' means that the labels (there can be only 2)\n",
       "          are encoded as `float32` scalars with values 0 or 1\n",
       "          (e.g. for `binary_crossentropy`).\n",
       "      - None (no labels).\n",
       "  class_names: Only valid if \"labels\" is \"inferred\". This is the explict\n",
       "      list of class names (must match names of subdirectories). Used\n",
       "      to control the order of the classes\n",
       "      (otherwise alphanumerical order is used).\n",
       "  batch_size: Size of the batches of data. Default: 32.\n",
       "  max_length: Maximum size of a text string. Texts longer than this will\n",
       "    be truncated to `max_length`.\n",
       "  shuffle: Whether to shuffle the data. Default: True.\n",
       "      If set to False, sorts the data in alphanumeric order.\n",
       "  seed: Optional random seed for shuffling and transformations.\n",
       "  validation_split: Optional float between 0 and 1,\n",
       "      fraction of data to reserve for validation.\n",
       "  subset: One of \"training\" or \"validation\".\n",
       "      Only used if `validation_split` is set.\n",
       "  follow_links: Whether to visits subdirectories pointed to by symlinks.\n",
       "      Defaults to False.\n",
       "\n",
       "Returns:\n",
       "  A `tf.data.Dataset` object.\n",
       "    - If `label_mode` is None, it yields `string` tensors of shape\n",
       "      `(batch_size,)`, containing the contents of a batch of text files.\n",
       "    - Otherwise, it yields a tuple `(texts, labels)`, where `texts`\n",
       "      has shape `(batch_size,)` and `labels` follows the format described\n",
       "      below.\n",
       "\n",
       "Rules regarding labels format:\n",
       "  - if `label_mode` is `int`, the labels are an `int32` tensor of shape\n",
       "    `(batch_size,)`.\n",
       "  - if `label_mode` is `binary`, the labels are a `float32` tensor of\n",
       "    1s and 0s of shape `(batch_size, 1)`.\n",
       "  - if `label_mode` is `categorial`, the labels are a `float32` tensor\n",
       "    of shape `(batch_size, num_classes)`, representing a one-hot\n",
       "    encoding of the class index.\n",
       "\u001b[0;31mFile:\u001b[0m      ~/miniconda3/envs/tf/lib/python3.8/site-packages/tensorflow/python/keras/preprocessing/text_dataset.py\n",
       "\u001b[0;31mType:\u001b[0m      function\n"
      ]
     },
     "metadata": {},
     "output_type": "display_data"
    }
   ],
   "source": [
    "#hide\n",
    "?keras.preprocessing.text_dataset_from_directory"
   ]
  },
  {
   "cell_type": "code",
   "execution_count": null,
   "id": "ffd8d0cc-9e9d-4062-ab76-2257f378e054",
   "metadata": {},
   "outputs": [
    {
     "name": "stdout",
     "output_type": "stream",
     "text": [
      "Found 25000 files belonging to 2 classes.\n",
      "Using 20000 files for training.\n",
      "Found 25000 files belonging to 2 classes.\n",
      "Using 5000 files for validation.\n"
     ]
    }
   ],
   "source": [
    "#export\n",
    "# Tạo tập train và valid từ folder train:\n",
    "train_ds = keras.preprocessing.text_dataset_from_directory(\n",
    "    directory=f'{path}/train'\n",
    "    , labels='inferred'\n",
    "    , label_mode='binary'\n",
    "#     , class_names=['neg', 'pos']\n",
    "    , batch_size=32\n",
    "    , validation_split=0.2\n",
    "    , subset='training'\n",
    "    , seed=42\n",
    ")\n",
    "valid_ds = keras.preprocessing.text_dataset_from_directory(\n",
    "    directory=f'{path}/train'\n",
    "    , labels = 'inferred'\n",
    "    , label_mode='binary'\n",
    "    , batch_size=32\n",
    "    , validation_split=0.2\n",
    "    , subset='validation'\n",
    "    , seed=42\n",
    ")"
   ]
  },
  {
   "cell_type": "markdown",
   "id": "aad786df-8592-4d2f-b016-7bc8710dcb04",
   "metadata": {},
   "source": [
    "__Lưu ý:__\n",
    "Chúng ta luôn luôn nhớ cần kiểm tra lại dữ liệu sau tất cả các bước load dữ liệu, biến đổi dữ liệu và tạo features để đảm bảo dữ liệu đầu ra đúng với yêu cầu "
   ]
  },
  {
   "cell_type": "code",
   "execution_count": null,
   "id": "1f247694-a963-4866-aee2-ef354ab262a9",
   "metadata": {},
   "outputs": [
    {
     "name": "stdout",
     "output_type": "stream",
     "text": [
      "tf.Tensor(\n",
      "[b'\"Pandemonium\" is a horror movie spoof that comes off more stupid than funny. Believe me when I tell you, I love comedies. Especially comedy spoofs. \"Airplane\", \"The Naked Gun\" trilogy, \"Blazing Saddles\", \"High Anxiety\", and \"Spaceballs\" are some of my favorite comedies that spoof a particular genre. \"Pandemonium\" is not up there with those films. Most of the scenes in this movie had me sitting there in stunned silence because the movie wasn\\'t all that funny. There are a few laughs in the film, but when you watch a comedy, you expect to laugh a lot more than a few times and that\\'s all this film has going for it. Geez, \"Scream\" had more laughs than this film and that was more of a horror film. How bizarre is that?<br /><br />*1/2 (out of four)'\n",
      " b\"David Mamet is a very interesting and a very un-equal director. His first movie 'House of Games' was the one I liked best, and it set a series of films with characters whose perspective of life changes as they get into complicated situations, and so does the perspective of the viewer.<br /><br />So is 'Homicide' which from the title tries to set the mind of the viewer to the usual crime drama. The principal characters are two cops, one Jewish and one Irish who deal with a racially charged area. The murder of an old Jewish shop owner who proves to be an ancient veteran of the Israeli Independence war triggers the Jewish identity in the mind and heart of the Jewish detective.<br /><br />This is were the flaws of the film are the more obvious. The process of awakening is theatrical and hard to believe, the group of Jewish militants is operatic, and the way the detective eventually walks to the final violent confrontation is pathetic. The end of the film itself is Mamet-like smart, but disappoints from a human emotional perspective.<br /><br />Joe Mantegna and William Macy give strong performances, but the flaws of the story are too evident to be easily compensated.\"\n",
      " b'Great documentary about the lives of NY firefighters during the worst terrorist attack of all time.. That reason alone is why this should be a must see collectors item.. What shocked me was not only the attacks, but the\"High Fat Diet\" and physical appearance of some of these firefighters. I think a lot of Doctors would agree with me that,in the physical shape they were in, some of these firefighters would NOT of made it to the 79th floor carrying over 60 lbs of gear. Having said that i now have a greater respect for firefighters and i realize becoming a firefighter is a life altering job. The French have a history of making great documentary\\'s and that is what this is, a Great Documentary.....'], shape=(3,), dtype=string)\n",
      "tf.Tensor(\n",
      "[[0.]\n",
      " [0.]\n",
      " [1.]], shape=(3, 1), dtype=float32)\n"
     ]
    }
   ],
   "source": [
    "#hide\n",
    "# Kiểm tra lại dữ liệu từ tập train:\n",
    "for batch in train_ds.take(1):\n",
    "    print(batch[0][:3])\n",
    "    print(batch[1][:3])"
   ]
  },
  {
   "cell_type": "markdown",
   "id": "231a2e21-88aa-48a8-9ba6-1ba45a89fb4e",
   "metadata": {},
   "source": [
    "## Text Vectorization\n",
    "> Chúng ta sử dụng TextVectorization để tokenize text và convert text về dạng sequence."
   ]
  },
  {
   "cell_type": "code",
   "execution_count": null,
   "id": "bc6da1cb-6376-4cc7-9067-db00619721fa",
   "metadata": {},
   "outputs": [
    {
     "data": {
      "text/plain": [
       "\u001b[0;31mInit signature:\u001b[0m \u001b[0mkeras\u001b[0m\u001b[0;34m.\u001b[0m\u001b[0mlayers\u001b[0m\u001b[0;34m.\u001b[0m\u001b[0mexperimental\u001b[0m\u001b[0;34m.\u001b[0m\u001b[0mpreprocessing\u001b[0m\u001b[0;34m.\u001b[0m\u001b[0mTextVectorization\u001b[0m\u001b[0;34m(\u001b[0m\u001b[0;34m*\u001b[0m\u001b[0margs\u001b[0m\u001b[0;34m,\u001b[0m \u001b[0;34m**\u001b[0m\u001b[0mkwargs\u001b[0m\u001b[0;34m)\u001b[0m\u001b[0;34m\u001b[0m\u001b[0;34m\u001b[0m\u001b[0m\n",
       "\u001b[0;31mDocstring:\u001b[0m     \n",
       "Text vectorization layer.\n",
       "\n",
       "This layer has basic options for managing text in a Keras model. It\n",
       "transforms a batch of strings (one sample = one string) into either a list of\n",
       "token indices (one sample = 1D tensor of integer token indices) or a dense\n",
       "representation (one sample = 1D tensor of float values representing data about\n",
       "the sample's tokens).\n",
       "\n",
       "If desired, the user can call this layer's adapt() method on a dataset.\n",
       "When this layer is adapted, it will analyze the dataset, determine the\n",
       "frequency of individual string values, and create a 'vocabulary' from them.\n",
       "This vocabulary can have unlimited size or be capped, depending on the\n",
       "configuration options for this layer; if there are more unique values in the\n",
       "input than the maximum vocabulary size, the most frequent terms will be used\n",
       "to create the vocabulary.\n",
       "\n",
       "The processing of each sample contains the following steps:\n",
       "\n",
       "  1. standardize each sample (usually lowercasing + punctuation stripping)\n",
       "  2. split each sample into substrings (usually words)\n",
       "  3. recombine substrings into tokens (usually ngrams)\n",
       "  4. index tokens (associate a unique int value with each token)\n",
       "  5. transform each sample using this index, either into a vector of ints or\n",
       "     a dense float vector.\n",
       "\n",
       "Some notes on passing Callables to customize splitting and normalization for\n",
       "this layer:\n",
       "\n",
       "  1. Any callable can be passed to this Layer, but if you want to serialize\n",
       "     this object you should only pass functions that are registered Keras\n",
       "     serializables (see `tf.keras.utils.register_keras_serializable` for more\n",
       "     details).\n",
       "  2. When using a custom callable for `standardize`, the data received\n",
       "     by the callable will be exactly as passed to this layer. The callable\n",
       "     should return a tensor of the same shape as the input.\n",
       "  3. When using a custom callable for `split`, the data received by the\n",
       "     callable will have the 1st dimension squeezed out - instead of\n",
       "     `[[\"string to split\"], [\"another string to split\"]]`, the Callable will\n",
       "     see `[\"string to split\", \"another string to split\"]`. The callable should\n",
       "     return a Tensor with the first dimension containing the split tokens -\n",
       "     in this example, we should see something like `[[\"string\", \"to\", \"split],\n",
       "     [\"another\", \"string\", \"to\", \"split\"]]`. This makes the callable site\n",
       "     natively compatible with `tf.strings.split()`.\n",
       "\n",
       "Attributes:\n",
       "  max_tokens: The maximum size of the vocabulary for this layer. If None,\n",
       "    there is no cap on the size of the vocabulary. Note that this vocabulary\n",
       "    contains 1 OOV token, so the effective number of tokens is `(max_tokens -\n",
       "    1 - (1 if output == \"int\" else 0))`.\n",
       "  standardize: Optional specification for standardization to apply to the\n",
       "    input text. Values can be None (no standardization),\n",
       "    'lower_and_strip_punctuation' (lowercase and remove punctuation) or a\n",
       "    Callable. Default is 'lower_and_strip_punctuation'.\n",
       "  split: Optional specification for splitting the input text. Values can be\n",
       "    None (no splitting), 'whitespace' (split on ASCII whitespace), or a\n",
       "    Callable. The default is 'whitespace'.\n",
       "  ngrams: Optional specification for ngrams to create from the possibly-split\n",
       "    input text. Values can be None, an integer or tuple of integers; passing\n",
       "    an integer will create ngrams up to that integer, and passing a tuple of\n",
       "    integers will create ngrams for the specified values in the tuple. Passing\n",
       "    None means that no ngrams will be created.\n",
       "  output_mode: Optional specification for the output of the layer. Values can\n",
       "    be \"int\", \"binary\", \"count\" or \"tf-idf\", configuring the layer as follows:\n",
       "      \"int\": Outputs integer indices, one integer index per split string\n",
       "        token. When output == \"int\", 0 is reserved for masked locations;\n",
       "        this reduces the vocab size to max_tokens-2 instead of max_tokens-1\n",
       "      \"binary\": Outputs a single int array per batch, of either vocab_size or\n",
       "        max_tokens size, containing 1s in all elements where the token mapped\n",
       "        to that index exists at least once in the batch item.\n",
       "      \"count\": As \"binary\", but the int array contains a count of the number\n",
       "        of times the token at that index appeared in the batch item.\n",
       "      \"tf-idf\": As \"binary\", but the TF-IDF algorithm is applied to find the\n",
       "        value in each token slot.\n",
       "  output_sequence_length: Only valid in INT mode. If set, the output will have\n",
       "    its time dimension padded or truncated to exactly `output_sequence_length`\n",
       "    values, resulting in a tensor of shape [batch_size,\n",
       "    output_sequence_length] regardless of how many tokens resulted from the\n",
       "    splitting step. Defaults to None.\n",
       "  pad_to_max_tokens: Only valid in  \"binary\", \"count\", and \"tf-idf\" modes. If\n",
       "    True, the output will have its feature axis padded to `max_tokens` even if\n",
       "    the number of unique tokens in the vocabulary is less than max_tokens,\n",
       "    resulting in a tensor of shape [batch_size, max_tokens] regardless of\n",
       "    vocabulary size. Defaults to True.\n",
       "  vocabulary: An optional list of vocabulary terms, or a path to a text file\n",
       "    containing a vocabulary to load into this layer. The file should contain\n",
       "    one token per line. If the list or file contains the same token multiple\n",
       "    times, an error will be thrown.\n",
       "\n",
       "Example:\n",
       "This example instantiates a TextVectorization layer that lowercases text,\n",
       "splits on whitespace, strips punctuation, and outputs integer vocab indices.\n",
       "\n",
       ">>> text_dataset = tf.data.Dataset.from_tensor_slices([\"foo\", \"bar\", \"baz\"])\n",
       ">>> max_features = 5000  # Maximum vocab size.\n",
       ">>> max_len = 4  # Sequence length to pad the outputs to.\n",
       ">>> embedding_dims = 2\n",
       ">>>\n",
       ">>> # Create the layer.\n",
       ">>> vectorize_layer = TextVectorization(\n",
       "...  max_tokens=max_features,\n",
       "...  output_mode='int',\n",
       "...  output_sequence_length=max_len)\n",
       ">>>\n",
       ">>> # Now that the vocab layer has been created, call `adapt` on the text-only\n",
       ">>> # dataset to create the vocabulary. You don't have to batch, but for large\n",
       ">>> # datasets this means we're not keeping spare copies of the dataset.\n",
       ">>> vectorize_layer.adapt(text_dataset.batch(64))\n",
       ">>>\n",
       ">>> # Create the model that uses the vectorize text layer\n",
       ">>> model = tf.keras.models.Sequential()\n",
       ">>>\n",
       ">>> # Start by creating an explicit input layer. It needs to have a shape of\n",
       ">>> # (1,) (because we need to guarantee that there is exactly one string\n",
       ">>> # input per batch), and the dtype needs to be 'string'.\n",
       ">>> model.add(tf.keras.Input(shape=(1,), dtype=tf.string))\n",
       ">>>\n",
       ">>> # The first layer in our model is the vectorization layer. After this\n",
       ">>> # layer, we have a tensor of shape (batch_size, max_len) containing vocab\n",
       ">>> # indices.\n",
       ">>> model.add(vectorize_layer)\n",
       ">>>\n",
       ">>> # Now, the model can map strings to integers, and you can add an embedding\n",
       ">>> # layer to map these integers to learned embeddings.\n",
       ">>> input_data = [[\"foo qux bar\"], [\"qux baz\"]]\n",
       ">>> model.predict(input_data)\n",
       "array([[2, 1, 4, 0],\n",
       "       [1, 3, 0, 0]])\n",
       "\n",
       "Example:\n",
       "This example instantiates a TextVectorization layer by passing a list\n",
       "of vocabulary terms to the layer's __init__ method.\n",
       "\n",
       "  input_array = np.array([[\"earth\", \"wind\", \"and\", \"fire\"],\n",
       "                          [\"fire\", \"and\", \"earth\", \"michigan\"]])\n",
       "  expected_output = [[2, 3, 4, 5], [5, 4, 2, 1]]\n",
       "\n",
       "  input_data = keras.Input(shape=(None,), dtype=dtypes.string)\n",
       "  layer = get_layer_class()(\n",
       "      max_tokens=None,\n",
       "      standardize=None,\n",
       "      split=None,\n",
       "      output_mode=text_vectorization.INT,\n",
       "      vocabulary=vocab_data)\n",
       "  int_data = layer(input_data)\n",
       "  model = keras.Model(inputs=input_data, outputs=int_data)\n",
       "\n",
       "  output_dataset = model.predict(input_array)\n",
       ">>> vocab_data = [\"earth\", \"wind\", \"and\", \"fire\"]\n",
       ">>> max_len = 4  # Sequence length to pad the outputs to.\n",
       ">>>\n",
       ">>> # Create the layer, passing the vocab directly. You can also pass the\n",
       ">>> # vocabulary arg a path to a file containing one vocabulary word per\n",
       ">>> # line.\n",
       ">>> vectorize_layer = TextVectorization(\n",
       "...  max_tokens=max_features,\n",
       "...  output_mode='int',\n",
       "...  output_sequence_length=max_len,\n",
       "...  vocabulary=vocab_data)\n",
       ">>>\n",
       ">>> # Because we've passed the vocabulary directly, we don't need to adapt\n",
       ">>> # the layer - the vocabulary is already set. The vocabulary contains the\n",
       ">>> # padding token ('') and OOV token ('[UNK]') as well as the passed tokens.\n",
       ">>> vectorize_layer.get_vocabulary()\n",
       "['', '[UNK]', 'earth', 'wind', 'and', 'fire']\n",
       "\u001b[0;31mFile:\u001b[0m           ~/miniconda3/envs/tf/lib/python3.8/site-packages/tensorflow/python/keras/layers/preprocessing/text_vectorization.py\n",
       "\u001b[0;31mType:\u001b[0m           ABCMeta\n",
       "\u001b[0;31mSubclasses:\u001b[0m     TextVectorization\n"
      ]
     },
     "metadata": {},
     "output_type": "display_data"
    }
   ],
   "source": [
    "#hide\n",
    "?keras.layers.experimental.preprocessing.TextVectorization"
   ]
  },
  {
   "cell_type": "markdown",
   "id": "d1a6b589-04a7-4851-8e8a-a43caae0ac88",
   "metadata": {},
   "source": [
    "### Biến đổi dữ liệu cơ bản\n",
    "> Trong layer text vectorization, có biến: `standardize` giúp chúng ta thực hiện các bước biến đổi/chuẩn hóa dữ liệu như: chuyển chữ về dạng lowercase (tùy chọn, có thể ko sử dụng nếu bạn thấy không cần thiết); loại bỏ các ký tự đặc biệt sử dụng trong ngôn ngữ html... Đây là các bước cần thiết để chúng ta có được dữ liệu sạch và chuẩn trước khi chúng ta bắt đầu việc tách từ, gộp từ, tokenize từ và tạo sequence (vector) hoặc tf-idf..."
   ]
  },
  {
   "cell_type": "markdown",
   "id": "f0992cfb-93be-4f2a-a123-ce30645a3e81",
   "metadata": {},
   "source": [
    "__Lưu ý:__\n",
    "\n",
    "Tensorflow có module `strings` có rất nhiều phương pháp xử lý dữ liệu dạng chữ khác nhau rất hữu dụng để chúng ta có thể sử dụng biến đổi dữ liệu."
   ]
  },
  {
   "cell_type": "code",
   "execution_count": null,
   "id": "6aa61b81-d02e-401e-b6d3-ef0c9a7ffec0",
   "metadata": {},
   "outputs": [
    {
     "data": {
      "text/plain": [
       "['__builtins__',\n",
       " '__cached__',\n",
       " '__doc__',\n",
       " '__file__',\n",
       " '__loader__',\n",
       " '__name__',\n",
       " '__package__',\n",
       " '__path__',\n",
       " '__spec__',\n",
       " '_sys',\n",
       " 'as_string',\n",
       " 'bytes_split',\n",
       " 'format',\n",
       " 'join',\n",
       " 'length',\n",
       " 'lower',\n",
       " 'ngrams',\n",
       " 'reduce_join',\n",
       " 'regex_full_match',\n",
       " 'regex_replace',\n",
       " 'split',\n",
       " 'strip',\n",
       " 'substr',\n",
       " 'to_hash_bucket',\n",
       " 'to_hash_bucket_fast',\n",
       " 'to_hash_bucket_strong',\n",
       " 'to_number',\n",
       " 'unicode_decode',\n",
       " 'unicode_decode_with_offsets',\n",
       " 'unicode_encode',\n",
       " 'unicode_script',\n",
       " 'unicode_split',\n",
       " 'unicode_split_with_offsets',\n",
       " 'unicode_transcode',\n",
       " 'unsorted_segment_join',\n",
       " 'upper']"
      ]
     },
     "execution_count": null,
     "metadata": {},
     "output_type": "execute_result"
    }
   ],
   "source": [
    "#hide\n",
    "dir(tf.strings)"
   ]
  },
  {
   "cell_type": "code",
   "execution_count": null,
   "id": "1488db94-f310-4d8d-9c11-b0dc86508184",
   "metadata": {},
   "outputs": [],
   "source": [
    "#export\n",
    "def text_cleansing(input_text):\n",
    "    # Convert sang lower case:\n",
    "    lower_text = tf.strings.lower(input_text)\n",
    "    # Loại bỏ các ký tự html:\n",
    "    html_text = tf.strings.regex_replace(lower_text, \"<br />\", \" \")\n",
    "    # Loại bỏ các dấu:\n",
    "    puct_text = tf.strings.regex_replace(html_text, \"[%s]\" % re.escape(string.punctuation), \"\")\n",
    "    return puct_text"
   ]
  },
  {
   "cell_type": "code",
   "execution_count": null,
   "id": "29de0b78-aeb6-4a55-aca2-2b9ce8b7879e",
   "metadata": {},
   "outputs": [
    {
     "data": {
      "text/plain": [
       "'[!\"\\\\#\\\\$%\\\\&\\'\\\\(\\\\)\\\\*\\\\+,\\\\-\\\\./:;<=>\\\\?@\\\\[\\\\\\\\\\\\]\\\\^_`\\\\{\\\\|\\\\}\\\\~]'"
      ]
     },
     "execution_count": null,
     "metadata": {},
     "output_type": "execute_result"
    }
   ],
   "source": [
    "#hide\n",
    "# Danh sách puntuations:\n",
    "'[%s]' % re.escape(string.punctuation)"
   ]
  },
  {
   "cell_type": "code",
   "execution_count": null,
   "id": "34a09669-3782-41fe-bf80-78f71c587f2a",
   "metadata": {},
   "outputs": [],
   "source": []
  },
  {
   "cell_type": "code",
   "execution_count": null,
   "id": "0a04a36a-da9a-455e-b390-97e0f3abf13f",
   "metadata": {},
   "outputs": [
    {
     "name": "stdout",
     "output_type": "stream",
     "text": [
      "tf.Tensor(b\"David Mamet is a very interesting and a very un-equal director. His first movie 'House of Games' was the one I liked best, and it set a series of films with characters whose perspective of life changes as they get into complicated situations, and so does the perspective of the viewer.<br /><br />So is 'Homicide' which from the title tries to set the mind of the viewer to the usual crime drama. The principal characters are two cops, one Jewish and one Irish who deal with a racially charged area. The murder of an old Jewish shop owner who proves to be an ancient veteran of the Israeli Independence war triggers the Jewish identity in the mind and heart of the Jewish detective.<br /><br />This is were the flaws of the film are the more obvious. The process of awakening is theatrical and hard to believe, the group of Jewish militants is operatic, and the way the detective eventually walks to the final violent confrontation is pathetic. The end of the film itself is Mamet-like smart, but disappoints from a human emotional perspective.<br /><br />Joe Mantegna and William Macy give strong performances, but the flaws of the story are too evident to be easily compensated.\", shape=(), dtype=string) \n",
      "\n",
      "tf.Tensor(b'david mamet is a very interesting and a very unequal director his first movie house of games was the one i liked best and it set a series of films with characters whose perspective of life changes as they get into complicated situations and so does the perspective of the viewer  so is homicide which from the title tries to set the mind of the viewer to the usual crime drama the principal characters are two cops one jewish and one irish who deal with a racially charged area the murder of an old jewish shop owner who proves to be an ancient veteran of the israeli independence war triggers the jewish identity in the mind and heart of the jewish detective  this is were the flaws of the film are the more obvious the process of awakening is theatrical and hard to believe the group of jewish militants is operatic and the way the detective eventually walks to the final violent confrontation is pathetic the end of the film itself is mametlike smart but disappoints from a human emotional perspective  joe mantegna and william macy give strong performances but the flaws of the story are too evident to be easily compensated', shape=(), dtype=string)\n"
     ]
    }
   ],
   "source": [
    "#hide\n",
    "# Test thử dữ liệu:\n",
    "for batch in train_ds.take(1):\n",
    "    print(batch[0][1], '\\n')\n",
    "    print(text_cleansing(batch[0][1]))\n",
    "    break"
   ]
  },
  {
   "cell_type": "code",
   "execution_count": null,
   "id": "1c707207-3e25-43fb-b68a-dbecc394e3f5",
   "metadata": {},
   "outputs": [],
   "source": [
    "#export\n",
    "# Tạo layer vectorization:\n",
    "max_features = 10000\n",
    "sequence_length = 250\n",
    "\n",
    "vectorization_layer = keras.layers.experimental.preprocessing.TextVectorization(\n",
    "    max_tokens=max_features\n",
    "    , standardize=text_cleansing\n",
    "    , split='whitespace'\n",
    "    , ngrams=None\n",
    "    , output_mode='int'\n",
    "    , output_sequence_length=sequence_length\n",
    ")"
   ]
  },
  {
   "cell_type": "markdown",
   "id": "fd1d148d-ba1d-4455-8f39-5426888deb3c",
   "metadata": {},
   "source": [
    "**Lưu ý:**\n",
    "\n",
    "Tưowng tự như `Tokenizer` trong `keras.preprocesisng.text`, TextVectorization có phương pháp `adapt` để giúp chúng ta xây dựng vocabulary cho tập dữ liệu dựa vào tập train. Do đó trước khi bắt đầu tiếp các bước tiếp theo, chúng ta sẽ `adapt` TextVectorization với tập dữ liệu train."
   ]
  },
  {
   "cell_type": "code",
   "execution_count": null,
   "id": "38ee054d-60b1-4385-ad49-a6892bc2da78",
   "metadata": {},
   "outputs": [],
   "source": [
    "#export\n",
    "# Gộp toàn bộ dữ liệu text vào:\n",
    "for _, text in train_ds.enumerate():\n",
    "    if _ == 0:\n",
    "        raw_text_train = text[0]\n",
    "    else: raw_text_train = tf.concat([raw_text_train, text[0]], axis=-1)"
   ]
  },
  {
   "cell_type": "code",
   "execution_count": null,
   "id": "3d6448db-d493-4e7c-86aa-7b4787f88238",
   "metadata": {},
   "outputs": [
    {
     "name": "stdout",
     "output_type": "stream",
     "text": [
      "#:  20000\n",
      "Sample data:\n",
      " tf.Tensor(\n",
      "[b'Silent Night, Deadly Night 5 is the very last of the series, and like part 4, it\\'s unrelated to the first three except by title and the fact that it\\'s a Christmas-themed horror flick.<br /><br />Except to the oblivious, there\\'s some obvious things going on here...Mickey Rooney plays a toymaker named Joe Petto and his creepy son\\'s name is Pino. Ring a bell, anyone? Now, a little boy named Derek heard a knock at the door one evening, and opened it to find a present on the doorstep for him. Even though it said \"don\\'t open till Christmas\", he begins to open it anyway but is stopped by his dad, who scolds him and sends him to bed, and opens the gift himself. Inside is a little red ball that sprouts Santa arms and a head, and proceeds to kill dad. Oops, maybe he should have left well-enough alone. Of course Derek is then traumatized by the incident since he watched it from the stairs, but he doesn\\'t grow up to be some killer Santa, he just stops talking.<br /><br />There\\'s a mysterious stranger lurking around, who seems very interested in the toys that Joe Petto makes. We even see him buying a bunch when Derek\\'s mom takes him to the store to find a gift for him to bring him out of his trauma. And what exactly is this guy doing? Well, we\\'re not sure but he does seem to be taking these toys apart to see what makes them tick. He does keep his landlord from evicting him by promising him to pay him in cash the next day and presents him with a \"Larry the Larvae\" toy for his kid, but of course \"Larry\" is not a good toy and gets out of the box in the car and of course, well, things aren\\'t pretty.<br /><br />Anyway, eventually what\\'s going on with Joe Petto and Pino is of course revealed, and as with the old story, Pino is not a \"real boy\". Pino is probably even more agitated and naughty because he suffers from \"Kenitalia\" (a smooth plastic crotch) so that could account for his evil ways. And the identity of the lurking stranger is revealed too, and there\\'s even kind of a happy ending of sorts. Whee.<br /><br />A step up from part 4, but not much of one. Again, Brian Yuzna is involved, and Screaming Mad George, so some decent special effects, but not enough to make this great. A few leftovers from part 4 are hanging around too, like Clint Howard and Neith Hunter, but that doesn\\'t really make any difference. Anyway, I now have seeing the whole series out of my system. Now if I could get some of it out of my brain. 4 out of 5.'\n",
      " b\"This Italian film from the '70's is NOT even in the class with Dog Soldiers, The Howling, or even that awful American Werewolf in Paris, BUT...it is fun to watch. I'm talking about watching the lead actress, a stunning blonde, run amok in her birthday suit. We're talking about graphic, complete nudity...it's obvious that she is a real blonde...humma humma humma!! The story is a hoot, the SFX are childish, and the acting (for the most part) stinks. The only redeeming value of this movie is all (and there is a LOT) the nudity & sex scenes. Tame by HBO standards, but still fun to see when you find yourself without a date on Saturday night. OK...HERE'S THE SPOILER...There is NO werewolf (except in the opening scene of the heroine(??)'s ancestor. The girl just imagines that she's a werewolf...in other words, a clinical Lycanthrope.\"\n",
      " b'Mr Perlman gives a standout performance (as usual). Sadly, he has to struggle with an underwritten script and some nonsensical set pieces.<br /><br />Larsen is in \"Die Hard\" mode complete with singlet and bulging muscles, I\\'m sure he could do better but seems satisfied to grimace and snarl through his part.<br /><br />The lovely Erika is very decorative (even though fully clothed!) and shows some signs of \"getting\" acting at last.<br /><br />SFX are mainly poor CGI and steals from other movies.<br /><br />The shootouts are pitiful - worthy of the A-Team<br /><br />Not even worth seeing for Perlman - AVOID'\n",
      " b\"I'm a Christian who generally believes in the theology taught in Left Behind. That being said, I think Left Behind is one of the worst films I've seen in some time.<br /><br />To have a good movie, you need to have a well-written screenplay. Left Behind fell woefully short on this. For one thing, it radically deviates from the book. Sometimes this is done to condense a 400-page novel down to a two-hour film, but in this film I saw changes that made no sense whatsoever.<br /><br />Another thing, there is zero character development. When characters in the story get saved (I won't say who), the book makes it clear that it's a long, soul-searching process. In the film it's quick and artificial. The book is written decently enough where people like Rayford Steele, Buck Williams and Hattie Durham seem real, but in the movie scenarios are consistently given the quick treatment without anything substantial. In another scene where one character gets angry about being left behind (again, I won't say who), it seems artificial.<br /><br />I realize as a Christian it's unedifying for me to say I disliked this film, but I can't in a good conscience recommend a film that I feel was horribly done. Perhaps it would've been better to make the first book into 2-3 films. Either way, Christians need to realize that to be taken seriously as filmmakers, we need to start by putting together a film in a quality way. I realize a lot of effort probably went into Left Behind, but that's the way I see it.\"\n",
      " b'The Forest isn\\'t just your everyday standard slasher/backwoods cannibal fare, it also has an interesting mix of supernatural elements as well. The story is about two couples that hike into the forest on a camping trip. A cave dwelling, cannibalistic woodsmen and the ghosts of his dead wife and two children soon terrorize them. There is something you don\\'t see every slasher. Director Don Jones gets an \"A\" for effort although the film itself falls flat on just about every level, the acting is just simply average except for Jeanette Kelly who plays the dead wife of the woodsman (Michael Brody aka Gary Kent).<br /><br />The film opens with some beautiful shots of a couple hiking through a valley and into a forest. They realize too late that someone is stalking them. They are both dispatched in typical slasher fare. Our killer uses a trusty hunting knife throughout the entire film, except during a flashback when he implements a handsaw, pitchfork and rusty saw blade to dispatch his cheating wife\\'s lover.<br /><br />The Forest has a good story line but the movie just doesn\\'t work along with it I found it pretty boring with simply crappy acting. 4/10'], shape=(5,), dtype=string)\n"
     ]
    }
   ],
   "source": [
    "#hide\n",
    "# Kiểm tra dữ liệu:\n",
    "print(\"#: \", raw_text_train.shape[0])\n",
    "print(\"Sample data:\\n\", raw_text_train[:5])"
   ]
  },
  {
   "cell_type": "code",
   "execution_count": null,
   "id": "f8ac647a-d25c-491b-b5b6-5bbc0a930b0e",
   "metadata": {},
   "outputs": [],
   "source": [
    "#export\n",
    "# Adapt vectorization_layer với dữ liệu text từ tập train:\n",
    "vectorization_layer.adapt(raw_text_train)"
   ]
  },
  {
   "cell_type": "code",
   "execution_count": null,
   "id": "7dffbc5b-a874-419e-bc87-9c5783c93e56",
   "metadata": {},
   "outputs": [
    {
     "data": {
      "text/plain": [
       "<tf.Tensor: shape=(1, 250), dtype=int64, numpy=\n",
       "array([[1287,  313, 2380,  313,  661,    7,    2,   52,  229,    5,    2,\n",
       "         200,    3,   38,  170,  669,   29, 5492,    6,    2,   83,  297,\n",
       "         549,   32,  410,    3,    2,  186,   12,   29,    4,    1,  191,\n",
       "         510,  549,    6,    2, 8229,  212,   46,  576,  175,  168,   20,\n",
       "           1, 5361,  290,    4,    1,  761,  969,    1,    3,   24,  935,\n",
       "        2271,  393,    7,    1, 1675,    4, 3747,  250,  148,    4,  112,\n",
       "         436,  761, 3529,  548,    4, 3633,   31,    2, 1331,   28, 2096,\n",
       "           3, 2912,    9,    6,  163,    4, 1006,   20,    2,    1,   15,\n",
       "          85,   53,  147,    9,  292,   89,  959, 2314,  984,   27,  762,\n",
       "           6,  959,    9,  564,   18,    7, 2140,   32,   24, 1254,   36,\n",
       "           1,   85,    3, 3298,   85,    6, 1410,    3, 1936,    2, 3408,\n",
       "         301,  965,    7,    4,  112,  740, 1977,   12,    1, 2014, 2772,\n",
       "           3,    4,  428,    3, 5177,    6,  512, 1254,    1,  278,   27,\n",
       "         139,   25,  308,    1,  579,    5,  259, 3529,    7,   92, 8981,\n",
       "          32,    2, 3842,  230,   27,  289,    9,   35,    2, 5712,   18,\n",
       "          27,  144, 2166,   56,    6,   26,   46,  466, 2014,   27,   40,\n",
       "        2745,  657,  212,    4, 1376, 3002, 7080,  183,   36,  180,   52,\n",
       "         920,    8,    2, 4028,   12,  969,    1,  158,   71,   53,   67,\n",
       "          85, 2754,    4,  734,   51,    1, 1611,  294,   85,    6,    2,\n",
       "        1164,    6,  163,    4, 3408,   15,   85,    6,  717,   85,   44,\n",
       "           5,   24, 7158,    3,   48,  604,    7,   11,  225,  384,   73,\n",
       "          65,   21,  242,   18,   27,  120,  295,    6,   26,  667,  129,\n",
       "        4028,  948,    6,   67,   48,  158,   93,    1]])>"
      ]
     },
     "execution_count": null,
     "metadata": {},
     "output_type": "execute_result"
    }
   ],
   "source": [
    "#hide\n",
    "# Kiểm tra lại với 1 sample:\n",
    "## Lưu ý: dữ liệu đầu vào của vectorization_layer phải là dạng list, nên ở đây\n",
    "## với 1 sample của raw_text_train, chúng ta phải biến nó thành dạng list:\n",
    "vectorization_layer([raw_text_train[0]])"
   ]
  },
  {
   "cell_type": "markdown",
   "id": "f0b581ce-6f2b-42e0-8247-f7d1c63950de",
   "metadata": {},
   "source": [
    "**Lưu ý:**\n",
    "Bằng cách sử dụng toàn bộ dữ liệu text của tập train để xây dựng vocab cho layer vectorization, chúng ta đã có được phần này đầy đủ. Hãy áp dụng cho các tập dữ liệu khác:"
   ]
  },
  {
   "cell_type": "code",
   "execution_count": null,
   "id": "c0b5aebd-eebb-4af4-91bf-901cae07b5fc",
   "metadata": {},
   "outputs": [
    {
     "data": {
      "text/plain": [
       "<BatchDataset shapes: ((None,), (None, 1)), types: (tf.string, tf.float32)>"
      ]
     },
     "execution_count": null,
     "metadata": {},
     "output_type": "execute_result"
    }
   ],
   "source": [
    "#hide\n",
    "# Kiểm tra shape của dữ liệu đầu vào:\n",
    "train_ds"
   ]
  },
  {
   "cell_type": "markdown",
   "id": "f5df0ea6-ddd6-4e0f-a28c-f2b04f81a6fa",
   "metadata": {},
   "source": [
    "Đôi khi, chúng ta có thể quên mất loại dữ liệu của tập train/valid (dạng tuple hoặc dictionary). Trước khi áp dụng phương pháp nào vào dữ liệu này, bạn cần biết rõ dạng dữ liệu để đảm bảo khi tạo phương pháp, chúng ta ko bị nhầm lẫn giữa 2 loại dữ liệu trên."
   ]
  },
  {
   "cell_type": "code",
   "execution_count": null,
   "id": "cda5395f-0bee-4f3f-a5a5-6926795ec0ec",
   "metadata": {},
   "outputs": [],
   "source": [
    "#export\n",
    "# Tạo hàm biến đổi dữ liệu để map vào các tập dataset;\n",
    "def vectorize_text(text, label):\n",
    "    \n",
    "    # Biến đổi từng comment thành dạng list:\n",
    "    text = tf.expand_dims(text, -1) \n",
    "    return vectorization_layer(text), label   "
   ]
  },
  {
   "cell_type": "code",
   "execution_count": null,
   "id": "fa007020-632f-4682-a9ee-edf05b4e6052",
   "metadata": {},
   "outputs": [
    {
     "name": "stdout",
     "output_type": "stream",
     "text": [
      "Original comment:\n",
      " tf.Tensor(b\"I am shocked. Shocked and dismayed that the 428 of you IMDB users who voted before me have not given this film a rating of higher than 7. 7?!?? - that's a C!. If I could give FOBH a 20, I'd gladly do it. This film ranks high atop the pantheon of modern comedy, alongside Half Baked and Mallrats, as one of the most hilarious films of all time. If you know _anything_ about rap music - YOU MUST SEE THIS!! If you know nothing about rap music - learn something!, and then see this! Comparisons to 'Spinal Tap' fail to appreciate the inspired genius of this unique film. If you liked Bob Roberts, you'll love this. Watch it and vote it a 10!\", shape=(), dtype=string) \n",
      "\n",
      "Vectorized comment:'\n",
      " (<tf.Tensor: shape=(1, 250), dtype=int64, numpy=\n",
      "array([[  10,  237, 2350, 2350,    3,    1,   12,    2,    1,    5,   22,\n",
      "         922, 5790,   36, 5633,  153,   69,   25,   21,  340,   11,   19,\n",
      "           4,  693,    5, 1718,   70, 1131, 1131,  177,    4, 1885,   45,\n",
      "          10,   98,  193,    1,    4,  950,  450,    1,   82,    9,   11,\n",
      "          19, 3798,  331,    1,    2,    1,    5,  709,  220, 4475,  363,\n",
      "           1,    3,    1,   14,   28,    5,    2,   88,  615,   94,    5,\n",
      "          30,   58,   45,   22,  118,  228,   42, 3662,  222,   22,  219,\n",
      "          67,   11,   45,   22,  118,  155,   42, 3662,  222,  817,  138,\n",
      "           3,   92,   67,   11, 5471,    6, 5572, 4139, 1760,    6, 1111,\n",
      "           2, 1534, 1209,    5,   11,  953,   19,   45,   22,  414, 1956,\n",
      "        2985,  483,  115,   11,  103,    9,    3, 2187,    9,    4,  296,\n",
      "           0,    0,    0,    0,    0,    0,    0,    0,    0,    0,    0,\n",
      "           0,    0,    0,    0,    0,    0,    0,    0,    0,    0,    0,\n",
      "           0,    0,    0,    0,    0,    0,    0,    0,    0,    0,    0,\n",
      "           0,    0,    0,    0,    0,    0,    0,    0,    0,    0,    0,\n",
      "           0,    0,    0,    0,    0,    0,    0,    0,    0,    0,    0,\n",
      "           0,    0,    0,    0,    0,    0,    0,    0,    0,    0,    0,\n",
      "           0,    0,    0,    0,    0,    0,    0,    0,    0,    0,    0,\n",
      "           0,    0,    0,    0,    0,    0,    0,    0,    0,    0,    0,\n",
      "           0,    0,    0,    0,    0,    0,    0,    0,    0,    0,    0,\n",
      "           0,    0,    0,    0,    0,    0,    0,    0,    0,    0,    0,\n",
      "           0,    0,    0,    0,    0,    0,    0,    0,    0,    0,    0,\n",
      "           0,    0,    0,    0,    0,    0,    0,    0]])>, <tf.Tensor: shape=(1,), dtype=float32, numpy=array([1.], dtype=float32)>)\n"
     ]
    }
   ],
   "source": [
    "#hide\n",
    "# Thử test với 1 batch của tập train:\n",
    "for batch in train_ds.take(1):\n",
    "    print(\"Original comment:\\n\", batch[0][1], '\\n')\n",
    "    print(\"Vectorized comment:'\\n\", vectorize_text(batch[0][1], batch[1][1]))"
   ]
  },
  {
   "cell_type": "markdown",
   "id": "24a5b241-3fc2-4f5d-9ab9-ae2ed420adc4",
   "metadata": {},
   "source": [
    "**Lưu ý:**\n",
    "\n",
    "Chúng ta có thể thấy, với độ dài của sequence = 250, không phải comment nào cũng đủ dài như vậy, nên sẽ có những comment khi biến đổi sang sequence thì có rất nhiều giá trị 0 đằng sau được `pad` vào để đảm bảo độ dài của sequence = 250."
   ]
  },
  {
   "cell_type": "code",
   "execution_count": null,
   "id": "fb37115c-3e93-4cdd-81bf-f1068f881d74",
   "metadata": {},
   "outputs": [],
   "source": [
    "#export\n",
    "# Áp dụng với tập train và valid:\n",
    "train_ds = train_ds.map(vectorize_text)\n",
    "valid_ds = valid_ds.map(vectorize_text)"
   ]
  },
  {
   "cell_type": "markdown",
   "id": "265745a4-e2ca-40a7-95aa-912e4e3d0445",
   "metadata": {},
   "source": [
    "### Cấu hình dữ liệu\n",
    "> Với dữ liệu dạng Dataset, chúng ta có 2 phương pháp cấu hình dữ liệu có thể áp dụng để tránh bị vấn để về I/O: `cache` và `prefetch`.\n",
    "Về cơ bản `cache` là việc máy sẽ ưu tiên một phần của bộ nhớ tạm thời (RAM) (hoặc ổ cứng tại máy local - vs hệ thống dữ liệu ditributed) cho dữ liệu còn `prefetch` là việc máy (CPU) sẽ tính toán trước dữ liệu cho batch tiếp theo khi model đang train batch hiện tại trên GPU. Bạn có thể thấy là với Tensorflow, chúng ta phải tương đối am hiểu về những kiến thức cơ bản của CS để có thể hiểu được ý nghĩa của việc tuning performance như thế này."
   ]
  },
  {
   "cell_type": "code",
   "execution_count": null,
   "id": "ac5d3f32-185c-4f56-84ff-8e6806cf51e3",
   "metadata": {},
   "outputs": [
    {
     "data": {
      "text/plain": [
       "\u001b[0;31mType:\u001b[0m        int\n",
       "\u001b[0;31mString form:\u001b[0m -1\n",
       "\u001b[0;31mDocstring:\u001b[0m  \n",
       "int([x]) -> integer\n",
       "int(x, base=10) -> integer\n",
       "\n",
       "Convert a number or string to an integer, or return 0 if no arguments\n",
       "are given.  If x is a number, return x.__int__().  For floating point\n",
       "numbers, this truncates towards zero.\n",
       "\n",
       "If x is not a number or if base is given, then x must be a string,\n",
       "bytes, or bytearray instance representing an integer literal in the\n",
       "given base.  The literal can be preceded by '+' or '-' and be surrounded\n",
       "by whitespace.  The base defaults to 10.  Valid bases are 0 and 2-36.\n",
       "Base 0 means to interpret the base from the string as an integer literal.\n",
       ">>> int('0b100', base=0)\n",
       "4\n"
      ]
     },
     "metadata": {},
     "output_type": "display_data"
    }
   ],
   "source": [
    "#hide\n",
    "?tf.data.AUTOTUNE"
   ]
  },
  {
   "cell_type": "code",
   "execution_count": null,
   "id": "7847b348-8d60-48a6-85fd-b24c648b1a21",
   "metadata": {},
   "outputs": [],
   "source": [
    "#export\n",
    "AUTOTUNE = tf.data.AUTOTUNE # để tf tự quyết định số lượng prefetch dựa vào cấu hình của máy tính \n",
    "train_ds = train_ds.cache().prefetch(buffer_size=AUTOTUNE)\n",
    "valid_ds = valid_ds.cache().prefetch(buffer_size=AUTOTUNE)"
   ]
  },
  {
   "cell_type": "code",
   "execution_count": null,
   "id": "5c8afd53-1d71-4434-ac75-dfc79c90b073",
   "metadata": {},
   "outputs": [
    {
     "data": {
      "text/plain": [
       "<PrefetchDataset shapes: ((None, 250), (None, 1)), types: (tf.int64, tf.float32)>"
      ]
     },
     "execution_count": null,
     "metadata": {},
     "output_type": "execute_result"
    }
   ],
   "source": [
    "#hide\n",
    "# Kiểm tra lại shape của dữ liệu:\n",
    "train_ds"
   ]
  },
  {
   "cell_type": "markdown",
   "id": "c0670323-f5c9-48aa-90d3-feaf48f468c6",
   "metadata": {},
   "source": [
    "## Tạo model cơ bản\n",
    "> Chúng ta sẽ tạo 1 model có cấu trúc tương đối đơn giản: "
   ]
  },
  {
   "cell_type": "markdown",
   "id": "287cc89b-8376-4378-b396-9532ec7ca2d9",
   "metadata": {},
   "source": [
    "### Xây dựng kiến trúc cơ bản"
   ]
  },
  {
   "cell_type": "code",
   "execution_count": null,
   "id": "daf4207a-7984-46ae-ae20-23256ffff6df",
   "metadata": {},
   "outputs": [
    {
     "name": "stdout",
     "output_type": "stream",
     "text": [
      "Model: \"sequential\"\n",
      "_________________________________________________________________\n",
      "Layer (type)                 Output Shape              Param #   \n",
      "=================================================================\n",
      "embedding (Embedding)        (None, 250, 64)           640000    \n",
      "_________________________________________________________________\n",
      "dropout (Dropout)            (None, 250, 64)           0         \n",
      "_________________________________________________________________\n",
      "global_average_pooling1d (Gl (None, 64)                0         \n",
      "_________________________________________________________________\n",
      "dropout_1 (Dropout)          (None, 64)                0         \n",
      "_________________________________________________________________\n",
      "dense (Dense)                (None, 10)                650       \n",
      "_________________________________________________________________\n",
      "dense_1 (Dense)              (None, 1)                 11        \n",
      "=================================================================\n",
      "Total params: 640,661\n",
      "Trainable params: 640,661\n",
      "Non-trainable params: 0\n",
      "_________________________________________________________________\n"
     ]
    }
   ],
   "source": [
    "#export\n",
    "# Tạo kiến trúc cơ bản:\n",
    "embedding_dim = 64\n",
    "model = keras.Sequential()\n",
    "    \n",
    "# Tạo embedding layer:\n",
    "model.add(keras.layers.Embedding(max_features, embedding_dim, input_length=sequence_length))\n",
    "\n",
    "# Dropout\n",
    "model.add(keras.layers.Dropout(.2))\n",
    "\n",
    "# Sử dụng globalaveragepool1D để giảm chiều và lấy\n",
    "# giá trị average của từng row của matrix embeding\n",
    "model.add(keras.layers.GlobalAveragePooling1D())\n",
    "\n",
    "# Tiếp tục dropout:\n",
    "model.add(keras.layers.Dropout(.2))\n",
    "\n",
    "# Tạo dense layer để tiếp tục giảm size:\n",
    "model.add(keras.layers.Dense(10, activation='relu'))\n",
    "\n",
    "# Tạo layer dự báo:\n",
    "model.add(keras.layers.Dense(1, activation='sigmoid'))\n",
    "\n",
    "# Compile model:\n",
    "model.compile(optimizer='rmsprop', loss='binary_crossentropy', metrics='accuracy')\n",
    "model.summary()"
   ]
  },
  {
   "cell_type": "markdown",
   "id": "08e17736-7260-4111-aef6-d260d0b8f5ca",
   "metadata": {},
   "source": [
    "### Đào tạo"
   ]
  },
  {
   "cell_type": "code",
   "execution_count": null,
   "id": "ba41f2b2-0d8c-4034-a4fb-bdc7fbdb9790",
   "metadata": {},
   "outputs": [
    {
     "name": "stdout",
     "output_type": "stream",
     "text": [
      "Epoch 1/10\n",
      "625/625 [==============================] - 20s 29ms/step - loss: 0.6461 - accuracy: 0.6603 - val_loss: 0.4115 - val_accuracy: 0.8412\n",
      "Epoch 2/10\n",
      "625/625 [==============================] - 16s 26ms/step - loss: 0.3639 - accuracy: 0.8555 - val_loss: 0.3165 - val_accuracy: 0.8656\n",
      "Epoch 3/10\n",
      "625/625 [==============================] - 17s 27ms/step - loss: 0.2820 - accuracy: 0.8864 - val_loss: 0.2983 - val_accuracy: 0.8762\n",
      "Epoch 4/10\n",
      "625/625 [==============================] - 17s 26ms/step - loss: 0.2479 - accuracy: 0.9012 - val_loss: 0.2940 - val_accuracy: 0.8780\n",
      "Epoch 5/10\n",
      "625/625 [==============================] - 17s 26ms/step - loss: 0.2271 - accuracy: 0.9114 - val_loss: 0.2918 - val_accuracy: 0.8790\n",
      "Epoch 6/10\n",
      "625/625 [==============================] - 17s 27ms/step - loss: 0.2133 - accuracy: 0.9195 - val_loss: 0.2952 - val_accuracy: 0.8780\n",
      "Epoch 7/10\n",
      "625/625 [==============================] - 18s 29ms/step - loss: 0.2026 - accuracy: 0.9227 - val_loss: 0.2954 - val_accuracy: 0.8796\n",
      "Epoch 8/10\n",
      "625/625 [==============================] - 17s 27ms/step - loss: 0.1938 - accuracy: 0.9265 - val_loss: 0.2959 - val_accuracy: 0.8792\n",
      "Epoch 9/10\n",
      "625/625 [==============================] - 18s 30ms/step - loss: 0.1877 - accuracy: 0.9308 - val_loss: 0.2982 - val_accuracy: 0.8808\n",
      "Epoch 10/10\n",
      "625/625 [==============================] - 17s 27ms/step - loss: 0.1818 - accuracy: 0.9326 - val_loss: 0.3010 - val_accuracy: 0.8798\n"
     ]
    },
    {
     "data": {
      "text/plain": [
       "<tensorflow.python.keras.callbacks.History at 0x7f88fe6c12b0>"
      ]
     },
     "execution_count": null,
     "metadata": {},
     "output_type": "execute_result"
    }
   ],
   "source": [
    "#export\n",
    "# Train model:\n",
    "epochs = 10\n",
    "model.fit(train_ds, epochs=epochs, validation_data=valid_ds)"
   ]
  },
  {
   "cell_type": "markdown",
   "id": "736673f0-237f-475e-ad66-01f88a0e9e61",
   "metadata": {},
   "source": [
    "Chúng ta có thể thấy, kể từ epoch thứ 3 trở đi, model bắt đầu có dấu hiệu overfit. Chúng ta có thể plot lại kết quả để dễ  hình dung hơn."
   ]
  },
  {
   "cell_type": "markdown",
   "id": "a7de4638-4f5a-4cfa-8779-a80b2194b3cf",
   "metadata": {},
   "source": [
    "### Visualize kết quả\n",
    "> Keras có lưu lại kết quả trong quá trình train model ở model.history, bao gồm cả dữ liệu về loss và metrics. Chúng ta hãy plot lại dữ liệu này theo epoch để dễ quan sát hơn."
   ]
  },
  {
   "cell_type": "code",
   "execution_count": null,
   "id": "fc07befd-e72d-4f41-8f61-2a30ca80c14b",
   "metadata": {},
   "outputs": [
    {
     "data": {
      "text/plain": [
       "{'loss': [0.5900413990020752,\n",
       "  0.35086187720298767,\n",
       "  0.2806062698364258,\n",
       "  0.25015172362327576,\n",
       "  0.2301107943058014,\n",
       "  0.2160499095916748,\n",
       "  0.20527395606040955,\n",
       "  0.1980276256799698,\n",
       "  0.19125179946422577,\n",
       "  0.18440547585487366],\n",
       " 'accuracy': [0.7352499961853027,\n",
       "  0.8586500287055969,\n",
       "  0.8848000168800354,\n",
       "  0.902400016784668,\n",
       "  0.9103000164031982,\n",
       "  0.9168499708175659,\n",
       "  0.9230999946594238,\n",
       "  0.9257000088691711,\n",
       "  0.9285500049591064,\n",
       "  0.9313499927520752],\n",
       " 'val_loss': [0.4314160645008087,\n",
       "  0.31800544261932373,\n",
       "  0.2969827353954315,\n",
       "  0.2911377251148224,\n",
       "  0.28976067900657654,\n",
       "  0.2912695109844208,\n",
       "  0.2928432822227478,\n",
       "  0.29422780871391296,\n",
       "  0.2965157628059387,\n",
       "  0.29804882407188416],\n",
       " 'val_accuracy': [0.8339999914169312,\n",
       "  0.8669999837875366,\n",
       "  0.876800000667572,\n",
       "  0.879800021648407,\n",
       "  0.8820000290870667,\n",
       "  0.8813999891281128,\n",
       "  0.8822000026702881,\n",
       "  0.8831999897956848,\n",
       "  0.8835999965667725,\n",
       "  0.8826000094413757]}"
      ]
     },
     "execution_count": null,
     "metadata": {},
     "output_type": "execute_result"
    }
   ],
   "source": [
    "#hide\n",
    "# Kiểm tra dữ liệu hisotry:\n",
    "model.history.history"
   ]
  },
  {
   "cell_type": "code",
   "execution_count": null,
   "id": "ad812200-d766-4148-8af6-4f4d15e4c295",
   "metadata": {},
   "outputs": [],
   "source": [
    "#export\n",
    "def plot_history(history: dict, metrics:str='accuracy'):\n",
    "    # Tạo list cần plot:\n",
    "    loss = [i for i in history if 'loss' in i]\n",
    "    metrics = [i for i in history if f'{metrics}' in i]\n",
    "    plots = [loss, metrics]\n",
    "    \n",
    "    # Plot:\n",
    "    fig = plt.figure(figsize=(10, 4))\n",
    "    for i in range(len(plots)):\n",
    "        ax = plt.subplot(1, 2, i+1)\n",
    "        for plot_item in plots[i]:\n",
    "            ax.plot(history[plot_item])\n",
    "            ax.legend(plots[i])\n",
    "            ax.set_xlabel('epochs')\n",
    "    plt.suptitle(\"Train's and Validation's Loss vs Metrics\")\n",
    "    plt.tight_layout()"
   ]
  },
  {
   "cell_type": "code",
   "execution_count": null,
   "id": "6598c20e-3cb9-4aa2-8e94-eda00d84d911",
   "metadata": {},
   "outputs": [
    {
     "data": {
      "image/png": "[encoded data removed]",
      "text/plain": [
       "<Figure size 720x288 with 2 Axes>"
      ]
     },
     "metadata": {
      "needs_background": "light"
     },
     "output_type": "display_data"
    }
   ],
   "source": [
    "#export\n",
    "plot_history(model.history.history)"
   ]
  },
  {
   "cell_type": "markdown",
   "id": "ed2ae4d2-3837-4bd8-a27e-c045b298d558",
   "metadata": {},
   "source": [
    "Chúng ta tạm thời chấp nhận kết quả này ở đây và chuyển sang "
   ]
  },
  {
   "cell_type": "markdown",
   "id": "7b6379b2-627f-4d07-a389-74040ce40a9f",
   "metadata": {},
   "source": [
    "### Đánh giá kết quả\n",
    "> Sau khi đã hài lòng với kết quả được đào tạo. Chúng ta có thể đánh giá lại tính chính xác của model vs tập test. Ở bước trên, chúng ta đã không hề đề cập đến tập dữ liệu test, bây giờ là lúc để load dữ liệu và kiểm định lại model."
   ]
  },
  {
   "cell_type": "code",
   "execution_count": null,
   "id": "799a6199-0918-468b-a6a9-09c3504ebb6c",
   "metadata": {},
   "outputs": [
    {
     "name": "stdout",
     "output_type": "stream",
     "text": [
      "Found 25000 files belonging to 2 classes.\n"
     ]
    }
   ],
   "source": [
    "#export\n",
    "test_ds = keras.preprocessing.text_dataset_from_directory(\n",
    "    directory=f'{path}/test'\n",
    "    , labels = 'inferred'\n",
    ")\n",
    "\n",
    "test_ds = test_ds.map(vectorize_text)"
   ]
  },
  {
   "cell_type": "code",
   "execution_count": null,
   "id": "a88bbc05-8734-4894-ba6d-3ac3df00aea2",
   "metadata": {},
   "outputs": [
    {
     "name": "stdout",
     "output_type": "stream",
     "text": [
      "New comment:\n",
      " [  84    5    2 1101    5   24  106 5976    3 4508    5   63  402  571\n",
      "    1  482   82   21  664 6576   81   19  240  307 7517    8   24  229\n",
      "   19  153   24  323 3120    4  397 3872    5    1   63   27 1944   86\n",
      " 1450   35   24  489   14  787    3  567   14  516    0    0    0    0\n",
      "    0    0    0    0    0    0    0    0    0    0    0    0    0    0\n",
      "    0    0    0    0    0    0    0    0    0    0    0    0    0    0\n",
      "    0    0    0    0    0    0    0    0    0    0    0    0    0    0\n",
      "    0    0    0    0    0    0    0    0    0    0    0    0    0    0\n",
      "    0    0    0    0    0    0    0    0    0    0    0    0    0    0\n",
      "    0    0    0    0    0    0    0    0    0    0    0    0    0    0\n",
      "    0    0    0    0    0    0    0    0    0    0    0    0    0    0\n",
      "    0    0    0    0    0    0    0    0    0    0    0    0    0    0\n",
      "    0    0    0    0    0    0    0    0    0    0    0    0    0    0\n",
      "    0    0    0    0    0    0    0    0    0    0    0    0    0    0\n",
      "    0    0    0    0    0    0    0    0    0    0    0    0    0    0\n",
      "    0    0    0    0    0    0    0    0    0    0    0    0    0    0\n",
      "    0    0    0    0    0    0    0    0    0    0    0    0    0    0\n",
      "    0    0    0    0    0    0    0    0    0    0    0    0]\n",
      "\n",
      "Label:\n",
      " 1\n"
     ]
    }
   ],
   "source": [
    "#hide\n",
    "# Kiểm tra lại dữ liệu:\n",
    "for text in test_ds.take(1):\n",
    "    print(\"New comment:\\n\", text[0][1].numpy())\n",
    "    print(\"\\nLabel:\\n\", text[1][1].numpy())"
   ]
  },
  {
   "cell_type": "code",
   "execution_count": null,
   "id": "c573f580-8b26-45ec-8559-a9d6cf40d738",
   "metadata": {},
   "outputs": [
    {
     "name": "stdout",
     "output_type": "stream",
     "text": [
      "Đánh giá kết quả trên tập test:\n",
      "782/782 [==============================] - 12s 16ms/step - loss: 0.3268 - accuracy: 0.8685\n",
      "Giá trị loss: 0.3268018662929535\n",
      "Giá trị accuary: 0.8685200214385986\n"
     ]
    }
   ],
   "source": [
    "#export\n",
    "print(\"Đánh giá kết quả trên tập test:\")\n",
    "loss, accuracy = model.evaluate(test_ds)\n",
    "print(\"Giá trị loss:\", loss)\n",
    "print(\"Giá trị accuary:\", accuracy)"
   ]
  },
  {
   "cell_type": "markdown",
   "id": "fad38437-c61b-4642-b23b-6ece6255e37f",
   "metadata": {},
   "source": [
    "**Lưu ý:**\n",
    "Chúng ta có thể thấy giá trị của metric accuracy ở đây đang thấp hơn 1 chút so với tập valid và train ở bước trên, nhưng tương đối gần với tập valid (1% thấp hơn)."
   ]
  },
  {
   "cell_type": "markdown",
   "id": "a2225f7f-d5d5-4c75-80ad-5c0075b14964",
   "metadata": {},
   "source": [
    "### Dự đoán\n",
    "> Sau tất cả các bước trên, chúng ta có thể sử dụng model để dự đoán dữ liệu.  Chúng ta cần để ý là với dữ liệu raw (một câu comment), chúng ta cần phải biến đổi dữ liệu thành dạng đã được mã hóa (tokenzise) và thành 1 chuỗi mã hóa có độ dài 250 ký tự (sequence) giống như các bước ở trên. Để làm việc này được tốt nhất, chúng ta sẽ gộp các bước này và bước dự đoán vào làm 1."
   ]
  },
  {
   "cell_type": "code",
   "execution_count": null,
   "id": "2a672693-0e5d-466c-9c67-f0823fbe8207",
   "metadata": {},
   "outputs": [],
   "source": [
    "#export\n",
    "## Kết hợp các layers thành kiến trúc mới\n",
    "exp_model = keras.Sequential([\n",
    "    \n",
    "    # Layer đầu tiên là biến đổi dữ liệu:\n",
    "    vectorization_layer,\n",
    "    \n",
    "    # Layer tiếp theo là layer dự đoán kết quả:\n",
    "    model\n",
    "])\n",
    "\n",
    "exp_model.compile(optimizer='rmsprop', loss='binary_crossentropy', metrics='accuracy')"
   ]
  },
  {
   "cell_type": "markdown",
   "id": "7d49325d-490c-496d-8fa7-21755450ff51",
   "metadata": {},
   "source": [
    "**Kiểm định lại model:**\n",
    "Để chắc chắn hơn, chúng ta hay kiểm định lại model trên tập test. Lần này, chúng ta chỉ cần load tập test từ folder mà thôi, bỏ qua bước biến đổi dữ liệu:"
   ]
  },
  {
   "cell_type": "code",
   "execution_count": null,
   "id": "2f298aec-6536-4857-bfe0-e57532060319",
   "metadata": {},
   "outputs": [
    {
     "name": "stdout",
     "output_type": "stream",
     "text": [
      "Found 25000 files belonging to 2 classes.\n",
      "782/782 [==============================] - 14s 17ms/step - loss: 0.3310 - accuracy: 0.8668\n"
     ]
    },
    {
     "data": {
      "text/plain": [
       "[0.326802134513855, 0.8685200214385986]"
      ]
     },
     "execution_count": null,
     "metadata": {},
     "output_type": "execute_result"
    }
   ],
   "source": [
    "#export\n",
    "test_ds = keras.preprocessing.text_dataset_from_directory(\n",
    "    directory=f'{path}/test'\n",
    "    , labels = 'inferred'\n",
    ")\n",
    "\n",
    "\n",
    "# Kiểm định lại model:\n",
    "exp_model.evaluate(test_ds)"
   ]
  },
  {
   "cell_type": "code",
   "execution_count": null,
   "id": "b19f9f4a-eaf1-492f-97b7-1f6b2736ccd0",
   "metadata": {},
   "outputs": [
    {
     "name": "stdout",
     "output_type": "stream",
     "text": [
      "Model: \"sequential_6\"\n",
      "_________________________________________________________________\n",
      "Layer (type)                 Output Shape              Param #   \n",
      "=================================================================\n",
      "text_vectorization (TextVect (None, 250)               0         \n",
      "_________________________________________________________________\n",
      "sequential (Sequential)      (None, 1)                 640661    \n",
      "=================================================================\n",
      "Total params: 640,661\n",
      "Trainable params: 640,661\n",
      "Non-trainable params: 0\n",
      "_________________________________________________________________\n"
     ]
    }
   ],
   "source": [
    "#export\n",
    "# Tổng hợp lại model:\n",
    "exp_model.summary()"
   ]
  },
  {
   "cell_type": "markdown",
   "id": "8c13ac73-1747-4fda-aad1-eaa19965cd8a",
   "metadata": {},
   "source": [
    "Okay, sau tất cả, giờ là lúc chúng ta dự đoán:"
   ]
  },
  {
   "cell_type": "code",
   "execution_count": null,
   "id": "9a08268b-8437-4604-a53c-32056157a4b0",
   "metadata": {},
   "outputs": [
    {
     "data": {
      "text/plain": [
       "array([[0.8573272 ],\n",
       "       [0.10417002],\n",
       "       [0.38536677]], dtype=float32)"
      ]
     },
     "execution_count": null,
     "metadata": {},
     "output_type": "execute_result"
    }
   ],
   "source": [
    "#export\n",
    "# Thử tài dự đoán:\n",
    "inference_data = [\"This movie is great, it shows compassion and love of human for the nature.\"\n",
    "                  , \"The content is a mess, I can figure out what's going on even at the end of the movie.\"\n",
    "                  , \"The movie has both pros and cons. While we see some good acting from the main actor, however, the story line is not up to grasp.\"]\n",
    "\n",
    "exp_model.predict(inference_data)"
   ]
  },
  {
   "cell_type": "markdown",
   "id": "2e21b356-c892-4c5f-a9bf-872917e9b5c4",
   "metadata": {},
   "source": [
    "# Multi-category Classification\n",
    "> Ở phần trên, chúng ta đã phân loại cảm xúc với dữ liệu IMDB. Giờ chúng ta sẽ thử với phân loại câu hỏi của StackOverflow theo nhóm ngôn ngữ."
   ]
  },
  {
   "cell_type": "markdown",
   "id": "3a09a45b-4502-4974-bde5-952f56c81f7c",
   "metadata": {},
   "source": [
    "## Download dữ liệu"
   ]
  },
  {
   "cell_type": "code",
   "execution_count": null,
   "id": "ce746d14-d791-4d87-95d2-f8d146266dac",
   "metadata": {},
   "outputs": [
    {
     "data": {
      "text/plain": [
       "'/home/ddpham/git/TFExam/data/stack_overflow_16k/stack_overflow_16k'"
      ]
     },
     "execution_count": null,
     "metadata": {},
     "output_type": "execute_result"
    }
   ],
   "source": [
    "#export\n",
    "path = \"/home/ddpham/git/TFExam/data/\"\n",
    "url = \"https://storage.googleapis.com/download.tensorflow.org/data/stack_overflow_16k.tar.gz\"\n",
    "keras.utils.get_file(fname='stack_overflow_16k', origin=url, untar=True, cache_dir=path, cache_subdir='stack_overflow_16k')"
   ]
  },
  {
   "cell_type": "code",
   "execution_count": null,
   "id": "24d9ddb2-f799-4cfd-8bd7-3fbf5dcee83b",
   "metadata": {},
   "outputs": [],
   "source": [
    "#export\n",
    "path = os.path.join(os.path.dirname(path), 'stack_overflow_16k')"
   ]
  },
  {
   "cell_type": "code",
   "execution_count": null,
   "id": "702fa221-75ee-4ee1-ac43-c0ec33e61dce",
   "metadata": {},
   "outputs": [
    {
     "data": {
      "text/plain": [
       "['README.md', 'stack_overflow_16k.tar.gz', 'test', 'train']"
      ]
     },
     "execution_count": null,
     "metadata": {},
     "output_type": "execute_result"
    }
   ],
   "source": [
    "#hide\n",
    "# Kiểm tra folder:\n",
    "os.listdir(path)"
   ]
  },
  {
   "cell_type": "code",
   "execution_count": null,
   "id": "690ff53f-24ca-4a9b-b297-fd034c3d031e",
   "metadata": {},
   "outputs": [
    {
     "data": {
      "text/plain": [
       "['java', 'javascript', 'python', 'csharp']"
      ]
     },
     "execution_count": null,
     "metadata": {},
     "output_type": "execute_result"
    }
   ],
   "source": [
    "#hide\n",
    "# Kiểm tra subfolder:\n",
    "os.listdir(os.path.join(path, 'train'))"
   ]
  },
  {
   "cell_type": "code",
   "execution_count": null,
   "id": "2fbbd23c-0a4e-485b-8992-4ae7be78d3e7",
   "metadata": {},
   "outputs": [
    {
     "data": {
      "text/plain": [
       "['1636.txt',\n",
       " '467.txt',\n",
       " '174.txt',\n",
       " '1301.txt',\n",
       " '1619.txt',\n",
       " '893.txt',\n",
       " '828.txt',\n",
       " '1467.txt',\n",
       " '1032.txt',\n",
       " '146.txt']"
      ]
     },
     "execution_count": null,
     "metadata": {},
     "output_type": "execute_result"
    }
   ],
   "source": [
    "#hide\n",
    "# Kiểm tra subfolder\n",
    "os.listdir(os.path.join(path, 'train', 'python'))[:10]"
   ]
  },
  {
   "cell_type": "code",
   "execution_count": null,
   "id": "1539a607-02ce-4c08-b876-dd7ebd4b40b6",
   "metadata": {},
   "outputs": [
    {
     "name": "stdout",
     "output_type": "stream",
     "text": [
      "\"convert a string to datetime object in blank i have a date string defined as followed:..datestr = '2011-05-01'...i want to convert this into a datetime object so i used the following code..dateobj = datetime.datetime.strptime(datestr,'%y-%m-%d').print dateobj...but what gets printed is: 2011-05-01 00:00:00. i just need 2011-05-01. what needs to be changed in my code ?..thank you\"\n",
      "\n"
     ]
    }
   ],
   "source": [
    "#hide\n",
    "# Kiểm tra dữ liệu:\n",
    "with open(f'{path}/train/python/1636.txt') as file:\n",
    "    print(file.readline())"
   ]
  },
  {
   "cell_type": "markdown",
   "id": "549e4ceb-7697-4045-bc35-875dfe24cf2e",
   "metadata": {},
   "source": [
    "## Tạo dữ liệu\n",
    "> Tương tự như trong bài sentiment analysis, chúng ta sẽ có các bước tạo dữ liệu tương đồng."
   ]
  },
  {
   "cell_type": "code",
   "execution_count": null,
   "id": "bde1c67c-e481-4008-b884-56981649835c",
   "metadata": {},
   "outputs": [
    {
     "name": "stdout",
     "output_type": "stream",
     "text": [
      "Found 8000 files belonging to 4 classes.\n",
      "Using 6400 files for training.\n",
      "Found 8000 files belonging to 4 classes.\n",
      "Using 1600 files for validation.\n"
     ]
    }
   ],
   "source": [
    "#export\n",
    "bs = 32\n",
    "seed=345\n",
    "train_ds = keras.preprocessing.text_dataset_from_directory(\n",
    "    directory=f'{path}/train'\n",
    "    , labels='inferred'\n",
    "    , label_mode='categorical'\n",
    "    , batch_size=bs\n",
    "    , seed=seed\n",
    "    , validation_split=0.2\n",
    "    , subset='training'\n",
    ")\n",
    "valid_ds = keras.preprocessing.text_dataset_from_directory(\n",
    "    directory=f\"{path}/train\"\n",
    "    , labels='inferred'\n",
    "    , label_mode='categorical'\n",
    "    , batch_size=bs\n",
    "    , seed=seed\n",
    "    , validation_split=0.2\n",
    "    , subset='validation'\n",
    ")"
   ]
  },
  {
   "cell_type": "code",
   "execution_count": null,
   "id": "5e9df6ba-ca7e-47ff-9081-66bf6c9816eb",
   "metadata": {},
   "outputs": [
    {
     "name": "stdout",
     "output_type": "stream",
     "text": [
      "Question: \n",
      " tf.Tensor(b'\"only one word of a sentence prints using replace method as my class project i have written some codes that receives a sentence and if it has a special character by checking it\\'s ascii code it replaces it with another one. but unfortunately every time it replaces and shows only first word and deletes rest of the sentence. please help me and if there\\'s a better way for this it\\'s appreciated...here\\'s my code:..import blank.util.scanner;..public class helloworld {..public static void main(string[] arg) {.    scanner scanner = new scanner(system.in);.    string s = scanner.next();.    if (s.contains(\"\"u0626\"\")) {.        string result = s.replaceall(\"\"u0626\"\", \"\"u0628\"\");.        system.out.println(result);.    }...}...}\"\\n', shape=(), dtype=string)\n",
      "Language: \n",
      " tf.Tensor([0. 1. 0. 0.], shape=(4,), dtype=float32)\n"
     ]
    }
   ],
   "source": [
    "#hide\n",
    "# Kiểm tra dữ liệu:\n",
    "for text in train_ds.take(1):\n",
    "    print(\"Question: \\n\", text[0][1])\n",
    "    print(\"Language: \\n\", text[1][1])"
   ]
  },
  {
   "cell_type": "code",
   "execution_count": null,
   "id": "720b2dda-4969-41c3-a704-a5510260d5c3",
   "metadata": {},
   "outputs": [
    {
     "data": {
      "text/plain": [
       "['csharp', 'java', 'javascript', 'python']"
      ]
     },
     "execution_count": null,
     "metadata": {},
     "output_type": "execute_result"
    }
   ],
   "source": [
    "#hide\n",
    "# Kiểm tra dữ liệu\n",
    "train_ds.class_names"
   ]
  },
  {
   "cell_type": "markdown",
   "id": "227d725e-deb5-4172-b2af-4353585832f2",
   "metadata": {},
   "source": [
    "__Lưu ý:__\n",
    "Ở đây chúng ta có thể thấy dữ liệu labels đang trả về kết quả dưới dạng array 0 và 1. Trong đó index của giá trị = 1 chính là loại ngôn ngữ được hỏi của câu hỏi. Cụ thể ở đây là `javascript`. Phần lớn các dữ liệu label được trả về dưới dạng `int` (một giá trị trong chuỗi giá  trị category của labels). Việc này sẽ ảnh hưởng đến loss mà chúng ta sẽ sử dụng trong model (`int -> spatial_categorical_crossentropy`; `categorical -> categorical_crossentropy`). Nếu chúng ta muốn đổi lại label theo cách int, trong phần tạo dữ liệu dataset, chọn label_mode='int'."
   ]
  },
  {
   "cell_type": "markdown",
   "id": "02d65fb6-4486-4aeb-b9f0-a43c977f351e",
   "metadata": {},
   "source": [
    "### Text Vectorization"
   ]
  },
  {
   "cell_type": "code",
   "execution_count": null,
   "id": "f956dfae-2052-4bad-a113-8e8c62356627",
   "metadata": {},
   "outputs": [],
   "source": [
    "#export\n",
    "max_tokens = 10000\n",
    "sequence_length = 250\n",
    "\n",
    "vectorization_layer = keras.layers.experimental.preprocessing.TextVectorization(\n",
    "    max_tokens=max_tokens\n",
    "    , standardize='lower_and_strip_punctuation'\n",
    "    , split='whitespace'\n",
    "    , output_mode='int'\n",
    "    , output_sequence_length=sequence_length\n",
    ")"
   ]
  },
  {
   "cell_type": "code",
   "execution_count": null,
   "id": "a736845c-2d35-491a-b650-5eb32b89ab5c",
   "metadata": {},
   "outputs": [],
   "source": [
    "#export\n",
    "# Tạo raw text để adapt vectorization layer:\n",
    "raw_text = []\n",
    "for _, text in train_ds.enumerate():\n",
    "    for ind in range(32):\n",
    "        raw_text.append([text[0][ind].numpy()])"
   ]
  },
  {
   "cell_type": "code",
   "execution_count": null,
   "id": "c8938a4b-2c83-43ef-8db4-6508dc2f0bea",
   "metadata": {},
   "outputs": [
    {
     "data": {
      "text/plain": [
       "[b'\"queue implementation does not return first element i want to emulate a queue by using linked lists in blank. my general schema is to have a list of nodes, with two nodes that points to the first and last element of my queue. when i perform the dequeue() i want to get ride of the first element. so far what i have done is the following:..public class node {.    public object e;.    node next;..    public node(object e) {.        this.e = e;.    }.}..public class queue {.    node queuelist;.    node first, last;.    int count;..    public void enqueue(object n) {.        node temp = new node(n);.        temp.next = last;.        last = temp;.        if (queuelist == null) {.            first = temp;.        }.        count++;.        queuelist=temp;.    }..    public object dequeue() {.        node previous = last;.        node current = last.next;.        object num = null;.        if (count == 0).            system.out.println(\"\"empty queue\"\");.        else {.            while (current.next != null) {.                previous = previous.next;.                current = current.next;.            }.            num = first.e;.            first = previous;.            count--;.        }.        return num;.    }..    public void print() {.        node current = last;.        while (current != null) {.            system.out.println(current.e);.            current = current.next;.        }.    }.}...i do not want to use double linked lists, so for the dequeue() operation what i do is to traverse my list with two pointers like this:....so when the current.next points to a null, i want that previous to be the first node. the problem that i got is when i print the elements of my queue it stills prints me: 10,15,5,18, but the 18 value is not deleted. any help?..thanks\"\\n']"
      ]
     },
     "execution_count": null,
     "metadata": {},
     "output_type": "execute_result"
    }
   ],
   "source": [
    "#hide\n",
    "# Kiểm tra dữ liệu\n",
    "raw_text[0]"
   ]
  },
  {
   "cell_type": "code",
   "execution_count": null,
   "id": "f76a48c1-3dae-434b-9a4f-e9441ee31310",
   "metadata": {},
   "outputs": [],
   "source": [
    "#export\n",
    "vectorization_layer.adapt(raw_text)"
   ]
  },
  {
   "cell_type": "code",
   "execution_count": null,
   "id": "a41d72a1-2bd4-46d2-88fc-52f948f75062",
   "metadata": {},
   "outputs": [
    {
     "name": "stdout",
     "output_type": "stream",
     "text": [
      "tf.Tensor(\n",
      "[[  16   24   39    3  147    5  463   22   94  284    9    2  194   51\n",
      "    81    4   42  371    5   18   14  285    2  240    4    5    1   44\n",
      "     4   39   11   22   96    5  284    9    2  463    1  324    3   17\n",
      "     5  463  246 6783    7    1    3   44    4   33  237    4   42   14\n",
      "   240   76 1186    1    0    0    0    0    0    0    0    0    0    0\n",
      "     0    0    0    0    0    0    0    0    0    0    0    0    0    0\n",
      "     0    0    0    0    0    0    0    0    0    0    0    0    0    0\n",
      "     0    0    0    0    0    0    0    0    0    0    0    0    0    0\n",
      "     0    0    0    0    0    0    0    0    0    0    0    0    0    0\n",
      "     0    0    0    0    0    0    0    0    0    0    0    0    0    0\n",
      "     0    0    0    0    0    0    0    0    0    0    0    0    0    0\n",
      "     0    0    0    0    0    0    0    0    0    0    0    0    0    0\n",
      "     0    0    0    0    0    0    0    0    0    0    0    0    0    0\n",
      "     0    0    0    0    0    0    0    0    0    0    0    0    0    0\n",
      "     0    0    0    0    0    0    0    0    0    0    0    0    0    0\n",
      "     0    0    0    0    0    0    0    0    0    0    0    0    0    0\n",
      "     0    0    0    0    0    0    0    0    0    0    0    0    0    0\n",
      "     0    0    0    0    0    0    0    0    0    0    0    0]], shape=(1, 250), dtype=int64)\n"
     ]
    }
   ],
   "source": [
    "#hide\n",
    "# Kiểm tra dữ liệu:\n",
    "for text in valid_ds.take(1):\n",
    "    print(vectorization_layer([text[0][10]]))"
   ]
  },
  {
   "cell_type": "code",
   "execution_count": null,
   "id": "4fcee64e-5e12-4512-871d-01d680290f19",
   "metadata": {},
   "outputs": [],
   "source": [
    "#export:\n",
    "def vectorize_text(x, y):\n",
    "    x = tf.expand_dims(x, -1)\n",
    "    return vectorization_layer(x), y"
   ]
  },
  {
   "cell_type": "code",
   "execution_count": null,
   "id": "d9085beb-65b2-4c9d-b044-ad9e7d2693e2",
   "metadata": {},
   "outputs": [],
   "source": [
    "#export\n",
    "train_ds = train_ds.map(vectorize_text)\n",
    "valid_ds = valid_ds.map(vectorize_text)"
   ]
  },
  {
   "cell_type": "code",
   "execution_count": null,
   "id": "553ce75b-9a57-416f-b57f-de56efd437a2",
   "metadata": {},
   "outputs": [],
   "source": [
    "#export\n",
    "train_ds = train_ds.cache().prefetch(buffer_size=tf.data.AUTOTUNE)\n",
    "valid_ds = valid_ds.cache().prefetch(buffer_size=tf.data.AUTOTUNE)"
   ]
  },
  {
   "cell_type": "code",
   "execution_count": null,
   "id": "4f2cccfd-adba-45d6-9e2f-d4cb1764ecf9",
   "metadata": {},
   "outputs": [
    {
     "data": {
      "text/plain": [
       "<PrefetchDataset shapes: ((None, 250), (None, 4)), types: (tf.int64, tf.float32)>"
      ]
     },
     "execution_count": null,
     "metadata": {},
     "output_type": "execute_result"
    }
   ],
   "source": [
    "#hide\n",
    "train_ds"
   ]
  },
  {
   "cell_type": "markdown",
   "id": "e5761bde-bb77-4325-9e2f-2cca56d7dd77",
   "metadata": {},
   "source": [
    "## Tạo model"
   ]
  },
  {
   "cell_type": "code",
   "execution_count": null,
   "id": "f5f7c6ca-8ea1-4bfe-a841-ef1d1992b279",
   "metadata": {},
   "outputs": [
    {
     "name": "stdout",
     "output_type": "stream",
     "text": [
      "Model: \"sequential\"\n",
      "_________________________________________________________________\n",
      "Layer (type)                 Output Shape              Param #   \n",
      "=================================================================\n",
      "embedding (Embedding)        (None, 250, 64)           640000    \n",
      "_________________________________________________________________\n",
      "global_max_pooling1d (Global (None, 64)                0         \n",
      "_________________________________________________________________\n",
      "dropout (Dropout)            (None, 64)                0         \n",
      "_________________________________________________________________\n",
      "dense (Dense)                (None, 20)                1300      \n",
      "_________________________________________________________________\n",
      "dropout_1 (Dropout)          (None, 20)                0         \n",
      "_________________________________________________________________\n",
      "dense_1 (Dense)              (None, 4)                 84        \n",
      "=================================================================\n",
      "Total params: 641,384\n",
      "Trainable params: 641,384\n",
      "Non-trainable params: 0\n",
      "_________________________________________________________________\n"
     ]
    }
   ],
   "source": [
    "#export\n",
    "keras.backend.clear_session()\n",
    "embedding_dim = 64\n",
    "model = keras.Sequential([\n",
    "    keras.layers.Embedding(input_dim=max_tokens, output_dim=embedding_dim, input_length=sequence_length)\n",
    "    , keras.layers.GlobalMaxPooling1D()\n",
    "    , keras.layers.Dropout(.5)\n",
    "    , keras.layers.Dense(20, activation='relu')\n",
    "    , keras.layers.Dropout(.2)\n",
    "    , keras.layers.Dense(4, activation='softmax')\n",
    "])\n",
    "loss = keras.losses.CategoricalCrossentropy()\n",
    "optimizer = keras.optimizers.RMSprop(learning_rate=1e-8)\n",
    "model.compile(optimizer=optimizer, loss=loss, metrics='accuracy')\n",
    "model.summary()"
   ]
  },
  {
   "cell_type": "markdown",
   "id": "ee56006d-2e24-4754-9f26-f0ea074fd1d0",
   "metadata": {},
   "source": [
    "### Tìm lr phù hợp\n",
    "> Chúng ta có thể kết hợp với bài học về tìm learning rate phù hợp cho bài toán của chúng ta với LearningRateScheduler trong callbacks"
   ]
  },
  {
   "cell_type": "code",
   "execution_count": null,
   "id": "ef592670-e6ca-424b-9b15-ff2332441dff",
   "metadata": {},
   "outputs": [],
   "source": [
    "#export\n",
    "lr_scheduler = keras.callbacks.LearningRateScheduler(lambda epoch: 10e-8 * 10**(epoch/10) )"
   ]
  },
  {
   "cell_type": "code",
   "execution_count": null,
   "id": "6751be36-fc20-4e37-aa70-f51a35747c29",
   "metadata": {},
   "outputs": [
    {
     "name": "stdout",
     "output_type": "stream",
     "text": [
      "Epoch 1/150\n",
      "200/200 [==============================] - 5s 24ms/step - loss: 1.3890 - accuracy: 0.2539 - val_loss: 1.3863 - val_accuracy: 0.2556\n",
      "Epoch 2/150\n",
      "200/200 [==============================] - 5s 23ms/step - loss: 1.3875 - accuracy: 0.2538 - val_loss: 1.3863 - val_accuracy: 0.2556\n",
      "Epoch 3/150\n",
      "200/200 [==============================] - 5s 23ms/step - loss: 1.3882 - accuracy: 0.2428 - val_loss: 1.3863 - val_accuracy: 0.2556\n",
      "Epoch 4/150\n",
      "200/200 [==============================] - 5s 23ms/step - loss: 1.3890 - accuracy: 0.2428 - val_loss: 1.3863 - val_accuracy: 0.2556\n",
      "Epoch 5/150\n",
      "200/200 [==============================] - 5s 24ms/step - loss: 1.3899 - accuracy: 0.2413 - val_loss: 1.3863 - val_accuracy: 0.2556\n",
      "Epoch 6/150\n",
      "200/200 [==============================] - 5s 23ms/step - loss: 1.3892 - accuracy: 0.2447 - val_loss: 1.3863 - val_accuracy: 0.2556\n",
      "Epoch 7/150\n",
      "200/200 [==============================] - 5s 24ms/step - loss: 1.3884 - accuracy: 0.2495 - val_loss: 1.3863 - val_accuracy: 0.2556\n",
      "Epoch 8/150\n",
      "200/200 [==============================] - 5s 23ms/step - loss: 1.3893 - accuracy: 0.2441 - val_loss: 1.3863 - val_accuracy: 0.2556\n",
      "Epoch 9/150\n",
      "200/200 [==============================] - 5s 23ms/step - loss: 1.3881 - accuracy: 0.2580 - val_loss: 1.3863 - val_accuracy: 0.2556\n",
      "Epoch 10/150\n",
      "200/200 [==============================] - 5s 23ms/step - loss: 1.3873 - accuracy: 0.2479 - val_loss: 1.3862 - val_accuracy: 0.2556\n",
      "Epoch 11/150\n",
      "200/200 [==============================] - 5s 23ms/step - loss: 1.3880 - accuracy: 0.2447 - val_loss: 1.3862 - val_accuracy: 0.2556\n",
      "Epoch 12/150\n",
      "200/200 [==============================] - 5s 23ms/step - loss: 1.3887 - accuracy: 0.2510 - val_loss: 1.3862 - val_accuracy: 0.2556\n",
      "Epoch 13/150\n",
      "200/200 [==============================] - 5s 27ms/step - loss: 1.3890 - accuracy: 0.2433 - val_loss: 1.3862 - val_accuracy: 0.2556\n",
      "Epoch 14/150\n",
      "200/200 [==============================] - 6s 28ms/step - loss: 1.3886 - accuracy: 0.2464 - val_loss: 1.3862 - val_accuracy: 0.2556\n",
      "Epoch 15/150\n",
      "200/200 [==============================] - 5s 25ms/step - loss: 1.3873 - accuracy: 0.2506 - val_loss: 1.3862 - val_accuracy: 0.2556\n",
      "Epoch 16/150\n",
      "200/200 [==============================] - 5s 23ms/step - loss: 1.3875 - accuracy: 0.2561 - val_loss: 1.3861 - val_accuracy: 0.2556\n",
      "Epoch 17/150\n",
      "200/200 [==============================] - 5s 24ms/step - loss: 1.3875 - accuracy: 0.2476 - val_loss: 1.3861 - val_accuracy: 0.2562\n",
      "Epoch 18/150\n",
      "200/200 [==============================] - 5s 23ms/step - loss: 1.3884 - accuracy: 0.2500 - val_loss: 1.3861 - val_accuracy: 0.2569\n",
      "Epoch 19/150\n",
      "200/200 [==============================] - 5s 23ms/step - loss: 1.3886 - accuracy: 0.2419 - val_loss: 1.3860 - val_accuracy: 0.2569\n",
      "Epoch 20/150\n",
      "200/200 [==============================] - 5s 24ms/step - loss: 1.3871 - accuracy: 0.2597 - val_loss: 1.3859 - val_accuracy: 0.2575\n",
      "Epoch 21/150\n",
      "200/200 [==============================] - 5s 23ms/step - loss: 1.3878 - accuracy: 0.2419 - val_loss: 1.3858 - val_accuracy: 0.2581\n",
      "Epoch 22/150\n",
      "200/200 [==============================] - 5s 23ms/step - loss: 1.3875 - accuracy: 0.2568 - val_loss: 1.3857 - val_accuracy: 0.2619\n",
      "Epoch 23/150\n",
      "200/200 [==============================] - 5s 23ms/step - loss: 1.3878 - accuracy: 0.2510 - val_loss: 1.3855 - val_accuracy: 0.2681\n",
      "Epoch 24/150\n",
      "200/200 [==============================] - 5s 25ms/step - loss: 1.3884 - accuracy: 0.2527 - val_loss: 1.3853 - val_accuracy: 0.2800\n",
      "Epoch 25/150\n",
      "200/200 [==============================] - 5s 25ms/step - loss: 1.3889 - accuracy: 0.2440 - val_loss: 1.3849 - val_accuracy: 0.3131\n",
      "Epoch 26/150\n",
      "200/200 [==============================] - 5s 23ms/step - loss: 1.3871 - accuracy: 0.2519 - val_loss: 1.3844 - val_accuracy: 0.2875\n",
      "Epoch 27/150\n",
      "200/200 [==============================] - 5s 23ms/step - loss: 1.3853 - accuracy: 0.2635 - val_loss: 1.3838 - val_accuracy: 0.2781\n",
      "Epoch 28/150\n",
      "200/200 [==============================] - 5s 26ms/step - loss: 1.3854 - accuracy: 0.2501 - val_loss: 1.3829 - val_accuracy: 0.2969\n",
      "Epoch 29/150\n",
      "200/200 [==============================] - 5s 26ms/step - loss: 1.3832 - accuracy: 0.2833 - val_loss: 1.3816 - val_accuracy: 0.2981\n",
      "Epoch 30/150\n",
      "200/200 [==============================] - 4s 22ms/step - loss: 1.3826 - accuracy: 0.2779 - val_loss: 1.3798 - val_accuracy: 0.3006\n",
      "Epoch 31/150\n",
      "200/200 [==============================] - 5s 23ms/step - loss: 1.3813 - accuracy: 0.2730 - val_loss: 1.3769 - val_accuracy: 0.3100\n",
      "Epoch 32/150\n",
      "200/200 [==============================] - 4s 22ms/step - loss: 1.3805 - accuracy: 0.2775 - val_loss: 1.3725 - val_accuracy: 0.3169\n",
      "Epoch 33/150\n",
      "200/200 [==============================] - 4s 22ms/step - loss: 1.3715 - accuracy: 0.3276 - val_loss: 1.3652 - val_accuracy: 0.3631\n",
      "Epoch 34/150\n",
      "200/200 [==============================] - 5s 26ms/step - loss: 1.3673 - accuracy: 0.3255 - val_loss: 1.3518 - val_accuracy: 0.4563\n",
      "Epoch 35/150\n",
      "200/200 [==============================] - 5s 23ms/step - loss: 1.3514 - accuracy: 0.3591 - val_loss: 1.3270 - val_accuracy: 0.5075\n",
      "Epoch 36/150\n",
      "200/200 [==============================] - 4s 22ms/step - loss: 1.3275 - accuracy: 0.4081 - val_loss: 1.2810 - val_accuracy: 0.5875\n",
      "Epoch 37/150\n",
      "200/200 [==============================] - 4s 22ms/step - loss: 1.2813 - accuracy: 0.4461 - val_loss: 1.1988 - val_accuracy: 0.6219\n",
      "Epoch 38/150\n",
      "200/200 [==============================] - 4s 22ms/step - loss: 1.2050 - accuracy: 0.5007 - val_loss: 1.0842 - val_accuracy: 0.6513\n",
      "Epoch 39/150\n",
      "200/200 [==============================] - 5s 23ms/step - loss: 1.1150 - accuracy: 0.5353 - val_loss: 0.9550 - val_accuracy: 0.6800\n",
      "Epoch 40/150\n",
      "200/200 [==============================] - 5s 23ms/step - loss: 1.0007 - accuracy: 0.5944 - val_loss: 0.8264 - val_accuracy: 0.7088\n",
      "Epoch 41/150\n",
      "200/200 [==============================] - 4s 22ms/step - loss: 0.9222 - accuracy: 0.6219 - val_loss: 0.7272 - val_accuracy: 0.7419\n",
      "Epoch 42/150\n",
      "200/200 [==============================] - 4s 22ms/step - loss: 0.8355 - accuracy: 0.6634 - val_loss: 0.6503 - val_accuracy: 0.7506\n",
      "Epoch 43/150\n",
      "200/200 [==============================] - 5s 23ms/step - loss: 0.7689 - accuracy: 0.6941 - val_loss: 0.5912 - val_accuracy: 0.7706\n",
      "Epoch 44/150\n",
      "200/200 [==============================] - 4s 22ms/step - loss: 0.7101 - accuracy: 0.7229 - val_loss: 0.5548 - val_accuracy: 0.7906\n",
      "Epoch 45/150\n",
      "200/200 [==============================] - 4s 22ms/step - loss: 0.6482 - accuracy: 0.7419 - val_loss: 0.5127 - val_accuracy: 0.8006\n",
      "Epoch 46/150\n",
      "200/200 [==============================] - 4s 22ms/step - loss: 0.6020 - accuracy: 0.7725 - val_loss: 0.4970 - val_accuracy: 0.7994\n",
      "Epoch 47/150\n",
      "200/200 [==============================] - 4s 22ms/step - loss: 0.5317 - accuracy: 0.8049 - val_loss: 0.4827 - val_accuracy: 0.8031\n",
      "Epoch 48/150\n",
      "200/200 [==============================] - 4s 22ms/step - loss: 0.4971 - accuracy: 0.8217 - val_loss: 0.4728 - val_accuracy: 0.8112\n",
      "Epoch 49/150\n",
      "200/200 [==============================] - 5s 23ms/step - loss: 0.4639 - accuracy: 0.8365 - val_loss: 0.4745 - val_accuracy: 0.8112\n",
      "Epoch 50/150\n",
      "200/200 [==============================] - 5s 23ms/step - loss: 0.4470 - accuracy: 0.8474 - val_loss: 0.4636 - val_accuracy: 0.8213\n",
      "Epoch 51/150\n",
      "200/200 [==============================] - 5s 23ms/step - loss: 0.4083 - accuracy: 0.8598 - val_loss: 0.4601 - val_accuracy: 0.8181\n",
      "Epoch 52/150\n",
      "200/200 [==============================] - 4s 22ms/step - loss: 0.3974 - accuracy: 0.8656 - val_loss: 0.4730 - val_accuracy: 0.8138\n",
      "Epoch 53/150\n",
      "200/200 [==============================] - 5s 23ms/step - loss: 0.3738 - accuracy: 0.8729 - val_loss: 0.4740 - val_accuracy: 0.8112\n",
      "Epoch 54/150\n",
      "200/200 [==============================] - 5s 23ms/step - loss: 0.3731 - accuracy: 0.8753 - val_loss: 0.5058 - val_accuracy: 0.8075\n",
      "Epoch 55/150\n",
      "200/200 [==============================] - 5s 25ms/step - loss: 0.3842 - accuracy: 0.8799 - val_loss: 0.5112 - val_accuracy: 0.7987\n",
      "Epoch 56/150\n",
      "200/200 [==============================] - 5s 24ms/step - loss: 0.3868 - accuracy: 0.8797 - val_loss: 0.5169 - val_accuracy: 0.8069\n",
      "Epoch 57/150\n",
      "200/200 [==============================] - 5s 23ms/step - loss: 0.3995 - accuracy: 0.8765 - val_loss: 0.5414 - val_accuracy: 0.8012\n",
      "Epoch 58/150\n",
      "200/200 [==============================] - 4s 22ms/step - loss: 0.4595 - accuracy: 0.8642 - val_loss: 0.5826 - val_accuracy: 0.7825\n",
      "Epoch 59/150\n",
      "200/200 [==============================] - 4s 22ms/step - loss: 0.5133 - accuracy: 0.8463 - val_loss: 0.6470 - val_accuracy: 0.7681\n",
      "Epoch 60/150\n",
      "200/200 [==============================] - 4s 22ms/step - loss: 0.5711 - accuracy: 0.8396 - val_loss: 0.6609 - val_accuracy: 0.7425\n",
      "Epoch 61/150\n",
      "200/200 [==============================] - 5s 23ms/step - loss: 0.7872 - accuracy: 0.8019 - val_loss: 0.7709 - val_accuracy: 0.7494\n",
      "Epoch 62/150\n",
      "200/200 [==============================] - 4s 22ms/step - loss: 1.0286 - accuracy: 0.7685 - val_loss: 0.8234 - val_accuracy: 0.6981\n",
      "Epoch 63/150\n",
      "200/200 [==============================] - 4s 22ms/step - loss: 1.2130 - accuracy: 0.6891 - val_loss: 0.9172 - val_accuracy: 0.5725\n",
      "Epoch 64/150\n",
      "200/200 [==============================] - 5s 24ms/step - loss: 1.7285 - accuracy: 0.5823 - val_loss: 1.0880 - val_accuracy: 0.4481\n",
      "Epoch 65/150\n",
      "200/200 [==============================] - 5s 22ms/step - loss: 1.5503 - accuracy: 0.4824 - val_loss: 1.3410 - val_accuracy: 0.2869\n",
      "Epoch 66/150\n",
      "200/200 [==============================] - 4s 22ms/step - loss: 1.6993 - accuracy: 0.3452 - val_loss: 1.3905 - val_accuracy: 0.2812\n",
      "Epoch 67/150\n",
      "200/200 [==============================] - 5s 23ms/step - loss: 2.2564 - accuracy: 0.3090 - val_loss: 1.4318 - val_accuracy: 0.2369\n",
      "Epoch 68/150\n",
      "200/200 [==============================] - 4s 22ms/step - loss: 2.0211 - accuracy: 0.2690 - val_loss: 1.4464 - val_accuracy: 0.2375\n",
      "Epoch 69/150\n",
      "200/200 [==============================] - 4s 22ms/step - loss: 2.2222 - accuracy: 0.2621 - val_loss: 1.4665 - val_accuracy: 0.2325\n",
      "Epoch 70/150\n",
      "200/200 [==============================] - 4s 22ms/step - loss: 1.6464 - accuracy: 0.2504 - val_loss: 1.4735 - val_accuracy: 0.2325\n",
      "Epoch 71/150\n",
      "200/200 [==============================] - 5s 23ms/step - loss: 2.1783 - accuracy: 0.2550 - val_loss: 1.4717 - val_accuracy: 0.2325\n",
      "Epoch 72/150\n",
      "200/200 [==============================] - 5s 23ms/step - loss: 1.6960 - accuracy: 0.2500 - val_loss: 1.4541 - val_accuracy: 0.2325\n",
      "Epoch 73/150\n",
      "200/200 [==============================] - 4s 22ms/step - loss: 2.1242 - accuracy: 0.2506 - val_loss: 1.4241 - val_accuracy: 0.2612\n",
      "Epoch 74/150\n",
      "200/200 [==============================] - 4s 22ms/step - loss: 2.4559 - accuracy: 0.2496 - val_loss: 1.4307 - val_accuracy: 0.2612\n",
      "Epoch 75/150\n",
      "200/200 [==============================] - 4s 22ms/step - loss: 4.8363 - accuracy: 0.2582 - val_loss: 1.9475 - val_accuracy: 0.2612\n",
      "Epoch 76/150\n",
      "200/200 [==============================] - 5s 23ms/step - loss: 8.0047 - accuracy: 0.2503 - val_loss: 2.3655 - val_accuracy: 0.2325\n",
      "Epoch 77/150\n",
      "200/200 [==============================] - 4s 22ms/step - loss: 25.9813 - accuracy: 0.2440 - val_loss: 2.5585 - val_accuracy: 0.2612\n",
      "Epoch 78/150\n",
      "200/200 [==============================] - 4s 22ms/step - loss: 24.3113 - accuracy: 0.2596 - val_loss: 3.1741 - val_accuracy: 0.2562\n",
      "Epoch 79/150\n",
      "200/200 [==============================] - 5s 23ms/step - loss: 31.2194 - accuracy: 0.2484 - val_loss: 8.9370 - val_accuracy: 0.2325\n",
      "Epoch 80/150\n",
      "200/200 [==============================] - 5s 23ms/step - loss: 103.3568 - accuracy: 0.2499 - val_loss: 5.2841 - val_accuracy: 0.2325\n",
      "Epoch 81/150\n",
      "200/200 [==============================] - 4s 22ms/step - loss: 282.4990 - accuracy: 0.2571 - val_loss: 7.0053 - val_accuracy: 0.2325\n",
      "Epoch 82/150\n",
      "200/200 [==============================] - 6s 30ms/step - loss: 75.5524 - accuracy: 0.2483 - val_loss: 6.5087 - val_accuracy: 0.2562\n",
      "Epoch 83/150\n",
      "200/200 [==============================] - 5s 26ms/step - loss: 2124.2481 - accuracy: 0.2483 - val_loss: 9.8038 - val_accuracy: 0.2325\n",
      "Epoch 84/150\n",
      "200/200 [==============================] - 5s 25ms/step - loss: 1108.7577 - accuracy: 0.2465 - val_loss: 16.8014 - val_accuracy: 0.2612\n",
      "Epoch 85/150\n",
      "200/200 [==============================] - 5s 24ms/step - loss: 4004.2783 - accuracy: 0.2641 - val_loss: 23.4077 - val_accuracy: 0.2500\n",
      "Epoch 86/150\n",
      "200/200 [==============================] - 5s 25ms/step - loss: 7851.1577 - accuracy: 0.2494 - val_loss: 30.4793 - val_accuracy: 0.2612\n",
      "Epoch 87/150\n",
      "200/200 [==============================] - 5s 27ms/step - loss: 195298.3919 - accuracy: 0.2579 - val_loss: 54.7869 - val_accuracy: 0.2500\n",
      "Epoch 88/150\n",
      "200/200 [==============================] - 6s 29ms/step - loss: 8825.3665 - accuracy: 0.2449 - val_loss: 32.8042 - val_accuracy: 0.2612\n",
      "Epoch 89/150\n",
      "200/200 [==============================] - 5s 25ms/step - loss: 12713.9272 - accuracy: 0.2591 - val_loss: 53.0983 - val_accuracy: 0.2612\n",
      "Epoch 90/150\n",
      "200/200 [==============================] - 5s 24ms/step - loss: 209694.9500 - accuracy: 0.2502 - val_loss: 32.4123 - val_accuracy: 0.2500\n",
      "Epoch 91/150\n",
      "200/200 [==============================] - 5s 23ms/step - loss: 2264.5257 - accuracy: 0.2444 - val_loss: 52.9736 - val_accuracy: 0.2562\n",
      "Epoch 92/150\n",
      "200/200 [==============================] - 5s 23ms/step - loss: 266.0005 - accuracy: 0.2548 - val_loss: 137.4829 - val_accuracy: 0.2612\n",
      "Epoch 93/150\n",
      "200/200 [==============================] - 4s 22ms/step - loss: 77556.6300 - accuracy: 0.2566 - val_loss: 193.1414 - val_accuracy: 0.2612\n",
      "Epoch 94/150\n",
      "200/200 [==============================] - 4s 21ms/step - loss: 1665161.6410 - accuracy: 0.2532 - val_loss: 184.1158 - val_accuracy: 0.2325\n",
      "Epoch 95/150\n",
      "200/200 [==============================] - 4s 18ms/step - loss: 191767.7135 - accuracy: 0.2515 - val_loss: 37.9529 - val_accuracy: 0.2325\n",
      "Epoch 96/150\n",
      "200/200 [==============================] - 3s 17ms/step - loss: 1249328.1552 - accuracy: 0.2584 - val_loss: 66.4789 - val_accuracy: 0.2612\n",
      "Epoch 97/150\n",
      "200/200 [==============================] - 3s 17ms/step - loss: 27296495.4278 - accuracy: 0.2509 - val_loss: 296.6837 - val_accuracy: 0.2562\n",
      "Epoch 98/150\n",
      "200/200 [==============================] - 3s 17ms/step - loss: 718909.8733 - accuracy: 0.2456 - val_loss: 246.1945 - val_accuracy: 0.2500\n",
      "Epoch 99/150\n",
      "200/200 [==============================] - 3s 17ms/step - loss: 12429894.3759 - accuracy: 0.2453 - val_loss: 733.2256 - val_accuracy: 0.2612\n",
      "Epoch 100/150\n",
      "200/200 [==============================] - 3s 17ms/step - loss: 47527217.1624 - accuracy: 0.2539 - val_loss: 526.2153 - val_accuracy: 0.2562\n",
      "Epoch 101/150\n",
      "200/200 [==============================] - 3s 17ms/step - loss: 361601927.8719 - accuracy: 0.2504 - val_loss: 420.9090 - val_accuracy: 0.2612\n",
      "Epoch 102/150\n",
      "200/200 [==============================] - 3s 17ms/step - loss: 1262296935.4100 - accuracy: 0.2491 - val_loss: 1972.5334 - val_accuracy: 0.2325\n",
      "Epoch 103/150\n",
      "200/200 [==============================] - 3s 17ms/step - loss: 544926677.4198 - accuracy: 0.2463 - val_loss: 944.5361 - val_accuracy: 0.2325\n",
      "Epoch 104/150\n",
      "200/200 [==============================] - 3s 17ms/step - loss: 543280911.0278 - accuracy: 0.2597 - val_loss: 554.7307 - val_accuracy: 0.2500\n",
      "Epoch 105/150\n",
      "200/200 [==============================] - 4s 18ms/step - loss: 23671872.7143 - accuracy: 0.2481 - val_loss: 1994.0753 - val_accuracy: 0.2612\n",
      "Epoch 106/150\n",
      "200/200 [==============================] - 3s 17ms/step - loss: 1296015176.2343 - accuracy: 0.2463 - val_loss: 2965.7263 - val_accuracy: 0.2562\n",
      "Epoch 107/150\n",
      "200/200 [==============================] - 3s 17ms/step - loss: 215765058.9070 - accuracy: 0.2501 - val_loss: 2668.6912 - val_accuracy: 0.2612\n",
      "Epoch 108/150\n",
      "200/200 [==============================] - 3s 17ms/step - loss: 4250.1409 - accuracy: 0.2554 - val_loss: 6595.6533 - val_accuracy: 0.2325\n",
      "Epoch 109/150\n",
      "200/200 [==============================] - 3s 17ms/step - loss: 1757947712.3313 - accuracy: 0.2444 - val_loss: 3789.2715 - val_accuracy: 0.2612\n",
      "Epoch 110/150\n",
      "200/200 [==============================] - 4s 18ms/step - loss: 2511109274.0101 - accuracy: 0.2575 - val_loss: 4427.9849 - val_accuracy: 0.2562\n",
      "Epoch 111/150\n",
      "200/200 [==============================] - 4s 19ms/step - loss: 216418849974.5326 - accuracy: 0.2536 - val_loss: 3237.4978 - val_accuracy: 0.2500\n",
      "Epoch 112/150\n",
      "200/200 [==============================] - 3s 17ms/step - loss: 181142932077.2144 - accuracy: 0.2419 - val_loss: 16133.6514 - val_accuracy: 0.2612\n",
      "Epoch 113/150\n",
      "200/200 [==============================] - 3s 17ms/step - loss: 13578.8413 - accuracy: 0.2538 - val_loss: 13063.3779 - val_accuracy: 0.2562\n",
      "Epoch 114/150\n",
      "200/200 [==============================] - 3s 17ms/step - loss: 5647008235.4701 - accuracy: 0.2480 - val_loss: 21004.0918 - val_accuracy: 0.2612\n",
      "Epoch 115/150\n",
      "200/200 [==============================] - 3s 17ms/step - loss: 21689.0936 - accuracy: 0.2480 - val_loss: 23508.6875 - val_accuracy: 0.2325\n",
      "Epoch 116/150\n",
      "200/200 [==============================] - 3s 17ms/step - loss: 51436941073.0047 - accuracy: 0.2525 - val_loss: 32497.9102 - val_accuracy: 0.2612\n",
      "Epoch 117/150\n",
      "200/200 [==============================] - 3s 17ms/step - loss: 3446192053707.5151 - accuracy: 0.2633 - val_loss: 56810.4609 - val_accuracy: 0.2612\n",
      "Epoch 118/150\n",
      "200/200 [==============================] - 3s 17ms/step - loss: 8313205617208.6426 - accuracy: 0.2522 - val_loss: 43479.9102 - val_accuracy: 0.2562\n",
      "Epoch 119/150\n",
      "200/200 [==============================] - 3s 17ms/step - loss: 4596589006305.6484 - accuracy: 0.2544 - val_loss: 45215.5703 - val_accuracy: 0.2612\n",
      "Epoch 120/150\n",
      "200/200 [==============================] - 4s 18ms/step - loss: 66975.2127 - accuracy: 0.2577 - val_loss: 127998.5312 - val_accuracy: 0.2325\n",
      "Epoch 121/150\n",
      "200/200 [==============================] - 3s 17ms/step - loss: 8583583231696.8857 - accuracy: 0.2417 - val_loss: 75921.2656 - val_accuracy: 0.2325\n",
      "Epoch 122/150\n",
      "200/200 [==============================] - 3s 17ms/step - loss: 12976368360681.1875 - accuracy: 0.2568 - val_loss: 53526.1133 - val_accuracy: 0.2562\n",
      "Epoch 123/150\n",
      "200/200 [==============================] - 3s 17ms/step - loss: 252113603465167.2188 - accuracy: 0.2544 - val_loss: 97891.6094 - val_accuracy: 0.2612\n",
      "Epoch 124/150\n",
      "200/200 [==============================] - 3s 17ms/step - loss: 8618876450087.3369 - accuracy: 0.2472 - val_loss: 215239.5781 - val_accuracy: 0.2562\n",
      "Epoch 125/150\n",
      "200/200 [==============================] - 3s 17ms/step - loss: 34011869632564.0547 - accuracy: 0.2503 - val_loss: 174555.7656 - val_accuracy: 0.2612\n",
      "Epoch 126/150\n",
      "200/200 [==============================] - 3s 17ms/step - loss: 111043301289097.8750 - accuracy: 0.2539 - val_loss: 428422.6250 - val_accuracy: 0.2325\n",
      "Epoch 127/150\n",
      "200/200 [==============================] - 3s 17ms/step - loss: 2983118343710957.0000 - accuracy: 0.2472 - val_loss: 388123.4688 - val_accuracy: 0.2562\n",
      "Epoch 128/150\n",
      "200/200 [==============================] - 3s 17ms/step - loss: 7732367736396028.0000 - accuracy: 0.2515 - val_loss: 244563.9531 - val_accuracy: 0.2612\n",
      "Epoch 129/150\n",
      "200/200 [==============================] - 3s 17ms/step - loss: 1041055176138973.1250 - accuracy: 0.2494 - val_loss: 830817.6875 - val_accuracy: 0.2612\n",
      "Epoch 130/150\n",
      "200/200 [==============================] - 3s 17ms/step - loss: 49399651841565720.0000 - accuracy: 0.2440 - val_loss: 510379.2500 - val_accuracy: 0.2325\n",
      "Epoch 131/150\n",
      "200/200 [==============================] - 3s 17ms/step - loss: 34824923547467572.0000 - accuracy: 0.2609 - val_loss: 686255.6250 - val_accuracy: 0.2612\n",
      "Epoch 132/150\n",
      "200/200 [==============================] - 3s 17ms/step - loss: 567671997771444480.0000 - accuracy: 0.2475 - val_loss: 1965961.8750 - val_accuracy: 0.2325\n",
      "Epoch 133/150\n",
      "200/200 [==============================] - 3s 17ms/step - loss: 48088684472999336.0000 - accuracy: 0.2447 - val_loss: 1487374.8750 - val_accuracy: 0.2612\n",
      "Epoch 134/150\n",
      "200/200 [==============================] - 3s 17ms/step - loss: 1665706.0118 - accuracy: 0.2653 - val_loss: 1127788.6250 - val_accuracy: 0.2562\n",
      "Epoch 135/150\n",
      "200/200 [==============================] - 3s 17ms/step - loss: 640142113167795072.0000 - accuracy: 0.2486 - val_loss: 1928770.2500 - val_accuracy: 0.2612\n",
      "Epoch 136/150\n",
      "200/200 [==============================] - 4s 18ms/step - loss: 8904876041747126.0000 - accuracy: 0.2505 - val_loss: 3557011.7500 - val_accuracy: 0.2562\n",
      "Epoch 137/150\n",
      "200/200 [==============================] - 4s 18ms/step - loss: 7041636984049513472.0000 - accuracy: 0.2596 - val_loss: 3449108.5000 - val_accuracy: 0.2612\n",
      "Epoch 138/150\n",
      "200/200 [==============================] - 3s 17ms/step - loss: 730800788590212480.0000 - accuracy: 0.2543 - val_loss: 7503926.5000 - val_accuracy: 0.2325\n",
      "Epoch 139/150\n",
      "200/200 [==============================] - 3s 17ms/step - loss: 2378633299545459712.0000 - accuracy: 0.2355 - val_loss: 4441614.5000 - val_accuracy: 0.2612\n",
      "Epoch 140/150\n",
      "200/200 [==============================] - 3s 17ms/step - loss: 6580513.6816 - accuracy: 0.2668 - val_loss: 4469662.0000 - val_accuracy: 0.2562\n",
      "Epoch 141/150\n",
      "200/200 [==============================] - 3s 17ms/step - loss: 558707129455646592.0000 - accuracy: 0.2519 - val_loss: 4170899.0000 - val_accuracy: 0.2612\n",
      "Epoch 142/150\n",
      "200/200 [==============================] - 3s 17ms/step - loss: 114571412093446979584.0000 - accuracy: 0.2513 - val_loss: 18171924.0000 - val_accuracy: 0.2612\n",
      "Epoch 143/150\n",
      "200/200 [==============================] - 3s 17ms/step - loss: 1756245479024373268480.0000 - accuracy: 0.2553 - val_loss: 9585802.0000 - val_accuracy: 0.2562\n",
      "Epoch 144/150\n",
      "200/200 [==============================] - 3s 17ms/step - loss: 6170676498893575168.0000 - accuracy: 0.2494 - val_loss: 19744196.0000 - val_accuracy: 0.2612\n",
      "Epoch 145/150\n",
      "200/200 [==============================] - 4s 18ms/step - loss: 15138521814641827840.0000 - accuracy: 0.2523 - val_loss: 43574032.0000 - val_accuracy: 0.2325\n",
      "Epoch 146/150\n",
      "200/200 [==============================] - 4s 19ms/step - loss: 6991209539146638336.0000 - accuracy: 0.2449 - val_loss: 34273532.0000 - val_accuracy: 0.2325\n",
      "Epoch 147/150\n",
      "200/200 [==============================] - 3s 17ms/step - loss: 33768187.4826 - accuracy: 0.2597 - val_loss: 12654697.0000 - val_accuracy: 0.2325\n",
      "Epoch 148/150\n",
      "200/200 [==============================] - 4s 18ms/step - loss: 899546095350055174144.0000 - accuracy: 0.2504 - val_loss: 56149516.0000 - val_accuracy: 0.2612\n",
      "Epoch 149/150\n",
      "200/200 [==============================] - 3s 17ms/step - loss: 53868071.8806 - accuracy: 0.2510 - val_loss: 59646644.0000 - val_accuracy: 0.2562\n",
      "Epoch 150/150\n",
      "200/200 [==============================] - 3s 17ms/step - loss: 14549249454249909157888.0000 - accuracy: 0.2570 - val_loss: 68982944.0000 - val_accuracy: 0.2612\n"
     ]
    },
    {
     "data": {
      "text/plain": [
       "<tensorflow.python.keras.callbacks.History at 0x7f33c033ec70>"
      ]
     },
     "execution_count": null,
     "metadata": {},
     "output_type": "execute_result"
    }
   ],
   "source": [
    "#export\n",
    "epochs=150\n",
    "model.fit(train_ds, epochs=epochs, validation_data=valid_ds, callbacks=[lr_scheduler])"
   ]
  },
  {
   "cell_type": "code",
   "execution_count": null,
   "id": "b42c75fe-9732-4ffb-9e03-e03cd95a9e70",
   "metadata": {},
   "outputs": [
    {
     "data": {
      "image/png": "[encoded data removed]",
      "text/plain": [
       "<Figure size 576x288 with 1 Axes>"
      ]
     },
     "metadata": {
      "needs_background": "light"
     },
     "output_type": "display_data"
    }
   ],
   "source": [
    "#export\n",
    "# Vẽ đồ thị learning rate và loss:\n",
    "history = model.history\n",
    "plt.figure(figsize=(8,4))\n",
    "plt.semilogx(history.history[\"lr\"], history.history[\"loss\"])\n",
    "plt.axis([1e-8, 1e-1, 0, 2])\n",
    "plt.show()"
   ]
  },
  {
   "cell_type": "code",
   "execution_count": null,
   "id": "c7d6012c-cdb3-4167-a83d-4ca3adc7f387",
   "metadata": {},
   "outputs": [
    {
     "name": "stdout",
     "output_type": "stream",
     "text": [
      "Model: \"sequential\"\n",
      "_________________________________________________________________\n",
      "Layer (type)                 Output Shape              Param #   \n",
      "=================================================================\n",
      "embedding (Embedding)        (None, 250, 64)           640000    \n",
      "_________________________________________________________________\n",
      "global_max_pooling1d (Global (None, 64)                0         \n",
      "_________________________________________________________________\n",
      "dropout (Dropout)            (None, 64)                0         \n",
      "_________________________________________________________________\n",
      "dense (Dense)                (None, 20)                1300      \n",
      "_________________________________________________________________\n",
      "dropout_1 (Dropout)          (None, 20)                0         \n",
      "_________________________________________________________________\n",
      "dense_1 (Dense)              (None, 4)                 84        \n",
      "=================================================================\n",
      "Total params: 641,384\n",
      "Trainable params: 641,384\n",
      "Non-trainable params: 0\n",
      "_________________________________________________________________\n"
     ]
    }
   ],
   "source": [
    "#export\n",
    "learning_rate = 5e-3\n",
    "keras.backend.clear_session()\n",
    "embedding_dim = 64\n",
    "model = keras.Sequential([\n",
    "    keras.layers.Embedding(input_dim=max_tokens, output_dim=embedding_dim, input_length=sequence_length)\n",
    "    , keras.layers.GlobalMaxPooling1D()\n",
    "    , keras.layers.Dropout(.5)\n",
    "    , keras.layers.Dense(20, activation='relu')\n",
    "    , keras.layers.Dropout(.2)\n",
    "    , keras.layers.Dense(4, activation='softmax')\n",
    "])\n",
    "loss = keras.losses.CategoricalCrossentropy()\n",
    "optimizer = keras.optimizers.RMSprop(learning_rate=learning_rate)\n",
    "model.compile(optimizer=optimizer, loss=loss, metrics='accuracy')\n",
    "model.summary()"
   ]
  },
  {
   "cell_type": "code",
   "execution_count": null,
   "id": "5195ce5d-fd42-4543-aadd-ad111532e94e",
   "metadata": {},
   "outputs": [
    {
     "name": "stdout",
     "output_type": "stream",
     "text": [
      "Epoch 1/50\n",
      "200/200 [==============================] - 5s 24ms/step - loss: 1.2872 - accuracy: 0.3701 - val_loss: 0.8098 - val_accuracy: 0.6538\n",
      "Epoch 2/50\n",
      "200/200 [==============================] - 5s 24ms/step - loss: 0.9219 - accuracy: 0.6140 - val_loss: 0.6482 - val_accuracy: 0.7337\n",
      "Epoch 3/50\n",
      "200/200 [==============================] - 6s 28ms/step - loss: 0.7677 - accuracy: 0.6880 - val_loss: 0.5827 - val_accuracy: 0.7550\n",
      "Epoch 4/50\n",
      "200/200 [==============================] - 5s 26ms/step - loss: 0.6719 - accuracy: 0.7359 - val_loss: 0.5480 - val_accuracy: 0.7850\n",
      "Epoch 5/50\n",
      "200/200 [==============================] - 5s 25ms/step - loss: 0.6126 - accuracy: 0.7654 - val_loss: 0.5173 - val_accuracy: 0.7819\n",
      "Epoch 6/50\n",
      "200/200 [==============================] - 5s 24ms/step - loss: 0.5742 - accuracy: 0.7894 - val_loss: 0.5016 - val_accuracy: 0.7844\n",
      "Epoch 7/50\n",
      "200/200 [==============================] - 5s 24ms/step - loss: 0.4977 - accuracy: 0.8167 - val_loss: 0.4937 - val_accuracy: 0.7944\n",
      "Epoch 8/50\n",
      "200/200 [==============================] - 5s 24ms/step - loss: 0.4631 - accuracy: 0.8340 - val_loss: 0.4952 - val_accuracy: 0.7975\n",
      "Epoch 9/50\n",
      "200/200 [==============================] - 5s 24ms/step - loss: 0.4278 - accuracy: 0.8540 - val_loss: 0.4857 - val_accuracy: 0.8012\n",
      "Epoch 10/50\n",
      "200/200 [==============================] - 5s 25ms/step - loss: 0.4013 - accuracy: 0.8656 - val_loss: 0.4877 - val_accuracy: 0.8062\n",
      "Epoch 11/50\n",
      "200/200 [==============================] - 5s 24ms/step - loss: 0.3753 - accuracy: 0.8732 - val_loss: 0.4898 - val_accuracy: 0.8056\n",
      "Epoch 12/50\n",
      "200/200 [==============================] - 5s 23ms/step - loss: 0.3441 - accuracy: 0.8884 - val_loss: 0.4972 - val_accuracy: 0.8012\n",
      "Epoch 13/50\n",
      "200/200 [==============================] - 5s 24ms/step - loss: 0.3175 - accuracy: 0.8975 - val_loss: 0.4975 - val_accuracy: 0.8112\n",
      "Epoch 14/50\n",
      "200/200 [==============================] - 5s 23ms/step - loss: 0.3229 - accuracy: 0.8975 - val_loss: 0.5019 - val_accuracy: 0.8094\n",
      "Epoch 15/50\n",
      "200/200 [==============================] - 5s 23ms/step - loss: 0.2817 - accuracy: 0.9123 - val_loss: 0.5150 - val_accuracy: 0.8081\n",
      "Epoch 16/50\n",
      "200/200 [==============================] - 5s 23ms/step - loss: 0.2695 - accuracy: 0.9108 - val_loss: 0.5257 - val_accuracy: 0.8069\n",
      "Epoch 17/50\n",
      "200/200 [==============================] - 5s 23ms/step - loss: 0.2369 - accuracy: 0.9165 - val_loss: 0.5311 - val_accuracy: 0.8019\n",
      "Epoch 18/50\n",
      "200/200 [==============================] - 5s 23ms/step - loss: 0.2423 - accuracy: 0.9201 - val_loss: 0.5354 - val_accuracy: 0.8006\n",
      "Epoch 19/50\n",
      "200/200 [==============================] - 5s 23ms/step - loss: 0.2456 - accuracy: 0.9207 - val_loss: 0.5402 - val_accuracy: 0.8006\n",
      "Epoch 20/50\n",
      "200/200 [==============================] - 5s 23ms/step - loss: 0.2592 - accuracy: 0.9241 - val_loss: 0.5469 - val_accuracy: 0.8019\n",
      "Epoch 21/50\n",
      "200/200 [==============================] - 5s 23ms/step - loss: 0.2087 - accuracy: 0.9336 - val_loss: 0.5622 - val_accuracy: 0.8019\n",
      "Epoch 22/50\n",
      "200/200 [==============================] - 5s 23ms/step - loss: 0.2081 - accuracy: 0.9361 - val_loss: 0.5693 - val_accuracy: 0.7969\n",
      "Epoch 23/50\n",
      "200/200 [==============================] - 5s 23ms/step - loss: 0.2049 - accuracy: 0.9340 - val_loss: 0.5784 - val_accuracy: 0.7987\n",
      "Epoch 24/50\n",
      "200/200 [==============================] - 5s 23ms/step - loss: 0.2089 - accuracy: 0.9377 - val_loss: 0.5791 - val_accuracy: 0.8037\n",
      "Epoch 25/50\n",
      "200/200 [==============================] - 5s 23ms/step - loss: 0.1951 - accuracy: 0.9459 - val_loss: 0.5838 - val_accuracy: 0.7962\n",
      "Epoch 26/50\n",
      "200/200 [==============================] - 5s 23ms/step - loss: 0.2141 - accuracy: 0.9370 - val_loss: 0.5828 - val_accuracy: 0.8000\n",
      "Epoch 27/50\n",
      "200/200 [==============================] - 5s 23ms/step - loss: 0.1956 - accuracy: 0.9465 - val_loss: 0.6227 - val_accuracy: 0.7994\n",
      "Epoch 28/50\n",
      "200/200 [==============================] - 5s 23ms/step - loss: 0.1767 - accuracy: 0.9468 - val_loss: 0.6135 - val_accuracy: 0.8025\n",
      "Epoch 29/50\n",
      "200/200 [==============================] - 6s 28ms/step - loss: 0.1802 - accuracy: 0.9522 - val_loss: 0.6315 - val_accuracy: 0.7950\n",
      "Epoch 30/50\n",
      "200/200 [==============================] - 5s 24ms/step - loss: 0.1724 - accuracy: 0.9505 - val_loss: 0.6392 - val_accuracy: 0.7950\n",
      "Epoch 31/50\n",
      "200/200 [==============================] - 5s 25ms/step - loss: 0.1779 - accuracy: 0.9449 - val_loss: 0.6550 - val_accuracy: 0.7944\n",
      "Epoch 32/50\n",
      "200/200 [==============================] - 5s 23ms/step - loss: 0.1757 - accuracy: 0.9493 - val_loss: 0.6808 - val_accuracy: 0.7969\n",
      "Epoch 33/50\n",
      "200/200 [==============================] - 5s 23ms/step - loss: 0.1646 - accuracy: 0.9506 - val_loss: 0.6742 - val_accuracy: 0.7987\n",
      "Epoch 34/50\n",
      "200/200 [==============================] - 5s 23ms/step - loss: 0.1579 - accuracy: 0.9552 - val_loss: 0.6538 - val_accuracy: 0.7975\n",
      "Epoch 35/50\n",
      "200/200 [==============================] - 5s 23ms/step - loss: 0.1527 - accuracy: 0.9539 - val_loss: 0.6597 - val_accuracy: 0.7931\n",
      "Epoch 36/50\n",
      "200/200 [==============================] - 5s 23ms/step - loss: 0.1496 - accuracy: 0.9581 - val_loss: 0.6882 - val_accuracy: 0.7937\n",
      "Epoch 37/50\n",
      "200/200 [==============================] - 5s 23ms/step - loss: 0.1490 - accuracy: 0.9590 - val_loss: 0.6717 - val_accuracy: 0.7956\n",
      "Epoch 38/50\n",
      "200/200 [==============================] - 5s 23ms/step - loss: 0.1426 - accuracy: 0.9596 - val_loss: 0.7179 - val_accuracy: 0.7944\n",
      "Epoch 39/50\n",
      "200/200 [==============================] - 5s 23ms/step - loss: 0.1751 - accuracy: 0.9532 - val_loss: 0.7039 - val_accuracy: 0.7975\n",
      "Epoch 40/50\n",
      "200/200 [==============================] - 5s 23ms/step - loss: 0.1531 - accuracy: 0.9559 - val_loss: 0.7208 - val_accuracy: 0.7900\n",
      "Epoch 41/50\n",
      "200/200 [==============================] - 5s 23ms/step - loss: 0.1430 - accuracy: 0.9582 - val_loss: 0.7283 - val_accuracy: 0.7937\n",
      "Epoch 42/50\n",
      "200/200 [==============================] - 5s 23ms/step - loss: 0.1439 - accuracy: 0.9610 - val_loss: 0.7373 - val_accuracy: 0.7912\n",
      "Epoch 43/50\n",
      "200/200 [==============================] - 5s 23ms/step - loss: 0.1415 - accuracy: 0.9583 - val_loss: 0.7656 - val_accuracy: 0.7869\n",
      "Epoch 44/50\n",
      "200/200 [==============================] - 5s 23ms/step - loss: 0.1263 - accuracy: 0.9650 - val_loss: 0.8018 - val_accuracy: 0.7944\n",
      "Epoch 45/50\n",
      "200/200 [==============================] - 5s 23ms/step - loss: 0.1143 - accuracy: 0.9653 - val_loss: 0.8056 - val_accuracy: 0.7944\n",
      "Epoch 46/50\n",
      "200/200 [==============================] - 5s 23ms/step - loss: 0.1441 - accuracy: 0.9610 - val_loss: 0.7656 - val_accuracy: 0.7912\n",
      "Epoch 47/50\n",
      "200/200 [==============================] - 5s 23ms/step - loss: 0.1254 - accuracy: 0.9596 - val_loss: 0.7395 - val_accuracy: 0.7975\n",
      "Epoch 48/50\n",
      "200/200 [==============================] - 5s 23ms/step - loss: 0.1283 - accuracy: 0.9590 - val_loss: 0.7923 - val_accuracy: 0.7981\n",
      "Epoch 49/50\n",
      "200/200 [==============================] - 5s 23ms/step - loss: 0.1220 - accuracy: 0.9666 - val_loss: 0.7914 - val_accuracy: 0.7944\n",
      "Epoch 50/50\n",
      "200/200 [==============================] - 5s 23ms/step - loss: 0.1176 - accuracy: 0.9697 - val_loss: 0.8064 - val_accuracy: 0.7950\n"
     ]
    },
    {
     "data": {
      "text/plain": [
       "<tensorflow.python.keras.callbacks.History at 0x7f33d80616d0>"
      ]
     },
     "execution_count": null,
     "metadata": {},
     "output_type": "execute_result"
    }
   ],
   "source": [
    "#export\n",
    "epochs=50\n",
    "model.fit(train_ds, epochs=epochs, validation_data=valid_ds)"
   ]
  },
  {
   "cell_type": "markdown",
   "id": "c3d20f7e-d955-4bb0-a211-0b018b695c96",
   "metadata": {},
   "source": [
    "Model của chúng ta ở thời điểm này là khá overfit. Một trong nhưng cách chúng ta có thể làm là thêm dropout layer, upgrade model với model tốt hơn."
   ]
  },
  {
   "cell_type": "markdown",
   "id": "0c18e59f-f538-413f-b1f0-e0f0945dc36b",
   "metadata": {},
   "source": [
    "## Nâng cấp model vs RNN"
   ]
  },
  {
   "cell_type": "markdown",
   "id": "30a6e289-3ad1-4fd9-9ec2-0c71983e560b",
   "metadata": {},
   "source": [
    "### Thêm 1 RNN"
   ]
  },
  {
   "cell_type": "code",
   "execution_count": null,
   "id": "21824751-2626-47ce-8d67-8de3a6dc7093",
   "metadata": {},
   "outputs": [
    {
     "name": "stdout",
     "output_type": "stream",
     "text": [
      "Model: \"model\"\n",
      "_________________________________________________________________\n",
      "Layer (type)                 Output Shape              Param #   \n",
      "=================================================================\n",
      "input_1 (InputLayer)         [(None, 250)]             0         \n",
      "_________________________________________________________________\n",
      "embedding (Embedding)        (None, 250, 64)           640000    \n",
      "_________________________________________________________________\n",
      "bidirectional (Bidirectional (None, 64)                24832     \n",
      "_________________________________________________________________\n",
      "dropout (Dropout)            (None, 64)                0         \n",
      "_________________________________________________________________\n",
      "dense (Dense)                (None, 20)                1300      \n",
      "_________________________________________________________________\n",
      "dense_1 (Dense)              (None, 4)                 84        \n",
      "=================================================================\n",
      "Total params: 666,216\n",
      "Trainable params: 666,216\n",
      "Non-trainable params: 0\n",
      "_________________________________________________________________\n"
     ]
    }
   ],
   "source": [
    "#export\n",
    "# Xóa thông tin các model cũ:\n",
    "keras.backend.clear_session()\n",
    "\n",
    "# Tạo input:\n",
    "inputs = keras.Input(shape=(250))\n",
    "\n",
    "# Tạo embeding:\n",
    "embedding_dim = 64\n",
    "embeding = keras.layers.Embedding(input_dim=max_tokens, output_dim=embedding_dim, input_length=sequence_length)(inputs)\n",
    "\n",
    "# Tạo Bidirectional LSTM:\n",
    "lstm = keras.layers.Bidirectional(keras.layers.LSTM(32))(embeding)\n",
    "\n",
    "# Tạo dropout:\n",
    "dropout = keras.layers.Dropout(0.2)(lstm)\n",
    "\n",
    "# Tạo dense:\n",
    "dense = keras.layers.Dense(20, activation='relu')(dropout)\n",
    "\n",
    "# Tạo prediction:\n",
    "prediction = keras.layers.Dense(4, activation='softmax')(dense)\n",
    "\n",
    "model = keras.Model(inputs=inputs, outputs=prediction)\n",
    "\n",
    "# Tạo loss:\n",
    "loss = keras.losses.CategoricalCrossentropy(from_logits=True)\n",
    "\n",
    "# Tạo lr scheduler:\n",
    "lr_scheduler = keras.callbacks.LearningRateScheduler(lambda epoch: 10e-8 * 10 ** (epoch/10))\n",
    "\n",
    "# Tạo optimizer:\n",
    "optimizer = keras.optimizers.Adam(learning_rate=10e-8)\n",
    "\n",
    "# Compile model:\n",
    "model.compile(optimizer=optimizer, loss=loss, metrics='accuracy')\n",
    "\n",
    "model.summary()"
   ]
  },
  {
   "cell_type": "markdown",
   "id": "1a474142-e73c-41b2-a6e2-58ba58d467c7",
   "metadata": {},
   "source": [
    "#### Tìm lr phù hợp"
   ]
  },
  {
   "cell_type": "code",
   "execution_count": null,
   "id": "2dd996b8-90bf-4d75-a33b-57fea597b11a",
   "metadata": {},
   "outputs": [
    {
     "name": "stdout",
     "output_type": "stream",
     "text": [
      "Epoch 1/150\n",
      "200/200 [==============================] - 77s 344ms/step - loss: 1.3863 - accuracy: 0.2459 - val_loss: 1.3868 - val_accuracy: 0.2469\n",
      "Epoch 2/150\n",
      "200/200 [==============================] - 67s 334ms/step - loss: 1.3862 - accuracy: 0.2457 - val_loss: 1.3868 - val_accuracy: 0.2475\n",
      "Epoch 3/150\n",
      "200/200 [==============================] - 70s 350ms/step - loss: 1.3863 - accuracy: 0.2547 - val_loss: 1.3868 - val_accuracy: 0.2481\n",
      "Epoch 4/150\n",
      "200/200 [==============================] - 65s 326ms/step - loss: 1.3862 - accuracy: 0.2533 - val_loss: 1.3868 - val_accuracy: 0.2469\n",
      "Epoch 5/150\n",
      "200/200 [==============================] - 66s 329ms/step - loss: 1.3863 - accuracy: 0.2595 - val_loss: 1.3868 - val_accuracy: 0.2500\n",
      "Epoch 6/150\n",
      "200/200 [==============================] - 65s 324ms/step - loss: 1.3862 - accuracy: 0.2603 - val_loss: 1.3868 - val_accuracy: 0.2506\n",
      "Epoch 7/150\n",
      "200/200 [==============================] - 52s 260ms/step - loss: 1.3863 - accuracy: 0.2535 - val_loss: 1.3868 - val_accuracy: 0.2519\n",
      "Epoch 8/150\n",
      "200/200 [==============================] - 50s 250ms/step - loss: 1.3860 - accuracy: 0.2616 - val_loss: 1.3867 - val_accuracy: 0.2512\n",
      "Epoch 9/150\n",
      "200/200 [==============================] - 50s 250ms/step - loss: 1.3861 - accuracy: 0.2585 - val_loss: 1.3867 - val_accuracy: 0.2544\n",
      "Epoch 10/150\n",
      "200/200 [==============================] - 50s 249ms/step - loss: 1.3859 - accuracy: 0.2645 - val_loss: 1.3867 - val_accuracy: 0.2531\n",
      "Epoch 11/150\n",
      "200/200 [==============================] - 50s 250ms/step - loss: 1.3861 - accuracy: 0.2689 - val_loss: 1.3867 - val_accuracy: 0.2531\n",
      "Epoch 12/150\n",
      "200/200 [==============================] - 50s 252ms/step - loss: 1.3862 - accuracy: 0.2568 - val_loss: 1.3867 - val_accuracy: 0.2544\n",
      "Epoch 13/150\n",
      "200/200 [==============================] - 63s 314ms/step - loss: 1.3861 - accuracy: 0.2612 - val_loss: 1.3866 - val_accuracy: 0.2556\n",
      "Epoch 14/150\n",
      "200/200 [==============================] - 66s 332ms/step - loss: 1.3860 - accuracy: 0.2567 - val_loss: 1.3866 - val_accuracy: 0.2562\n",
      "Epoch 15/150\n",
      "200/200 [==============================] - 65s 327ms/step - loss: 1.3861 - accuracy: 0.2471 - val_loss: 1.3865 - val_accuracy: 0.2587\n",
      "Epoch 16/150\n",
      "200/200 [==============================] - 64s 321ms/step - loss: 1.3859 - accuracy: 0.2815 - val_loss: 1.3865 - val_accuracy: 0.2594\n",
      "Epoch 17/150\n",
      "200/200 [==============================] - 61s 304ms/step - loss: 1.3858 - accuracy: 0.2669 - val_loss: 1.3864 - val_accuracy: 0.2594\n",
      "Epoch 18/150\n",
      "200/200 [==============================] - 47s 237ms/step - loss: 1.3860 - accuracy: 0.2628 - val_loss: 1.3863 - val_accuracy: 0.2656\n",
      "Epoch 19/150\n",
      "200/200 [==============================] - 47s 236ms/step - loss: 1.3857 - accuracy: 0.2801 - val_loss: 1.3861 - val_accuracy: 0.2713\n",
      "Epoch 20/150\n",
      "200/200 [==============================] - 48s 238ms/step - loss: 1.3856 - accuracy: 0.2746 - val_loss: 1.3860 - val_accuracy: 0.2713\n",
      "Epoch 21/150\n",
      "200/200 [==============================] - 47s 238ms/step - loss: 1.3855 - accuracy: 0.2862 - val_loss: 1.3858 - val_accuracy: 0.2756\n",
      "Epoch 22/150\n",
      "200/200 [==============================] - 48s 239ms/step - loss: 1.3852 - accuracy: 0.2853 - val_loss: 1.3856 - val_accuracy: 0.2881\n",
      "Epoch 23/150\n",
      "200/200 [==============================] - 47s 236ms/step - loss: 1.3849 - accuracy: 0.2954 - val_loss: 1.3853 - val_accuracy: 0.3056\n",
      "Epoch 24/150\n",
      "200/200 [==============================] - 65s 326ms/step - loss: 1.3843 - accuracy: 0.3035 - val_loss: 1.3849 - val_accuracy: 0.3269\n",
      "Epoch 25/150\n",
      "200/200 [==============================] - 67s 333ms/step - loss: 1.3834 - accuracy: 0.3392 - val_loss: 1.3839 - val_accuracy: 0.3419\n",
      "Epoch 26/150\n",
      "200/200 [==============================] - 68s 338ms/step - loss: 1.3821 - accuracy: 0.3519 - val_loss: 1.3820 - val_accuracy: 0.3606\n",
      "Epoch 27/150\n",
      "200/200 [==============================] - 66s 329ms/step - loss: 1.3782 - accuracy: 0.4016 - val_loss: 1.3660 - val_accuracy: 0.4019\n",
      "Epoch 28/150\n",
      "200/200 [==============================] - 59s 293ms/step - loss: 1.3148 - accuracy: 0.4303 - val_loss: 1.2145 - val_accuracy: 0.4506\n",
      "Epoch 29/150\n",
      "200/200 [==============================] - 50s 249ms/step - loss: 1.1704 - accuracy: 0.4641 - val_loss: 1.1345 - val_accuracy: 0.4481\n",
      "Epoch 30/150\n",
      "200/200 [==============================] - 50s 250ms/step - loss: 1.0876 - accuracy: 0.4957 - val_loss: 1.0927 - val_accuracy: 0.4731\n",
      "Epoch 31/150\n",
      "200/200 [==============================] - 50s 249ms/step - loss: 1.0805 - accuracy: 0.4930 - val_loss: 1.0241 - val_accuracy: 0.5294\n",
      "Epoch 32/150\n",
      "200/200 [==============================] - 50s 248ms/step - loss: 0.9144 - accuracy: 0.5961 - val_loss: 0.9345 - val_accuracy: 0.5981\n",
      "Epoch 33/150\n",
      "200/200 [==============================] - 50s 252ms/step - loss: 0.8093 - accuracy: 0.6685 - val_loss: 1.0231 - val_accuracy: 0.5794\n",
      "Epoch 34/150\n",
      "200/200 [==============================] - 56s 281ms/step - loss: 0.7247 - accuracy: 0.7169 - val_loss: 0.9759 - val_accuracy: 0.6306\n",
      "Epoch 35/150\n",
      "200/200 [==============================] - 66s 328ms/step - loss: 0.6624 - accuracy: 0.7541 - val_loss: 1.0049 - val_accuracy: 0.6281\n",
      "Epoch 36/150\n",
      "200/200 [==============================] - 65s 325ms/step - loss: 0.5983 - accuracy: 0.7828 - val_loss: 1.0051 - val_accuracy: 0.6406\n",
      "Epoch 37/150\n",
      "200/200 [==============================] - 66s 329ms/step - loss: 0.5347 - accuracy: 0.8167 - val_loss: 0.9116 - val_accuracy: 0.6681\n",
      "Epoch 38/150\n",
      "200/200 [==============================] - 65s 323ms/step - loss: 0.5234 - accuracy: 0.7985 - val_loss: 1.0141 - val_accuracy: 0.6637\n",
      "Epoch 39/150\n",
      "200/200 [==============================] - 52s 261ms/step - loss: 0.4446 - accuracy: 0.8521 - val_loss: 0.9289 - val_accuracy: 0.6869\n",
      "Epoch 40/150\n",
      "200/200 [==============================] - 49s 247ms/step - loss: 0.7332 - accuracy: 0.7717 - val_loss: 0.8984 - val_accuracy: 0.6750\n",
      "Epoch 41/150\n",
      "200/200 [==============================] - 50s 248ms/step - loss: 0.4279 - accuracy: 0.8476 - val_loss: 0.9347 - val_accuracy: 0.7044\n",
      "Epoch 42/150\n",
      "200/200 [==============================] - 49s 247ms/step - loss: 0.3099 - accuracy: 0.9051 - val_loss: 1.0363 - val_accuracy: 0.6969\n",
      "Epoch 43/150\n",
      "200/200 [==============================] - 50s 248ms/step - loss: 0.2367 - accuracy: 0.9189 - val_loss: 1.0360 - val_accuracy: 0.7025\n",
      "Epoch 44/150\n",
      "200/200 [==============================] - 50s 249ms/step - loss: 0.2393 - accuracy: 0.9183 - val_loss: 0.9757 - val_accuracy: 0.7244\n",
      "Epoch 45/150\n",
      "200/200 [==============================] - 60s 302ms/step - loss: 0.2314 - accuracy: 0.9253 - val_loss: 0.9731 - val_accuracy: 0.6919\n",
      "Epoch 46/150\n",
      "200/200 [==============================] - 65s 324ms/step - loss: 0.2881 - accuracy: 0.9080 - val_loss: 1.0336 - val_accuracy: 0.6781\n",
      "Epoch 47/150\n",
      "200/200 [==============================] - 64s 321ms/step - loss: 0.3380 - accuracy: 0.8943 - val_loss: 1.0497 - val_accuracy: 0.6781\n",
      "Epoch 48/150\n",
      "200/200 [==============================] - 66s 328ms/step - loss: 0.4224 - accuracy: 0.8660 - val_loss: 1.1090 - val_accuracy: 0.6831\n",
      "Epoch 49/150\n",
      "200/200 [==============================] - 63s 314ms/step - loss: 0.3482 - accuracy: 0.8968 - val_loss: 1.0921 - val_accuracy: 0.6881\n",
      "Epoch 50/150\n",
      "200/200 [==============================] - 50s 249ms/step - loss: 0.4380 - accuracy: 0.8531 - val_loss: 1.0855 - val_accuracy: 0.6850\n",
      "Epoch 51/150\n",
      "200/200 [==============================] - 49s 246ms/step - loss: 0.4881 - accuracy: 0.8432 - val_loss: 1.0418 - val_accuracy: 0.6919\n",
      "Epoch 52/150\n",
      "200/200 [==============================] - 50s 248ms/step - loss: 0.3099 - accuracy: 0.9025 - val_loss: 1.0026 - val_accuracy: 0.6637\n",
      "Epoch 53/150\n",
      "200/200 [==============================] - 49s 246ms/step - loss: 0.3604 - accuracy: 0.8810 - val_loss: 0.8879 - val_accuracy: 0.6850\n",
      "Epoch 54/150\n",
      "200/200 [==============================] - 50s 248ms/step - loss: 0.3175 - accuracy: 0.8997 - val_loss: 1.1062 - val_accuracy: 0.6756\n",
      "Epoch 55/150\n",
      "200/200 [==============================] - 50s 249ms/step - loss: 0.2940 - accuracy: 0.9053 - val_loss: 1.1631 - val_accuracy: 0.6963\n",
      "Epoch 56/150\n",
      "200/200 [==============================] - 64s 321ms/step - loss: 0.2628 - accuracy: 0.9165 - val_loss: 0.9996 - val_accuracy: 0.7163\n",
      "Epoch 57/150\n",
      "200/200 [==============================] - 66s 328ms/step - loss: 0.4262 - accuracy: 0.8681 - val_loss: 1.0334 - val_accuracy: 0.6406\n",
      "Epoch 58/150\n",
      "200/200 [==============================] - 66s 329ms/step - loss: 0.7804 - accuracy: 0.7237 - val_loss: 1.2798 - val_accuracy: 0.5013\n",
      "Epoch 59/150\n",
      "200/200 [==============================] - 65s 324ms/step - loss: 1.0890 - accuracy: 0.5662 - val_loss: 1.3421 - val_accuracy: 0.4306\n",
      "Epoch 60/150\n",
      "200/200 [==============================] - 58s 292ms/step - loss: 1.2535 - accuracy: 0.4570 - val_loss: 1.3239 - val_accuracy: 0.3663\n",
      "Epoch 61/150\n",
      "200/200 [==============================] - 50s 248ms/step - loss: 1.3094 - accuracy: 0.3810 - val_loss: 1.3893 - val_accuracy: 0.3125\n",
      "Epoch 62/150\n",
      "200/200 [==============================] - 49s 248ms/step - loss: 1.3595 - accuracy: 0.3364 - val_loss: 1.3949 - val_accuracy: 0.2681\n",
      "Epoch 63/150\n",
      "200/200 [==============================] - 49s 247ms/step - loss: 1.4456 - accuracy: 0.2666 - val_loss: 1.4528 - val_accuracy: 0.2612\n",
      "Epoch 64/150\n",
      "200/200 [==============================] - 49s 247ms/step - loss: 1.7983 - accuracy: 0.2446 - val_loss: 1.4108 - val_accuracy: 0.2606\n",
      "Epoch 65/150\n",
      "200/200 [==============================] - 50s 249ms/step - loss: 1.4606 - accuracy: 0.2504 - val_loss: 1.3949 - val_accuracy: 0.2512\n",
      "Epoch 66/150\n",
      "200/200 [==============================] - 56s 279ms/step - loss: 1.4682 - accuracy: 0.2512 - val_loss: 1.5507 - val_accuracy: 0.2500\n",
      "Epoch 67/150\n",
      "200/200 [==============================] - 67s 337ms/step - loss: 1.4994 - accuracy: 0.2509 - val_loss: 1.3919 - val_accuracy: 0.2525\n",
      "Epoch 68/150\n",
      "200/200 [==============================] - 65s 325ms/step - loss: 2.0355 - accuracy: 0.2471 - val_loss: 1.5343 - val_accuracy: 0.2313\n",
      "Epoch 69/150\n",
      "200/200 [==============================] - 65s 326ms/step - loss: 3.5301 - accuracy: 0.2491 - val_loss: 4.0771 - val_accuracy: 0.2319\n",
      "Epoch 70/150\n",
      "200/200 [==============================] - 66s 329ms/step - loss: 4.7349 - accuracy: 0.2617 - val_loss: 4.3593 - val_accuracy: 0.2313\n",
      "Epoch 71/150\n",
      "200/200 [==============================] - 53s 264ms/step - loss: 6.2963 - accuracy: 0.2466 - val_loss: 1.5980 - val_accuracy: 0.2319\n",
      "Epoch 72/150\n",
      "200/200 [==============================] - 50s 249ms/step - loss: 5.2335 - accuracy: 0.2490 - val_loss: 1.4101 - val_accuracy: 0.2506\n",
      "Epoch 73/150\n",
      "200/200 [==============================] - 50s 248ms/step - loss: 4.3889 - accuracy: 0.2476 - val_loss: 1.9305 - val_accuracy: 0.2512\n",
      "Epoch 74/150\n",
      "200/200 [==============================] - 49s 247ms/step - loss: 4.1803 - accuracy: 0.2463 - val_loss: 2.0111 - val_accuracy: 0.2325\n",
      "Epoch 75/150\n",
      "200/200 [==============================] - 50s 248ms/step - loss: 6.0706 - accuracy: 0.2452 - val_loss: 11.1625 - val_accuracy: 0.2606\n",
      "Epoch 76/150\n",
      "200/200 [==============================] - 50s 249ms/step - loss: 38.1676 - accuracy: 0.2414 - val_loss: 32.6004 - val_accuracy: 0.2569\n",
      "Epoch 77/150\n",
      "200/200 [==============================] - 62s 308ms/step - loss: 102.0430 - accuracy: 0.2474 - val_loss: 51.7163 - val_accuracy: 0.2625\n",
      "Epoch 78/150\n",
      "200/200 [==============================] - 66s 329ms/step - loss: 76.5254 - accuracy: 0.2568 - val_loss: 22.5740 - val_accuracy: 0.2612\n",
      "Epoch 79/150\n",
      "200/200 [==============================] - 65s 327ms/step - loss: 107.6059 - accuracy: 0.2542 - val_loss: 22.3802 - val_accuracy: 0.2619\n",
      "Epoch 80/150\n",
      "200/200 [==============================] - 66s 328ms/step - loss: 80.1095 - accuracy: 0.2414 - val_loss: 59.5391 - val_accuracy: 0.2631\n",
      "Epoch 81/150\n",
      "200/200 [==============================] - 62s 310ms/step - loss: 259.0219 - accuracy: 0.2456 - val_loss: 156.3189 - val_accuracy: 0.2525\n",
      "Epoch 82/150\n",
      "200/200 [==============================] - 50s 249ms/step - loss: 424.7253 - accuracy: 0.2531 - val_loss: 118.1519 - val_accuracy: 0.2606\n",
      "Epoch 83/150\n",
      "200/200 [==============================] - 49s 246ms/step - loss: 1471.4416 - accuracy: 0.2536 - val_loss: 246.8275 - val_accuracy: 0.2500\n",
      "Epoch 84/150\n",
      "200/200 [==============================] - 50s 249ms/step - loss: 1412.3331 - accuracy: 0.2336 - val_loss: 1263.4235 - val_accuracy: 0.2544\n",
      "Epoch 85/150\n",
      "200/200 [==============================] - 49s 247ms/step - loss: 4608.6654 - accuracy: 0.2361 - val_loss: 47.9597 - val_accuracy: 0.2569\n",
      "Epoch 86/150\n",
      "200/200 [==============================] - 50s 250ms/step - loss: 1987.6416 - accuracy: 0.2520 - val_loss: 68.5522 - val_accuracy: 0.2562\n",
      "Epoch 87/150\n",
      "200/200 [==============================] - 51s 256ms/step - loss: 3531.3351 - accuracy: 0.2499 - val_loss: 1657.4113 - val_accuracy: 0.2306\n",
      "Epoch 88/150\n",
      "200/200 [==============================] - 68s 341ms/step - loss: 4695.4877 - accuracy: 0.2570 - val_loss: 812.2648 - val_accuracy: 0.2612\n",
      "Epoch 89/150\n",
      "200/200 [==============================] - 66s 329ms/step - loss: 3288.0834 - accuracy: 0.2394 - val_loss: 821.4874 - val_accuracy: 0.2319\n",
      "Epoch 90/150\n",
      "200/200 [==============================] - 66s 331ms/step - loss: 33205.8763 - accuracy: 0.2495 - val_loss: 24347.3594 - val_accuracy: 0.2306\n",
      "Epoch 91/150\n",
      "200/200 [==============================] - 65s 327ms/step - loss: 35566.7539 - accuracy: 0.2537 - val_loss: 11271.9814 - val_accuracy: 0.2612\n",
      "Epoch 92/150\n",
      "200/200 [==============================] - 56s 279ms/step - loss: 55093.8645 - accuracy: 0.2635 - val_loss: 44147.5898 - val_accuracy: 0.2625\n",
      "Epoch 93/150\n",
      "200/200 [==============================] - 49s 246ms/step - loss: 95619.5254 - accuracy: 0.2499 - val_loss: 26108.5898 - val_accuracy: 0.2562\n",
      "Epoch 94/150\n",
      "200/200 [==============================] - 49s 246ms/step - loss: 84578.9311 - accuracy: 0.2454 - val_loss: 103806.2109 - val_accuracy: 0.2556\n",
      "Epoch 95/150\n",
      "200/200 [==============================] - 49s 247ms/step - loss: 76181.9149 - accuracy: 0.2548 - val_loss: 9549.7578 - val_accuracy: 0.2556\n",
      "Epoch 96/150\n",
      "200/200 [==============================] - 49s 247ms/step - loss: 332822.7736 - accuracy: 0.2600 - val_loss: 35085.8281 - val_accuracy: 0.2325\n",
      "Epoch 97/150\n",
      "200/200 [==============================] - 50s 251ms/step - loss: 424655.5409 - accuracy: 0.2600 - val_loss: 185682.2969 - val_accuracy: 0.2488\n",
      "Epoch 98/150\n",
      "200/200 [==============================] - 58s 292ms/step - loss: 1012212.9278 - accuracy: 0.2519 - val_loss: 82162.2031 - val_accuracy: 0.2331\n",
      "Epoch 99/150\n",
      "200/200 [==============================] - 67s 335ms/step - loss: 579222.7690 - accuracy: 0.2475 - val_loss: 114952.7109 - val_accuracy: 0.2606\n",
      "Epoch 100/150\n",
      "200/200 [==============================] - 66s 331ms/step - loss: 2927009.4829 - accuracy: 0.2525 - val_loss: 377363.6250 - val_accuracy: 0.2562\n",
      "Epoch 101/150\n",
      "200/200 [==============================] - 67s 336ms/step - loss: 1185258.5046 - accuracy: 0.2550 - val_loss: 234241.7812 - val_accuracy: 0.2319\n",
      "Epoch 102/150\n",
      "200/200 [==============================] - 66s 329ms/step - loss: 1150935.6623 - accuracy: 0.2519 - val_loss: 234536.5938 - val_accuracy: 0.2500\n",
      "Epoch 103/150\n",
      "200/200 [==============================] - 47s 237ms/step - loss: 973500.4057 - accuracy: 0.2356 - val_loss: 162851.1875 - val_accuracy: 0.2562\n",
      "Epoch 104/150\n",
      "200/200 [==============================] - 47s 236ms/step - loss: 6069049.9098 - accuracy: 0.2527 - val_loss: 634467.0000 - val_accuracy: 0.2325\n",
      "Epoch 105/150\n",
      "200/200 [==============================] - 47s 237ms/step - loss: 12831120.4455 - accuracy: 0.2421 - val_loss: 1767548.5000 - val_accuracy: 0.2506\n",
      "Epoch 106/150\n",
      "200/200 [==============================] - 47s 235ms/step - loss: 55028931.5607 - accuracy: 0.2489 - val_loss: 46666136.0000 - val_accuracy: 0.2569\n",
      "Epoch 107/150\n",
      "200/200 [==============================] - 47s 236ms/step - loss: 125081295.9281 - accuracy: 0.2534 - val_loss: 1246782.3750 - val_accuracy: 0.2606\n",
      "Epoch 108/150\n",
      "200/200 [==============================] - 47s 237ms/step - loss: 73549016.5202 - accuracy: 0.2564 - val_loss: 11161037.0000 - val_accuracy: 0.2319\n",
      "Epoch 109/150\n",
      "200/200 [==============================] - 60s 303ms/step - loss: 159909739.7571 - accuracy: 0.2448 - val_loss: 78783568.0000 - val_accuracy: 0.2319\n",
      "Epoch 110/150\n",
      "200/200 [==============================] - 67s 335ms/step - loss: 148112678.7583 - accuracy: 0.2447 - val_loss: 76596616.0000 - val_accuracy: 0.2338\n",
      "Epoch 111/150\n",
      "200/200 [==============================] - 67s 333ms/step - loss: 159038999.8345 - accuracy: 0.2401 - val_loss: 97545992.0000 - val_accuracy: 0.2556\n",
      "Epoch 112/150\n",
      "200/200 [==============================] - 67s 336ms/step - loss: 359014156.5071 - accuracy: 0.2469 - val_loss: 798784960.0000 - val_accuracy: 0.2475\n",
      "Epoch 113/150\n",
      "200/200 [==============================] - 62s 312ms/step - loss: 1483116492.2772 - accuracy: 0.2569 - val_loss: 45270716.0000 - val_accuracy: 0.2325\n",
      "Epoch 114/150\n",
      "200/200 [==============================] - 48s 238ms/step - loss: 1564655835.2103 - accuracy: 0.2567 - val_loss: 231542368.0000 - val_accuracy: 0.2319\n",
      "Epoch 115/150\n",
      "200/200 [==============================] - 47s 236ms/step - loss: 3316373211.8343 - accuracy: 0.2527 - val_loss: 441717888.0000 - val_accuracy: 0.2331\n",
      "Epoch 116/150\n",
      "200/200 [==============================] - 47s 237ms/step - loss: 2073994603.0963 - accuracy: 0.2495 - val_loss: 945960576.0000 - val_accuracy: 0.2506\n",
      "Epoch 117/150\n",
      "200/200 [==============================] - 47s 237ms/step - loss: 3180218231.4138 - accuracy: 0.2419 - val_loss: 1215035008.0000 - val_accuracy: 0.2550\n",
      "Epoch 118/150\n",
      "200/200 [==============================] - 47s 237ms/step - loss: 9745064910.6220 - accuracy: 0.2487 - val_loss: 528676736.0000 - val_accuracy: 0.2562\n",
      "Epoch 119/150\n",
      "200/200 [==============================] - 48s 239ms/step - loss: 5560180386.9873 - accuracy: 0.2446 - val_loss: 6730369536.0000 - val_accuracy: 0.2525\n",
      "Epoch 120/150\n",
      "200/200 [==============================] - 64s 319ms/step - loss: 50925840908.7363 - accuracy: 0.2466 - val_loss: 19357474816.0000 - val_accuracy: 0.2556\n",
      "Epoch 121/150\n",
      "200/200 [==============================] - 67s 334ms/step - loss: 34178916641.7199 - accuracy: 0.2486 - val_loss: 47050.6719 - val_accuracy: 0.2331\n",
      "Epoch 122/150\n",
      "200/200 [==============================] - 66s 331ms/step - loss: 19091078561.2895 - accuracy: 0.2546 - val_loss: 31911819264.0000 - val_accuracy: 0.2550\n",
      "Epoch 123/150\n",
      "200/200 [==============================] - 66s 333ms/step - loss: 62668821110.9913 - accuracy: 0.2490 - val_loss: 21837944832.0000 - val_accuracy: 0.2625\n",
      "Epoch 124/150\n",
      "200/200 [==============================] - 60s 299ms/step - loss: 81025365650.2583 - accuracy: 0.2458 - val_loss: 23868256256.0000 - val_accuracy: 0.2562\n",
      "Epoch 125/150\n",
      "200/200 [==============================] - 47s 235ms/step - loss: 171869717226.1076 - accuracy: 0.2416 - val_loss: 137157599232.0000 - val_accuracy: 0.2506\n",
      "Epoch 126/150\n",
      "200/200 [==============================] - 47s 237ms/step - loss: 14082189371.7956 - accuracy: 0.2613 - val_loss: 104407384064.0000 - val_accuracy: 0.2556\n",
      "Epoch 127/150\n",
      "200/200 [==============================] - 48s 238ms/step - loss: 75393651064.4200 - accuracy: 0.2478 - val_loss: 226076459008.0000 - val_accuracy: 0.2612\n",
      "Epoch 128/150\n",
      "200/200 [==============================] - 47s 235ms/step - loss: 654671497915.4727 - accuracy: 0.2567 - val_loss: 380021899264.0000 - val_accuracy: 0.2325\n",
      "Epoch 129/150\n",
      "200/200 [==============================] - 47s 235ms/step - loss: 1334003965751.9639 - accuracy: 0.2385 - val_loss: 1517023526912.0000 - val_accuracy: 0.2550\n",
      "Epoch 130/150\n",
      "200/200 [==============================] - 47s 237ms/step - loss: 3656634394981.3496 - accuracy: 0.2577 - val_loss: 2251987877888.0000 - val_accuracy: 0.2550\n",
      "Epoch 131/150\n",
      "200/200 [==============================] - 66s 332ms/step - loss: 1972223458685.4390 - accuracy: 0.2534 - val_loss: 807988363264.0000 - val_accuracy: 0.2612\n",
      "Epoch 132/150\n",
      "200/200 [==============================] - 67s 334ms/step - loss: 2903965373880.9243 - accuracy: 0.2482 - val_loss: 1288365146112.0000 - val_accuracy: 0.2500\n",
      "Epoch 133/150\n",
      "200/200 [==============================] - 67s 335ms/step - loss: 6741882624101.1279 - accuracy: 0.2538 - val_loss: 6663992508416.0000 - val_accuracy: 0.2612\n",
      "Epoch 134/150\n",
      "200/200 [==============================] - 67s 334ms/step - loss: 21441616998458.2383 - accuracy: 0.2471 - val_loss: 4163276898304.0000 - val_accuracy: 0.2625\n",
      "Epoch 135/150\n",
      "200/200 [==============================] - 57s 284ms/step - loss: 17133464965503.0254 - accuracy: 0.2464 - val_loss: 10781257105408.0000 - val_accuracy: 0.2506\n",
      "Epoch 136/150\n",
      "200/200 [==============================] - 47s 237ms/step - loss: 17076600018028.2637 - accuracy: 0.2344 - val_loss: 8628325056512.0000 - val_accuracy: 0.2325\n",
      "Epoch 137/150\n",
      "200/200 [==============================] - 47s 236ms/step - loss: 14049410640478.3477 - accuracy: 0.2523 - val_loss: 26167862099968.0000 - val_accuracy: 0.2494\n",
      "Epoch 138/150\n",
      "200/200 [==============================] - 47s 237ms/step - loss: 32296438918149.2539 - accuracy: 0.2598 - val_loss: 76893386702848.0000 - val_accuracy: 0.2506\n",
      "Epoch 139/150\n",
      "200/200 [==============================] - 47s 236ms/step - loss: 128125409882564.3125 - accuracy: 0.2484 - val_loss: 177890146648064.0000 - val_accuracy: 0.2494\n",
      "Epoch 140/150\n",
      "200/200 [==============================] - 48s 238ms/step - loss: 314052016861240.3125 - accuracy: 0.2541 - val_loss: 40672740507648.0000 - val_accuracy: 0.2338\n",
      "Epoch 141/150\n",
      "200/200 [==============================] - 51s 253ms/step - loss: 343961995917067.0000 - accuracy: 0.2439 - val_loss: 290692379181056.0000 - val_accuracy: 0.2500\n",
      "Epoch 142/150\n",
      "200/200 [==============================] - 67s 335ms/step - loss: 504963209179313.9375 - accuracy: 0.2598 - val_loss: 431090766446592.0000 - val_accuracy: 0.2331\n",
      "Epoch 143/150\n",
      "200/200 [==============================] - 67s 334ms/step - loss: 838142521173311.8750 - accuracy: 0.2571 - val_loss: 587409389518848.0000 - val_accuracy: 0.2481\n",
      "Epoch 144/150\n",
      "200/200 [==============================] - 67s 336ms/step - loss: 912391133443715.5000 - accuracy: 0.2630 - val_loss: 735284979302400.0000 - val_accuracy: 0.2506\n",
      "Epoch 145/150\n",
      "200/200 [==============================] - 67s 334ms/step - loss: 2797196321944785.0000 - accuracy: 0.2492 - val_loss: 1042073822167040.0000 - val_accuracy: 0.2619\n",
      "Epoch 146/150\n",
      "200/200 [==============================] - 53s 267ms/step - loss: 1678106740565526.2500 - accuracy: 0.2544 - val_loss: 366371145777152.0000 - val_accuracy: 0.2556\n",
      "Epoch 147/150\n",
      "200/200 [==============================] - 47s 235ms/step - loss: 6307137709309523.0000 - accuracy: 0.2465 - val_loss: 8290476587220992.0000 - val_accuracy: 0.2494\n",
      "Epoch 148/150\n",
      "200/200 [==============================] - 47s 234ms/step - loss: 5706590181663918.0000 - accuracy: 0.2615 - val_loss: 2069159550648320.0000 - val_accuracy: 0.2494\n",
      "Epoch 149/150\n",
      "200/200 [==============================] - 48s 238ms/step - loss: 4403713131452395.0000 - accuracy: 0.2551 - val_loss: 20035195654635520.0000 - val_accuracy: 0.2494\n",
      "Epoch 150/150\n",
      "200/200 [==============================] - 47s 236ms/step - loss: 23115922609968072.0000 - accuracy: 0.2544 - val_loss: 13737873803051008.0000 - val_accuracy: 0.2338\n"
     ]
    },
    {
     "data": {
      "text/plain": [
       "<tensorflow.python.keras.callbacks.History at 0x7fa9cc6274f0>"
      ]
     },
     "execution_count": null,
     "metadata": {},
     "output_type": "execute_result"
    }
   ],
   "source": [
    "#export\n",
    "epochs=150\n",
    "model.fit(train_ds, epochs=epochs, validation_data=valid_ds, callbacks=[lr_scheduler])"
   ]
  },
  {
   "cell_type": "code",
   "execution_count": null,
   "id": "dc34c880-5ba2-443e-8ef9-2709fbd11909",
   "metadata": {},
   "outputs": [
    {
     "data": {
      "image/png": "[encoded data removed]",
      "text/plain": [
       "<Figure size 576x288 with 1 Axes>"
      ]
     },
     "metadata": {
      "needs_background": "light"
     },
     "output_type": "display_data"
    }
   ],
   "source": [
    "#export\n",
    "# Vẽ đồ thị learning rate và loss:\n",
    "history = model.history\n",
    "plt.figure(figsize=(8,4))\n",
    "plt.semilogx(history.history[\"lr\"], history.history[\"loss\"])\n",
    "plt.axis([1e-8, 1e-1, 0, 2])\n",
    "plt.show()"
   ]
  },
  {
   "cell_type": "markdown",
   "id": "a85d0916-7d8a-40ec-bc01-a1e0e2a8f743",
   "metadata": {},
   "source": [
    "#### Train và valid model"
   ]
  },
  {
   "cell_type": "code",
   "execution_count": null,
   "id": "a839b427-9a4f-49be-986c-71f6f42383dc",
   "metadata": {},
   "outputs": [
    {
     "name": "stdout",
     "output_type": "stream",
     "text": [
      "Model: \"model\"\n",
      "_________________________________________________________________\n",
      "Layer (type)                 Output Shape              Param #   \n",
      "=================================================================\n",
      "input_1 (InputLayer)         [(None, 250)]             0         \n",
      "_________________________________________________________________\n",
      "embedding (Embedding)        (None, 250, 64)           640000    \n",
      "_________________________________________________________________\n",
      "bidirectional (Bidirectional (None, 64)                24832     \n",
      "_________________________________________________________________\n",
      "dropout (Dropout)            (None, 64)                0         \n",
      "_________________________________________________________________\n",
      "dense (Dense)                (None, 20)                1300      \n",
      "_________________________________________________________________\n",
      "dense_1 (Dense)              (None, 4)                 84        \n",
      "=================================================================\n",
      "Total params: 666,216\n",
      "Trainable params: 666,216\n",
      "Non-trainable params: 0\n",
      "_________________________________________________________________\n"
     ]
    }
   ],
   "source": [
    "#export\n",
    "# Xóa thông tin các model cũ:\n",
    "keras.backend.clear_session()\n",
    "\n",
    "# Tạo input:\n",
    "inputs = keras.Input(shape=(250))\n",
    "\n",
    "# Tạo embeding:\n",
    "embedding_dim = 64\n",
    "embeding = keras.layers.Embedding(input_dim=max_tokens, output_dim=embedding_dim, input_length=sequence_length)(inputs)\n",
    "\n",
    "# Tạo Bidirectional LSTM:\n",
    "lstm = keras.layers.Bidirectional(keras.layers.LSTM(32))(embeding)\n",
    "\n",
    "# Tạo dropout:\n",
    "dropout = keras.layers.Dropout(0.2)(lstm)\n",
    "\n",
    "# Tạo dense:\n",
    "dense = keras.layers.Dense(20, activation='relu')(dropout)\n",
    "\n",
    "# Tạo prediction:\n",
    "prediction = keras.layers.Dense(4, activation='softmax')(dense)\n",
    "\n",
    "model = keras.Model(inputs=inputs, outputs=prediction)\n",
    "\n",
    "# Tạo loss:\n",
    "loss = keras.losses.CategoricalCrossentropy(from_logits=True)\n",
    "\n",
    "# Tạo optimizer:\n",
    "learning_rate=5e-4\n",
    "optimizer = keras.optimizers.Adam(learning_rate=learning_rate)\n",
    "\n",
    "# Compile model:\n",
    "model.compile(optimizer=optimizer, loss=loss, metrics='accuracy')\n",
    "\n",
    "model.summary()"
   ]
  },
  {
   "cell_type": "code",
   "execution_count": null,
   "id": "4d0de801-1386-4bbd-938c-d2ca93b6f788",
   "metadata": {},
   "outputs": [
    {
     "name": "stdout",
     "output_type": "stream",
     "text": [
      "Epoch 1/50\n",
      "200/200 [==============================] - 77s 344ms/step - loss: 1.3595 - accuracy: 0.2993 - val_loss: 1.1762 - val_accuracy: 0.4225\n",
      "Epoch 2/50\n",
      "200/200 [==============================] - 65s 326ms/step - loss: 1.1484 - accuracy: 0.4799 - val_loss: 0.9325 - val_accuracy: 0.5788\n",
      "Epoch 3/50\n",
      "200/200 [==============================] - 69s 345ms/step - loss: 0.8062 - accuracy: 0.6370 - val_loss: 0.7960 - val_accuracy: 0.6325\n",
      "Epoch 4/50\n",
      "200/200 [==============================] - 69s 345ms/step - loss: 0.6100 - accuracy: 0.7130 - val_loss: 0.7775 - val_accuracy: 0.6369\n",
      "Epoch 5/50\n",
      "200/200 [==============================] - 68s 339ms/step - loss: 0.5270 - accuracy: 0.7518 - val_loss: 0.7661 - val_accuracy: 0.6531\n",
      "Epoch 6/50\n",
      "200/200 [==============================] - 66s 329ms/step - loss: 0.4556 - accuracy: 0.7700 - val_loss: 0.8027 - val_accuracy: 0.6662\n",
      "Epoch 7/50\n",
      "200/200 [==============================] - 60s 300ms/step - loss: 0.4198 - accuracy: 0.7951 - val_loss: 0.8515 - val_accuracy: 0.6675\n",
      "Epoch 8/50\n",
      "200/200 [==============================] - 49s 247ms/step - loss: 0.3638 - accuracy: 0.8242 - val_loss: 0.8536 - val_accuracy: 0.6737\n",
      "Epoch 9/50\n",
      "200/200 [==============================] - 50s 249ms/step - loss: 0.3269 - accuracy: 0.8494 - val_loss: 0.9267 - val_accuracy: 0.6831\n",
      "Epoch 10/50\n",
      "200/200 [==============================] - 49s 245ms/step - loss: 0.2904 - accuracy: 0.8828 - val_loss: 0.9893 - val_accuracy: 0.6925\n",
      "Epoch 11/50\n",
      "200/200 [==============================] - 51s 253ms/step - loss: 0.2497 - accuracy: 0.9101 - val_loss: 1.1175 - val_accuracy: 0.6988\n",
      "Epoch 12/50\n",
      "200/200 [==============================] - 52s 262ms/step - loss: 0.1677 - accuracy: 0.9417 - val_loss: 1.2315 - val_accuracy: 0.7044\n",
      "Epoch 13/50\n",
      "200/200 [==============================] - 57s 284ms/step - loss: 0.1951 - accuracy: 0.9420 - val_loss: 1.2484 - val_accuracy: 0.7212\n",
      "Epoch 14/50\n",
      "200/200 [==============================] - 66s 332ms/step - loss: 0.1530 - accuracy: 0.9470 - val_loss: 1.1901 - val_accuracy: 0.7194\n",
      "Epoch 15/50\n",
      "200/200 [==============================] - 66s 332ms/step - loss: 0.0929 - accuracy: 0.9735 - val_loss: 1.2777 - val_accuracy: 0.7256\n",
      "Epoch 16/50\n",
      "200/200 [==============================] - 67s 336ms/step - loss: 0.0601 - accuracy: 0.9860 - val_loss: 1.4334 - val_accuracy: 0.7294\n",
      "Epoch 17/50\n",
      "200/200 [==============================] - 67s 334ms/step - loss: 0.0462 - accuracy: 0.9889 - val_loss: 1.4842 - val_accuracy: 0.7344\n",
      "Epoch 18/50\n",
      "200/200 [==============================] - 51s 255ms/step - loss: 0.0427 - accuracy: 0.9882 - val_loss: 1.4963 - val_accuracy: 0.7169\n",
      "Epoch 19/50\n",
      "200/200 [==============================] - 52s 259ms/step - loss: 0.0375 - accuracy: 0.9901 - val_loss: 1.5213 - val_accuracy: 0.7281\n",
      "Epoch 20/50\n",
      "200/200 [==============================] - 51s 257ms/step - loss: 0.0481 - accuracy: 0.9860 - val_loss: 1.3775 - val_accuracy: 0.7250\n",
      "Epoch 21/50\n",
      "200/200 [==============================] - 51s 257ms/step - loss: 0.2058 - accuracy: 0.9410 - val_loss: 1.1940 - val_accuracy: 0.7169\n",
      "Epoch 22/50\n",
      "200/200 [==============================] - 52s 259ms/step - loss: 0.1127 - accuracy: 0.9658 - val_loss: 1.2192 - val_accuracy: 0.7119\n",
      "Epoch 23/50\n",
      "200/200 [==============================] - 53s 265ms/step - loss: 0.0555 - accuracy: 0.9859 - val_loss: 1.4028 - val_accuracy: 0.7219\n",
      "Epoch 24/50\n",
      "200/200 [==============================] - 67s 334ms/step - loss: 0.0852 - accuracy: 0.9783 - val_loss: 1.4403 - val_accuracy: 0.7269\n",
      "Epoch 25/50\n",
      "200/200 [==============================] - 67s 334ms/step - loss: 0.0266 - accuracy: 0.9961 - val_loss: 1.4443 - val_accuracy: 0.7369\n",
      "Epoch 26/50\n",
      "200/200 [==============================] - 68s 340ms/step - loss: 0.0176 - accuracy: 0.9968 - val_loss: 1.5402 - val_accuracy: 0.7331\n",
      "Epoch 27/50\n",
      "200/200 [==============================] - 67s 333ms/step - loss: 0.0442 - accuracy: 0.9903 - val_loss: 1.4831 - val_accuracy: 0.7312\n",
      "Epoch 28/50\n",
      "200/200 [==============================] - 61s 303ms/step - loss: 0.0149 - accuracy: 0.9969 - val_loss: 1.5520 - val_accuracy: 0.7356\n",
      "Epoch 29/50\n",
      "200/200 [==============================] - 54s 271ms/step - loss: 0.0074 - accuracy: 0.9995 - val_loss: 1.6474 - val_accuracy: 0.7375\n",
      "Epoch 30/50\n",
      "200/200 [==============================] - 52s 260ms/step - loss: 0.0156 - accuracy: 0.9957 - val_loss: 1.8253 - val_accuracy: 0.6775\n",
      "Epoch 31/50\n",
      "200/200 [==============================] - 53s 265ms/step - loss: 0.0956 - accuracy: 0.9681 - val_loss: 1.7079 - val_accuracy: 0.7362\n",
      "Epoch 32/50\n",
      "200/200 [==============================] - 51s 256ms/step - loss: 0.0102 - accuracy: 0.9974 - val_loss: 1.7961 - val_accuracy: 0.7356\n",
      "Epoch 33/50\n",
      "200/200 [==============================] - 52s 259ms/step - loss: 0.0257 - accuracy: 0.9933 - val_loss: 1.4457 - val_accuracy: 0.6569\n",
      "Epoch 34/50\n",
      "200/200 [==============================] - 69s 347ms/step - loss: 0.1617 - accuracy: 0.9437 - val_loss: 1.4008 - val_accuracy: 0.7113\n",
      "Epoch 35/50\n",
      "200/200 [==============================] - 73s 363ms/step - loss: 0.0373 - accuracy: 0.9881 - val_loss: 1.5810 - val_accuracy: 0.7244\n",
      "Epoch 36/50\n",
      "200/200 [==============================] - 68s 338ms/step - loss: 0.0078 - accuracy: 0.9988 - val_loss: 1.6946 - val_accuracy: 0.7244\n",
      "Epoch 37/50\n",
      "200/200 [==============================] - 67s 336ms/step - loss: 0.0046 - accuracy: 0.9992 - val_loss: 1.7588 - val_accuracy: 0.7337\n",
      "Epoch 38/50\n",
      "200/200 [==============================] - 59s 293ms/step - loss: 0.0035 - accuracy: 0.9995 - val_loss: 1.8237 - val_accuracy: 0.7131\n",
      "Epoch 39/50\n",
      "200/200 [==============================] - 51s 254ms/step - loss: 0.0061 - accuracy: 0.9984 - val_loss: 1.8344 - val_accuracy: 0.7319\n",
      "Epoch 40/50\n",
      "200/200 [==============================] - 51s 255ms/step - loss: 0.0034 - accuracy: 0.9994 - val_loss: 1.9297 - val_accuracy: 0.7344\n",
      "Epoch 41/50\n",
      "200/200 [==============================] - 52s 258ms/step - loss: 0.0016 - accuracy: 1.0000 - val_loss: 2.0207 - val_accuracy: 0.7350\n",
      "Epoch 42/50\n",
      "200/200 [==============================] - 52s 258ms/step - loss: 0.0016 - accuracy: 0.9999 - val_loss: 2.2046 - val_accuracy: 0.7069\n",
      "Epoch 43/50\n",
      "200/200 [==============================] - 50s 252ms/step - loss: 0.0430 - accuracy: 0.9925 - val_loss: 1.8180 - val_accuracy: 0.7150\n",
      "Epoch 44/50\n",
      "200/200 [==============================] - 63s 317ms/step - loss: 0.0091 - accuracy: 0.9987 - val_loss: 2.1641 - val_accuracy: 0.7119\n",
      "Epoch 45/50\n",
      "200/200 [==============================] - 67s 333ms/step - loss: 0.0168 - accuracy: 0.9945 - val_loss: 2.2248 - val_accuracy: 0.7031\n",
      "Epoch 46/50\n",
      "200/200 [==============================] - 71s 355ms/step - loss: 0.0238 - accuracy: 0.9928 - val_loss: 1.8762 - val_accuracy: 0.7231\n",
      "Epoch 47/50\n",
      "200/200 [==============================] - 71s 355ms/step - loss: 0.0064 - accuracy: 0.9987 - val_loss: 1.9510 - val_accuracy: 0.7200\n",
      "Epoch 48/50\n",
      "200/200 [==============================] - 64s 318ms/step - loss: 0.0042 - accuracy: 0.9991 - val_loss: 1.9886 - val_accuracy: 0.7350\n",
      "Epoch 49/50\n",
      "200/200 [==============================] - 52s 259ms/step - loss: 0.0011 - accuracy: 1.0000 - val_loss: 2.0877 - val_accuracy: 0.7387\n",
      "Epoch 50/50\n",
      "200/200 [==============================] - 52s 260ms/step - loss: 7.6019e-04 - accuracy: 1.0000 - val_loss: 2.1562 - val_accuracy: 0.7412\n"
     ]
    },
    {
     "data": {
      "text/plain": [
       "<tensorflow.python.keras.callbacks.History at 0x7f4832873760>"
      ]
     },
     "execution_count": null,
     "metadata": {},
     "output_type": "execute_result"
    }
   ],
   "source": [
    "#export\n",
    "epochs=50\n",
    "model.fit(train_ds, epochs=epochs, validation_data=valid_ds)"
   ]
  },
  {
   "cell_type": "markdown",
   "id": "50ca3f6f-e1b2-4bdd-b2e1-e08fff88253b",
   "metadata": {},
   "source": [
    "**Lưu ý:**\n",
    "Kết quả này tương đối là tồi, mức độ overfit còn cao hơn so với việc chỉ sử dụng embedding layer, đây là điều dễ xảy ra vs LSTM."
   ]
  },
  {
   "cell_type": "code",
   "execution_count": null,
   "id": "b67e4dee-c564-44c3-97dc-e4abd56394de",
   "metadata": {},
   "outputs": [],
   "source": []
  }
 ],
 "metadata": {
  "kernelspec": {
   "display_name": "Python 3",
   "language": "python",
   "name": "python3"
  }
 },
 "nbformat": 4,
 "nbformat_minor": 5
}
