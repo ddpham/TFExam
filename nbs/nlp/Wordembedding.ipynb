{
 "cells": [
  {
   "cell_type": "code",
   "execution_count": null,
   "id": "50c88712",
   "metadata": {},
   "outputs": [],
   "source": [
    "import tensorflow as tf\n",
    "import tensorflow.keras as keras\n",
    "from tensorflow.keras.preprocessing import text\n",
    "from  tensorflow.keras.preprocessing import sequence\n",
    "import tensorflow_datasets as tfds\n",
    "import numpy as np\n",
    "import json\n",
    "import matplotlib.pyplot as plt"
   ]
  },
  {
   "cell_type": "code",
   "execution_count": null,
   "id": "47509ba9",
   "metadata": {},
   "outputs": [
    {
     "name": "stdout",
     "output_type": "stream",
     "text": [
      "2.4.1\n"
     ]
    }
   ],
   "source": [
    "print(tf.__version__)"
   ]
  },
  {
   "cell_type": "code",
   "execution_count": null,
   "id": "aecf08cc",
   "metadata": {},
   "outputs": [
    {
     "name": "stdout",
     "output_type": "stream",
     "text": [
      "# of GPUs: 1\n"
     ]
    }
   ],
   "source": [
    "print(\"# of GPUs:\", len(tf.config.experimental.list_physical_devices('GPU')))"
   ]
  },
  {
   "cell_type": "markdown",
   "id": "f556dee6",
   "metadata": {},
   "source": [
    "# Tạo dữ liệu"
   ]
  },
  {
   "cell_type": "markdown",
   "id": "84dcf627",
   "metadata": {},
   "source": [
    "## Download dữ liệu tfds"
   ]
  },
  {
   "cell_type": "code",
   "execution_count": null,
   "id": "1a0677c4",
   "metadata": {},
   "outputs": [
    {
     "data": {
      "text/plain": [
       "\u001b[0;31mSignature:\u001b[0m\n",
       "\u001b[0mtfds\u001b[0m\u001b[0;34m.\u001b[0m\u001b[0mload\u001b[0m\u001b[0;34m(\u001b[0m\u001b[0;34m\u001b[0m\n",
       "\u001b[0;34m\u001b[0m    \u001b[0mname\u001b[0m\u001b[0;34m,\u001b[0m\u001b[0;34m\u001b[0m\n",
       "\u001b[0;34m\u001b[0m    \u001b[0msplit\u001b[0m\u001b[0;34m=\u001b[0m\u001b[0;32mNone\u001b[0m\u001b[0;34m,\u001b[0m\u001b[0;34m\u001b[0m\n",
       "\u001b[0;34m\u001b[0m    \u001b[0mdata_dir\u001b[0m\u001b[0;34m=\u001b[0m\u001b[0;32mNone\u001b[0m\u001b[0;34m,\u001b[0m\u001b[0;34m\u001b[0m\n",
       "\u001b[0;34m\u001b[0m    \u001b[0mbatch_size\u001b[0m\u001b[0;34m=\u001b[0m\u001b[0;32mNone\u001b[0m\u001b[0;34m,\u001b[0m\u001b[0;34m\u001b[0m\n",
       "\u001b[0;34m\u001b[0m    \u001b[0min_memory\u001b[0m\u001b[0;34m=\u001b[0m\u001b[0;32mNone\u001b[0m\u001b[0;34m,\u001b[0m\u001b[0;34m\u001b[0m\n",
       "\u001b[0;34m\u001b[0m    \u001b[0mshuffle_files\u001b[0m\u001b[0;34m=\u001b[0m\u001b[0;32mNone\u001b[0m\u001b[0;34m,\u001b[0m\u001b[0;34m\u001b[0m\n",
       "\u001b[0;34m\u001b[0m    \u001b[0mdownload\u001b[0m\u001b[0;34m=\u001b[0m\u001b[0;32mTrue\u001b[0m\u001b[0;34m,\u001b[0m\u001b[0;34m\u001b[0m\n",
       "\u001b[0;34m\u001b[0m    \u001b[0mas_supervised\u001b[0m\u001b[0;34m=\u001b[0m\u001b[0;32mFalse\u001b[0m\u001b[0;34m,\u001b[0m\u001b[0;34m\u001b[0m\n",
       "\u001b[0;34m\u001b[0m    \u001b[0mdecoders\u001b[0m\u001b[0;34m=\u001b[0m\u001b[0;32mNone\u001b[0m\u001b[0;34m,\u001b[0m\u001b[0;34m\u001b[0m\n",
       "\u001b[0;34m\u001b[0m    \u001b[0mwith_info\u001b[0m\u001b[0;34m=\u001b[0m\u001b[0;32mFalse\u001b[0m\u001b[0;34m,\u001b[0m\u001b[0;34m\u001b[0m\n",
       "\u001b[0;34m\u001b[0m    \u001b[0mbuilder_kwargs\u001b[0m\u001b[0;34m=\u001b[0m\u001b[0;32mNone\u001b[0m\u001b[0;34m,\u001b[0m\u001b[0;34m\u001b[0m\n",
       "\u001b[0;34m\u001b[0m    \u001b[0mdownload_and_prepare_kwargs\u001b[0m\u001b[0;34m=\u001b[0m\u001b[0;32mNone\u001b[0m\u001b[0;34m,\u001b[0m\u001b[0;34m\u001b[0m\n",
       "\u001b[0;34m\u001b[0m    \u001b[0mas_dataset_kwargs\u001b[0m\u001b[0;34m=\u001b[0m\u001b[0;32mNone\u001b[0m\u001b[0;34m,\u001b[0m\u001b[0;34m\u001b[0m\n",
       "\u001b[0;34m\u001b[0m    \u001b[0mtry_gcs\u001b[0m\u001b[0;34m=\u001b[0m\u001b[0;32mFalse\u001b[0m\u001b[0;34m,\u001b[0m\u001b[0;34m\u001b[0m\n",
       "\u001b[0;34m\u001b[0m\u001b[0;34m)\u001b[0m\u001b[0;34m\u001b[0m\u001b[0;34m\u001b[0m\u001b[0m\n",
       "\u001b[0;31mDocstring:\u001b[0m\n",
       "Loads the named dataset into a `tf.data.Dataset`.\n",
       "\n",
       "If `split=None` (the default), returns all splits for the dataset. Otherwise,\n",
       "returns the specified split.\n",
       "\n",
       "`load` is a convenience method that fetches the `tfds.core.DatasetBuilder` by\n",
       "string name, optionally calls `DatasetBuilder.download_and_prepare`\n",
       "(if `download=True`), and then calls `DatasetBuilder.as_dataset`.\n",
       "This is roughly equivalent to:\n",
       "\n",
       "```\n",
       "builder = tfds.builder(name, data_dir=data_dir, **builder_kwargs)\n",
       "if download:\n",
       "  builder.download_and_prepare(**download_and_prepare_kwargs)\n",
       "ds = builder.as_dataset(\n",
       "    split=split, as_supervised=as_supervised, **as_dataset_kwargs)\n",
       "if with_info:\n",
       "  return ds, builder.info\n",
       "return ds\n",
       "```\n",
       "\n",
       "If you'd like NumPy arrays instead of `tf.data.Dataset`s or `tf.Tensor`s,\n",
       "you can pass the return value to `tfds.as_numpy`.\n",
       "\n",
       "Callers must pass arguments as keyword arguments.\n",
       "\n",
       "**Warning**: calling this function might potentially trigger the download\n",
       "of hundreds of GiB to disk. Refer to the `download` argument.\n",
       "\n",
       "Args:\n",
       "  name: `str`, the registered name of the `DatasetBuilder` (the snake case\n",
       "    version of the class name). This can be either `\"dataset_name\"` or\n",
       "    `\"dataset_name/config_name\"` for datasets with `BuilderConfig`s.\n",
       "    As a convenience, this string may contain comma-separated keyword\n",
       "    arguments for the builder. For example `\"foo_bar/a=True,b=3\"` would use\n",
       "    the `FooBar` dataset passing the keyword arguments `a=True` and `b=3`\n",
       "    (for builders with configs, it would be `\"foo_bar/zoo/a=True,b=3\"` to\n",
       "    use the `\"zoo\"` config and pass to the builder keyword arguments `a=True`\n",
       "    and `b=3`).\n",
       "  split: `tfds.Split` or `str`, which split of the data to load. If None,\n",
       "    will return a `dict` with all splits (typically `tfds.Split.TRAIN` and\n",
       "    `tfds.Split.TEST`).\n",
       "  data_dir: `str` (optional), directory to read/write data.\n",
       "    Defaults to \"~/tensorflow_datasets\".\n",
       "  batch_size: `int`, if set, add a batch dimension to examples. Note that\n",
       "    variable length features will be 0-padded. If\n",
       "    `batch_size=-1`, will return the full dataset as `tf.Tensor`s.\n",
       "  in_memory: `bool`, if `True`, loads the dataset in memory which\n",
       "    increases iteration speeds. Note that if `True` and the dataset has\n",
       "    unknown dimensions, the features will be padded to the maximum\n",
       "    size across the dataset.\n",
       "  shuffle_files: `bool`, whether to shuffle the input files.\n",
       "    Defaults to `True` if `split == tfds.Split.TRAIN` and `False` otherwise.\n",
       "    From 2019-08-20, will always default to False.\n",
       "  download: `bool` (optional), whether to call\n",
       "    `tfds.core.DatasetBuilder.download_and_prepare`\n",
       "    before calling `tf.DatasetBuilder.as_dataset`. If `False`, data is\n",
       "    expected to be in `data_dir`. If `True` and the data is already in\n",
       "    `data_dir`, `download_and_prepare` is a no-op.\n",
       "  as_supervised: `bool`, if `True`, the returned `tf.data.Dataset`\n",
       "    will have a 2-tuple structure `(input, label)` according to\n",
       "    `builder.info.supervised_keys`. If `False`, the default,\n",
       "    the returned `tf.data.Dataset` will have a dictionary with all the\n",
       "    features.\n",
       "  decoders: Nested dict of `Decoder` objects which allow to customize the\n",
       "    decoding. The structure should match the feature structure, but only\n",
       "    customized feature keys need to be present. See\n",
       "    [the guide](https://github.com/tensorflow/datasets/tree/master/docs/decode.md)\n",
       "    for more info.\n",
       "  with_info: `bool`, if True, tfds.load will return the tuple\n",
       "    (tf.data.Dataset, tfds.core.DatasetInfo) containing the info associated\n",
       "    with the builder.\n",
       "  builder_kwargs: `dict` (optional), keyword arguments to be passed to the\n",
       "    `tfds.core.DatasetBuilder` constructor. `data_dir` will be passed\n",
       "    through by default.\n",
       "  download_and_prepare_kwargs: `dict` (optional) keyword arguments passed to\n",
       "    `tfds.core.DatasetBuilder.download_and_prepare` if `download=True`. Allow\n",
       "    to control where to download and extract the cached data. If not set,\n",
       "    cache_dir and manual_dir will automatically be deduced from data_dir.\n",
       "  as_dataset_kwargs: `dict` (optional), keyword arguments passed to\n",
       "    `tfds.core.DatasetBuilder.as_dataset`.\n",
       "  try_gcs: `bool`, if True, tfds.load will see if the dataset exists on\n",
       "    the public GCS bucket before building it locally.\n",
       "\n",
       "Returns:\n",
       "  ds: `tf.data.Dataset`, the dataset requested, or if `split` is None, a\n",
       "    `dict<key: tfds.Split, value: tfds.data.Dataset>`. If `batch_size=-1`,\n",
       "    these will be full datasets as `tf.Tensor`s.\n",
       "  ds_info: `tfds.core.DatasetInfo`, if `with_info` is True, then `tfds.load`\n",
       "    will return a tuple `(ds, ds_info)` containing dataset information\n",
       "    (version, features, splits, num_examples,...). Note that the `ds_info`\n",
       "    object documents the entire dataset, regardless of the `split` requested.\n",
       "    Split-specific information is available in `ds_info.splits`.\n",
       "\u001b[0;31mFile:\u001b[0m      ~/miniconda3/envs/tf/lib/python3.8/site-packages/tensorflow_datasets/core/registered.py\n",
       "\u001b[0;31mType:\u001b[0m      FunctionWrapper\n"
      ]
     },
     "metadata": {},
     "output_type": "display_data"
    }
   ],
   "source": [
    "?tfds.load"
   ]
  },
  {
   "cell_type": "markdown",
   "id": "0cc7e921",
   "metadata": {},
   "source": [
    "`load` is a convenience method that fetches the `tfds.core.DatasetBuilder` by\n",
    "string name, optionally calls `DatasetBuilder.download_and_prepare`\n",
    "(if `download=True`), and then calls `DatasetBuilder.as_dataset`.\n",
    "This is roughly equivalent to:\n",
    "\n",
    "```\n",
    "builder = tfds.builder(name, data_dir=data_dir, **builder_kwargs)\n",
    "if download:\n",
    "  builder.download_and_prepare(**download_and_prepare_kwargs)\n",
    "ds = builder.as_dataset(\n",
    "    split=split, as_supervised=as_supervised, **as_dataset_kwargs)\n",
    "if with_info:\n",
    "  return ds, builder.info\n",
    "return ds\n",
    "```"
   ]
  },
  {
   "cell_type": "code",
   "execution_count": null,
   "id": "f1436519",
   "metadata": {},
   "outputs": [
    {
     "name": "stderr",
     "output_type": "stream",
     "text": [
      "WARNING:absl:Warning: Setting shuffle_files=True because split=TRAIN and shuffle_files=None. This behavior will be deprecated on 2019-08-06, at which point shuffle_files=False will be the default for all splits.\n"
     ]
    }
   ],
   "source": [
    "## Download dữ liệu:\n",
    "imdb, info = tfds.load('imdb_reviews', with_info=True, as_supervised=True)"
   ]
  },
  {
   "cell_type": "code",
   "execution_count": null,
   "id": "588de0b7",
   "metadata": {},
   "outputs": [
    {
     "data": {
      "text/plain": [
       "dict"
      ]
     },
     "execution_count": null,
     "metadata": {},
     "output_type": "execute_result"
    }
   ],
   "source": [
    "# Kiểm tra loại dữ liệu của imdb:\n",
    "imdb.__class__"
   ]
  },
  {
   "cell_type": "code",
   "execution_count": null,
   "id": "cbf2b65d",
   "metadata": {},
   "outputs": [
    {
     "data": {
      "text/plain": [
       "dict_keys(['test', 'train', 'unsupervised'])"
      ]
     },
     "execution_count": null,
     "metadata": {},
     "output_type": "execute_result"
    }
   ],
   "source": [
    "imdb.keys()"
   ]
  },
  {
   "cell_type": "code",
   "execution_count": null,
   "id": "09218f4c",
   "metadata": {},
   "outputs": [],
   "source": [
    "# Tạo tập train, valid:\n",
    "train_ds, valid_ds = imdb['train'], imdb['test']"
   ]
  },
  {
   "cell_type": "code",
   "execution_count": null,
   "id": "b1135c2a",
   "metadata": {},
   "outputs": [
    {
     "data": {
      "text/plain": [
       "tensorflow.python.data.ops.dataset_ops._OptionsDataset"
      ]
     },
     "execution_count": null,
     "metadata": {},
     "output_type": "execute_result"
    }
   ],
   "source": [
    "train_ds.__class__"
   ]
  },
  {
   "cell_type": "code",
   "execution_count": null,
   "id": "6bc3e720",
   "metadata": {},
   "outputs": [
    {
     "name": "stdout",
     "output_type": "stream",
     "text": [
      "tf.Tensor(b\"This was soul-provoking! I am an Iranian, and living in th 21st century, I didn't know that such big tribes have been living in such conditions at the time of my grandfather!<br /><br />You see that today, or even in 1925, on one side of the world a lady or a baby could have everything served for him or her clean and on-demand, but here 80 years ago, people ventured their life to go to somewhere with more grass. It's really interesting that these Persians bear those difficulties to find pasture for their sheep, but they lose many the sheep on their way.<br /><br />I praise the Americans who accompanied this tribe, they were as tough as Bakhtiari people.\", shape=(), dtype=string)\n",
      "tf.Tensor(1, shape=(), dtype=int64)\n"
     ]
    }
   ],
   "source": [
    "# Kiểm tra dữ liệu:\n",
    "for s, l in train_ds.take(1):\n",
    "    print(s)\n",
    "    print(l)"
   ]
  },
  {
   "cell_type": "code",
   "execution_count": null,
   "id": "0b467fa1",
   "metadata": {},
   "outputs": [
    {
     "name": "stdout",
     "output_type": "stream",
     "text": [
      "#25000:\n",
      "b'Sitting down to watch the 14th season of the Bachelor (\"On the Wings of Love\"), I knew I would be in for an \"interesting\" time. I had watched some of the previous seasons of the Bachelor in passing; watching an episode or two and missing the next three or so. I find that the Bachelor is often appealing and intriguing, though its quality and morality are often lacking.<br /><br />\"On the Wings of Love\" details the journey taken by Jake, a 31 year old commercial pilot from Dallas, Texas, to find true love, as true a love as one can find in a season-long reality-drama dating show. Jake meets 25 beautiful girls from all over the country. He begins to get to know them a bit, but it is mostly superficial; how well can you get to know someone in a few 5 minute conversations? Jake tries to make his true intentions known from the very beginning, at least to the audience. He noted that he doesn\\'t just want love or a good time, but he wants a fianc\\xc3\\xa9 or wife. We can only assume that he has made this clear to the women in the competition as well. If that is the case, it might explain, to a degree, some of the women\\'s actions. The women are super competitive. While they don\\'t even know Jake at all yet, they are still in it to win it no matter what the cost.<br /><br />Not only were the women competitive, but they were also confident and catty. Threats, backstabbing, and warnings of \"Watch out!\" all show that these women weren\\'t there for a good time either. Jake noted that he was not just looking for sex appeal, but looking for \"a connection.\" However, the girls pulled out all the stops to try to impress Jake with said sex appeal. They arrived at the mansion in skimpy dresses \\xc2\\x96 either low-cut or short.<br /><br />While some girls seemed to maintain their sense of decorum, others missed that memo altogether. One girl, Channy, noted that Jake was a \"good guy\" to whom she could be a \"naughty girl.\" She went on to say that Jake could land on her \"runway anytime.\" She got flack from the other girls for her provocative statement which showed their take on these situations.<br /><br />So, a reality dating show couldn\\'t be that bad, could it? Besides the obvious issue of sex-driven attraction, there are other issues that mar this seemingly harmless show. Is this the right way to find a future mate; vying for someone\\'s attention by flaunting oneself to extreme proportions? Unfortunately, however, that is what America has reduced dating to these days: pleasure and sex without commitment and a little happiness on the side.<br /><br />Another problem is the premature emotional attachment by which many of the girls bound themselves to Jake. A few girls in particular seemed to be overly attached. One girl said \"If I don\\'t get that first impression rose it will kill me!\" As mentioned before, they don\\'t even know him yet and she was talking about a specific rose, not just one of the 15 roses to keep from being eliminated.<br /><br />Michelle, in particular, seemed to have some issues with attachment to Jake. The other girls noticed it too. After one particular Michelle outburst, Vienna asserted that Michelle had a \"mental breakdown and we\\'ve only been here an hour.\" Michelle got the last rose of the evening on the first show \\xc2\\x96 narrowly missing elimination \\xc2\\x96 and was extremely emotional about it. The other girls thought it was simply ridiculous. Another girl also cried, but because she was eliminated.<br /><br />It began with Survivor, and from there it just took off \\xc2\\x96 reality TV. It shows our entertainment interests as a country; if we weren\\'t watching the shows and giving them good ratings, the networks would not continue to run them. The only logical conclusion that can be drawn is that enough of America is hooked. One thing is clear: America (in general) loves reality TV and its ensuing trappings.<br /><br />This begs me to question: why is it that we even like reality TV? What is it about it that draws us to it? Is it because we see the similarities to our own lives, or is it because we want to be sure that we are more stable and less pathetic than others? Whatever it is that draws us to it, we should be careful of the media and entertainment that we allow to fill our minds. I\\'m not saying that all reality TV shows are bad; however, I am saying that we need to evaluate each one.<br /><br />Episodes used for critique: Season Premier and Episode 2.'\n",
      "0\n",
      "Số lượng labels: {0, 1}\n"
     ]
    }
   ],
   "source": [
    "# Chuyển đổi dữ liệu sang dạng string:\n",
    "train_sentences = []\n",
    "train_labels = []\n",
    "for s, l in train_ds:\n",
    "    train_sentences.append(str(s.numpy())) # bổ sung từng câu dưới dạng string vào list\n",
    "    train_labels.append(l.numpy()) # bổ sung nhãn dưới dạng số vào list\n",
    "print(f'#{len(train_sentences)}:')\n",
    "print(train_sentences[0])\n",
    "print(train_labels[0])\n",
    "print(f'Số lượng labels: {set(train_labels)}')"
   ]
  },
  {
   "cell_type": "code",
   "execution_count": null,
   "id": "062e7fe7",
   "metadata": {},
   "outputs": [
    {
     "name": "stdout",
     "output_type": "stream",
     "text": [
      "#25000:\n",
      "b\"I've watched the movie actually several times. And what i want to say about it is the only thing that made this movie high rank was the Burak Altay's incredible performance, absolutely nothing but that. Not even those silly model named Deniz Akkaya and some of these popular names at times in the movie... Burak is definitely very talented i've seen a few jobs he made and been through. Even though this is kind of horror movie, he's doing really good job in comedy movies and also in dramas too. I bet most of you all saw Asmali Konak the movie and TV series, those two would go for an example... All i'm gonna say is you better watch out for the new works coming out from Burak then you'll see.. Keep the good work bro, much love..\"\n",
      "1\n"
     ]
    }
   ],
   "source": [
    "# Làm tương tự với dữ liệu valid:\n",
    "valid_sentences = []\n",
    "valid_labels = []\n",
    "\n",
    "for s, l in valid_ds:\n",
    "    valid_sentences.append(str(s.numpy()))\n",
    "    valid_labels.append(l.numpy())\n",
    "print(f'#{len(valid_sentences)}:')\n",
    "print(valid_sentences[0])\n",
    "print(valid_labels[0])"
   ]
  },
  {
   "cell_type": "markdown",
   "id": "04cb1161",
   "metadata": {},
   "source": [
    "__Lưu ý:__\n",
    "Như vây chúng ta đã có cả dữ liệu về train, valid, với cùng độ dài là 2500 câu. Và nhãn ở dạng binary (0, 1)."
   ]
  },
  {
   "cell_type": "markdown",
   "id": "f2d2a901",
   "metadata": {},
   "source": [
    "## Tokenize"
   ]
  },
  {
   "cell_type": "code",
   "execution_count": null,
   "id": "4d950419",
   "metadata": {},
   "outputs": [],
   "source": [
    "vocab_size = 10000\n",
    "embedding_dim = 16\n",
    "max_len = 120\n",
    "trunc_type = 'post'\n",
    "oov_tok = 'UNK'\n",
    "# Tạo tokenizer và fit dữ liệu train:\n",
    "tokenizer = text.Tokenizer(num_words=vocab_size, oov_token=oov_tok)\n",
    "tokenizer.fit_on_texts(train_sentences)\n",
    "\n",
    "# Tạo word_index, sequences, pad_sequences từ tập train:\n",
    "word_index = tokenizer.word_index\n",
    "sequences = tokenizer.texts_to_sequences(train_sentences)\n",
    "padded_sequences = sequence.pad_sequences(sequences, maxlen=max_len, padding='post', truncating=trunc_type)\n",
    "\n",
    "# Tạo sequences, pad_sequences từ tập valid:\n",
    "valid_sequences = tokenizer.texts_to_sequences(valid_sentences)\n",
    "padded_valid_sequences = sequence.pad_sequences(valid_sequences, maxlen=max_len, padding='post', truncating=trunc_type)"
   ]
  },
  {
   "cell_type": "code",
   "execution_count": null,
   "id": "aeef9702",
   "metadata": {},
   "outputs": [],
   "source": [
    "# Biến đổi dữ liệu:\n",
    "train_labels = np.array(train_labels)\n",
    "valid_labels = np.array(valid_labels)"
   ]
  },
  {
   "cell_type": "markdown",
   "id": "b747ae6b",
   "metadata": {},
   "source": [
    "# Tạo Wordembedding Model"
   ]
  },
  {
   "cell_type": "code",
   "execution_count": null,
   "id": "f9ee391c",
   "metadata": {},
   "outputs": [],
   "source": [
    "model = keras.Sequential([\n",
    "    keras.layers.Embedding(vocab_size, embedding_dim, input_length=max_len)\n",
    "    , keras.layers.Flatten()\n",
    "    , keras.layers.Dense(6, activation='relu')\n",
    "    , keras.layers.Dense(1, activation='sigmoid')\n",
    "])"
   ]
  },
  {
   "cell_type": "code",
   "execution_count": null,
   "id": "9358f10f",
   "metadata": {},
   "outputs": [],
   "source": [
    "model.compile(optimizer=keras.optimizers.Adam(learning_rate=3e-4), loss=keras.losses.BinaryCrossentropy(), metrics=['accuracy'])"
   ]
  },
  {
   "cell_type": "code",
   "execution_count": null,
   "id": "eca31b23",
   "metadata": {},
   "outputs": [
    {
     "name": "stdout",
     "output_type": "stream",
     "text": [
      "Model: \"sequential\"\n",
      "_________________________________________________________________\n",
      "Layer (type)                 Output Shape              Param #   \n",
      "=================================================================\n",
      "embedding (Embedding)        (None, 120, 16)           160000    \n",
      "_________________________________________________________________\n",
      "flatten (Flatten)            (None, 1920)              0         \n",
      "_________________________________________________________________\n",
      "dense (Dense)                (None, 6)                 11526     \n",
      "_________________________________________________________________\n",
      "dense_1 (Dense)              (None, 1)                 7         \n",
      "=================================================================\n",
      "Total params: 171,533\n",
      "Trainable params: 171,533\n",
      "Non-trainable params: 0\n",
      "_________________________________________________________________\n"
     ]
    }
   ],
   "source": [
    "model.summary()"
   ]
  },
  {
   "cell_type": "code",
   "execution_count": null,
   "id": "d0c1189a",
   "metadata": {},
   "outputs": [
    {
     "name": "stdout",
     "output_type": "stream",
     "text": [
      "Epoch 1/10\n",
      "391/391 [==============================] - 12s 26ms/step - loss: 0.6921 - accuracy: 0.5224 - val_loss: 0.6672 - val_accuracy: 0.6525\n",
      "Epoch 2/10\n",
      "391/391 [==============================] - 10s 26ms/step - loss: 0.5916 - accuracy: 0.7441 - val_loss: 0.4307 - val_accuracy: 0.8125\n",
      "Epoch 3/10\n",
      "391/391 [==============================] - 10s 26ms/step - loss: 0.3475 - accuracy: 0.8613 - val_loss: 0.3809 - val_accuracy: 0.8296\n",
      "Epoch 4/10\n",
      "391/391 [==============================] - 11s 27ms/step - loss: 0.2670 - accuracy: 0.8992 - val_loss: 0.3727 - val_accuracy: 0.8323\n",
      "Epoch 5/10\n",
      "391/391 [==============================] - 10s 27ms/step - loss: 0.2103 - accuracy: 0.9291 - val_loss: 0.3763 - val_accuracy: 0.8330\n",
      "Epoch 6/10\n",
      "391/391 [==============================] - 10s 25ms/step - loss: 0.1697 - accuracy: 0.9487 - val_loss: 0.3927 - val_accuracy: 0.8280\n",
      "Epoch 7/10\n",
      "391/391 [==============================] - 10s 25ms/step - loss: 0.1316 - accuracy: 0.9644 - val_loss: 0.4100 - val_accuracy: 0.8262\n",
      "Epoch 8/10\n",
      "391/391 [==============================] - 10s 26ms/step - loss: 0.0996 - accuracy: 0.9789 - val_loss: 0.4494 - val_accuracy: 0.8164\n",
      "Epoch 9/10\n",
      "391/391 [==============================] - 11s 27ms/step - loss: 0.0730 - accuracy: 0.9877 - val_loss: 0.4644 - val_accuracy: 0.8184\n",
      "Epoch 10/10\n",
      "391/391 [==============================] - 10s 27ms/step - loss: 0.0499 - accuracy: 0.9937 - val_loss: 0.4947 - val_accuracy: 0.8154\n"
     ]
    },
    {
     "data": {
      "text/plain": [
       "<tensorflow.python.keras.callbacks.History at 0x7f26940ed370>"
      ]
     },
     "execution_count": null,
     "metadata": {},
     "output_type": "execute_result"
    }
   ],
   "source": [
    "# Đào tạo:\n",
    "model.fit(padded_sequences, train_labels, batch_size=64, epochs=10, validation_data=(padded_valid_sequences, valid_labels))"
   ]
  },
  {
   "cell_type": "markdown",
   "id": "dbb9edde",
   "metadata": {},
   "source": [
    "## Kiểm tra kết quả"
   ]
  },
  {
   "cell_type": "code",
   "execution_count": null,
   "id": "951ca1b1",
   "metadata": {},
   "outputs": [],
   "source": [
    "history = model.history"
   ]
  },
  {
   "cell_type": "code",
   "execution_count": null,
   "id": "48d68987",
   "metadata": {},
   "outputs": [
    {
     "data": {
      "image/png": "[encoded data removed]",
      "text/plain": [
       "<Figure size 576x288 with 2 Axes>"
      ]
     },
     "metadata": {
      "needs_background": "light"
     },
     "output_type": "display_data"
    }
   ],
   "source": [
    "figure = plt.figure(figsize=(8, 4))\n",
    "plt.subplot(1, 2, 1)\n",
    "plt.plot(history.history['loss'])\n",
    "plt.plot(history.history['val_loss'])\n",
    "plt.title('Loss')\n",
    "plt.legend(['loss', 'val_loss'])\n",
    "plt.subplot(1, 2, 2)\n",
    "plt.plot(history.history['accuracy'])\n",
    "plt.plot(history.history['val_accuracy'])\n",
    "plt.legend(['accuracy', 'val_accuracy'])\n",
    "plt.title('Accuracy')\n",
    "plt.tight_layout()"
   ]
  },
  {
   "cell_type": "markdown",
   "id": "37da073f",
   "metadata": {},
   "source": [
    "Chúng ta có thể thấy, chỉ sau khoảng 4 epoch thì cả loss và accuracy của tập valid có dấu hiệu giảm về chất lượng (loss tăng, accuracy giảm)."
   ]
  },
  {
   "cell_type": "markdown",
   "id": "c497d2ab",
   "metadata": {},
   "source": [
    "# Sarcasm Dataset"
   ]
  },
  {
   "cell_type": "code",
   "execution_count": null,
   "id": "8a7116b7",
   "metadata": {},
   "outputs": [],
   "source": [
    "sentences = []\n",
    "labels = []\n",
    "urls = []\n",
    "\n",
    "file_name = '/home/ddpham/git/TFExam/data/Sarcasm_Headlines_Dataset.json'\n",
    "file = open(file_name, 'r')\n",
    "for line in file.readlines():\n",
    "    line = json.loads(line)\n",
    "    sentences.append(line['headline'])\n",
    "    labels.append(line['is_sarcastic'])\n",
    "    urls.append(line['article_link'])\n",
    "file.close()"
   ]
  },
  {
   "cell_type": "code",
   "execution_count": null,
   "id": "3ce45024",
   "metadata": {},
   "outputs": [
    {
     "name": "stdout",
     "output_type": "stream",
     "text": [
      "#26709:\n",
      "former versace store clerk sues over secret 'black code' for minority shoppers, \n",
      "0, \n",
      "https://www.huffingtonpost.com/entry/versace-black-code_us_5861fbefe4b0de3a08f600d5\n"
     ]
    }
   ],
   "source": [
    "print(f'#{len(sentences)}:\\n{sentences[0]}, \\n{labels[0]}, \\n{urls[0]}')"
   ]
  },
  {
   "cell_type": "code",
   "execution_count": null,
   "id": "7303067d",
   "metadata": {},
   "outputs": [],
   "source": []
  },
  {
   "cell_type": "markdown",
   "id": "8461bcd5",
   "metadata": {},
   "source": [
    "## Tokenization"
   ]
  },
  {
   "cell_type": "code",
   "execution_count": null,
   "id": "9acba520",
   "metadata": {},
   "outputs": [],
   "source": [
    "num_words = 10000\n",
    "embed_dim = 16\n",
    "# max_len=20\n",
    "trunc_type='post'\n",
    "padding_type='post'\n",
    "oov_token = 'UNK'\n",
    "training_size = 20000"
   ]
  },
  {
   "cell_type": "code",
   "execution_count": null,
   "id": "3beb7f0b",
   "metadata": {},
   "outputs": [],
   "source": [
    "train_sentences = sentences[:training_size]\n",
    "valid_sentences = sentences[training_size:]\n",
    "train_labels = np.array(labels[:training_size])\n",
    "valid_labels = np.array(labels[training_size:])"
   ]
  },
  {
   "cell_type": "code",
   "execution_count": null,
   "id": "97ae2ca2",
   "metadata": {},
   "outputs": [],
   "source": [
    "tokenizer = text.Tokenizer(num_words=num_words, oov_token=oov_token)\n",
    "tokenizer.fit_on_texts(train_sentences)\n",
    "word_index = tokenizer.word_index\n",
    "train_sentences = tokenizer.texts_to_sequences(train_sentences)\n",
    "valid_sentences = tokenizer.texts_to_sequences(valid_sentences)"
   ]
  },
  {
   "cell_type": "code",
   "execution_count": null,
   "id": "970b3601",
   "metadata": {},
   "outputs": [
    {
     "data": {
      "text/plain": [
       "{2: 85,\n",
       " 3: 228,\n",
       " 4: 380,\n",
       " 5: 777,\n",
       " 6: 1218,\n",
       " 7: 1640,\n",
       " 8: 2048,\n",
       " 9: 2406,\n",
       " 10: 2569,\n",
       " 11: 2470,\n",
       " 12: 2082,\n",
       " 13: 1457,\n",
       " 14: 1027,\n",
       " 15: 638,\n",
       " 16: 397,\n",
       " 17: 267,\n",
       " 18: 142,\n",
       " 19: 63,\n",
       " 20: 43,\n",
       " 21: 24,\n",
       " 22: 18,\n",
       " 23: 8,\n",
       " 24: 3,\n",
       " 26: 2,\n",
       " 27: 1,\n",
       " 28: 1,\n",
       " 29: 1,\n",
       " 30: 2,\n",
       " 31: 1,\n",
       " 39: 1,\n",
       " 40: 1}"
      ]
     },
     "execution_count": null,
     "metadata": {},
     "output_type": "execute_result"
    }
   ],
   "source": [
    "# Chúng ta hay kiểm tra một chút về độ dài của tất cả các câu:\n",
    "len_sentences = []\n",
    "for i in train_sentences:\n",
    "    len_sentences.append(len(i))\n",
    "len_dict = dict.fromkeys(set(len_sentences), 0)\n",
    "for length in len_sentences:\n",
    "    len_dict[length] += 1\n",
    "len_dict"
   ]
  },
  {
   "cell_type": "code",
   "execution_count": null,
   "id": "6a69d590",
   "metadata": {},
   "outputs": [
    {
     "data": {
      "text/plain": [
       "<AxesSubplot:xlabel='len'>"
      ]
     },
     "execution_count": null,
     "metadata": {},
     "output_type": "execute_result"
    },
    {
     "data": {
      "image/png": "[encoded data removed]",
      "text/plain": [
       "<Figure size 432x288 with 1 Axes>"
      ]
     },
     "metadata": {
      "needs_background": "light"
     },
     "output_type": "display_data"
    }
   ],
   "source": [
    "# Vẽ đồ thị histogram về tần suất độ dài:\n",
    "import pandas as pd\n",
    "pd.DataFrame(list(len_dict.items()), columns=['len', 'freq']).plot('len', 'freq')"
   ]
  },
  {
   "cell_type": "code",
   "execution_count": null,
   "id": "1542c506",
   "metadata": {},
   "outputs": [],
   "source": [
    "# Padding:\n",
    "train_sentences = sequence.pad_sequences(train_sentences, padding=padding_type, truncating=trunc_type)\n",
    "valid_sentences = sequence.pad_sequences(valid_sentences, padding=padding_type, truncating=trunc_type)"
   ]
  },
  {
   "cell_type": "code",
   "execution_count": null,
   "id": "e18b8128",
   "metadata": {},
   "outputs": [
    {
     "data": {
      "text/plain": [
       "((20000, 40), (6709, 38))"
      ]
     },
     "execution_count": null,
     "metadata": {},
     "output_type": "execute_result"
    }
   ],
   "source": [
    "train_sentences.shape, valid_sentences.shape"
   ]
  },
  {
   "cell_type": "code",
   "execution_count": null,
   "id": "99919ada",
   "metadata": {},
   "outputs": [
    {
     "data": {
      "text/plain": [
       "array([[  0,   0,   0,   0,   0],\n",
       "       [  0,   0,   0,   0,   0],\n",
       "       [150,   6,  33, 343,   0],\n",
       "       [  0,   0,   0,   0,   0],\n",
       "       [  0,   0,   0,   0,   0]], dtype=int32)"
      ]
     },
     "execution_count": null,
     "metadata": {},
     "output_type": "execute_result"
    }
   ],
   "source": [
    "train_sentences[5:10, 10:15]"
   ]
  },
  {
   "cell_type": "markdown",
   "id": "406d09ac",
   "metadata": {},
   "source": [
    "## Tạo model"
   ]
  },
  {
   "cell_type": "code",
   "execution_count": null,
   "id": "61dc1eee",
   "metadata": {},
   "outputs": [
    {
     "name": "stdout",
     "output_type": "stream",
     "text": [
      "Model: \"sequential_4\"\n",
      "_________________________________________________________________\n",
      "Layer (type)                 Output Shape              Param #   \n",
      "=================================================================\n",
      "embedding_4 (Embedding)      (None, 20, 16)            160000    \n",
      "_________________________________________________________________\n",
      "global_average_pooling1d_4 ( (None, 16)                0         \n",
      "_________________________________________________________________\n",
      "dense_8 (Dense)              (None, 24)                408       \n",
      "_________________________________________________________________\n",
      "dense_9 (Dense)              (None, 1)                 25        \n",
      "=================================================================\n",
      "Total params: 160,433\n",
      "Trainable params: 160,433\n",
      "Non-trainable params: 0\n",
      "_________________________________________________________________\n"
     ]
    }
   ],
   "source": [
    "model = keras.Sequential([\n",
    "    keras.layers.Embedding(num_words, embed_dim, input_length=max_len)\n",
    "    , keras.layers.GlobalAveragePooling1D()\n",
    "    , keras.layers.Dense(24, activation='relu')\n",
    "    , keras.layers.Dense(1, activation='sigmoid')\n",
    "])\n",
    "model.compile(optimizer='rmsprop', loss='binary_crossentropy', metrics=['accuracy'])\n",
    "model.summary()"
   ]
  },
  {
   "cell_type": "code",
   "execution_count": null,
   "id": "1ba523a1",
   "metadata": {},
   "outputs": [
    {
     "name": "stdout",
     "output_type": "stream",
     "text": [
      "Epoch 1/30\n",
      "WARNING:tensorflow:Model was constructed with shape (None, 20) for input KerasTensor(type_spec=TensorSpec(shape=(None, 20), dtype=tf.float32, name='embedding_4_input'), name='embedding_4_input', description=\"created by layer 'embedding_4_input'\"), but it was called on an input with incompatible shape (32, 40).\n",
      "WARNING:tensorflow:Model was constructed with shape (None, 20) for input KerasTensor(type_spec=TensorSpec(shape=(None, 20), dtype=tf.float32, name='embedding_4_input'), name='embedding_4_input', description=\"created by layer 'embedding_4_input'\"), but it was called on an input with incompatible shape (32, 40).\n",
      "WARNING:tensorflow:Model was constructed with shape (None, 20) for input KerasTensor(type_spec=TensorSpec(shape=(None, 20), dtype=tf.float32, name='embedding_4_input'), name='embedding_4_input', description=\"created by layer 'embedding_4_input'\"), but it was called on an input with incompatible shape (None, 38).\n",
      "625/625 - 12s - loss: 0.6325 - accuracy: 0.6349 - val_loss: 0.5199 - val_accuracy: 0.7636\n",
      "Epoch 2/30\n",
      "625/625 - 10s - loss: 0.4258 - accuracy: 0.8249 - val_loss: 0.4075 - val_accuracy: 0.8144\n",
      "Epoch 3/30\n",
      "625/625 - 11s - loss: 0.3439 - accuracy: 0.8566 - val_loss: 0.3725 - val_accuracy: 0.8384\n",
      "Epoch 4/30\n",
      "625/625 - 10s - loss: 0.3059 - accuracy: 0.8732 - val_loss: 0.3622 - val_accuracy: 0.8459\n",
      "Epoch 5/30\n",
      "625/625 - 10s - loss: 0.2824 - accuracy: 0.8820 - val_loss: 0.3584 - val_accuracy: 0.8512\n",
      "Epoch 6/30\n",
      "625/625 - 11s - loss: 0.2677 - accuracy: 0.8891 - val_loss: 0.3609 - val_accuracy: 0.8489\n",
      "Epoch 7/30\n",
      "625/625 - 10s - loss: 0.2565 - accuracy: 0.8944 - val_loss: 0.3645 - val_accuracy: 0.8478\n",
      "Epoch 8/30\n",
      "625/625 - 11s - loss: 0.2478 - accuracy: 0.9000 - val_loss: 0.3607 - val_accuracy: 0.8533\n",
      "Epoch 9/30\n",
      "625/625 - 11s - loss: 0.2407 - accuracy: 0.9031 - val_loss: 0.3609 - val_accuracy: 0.8529\n",
      "Epoch 10/30\n",
      "625/625 - 10s - loss: 0.2360 - accuracy: 0.9049 - val_loss: 0.3659 - val_accuracy: 0.8533\n",
      "Epoch 11/30\n",
      "625/625 - 10s - loss: 0.2320 - accuracy: 0.9078 - val_loss: 0.3679 - val_accuracy: 0.8533\n",
      "Epoch 12/30\n",
      "625/625 - 10s - loss: 0.2287 - accuracy: 0.9090 - val_loss: 0.3668 - val_accuracy: 0.8541\n",
      "Epoch 13/30\n",
      "625/625 - 11s - loss: 0.2260 - accuracy: 0.9098 - val_loss: 0.3739 - val_accuracy: 0.8498\n",
      "Epoch 14/30\n",
      "625/625 - 10s - loss: 0.2232 - accuracy: 0.9119 - val_loss: 0.3652 - val_accuracy: 0.8527\n",
      "Epoch 15/30\n",
      "625/625 - 10s - loss: 0.2211 - accuracy: 0.9122 - val_loss: 0.3684 - val_accuracy: 0.8556\n",
      "Epoch 16/30\n",
      "625/625 - 10s - loss: 0.2193 - accuracy: 0.9133 - val_loss: 0.3694 - val_accuracy: 0.8499\n",
      "Epoch 17/30\n",
      "625/625 - 11s - loss: 0.2176 - accuracy: 0.9141 - val_loss: 0.3723 - val_accuracy: 0.8512\n",
      "Epoch 18/30\n",
      "625/625 - 10s - loss: 0.2164 - accuracy: 0.9146 - val_loss: 0.3706 - val_accuracy: 0.8504\n",
      "Epoch 19/30\n",
      "625/625 - 8s - loss: 0.2150 - accuracy: 0.9138 - val_loss: 0.3740 - val_accuracy: 0.8517\n",
      "Epoch 20/30\n",
      "625/625 - 8s - loss: 0.2144 - accuracy: 0.9159 - val_loss: 0.3820 - val_accuracy: 0.8471\n",
      "Epoch 21/30\n",
      "625/625 - 8s - loss: 0.2127 - accuracy: 0.9166 - val_loss: 0.3768 - val_accuracy: 0.8517\n",
      "Epoch 22/30\n",
      "625/625 - 8s - loss: 0.2123 - accuracy: 0.9169 - val_loss: 0.3742 - val_accuracy: 0.8484\n",
      "Epoch 23/30\n",
      "625/625 - 8s - loss: 0.2112 - accuracy: 0.9172 - val_loss: 0.3795 - val_accuracy: 0.8502\n",
      "Epoch 24/30\n",
      "625/625 - 8s - loss: 0.2098 - accuracy: 0.9178 - val_loss: 0.3744 - val_accuracy: 0.8493\n",
      "Epoch 25/30\n",
      "625/625 - 8s - loss: 0.2090 - accuracy: 0.9179 - val_loss: 0.3774 - val_accuracy: 0.8521\n",
      "Epoch 26/30\n",
      "625/625 - 8s - loss: 0.2086 - accuracy: 0.9187 - val_loss: 0.3792 - val_accuracy: 0.8526\n",
      "Epoch 27/30\n",
      "625/625 - 8s - loss: 0.2073 - accuracy: 0.9200 - val_loss: 0.3759 - val_accuracy: 0.8499\n",
      "Epoch 28/30\n",
      "625/625 - 8s - loss: 0.2064 - accuracy: 0.9197 - val_loss: 0.3803 - val_accuracy: 0.8489\n",
      "Epoch 29/30\n",
      "625/625 - 8s - loss: 0.2061 - accuracy: 0.9201 - val_loss: 0.3809 - val_accuracy: 0.8478\n",
      "Epoch 30/30\n",
      "625/625 - 8s - loss: 0.2056 - accuracy: 0.9204 - val_loss: 0.3822 - val_accuracy: 0.8499\n"
     ]
    },
    {
     "data": {
      "text/plain": [
       "<tensorflow.python.keras.callbacks.History at 0x7f9d6f952eb0>"
      ]
     },
     "execution_count": null,
     "metadata": {},
     "output_type": "execute_result"
    }
   ],
   "source": [
    "n = 30\n",
    "model.fit(train_sentences, train_labels, epochs=n, validation_data=(valid_sentences, valid_labels), verbose=2)"
   ]
  },
  {
   "cell_type": "code",
   "execution_count": null,
   "id": "ce9d8da7",
   "metadata": {},
   "outputs": [],
   "source": [
    "history = model.history"
   ]
  },
  {
   "cell_type": "code",
   "execution_count": null,
   "id": "a7fee31d",
   "metadata": {},
   "outputs": [
    {
     "data": {
      "text/plain": [
       "dict_keys(['loss', 'accuracy', 'val_loss', 'val_accuracy'])"
      ]
     },
     "execution_count": null,
     "metadata": {},
     "output_type": "execute_result"
    }
   ],
   "source": [
    "# Chúng ta muốn vẽ kết quả của lần train vừa rồi \n",
    "history.history.keys()"
   ]
  },
  {
   "cell_type": "code",
   "execution_count": null,
   "id": "4579854a",
   "metadata": {},
   "outputs": [
    {
     "data": {
      "image/png": "[encoded data removed]",
      "text/plain": [
       "<Figure size 576x288 with 2 Axes>"
      ]
     },
     "metadata": {
      "needs_background": "light"
     },
     "output_type": "display_data"
    }
   ],
   "source": [
    "# Sử dụng loop:\n",
    "item_dict = {'Loss': ['loss', 'val_loss'], 'Accuracy': ['accuracy', 'val_accuracy']}\n",
    "plot_list = ['Loss', 'Accuracy']\n",
    "plt.figure(figsize=(8, 4))\n",
    "for i in range(len(plot_list)):\n",
    "    plt.subplot(1, 2, i+1)\n",
    "    item = plot_list[i]\n",
    "    for items in item_dict[item]:\n",
    "        plt.plot(history.history[items])\n",
    "    plt.legend(item_dict[item])\n",
    "plt.tight_layout()"
   ]
  },
  {
   "cell_type": "code",
   "execution_count": null,
   "id": "799417cd",
   "metadata": {},
   "outputs": [],
   "source": [
    "# Tạo hàm plot:\n",
    "def plot_history(history):\n",
    "    item_dict = {'Loss': ['loss', 'val_loss'], 'Accuracy': ['accuracy', 'val_accuracy']}\n",
    "    plot_list = ['Loss', 'Accuracy']\n",
    "    plt.figure(figsize=(8, 4))\n",
    "    for i in range(len(plot_list)):\n",
    "        plt.subplot(1, 2, i+1)\n",
    "        item = plot_list[i]\n",
    "        for items in item_dict[item]:\n",
    "            plt.plot(history.history[items])\n",
    "        plt.legend(item_dict[item])\n",
    "    plt.tight_layout()"
   ]
  },
  {
   "cell_type": "markdown",
   "id": "289f0a83",
   "metadata": {},
   "source": [
    "__Lưu ý:__ \n",
    "Chúng ta có thể thấy được kết quả của việc train dữ liệu thông qua việc visualize loss và metric.\n",
    "\n",
    "Nhìn vào đồ thị, chúng ta có thể thấy, chỉ với dưới 3 epochs, dữ liệu của tập validate đã có dấu hiện bị overfit khi cả giá trị loss và giá trị accuracy đều không có tiến triển."
   ]
  },
  {
   "cell_type": "markdown",
   "id": "20e27ebb",
   "metadata": {},
   "source": [
    "## Tunning model\n",
    "> Chúng ta thử thay đổi một vài hyper-parameters để xem kết quả của model có được cải thiện không."
   ]
  },
  {
   "cell_type": "code",
   "execution_count": null,
   "id": "835fc862",
   "metadata": {},
   "outputs": [],
   "source": [
    "num_words = 1000 # giảm từ 10K\n",
    "max_len = 20 # giảm từ 40\n",
    "embed_dim = 15 # giảm từ 16\n",
    "trunc_type = 'post'\n",
    "pad_type = 'post'\n",
    "oov_token = 'UNK'\n",
    "training_size = 18000 # tăng size cho tập valid"
   ]
  },
  {
   "cell_type": "code",
   "execution_count": null,
   "id": "b4f539ae",
   "metadata": {},
   "outputs": [],
   "source": [
    "# Parse dữ liệu\n",
    "sentences = []\n",
    "labels = []\n",
    "urls = []\n",
    "\n",
    "file_name = '/home/ddpham/git/TFExam/data/Sarcasm_Headlines_Dataset.json'\n",
    "file = open(file_name, 'r')\n",
    "for line in file.readlines():\n",
    "    line = json.loads(line)\n",
    "    sentences.append(line['headline'])\n",
    "    labels.append(line['is_sarcastic'])\n",
    "    urls.append(line['article_link'])\n",
    "file.close()\n",
    "\n",
    "train_sentences = sentences[:training_size]\n",
    "valid_sentences = sentences[training_size:]\n",
    "train_labels = labels[:training_size]\n",
    "valid_labels = labels[training_size:]"
   ]
  },
  {
   "cell_type": "code",
   "execution_count": null,
   "id": "6ca0411e",
   "metadata": {},
   "outputs": [
    {
     "data": {
      "text/plain": [
       "((18000, 20), (8709, 20))"
      ]
     },
     "execution_count": null,
     "metadata": {},
     "output_type": "execute_result"
    }
   ],
   "source": [
    "# Tokenize & padding:\n",
    "tokenizer = text.Tokenizer(num_words=num_words, oov_token=oov_token)\n",
    "# dir(tokenizer)\n",
    "tokenizer.fit_on_texts(train_sentences)\n",
    "word_index = tokenizer.word_index\n",
    "train_sequences = tokenizer.texts_to_sequences(train_sentences)\n",
    "valid_sequences = tokenizer.texts_to_sequences(valid_sentences)\n",
    "train_labels = np.array(train_labels)\n",
    "valid_labels = np.array(valid_labels)\n",
    "\n",
    "train_sequences = sequence.pad_sequences(train_sequences, maxlen=max_len, padding=pad_type, truncating=trunc_type)\n",
    "valid_sequences = sequence.pad_sequences(valid_sequences, maxlen=max_len, padding=pad_type, truncating=trunc_type)\n",
    "# Kiểm tra shape:\n",
    "train_sequences.shape, valid_sequences.shape"
   ]
  },
  {
   "cell_type": "markdown",
   "id": "724e65b6",
   "metadata": {},
   "source": [
    "### Tạo neural net mới"
   ]
  },
  {
   "cell_type": "code",
   "execution_count": null,
   "id": "b4220b66",
   "metadata": {},
   "outputs": [
    {
     "name": "stdout",
     "output_type": "stream",
     "text": [
      "Model: \"sequential_6\"\n",
      "_________________________________________________________________\n",
      "Layer (type)                 Output Shape              Param #   \n",
      "=================================================================\n",
      "embedding_6 (Embedding)      (None, 20, 15)            15000     \n",
      "_________________________________________________________________\n",
      "global_average_pooling1d_6 ( (None, 15)                0         \n",
      "_________________________________________________________________\n",
      "dense_12 (Dense)             (None, 24)                384       \n",
      "_________________________________________________________________\n",
      "dense_13 (Dense)             (None, 1)                 25        \n",
      "=================================================================\n",
      "Total params: 15,409\n",
      "Trainable params: 15,409\n",
      "Non-trainable params: 0\n",
      "_________________________________________________________________\n"
     ]
    }
   ],
   "source": [
    "model = keras.Sequential([\n",
    "    keras.layers.Embedding(num_words, embed_dim, input_length=max_len)\n",
    "    , keras.layers.GlobalAveragePooling1D()\n",
    "    , keras.layers.Dense(24, activation='relu')\n",
    "    , keras.layers.Dense(1, activation='sigmoid')\n",
    "])\n",
    "model.compile(optimizer='adam', loss='binary_crossentropy', metrics='accuracy')\n",
    "model.summary()"
   ]
  },
  {
   "cell_type": "code",
   "execution_count": null,
   "id": "338930b7",
   "metadata": {},
   "outputs": [
    {
     "name": "stdout",
     "output_type": "stream",
     "text": [
      "Epoch 1/10\n",
      "563/563 [==============================] - 13s 22ms/step - loss: 0.6488 - accuracy: 0.6225 - val_loss: 0.4271 - val_accuracy: 0.8066\n",
      "Epoch 2/10\n",
      "563/563 [==============================] - 13s 24ms/step - loss: 0.3964 - accuracy: 0.8215 - val_loss: 0.3953 - val_accuracy: 0.8181\n",
      "Epoch 3/10\n",
      "563/563 [==============================] - 13s 23ms/step - loss: 0.3573 - accuracy: 0.8368 - val_loss: 0.3950 - val_accuracy: 0.8135\n",
      "Epoch 4/10\n",
      "563/563 [==============================] - 12s 22ms/step - loss: 0.3565 - accuracy: 0.8363 - val_loss: 0.3958 - val_accuracy: 0.8139\n",
      "Epoch 5/10\n",
      "563/563 [==============================] - 12s 21ms/step - loss: 0.3488 - accuracy: 0.8429 - val_loss: 0.3987 - val_accuracy: 0.8126\n",
      "Epoch 6/10\n",
      "563/563 [==============================] - 12s 21ms/step - loss: 0.3378 - accuracy: 0.8491 - val_loss: 0.3991 - val_accuracy: 0.8154\n",
      "Epoch 7/10\n",
      "563/563 [==============================] - 12s 21ms/step - loss: 0.3435 - accuracy: 0.8479 - val_loss: 0.3995 - val_accuracy: 0.8169\n",
      "Epoch 8/10\n",
      "563/563 [==============================] - 12s 21ms/step - loss: 0.3432 - accuracy: 0.8434 - val_loss: 0.3989 - val_accuracy: 0.8148\n",
      "Epoch 9/10\n",
      "563/563 [==============================] - 12s 21ms/step - loss: 0.3423 - accuracy: 0.8456 - val_loss: 0.3984 - val_accuracy: 0.8135\n",
      "Epoch 10/10\n",
      "563/563 [==============================] - 10s 18ms/step - loss: 0.3383 - accuracy: 0.8454 - val_loss: 0.4017 - val_accuracy: 0.8169\n"
     ]
    },
    {
     "data": {
      "text/plain": [
       "<tensorflow.python.keras.callbacks.History at 0x7f9d6f4e92e0>"
      ]
     },
     "execution_count": null,
     "metadata": {},
     "output_type": "execute_result"
    }
   ],
   "source": [
    "model.fit(train_sequences, train_labels, epochs=10, batch_size=32, validation_data=(valid_sequences, valid_labels))"
   ]
  },
  {
   "cell_type": "code",
   "execution_count": null,
   "id": "f1584ca4",
   "metadata": {},
   "outputs": [],
   "source": [
    "history = model.history"
   ]
  },
  {
   "cell_type": "code",
   "execution_count": null,
   "id": "62140b67",
   "metadata": {},
   "outputs": [
    {
     "data": {
      "image/png": "[encoded data removed]",
      "text/plain": [
       "<Figure size 576x288 with 2 Axes>"
      ]
     },
     "metadata": {
      "needs_background": "light"
     },
     "output_type": "display_data"
    }
   ],
   "source": [
    "# Visualize:\n",
    "plot_history(history)"
   ]
  },
  {
   "cell_type": "markdown",
   "id": "3fbaa901",
   "metadata": {},
   "source": [
    "__NOTE:__\n",
    "Chúng ta có thể thấy, mặc dù accuracy của valid giảm xuống tương đối (3%), nhưng mức độ overfit của model rõ ràng đã cải thiện đáng kể. Khoảng cách giữa train và valid đã thu hẹp tương đối nhiều (giảm > 2 lần) cho cả loss và accuracy.\n",
    "\n",
    "Chúng ta có thể thử tiếp vs max_len=15, embed_dim=10 để kiểm tra model có cải thiện về mức độ overfit hay ko. Tất nhiên, khi chúng ta giảm chiều xuống thì sẽ ít hơn số lượng từ tương đồng hoặc đối lập nhau để có thể view được những từ có ý nghĩa hơn và những từ tương đồng hay đối lập thường sẽ rất hiển nhiên."
   ]
  },
  {
   "cell_type": "markdown",
   "id": "caba7fdb",
   "metadata": {},
   "source": [
    "# Giới thiệu về subword tokenizer\n",
    "> Khác với tokenizer chúng ta biết ở trên, các từ được gán với id (dạng số nguyên dương) và được hợp thành sequences để đào tạo model. Tuy nhiên, với subword tokenizer, một từ có thể được tách ra nhỏ hơn.\n",
    "> Phần này tạm thời dừng lại ở đây!"
   ]
  },
  {
   "cell_type": "code",
   "execution_count": null,
   "id": "1591c506",
   "metadata": {},
   "outputs": [],
   "source": []
  }
 ],
 "metadata": {
  "kernelspec": {
   "display_name": "Python 3",
   "language": "python",
   "name": "python3"
  }
 },
 "nbformat": 4,
 "nbformat_minor": 5
}
