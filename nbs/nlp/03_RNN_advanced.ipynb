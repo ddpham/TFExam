{
 "cells": [
  {
   "cell_type": "markdown",
   "id": "ab7119ad-371c-4680-a9c8-55416428eaff",
   "metadata": {},
   "source": [
    "# Mục Đích\n",
    "> Trong bài trước chúng ta tập trung vào sentiment/phân loại nhóm cảm xúc cho words, sentences. Trong bài này chúng ta sẽ dự báo word(s) tiếp theo dựa vào chuỗi các từ đã có sẵn rồi."
   ]
  },
  {
   "cell_type": "code",
   "execution_count": 1,
   "id": "316e4df0-2c50-4ecf-8beb-9b53143cdd48",
   "metadata": {},
   "outputs": [],
   "source": [
    "import tensorflow as tf\n",
    "import tensorflow.keras as keras\n",
    "import tensorflow.keras.preprocessing.text as text\n",
    "from tensorflow.keras.preprocessing.sequence import pad_sequences\n",
    "import tensorflow_datasets as tfds\n",
    "import matplotlib.pyplot as plt\n",
    "import numpy as np\n",
    "import json\n",
    "%matplotlib inline"
   ]
  },
  {
   "cell_type": "markdown",
   "id": "64507c17-ca79-4755-82e9-bb8c8404f5cf",
   "metadata": {},
   "source": [
    "# Dữ Liệu\n",
    "> Trong ví dụ đơn giản đầu tiên, chúng ta sẽ sử dụng phần tổng hợp của `Chúa tể những chiếc nhẫn - chương 1` trên [Wikipedia](https://en.wikipedia.org/wiki/The_Lord_of_the_Rings)"
   ]
  },
  {
   "cell_type": "markdown",
   "id": "3be3e98b-81d8-4a5c-a96d-ee33055aeba5",
   "metadata": {},
   "source": [
    "## Tokenization\n",
    "\n",
    ">Như thường lệ, chúng ta cần tokenize dữ liệu trước."
   ]
  },
  {
   "cell_type": "code",
   "execution_count": 2,
   "id": "94a8753e-ca68-4baf-83ad-e5578392738d",
   "metadata": {},
   "outputs": [],
   "source": [
    "data = \"Bilbo celebrates his 111th birthday and leaves the Shire suddenly without warning, leaving the Ring to Frodo Baggins, his cousin and heir.\\nNeither hobbit is aware of the Ring's nature, but the wizard Gandalf realises that it is a Ring of Power.\\nSeventeen years later, Gandalf tells Frodo that he has confirmed that the Ring is the one lost by the Dark Lord Sauron long ago and counsels him to take it away from the Shire.\\nGandalf leaves, promising to return by Frodo's birthday and accompany him on his journey, but fails to do so.\\nFrodo sets out on foot, ostensibly moving to his new home in Crickhollow, accompanied by his gardener Sam Gamgee and his cousin Pippin Took.\\nThey are pursued by mysterious Black Riders, but meet a passing group of Elves led by Gildor Inglorion, their chants to Elbereth warding off the Riders.\\nThe hobbits spend the night with them, then take a short cut to avoid their pursuers the next day, and arrive at the farm of Farmer Maggot.\\nHe takes them to Bucklebury Ferry, where they meet their friend Merry Brandybuck who was looking for them.\\nWhen they reach the house at Crickhollow, Merry and Pippin reveal they know about the Ring and insist on travelling with Frodo and Sam.\\nThey decide to try to shake off the Black Riders by cutting through the Old Forest.\\nMerry and Pippin are trapped by Old Man Willow, an evil tree who controls much of the forest, but are rescued by the mysterious Tom Bombadil.\\nLeaving, they are caught by a barrow-wight, who takes them inside a barrow on the downs.\\nFrodo, awakening from the barrow-wight's spell, manages to call Bombadil, who frees them, and equips them with ancient swords from the barrow-wight's hoard.\\nThe hobbits reach the village of Bree, where they encounter a Ranger named Strider.\\nThe innkeeper gives Frodo a letter from Gandalf written three months before which identifies Strider as a friend.\\nStrider leads the hobbits into the wilderness after another close escape from the Black Riders, who they now know to be the Nazgûl, men of ancient times enslaved by lesser Rings of Power to serve Sauron.\\nOn the hill of Weathertop, they are again attacked by the Nazgûl, who wound Frodo with a cursed blade. Strider fights them off and leads the hobbits towards the Elven refuge of Rivendell.\\nFrodo falls deathly ill; Strider treats him with the herb athelas, saving his life.\\nThe Nazgûl nearly capture Frodo at the Ford of Bruinen, but Strider, Sam and the Elf-lord Glorfindel drive the Nazgûl into the water, where flood waters summoned by Elrond, master of Rivendell, rise up and overwhelm them.\""
   ]
  },
  {
   "cell_type": "code",
   "execution_count": 3,
   "id": "fb85296e-98b8-48e1-9577-8037066bfac0",
   "metadata": {},
   "outputs": [
    {
     "name": "stdout",
     "output_type": "stream",
     "text": [
      "Bilbo celebrates his 111th birthday and leaves the Shire suddenly without warning, leaving the Ring to Frodo Baggins, his cousin and heir.\n",
      "Neither hobbit is aware of the Ring's nature, but the wizard Gandalf realises that it is a Ring of Power.\n",
      "Seventeen years later, Gandalf tells Frodo that he has confirmed that the Ring is the one lost by the Dark Lord Sauron long ago and counsels him to take it away from the Shire.\n",
      "Gandalf leaves, promising to return by Frodo's birthday and accompany him on his journey, but fails to do so.\n",
      "Frodo sets out on foot, ostensibly moving to his new home in Crickhollow, accompanied by his gardener Sam Gamgee and his cousin Pippin Took.\n",
      "They are pursued by mysterious Black Riders, but meet a passing group of Elves led by Gildor Inglorion, their chants to Elbereth warding off the Riders.\n",
      "The hobbits spend the night with them, then take a short cut to avoid their pursuers the next day, and arrive at the farm of Farmer Maggot.\n",
      "He takes them to Bucklebury Ferry, where they meet their friend Merry Brandybuck who was looking for them.\n",
      "When they reach the house at Crickhollow, Merry and Pippin reveal they know about the Ring and insist on travelling with Frodo and Sam.\n",
      "They decide to try to shake off the Black Riders by cutting through the Old Forest.\n",
      "Merry and Pippin are trapped by Old Man Willow, an evil tree who controls much of the forest, but are rescued by the mysterious Tom Bombadil.\n",
      "Leaving, they are caught by a barrow-wight, who takes them inside a barrow on the downs.\n",
      "Frodo, awakening from the barrow-wight's spell, manages to call Bombadil, who frees them, and equips them with ancient swords from the barrow-wight's hoard.\n",
      "The hobbits reach the village of Bree, where they encounter a Ranger named Strider.\n",
      "The innkeeper gives Frodo a letter from Gandalf written three months before which identifies Strider as a friend.\n",
      "Strider leads the hobbits into the wilderness after another close escape from the Black Riders, who they now know to be the Nazgûl, men of ancient times enslaved by lesser Rings of Power to serve Sauron.\n",
      "On the hill of Weathertop, they are again attacked by the Nazgûl, who wound Frodo with a cursed blade. Strider fights them off and leads the hobbits towards the Elven refuge of Rivendell.\n",
      "Frodo falls deathly ill; Strider treats him with the herb athelas, saving his life.\n",
      "The Nazgûl nearly capture Frodo at the Ford of Bruinen, but Strider, Sam and the Elf-lord Glorfindel drive the Nazgûl into the water, where flood waters summoned by Elrond, master of Rivendell, rise up and overwhelm them.\n"
     ]
    }
   ],
   "source": [
    "print(data)"
   ]
  },
  {
   "cell_type": "code",
   "execution_count": 4,
   "id": "3cc737ba-5da9-4f5d-86d0-3cec9180e15c",
   "metadata": {},
   "outputs": [
    {
     "name": "stdout",
     "output_type": "stream",
     "text": [
      "['bilbo celebrates his 111th birthday and leaves the shire suddenly without warning, leaving the ring to frodo baggins, his cousin and heir.', \"neither hobbit is aware of the ring's nature, but the wizard gandalf realises that it is a ring of power.\", 'seventeen years later, gandalf tells frodo that he has confirmed that the ring is the one lost by the dark lord sauron long ago and counsels him to take it away from the shire.', \"gandalf leaves, promising to return by frodo's birthday and accompany him on his journey, but fails to do so.\", 'frodo sets out on foot, ostensibly moving to his new home in crickhollow, accompanied by his gardener sam gamgee and his cousin pippin took.', 'they are pursued by mysterious black riders, but meet a passing group of elves led by gildor inglorion, their chants to elbereth warding off the riders.', 'the hobbits spend the night with them, then take a short cut to avoid their pursuers the next day, and arrive at the farm of farmer maggot.', 'he takes them to bucklebury ferry, where they meet their friend merry brandybuck who was looking for them.', 'when they reach the house at crickhollow, merry and pippin reveal they know about the ring and insist on travelling with frodo and sam.', 'they decide to try to shake off the black riders by cutting through the old forest.', 'merry and pippin are trapped by old man willow, an evil tree who controls much of the forest, but are rescued by the mysterious tom bombadil.', 'leaving, they are caught by a barrow-wight, who takes them inside a barrow on the downs.', \"frodo, awakening from the barrow-wight's spell, manages to call bombadil, who frees them, and equips them with ancient swords from the barrow-wight's hoard.\", 'the hobbits reach the village of bree, where they encounter a ranger named strider.', 'the innkeeper gives frodo a letter from gandalf written three months before which identifies strider as a friend.', 'strider leads the hobbits into the wilderness after another close escape from the black riders, who they now know to be the nazgûl, men of ancient times enslaved by lesser rings of power to serve sauron.', 'on the hill of weathertop, they are again attacked by the nazgûl, who wound frodo with a cursed blade. strider fights them off and leads the hobbits towards the elven refuge of rivendell.', 'frodo falls deathly ill; strider treats him with the herb athelas, saving his life.', 'the nazgûl nearly capture frodo at the ford of bruinen, but strider, sam and the elf-lord glorfindel drive the nazgûl into the water, where flood waters summoned by elrond, master of rivendell, rise up and overwhelm them.']\n"
     ]
    }
   ],
   "source": [
    "corpus = data.lower().split('\\n')\n",
    "print(corpus)"
   ]
  },
  {
   "cell_type": "code",
   "execution_count": 5,
   "id": "58c3e51e-c7ff-4779-9ce9-64cbd76f2013",
   "metadata": {},
   "outputs": [
    {
     "name": "stdout",
     "output_type": "stream",
     "text": [
      "{'the': 1, 'and': 2, 'to': 3, 'of': 4, 'by': 5, 'frodo': 6, 'a': 7, 'they': 8, 'them': 9, 'his': 10, 'who': 11, 'strider': 12, 'but': 13, 'from': 14, 'on': 15, 'are': 16, 'with': 17, 'ring': 18, 'gandalf': 19, 'riders': 20, 'hobbits': 21, 'barrow': 22, 'nazgûl': 23, 'is': 24, 'that': 25, 'him': 26, 'sam': 27, 'pippin': 28, 'black': 29, 'their': 30, 'off': 31, 'at': 32, 'where': 33, 'merry': 34, 'birthday': 35, 'leaves': 36, 'shire': 37, 'leaving': 38, 'cousin': 39, 'it': 40, 'power': 41, 'he': 42, 'lord': 43, 'sauron': 44, 'take': 45, 'crickhollow': 46, 'mysterious': 47, 'meet': 48, 'takes': 49, 'friend': 50, 'reach': 51, 'know': 52, 'old': 53, 'forest': 54, 'bombadil': 55, \"wight's\": 56, 'ancient': 57, 'leads': 58, 'into': 59, 'rivendell': 60, 'bilbo': 61, 'celebrates': 62, '111th': 63, 'suddenly': 64, 'without': 65, 'warning': 66, 'baggins': 67, 'heir': 68, 'neither': 69, 'hobbit': 70, 'aware': 71, \"ring's\": 72, 'nature': 73, 'wizard': 74, 'realises': 75, 'seventeen': 76, 'years': 77, 'later': 78, 'tells': 79, 'has': 80, 'confirmed': 81, 'one': 82, 'lost': 83, 'dark': 84, 'long': 85, 'ago': 86, 'counsels': 87, 'away': 88, 'promising': 89, 'return': 90, \"frodo's\": 91, 'accompany': 92, 'journey': 93, 'fails': 94, 'do': 95, 'so': 96, 'sets': 97, 'out': 98, 'foot': 99, 'ostensibly': 100, 'moving': 101, 'new': 102, 'home': 103, 'in': 104, 'accompanied': 105, 'gardener': 106, 'gamgee': 107, 'took': 108, 'pursued': 109, 'passing': 110, 'group': 111, 'elves': 112, 'led': 113, 'gildor': 114, 'inglorion': 115, 'chants': 116, 'elbereth': 117, 'warding': 118, 'spend': 119, 'night': 120, 'then': 121, 'short': 122, 'cut': 123, 'avoid': 124, 'pursuers': 125, 'next': 126, 'day': 127, 'arrive': 128, 'farm': 129, 'farmer': 130, 'maggot': 131, 'bucklebury': 132, 'ferry': 133, 'brandybuck': 134, 'was': 135, 'looking': 136, 'for': 137, 'when': 138, 'house': 139, 'reveal': 140, 'about': 141, 'insist': 142, 'travelling': 143, 'decide': 144, 'try': 145, 'shake': 146, 'cutting': 147, 'through': 148, 'trapped': 149, 'man': 150, 'willow': 151, 'an': 152, 'evil': 153, 'tree': 154, 'controls': 155, 'much': 156, 'rescued': 157, 'tom': 158, 'caught': 159, 'wight': 160, 'inside': 161, 'downs': 162, 'awakening': 163, 'spell': 164, 'manages': 165, 'call': 166, 'frees': 167, 'equips': 168, 'swords': 169, 'hoard': 170, 'village': 171, 'bree': 172, 'encounter': 173, 'ranger': 174, 'named': 175, 'innkeeper': 176, 'gives': 177, 'letter': 178, 'written': 179, 'three': 180, 'months': 181, 'before': 182, 'which': 183, 'identifies': 184, 'as': 185, 'wilderness': 186, 'after': 187, 'another': 188, 'close': 189, 'escape': 190, 'now': 191, 'be': 192, 'men': 193, 'times': 194, 'enslaved': 195, 'lesser': 196, 'rings': 197, 'serve': 198, 'hill': 199, 'weathertop': 200, 'again': 201, 'attacked': 202, 'wound': 203, 'cursed': 204, 'blade': 205, 'fights': 206, 'towards': 207, 'elven': 208, 'refuge': 209, 'falls': 210, 'deathly': 211, 'ill': 212, 'treats': 213, 'herb': 214, 'athelas': 215, 'saving': 216, 'life': 217, 'nearly': 218, 'capture': 219, 'ford': 220, 'bruinen': 221, 'elf': 222, 'glorfindel': 223, 'drive': 224, 'water': 225, 'flood': 226, 'waters': 227, 'summoned': 228, 'elrond': 229, 'master': 230, 'rise': 231, 'up': 232, 'overwhelm': 233}\n",
      "234\n"
     ]
    }
   ],
   "source": [
    "tokenizer = text.Tokenizer()\n",
    "tokenizer.fit_on_texts(corpus)\n",
    "total_words = len(tokenizer.word_index) + 1\n",
    "print(tokenizer.word_index)\n",
    "print(total_words)"
   ]
  },
  {
   "cell_type": "markdown",
   "id": "2c0ab840-270f-4b5f-8290-f8cb71729821",
   "metadata": {},
   "source": [
    "## Tạo dữ liệu đầu vào\n",
    "> Với dữ liệu đầu vào cho model dự báo từ tiếp theo, chúng ta cần làm là tạo ra chuỗi các sequences chứa các từ."
   ]
  },
  {
   "cell_type": "code",
   "execution_count": 6,
   "id": "323ff586-cd4c-4e5d-a865-b13b0f0d9c33",
   "metadata": {},
   "outputs": [],
   "source": [
    "input_sequences = []\n",
    "empty_dict = {}\n",
    "max_len = 0\n",
    "for line in corpus:\n",
    "#     print(line)\n",
    "    token_list = tokenizer.texts_to_sequences([line])[0]\n",
    "    for i in range(1, len(token_list)):\n",
    "        n_gram_sequences = token_list[:i + 1]\n",
    "        input_sequences.append(n_gram_sequences)\n",
    "        \n",
    "        length = len(n_gram_sequences)\n",
    "        if length not in empty_dict.keys():\n",
    "            empty_dict.update({length: 1})\n",
    "        else: \n",
    "            new_value = empty_dict[length] + 1\n",
    "            empty_dict.update({length: new_value})\n",
    "        # Find longest max_len_gram:\n",
    "        if len(n_gram_sequences) > max_len: max_len = len(n_gram_sequences)\n"
   ]
  },
  {
   "cell_type": "code",
   "execution_count": 7,
   "id": "dff5a8b0-573d-40ff-8fe3-11778586168a",
   "metadata": {},
   "outputs": [
    {
     "name": "stdout",
     "output_type": "stream",
     "text": [
      "max length:  38\n"
     ]
    },
    {
     "data": {
      "image/png": "[encoded data removed]",
      "text/plain": [
       "<Figure size 432x288 with 1 Axes>"
      ]
     },
     "metadata": {
      "needs_background": "light"
     },
     "output_type": "display_data"
    }
   ],
   "source": [
    "import pandas as pd\n",
    "print('max length: ', max_len)\n",
    "pd.DataFrame(empty_dict.items(), columns=['len', 'freq']).plot(x='len', y='freq')\n",
    "plt.show()"
   ]
  },
  {
   "cell_type": "markdown",
   "id": "0163c80c-a209-49dc-8bdc-ec13d7e668bb",
   "metadata": {},
   "source": [
    "Chúng ta sẽ pad thêm 0 vào các sequence này, tuy nhiên, khác với các lần trước, lần này chúng ta sẽ pad vào trước để các ký tự cuối có ý nghĩa."
   ]
  },
  {
   "cell_type": "code",
   "execution_count": 8,
   "id": "c99c09ec-7c0e-449b-afd3-f95faaf38417",
   "metadata": {},
   "outputs": [
    {
     "data": {
      "text/plain": [
       "array([[  0,   0,   0, ...,   0,  61,  62],\n",
       "       [  0,   0,   0, ...,  61,  62,  10],\n",
       "       [  0,   0,   0, ...,  62,  10,  63],\n",
       "       ...,\n",
       "       [  0,   0,   1, ..., 231, 232,   2],\n",
       "       [  0,   1,  23, ..., 232,   2, 233],\n",
       "       [  1,  23, 218, ...,   2, 233,   9]], dtype=int32)"
      ]
     },
     "execution_count": 8,
     "metadata": {},
     "output_type": "execute_result"
    }
   ],
   "source": [
    "# Pad sequences:\n",
    "padded_sequences = np.array(pad_sequences(input_sequences, maxlen=max_len, padding='pre'))\n",
    "padded_sequences"
   ]
  },
  {
   "cell_type": "markdown",
   "id": "cc09934b-8cbf-4833-b653-c66cf7906abd",
   "metadata": {},
   "source": [
    "Từ dữ liệu đã được pad, chúng ta sẽ tạo ra dữ liệu Xs (biến ko phụ thuộc) và y (nhãn - biến phụ thuộc):\n",
    "- Xs là toàn bộ sequences trừ số cuối cùng\n",
    "- labels, y là số cuối cùng của từng sequences."
   ]
  },
  {
   "cell_type": "code",
   "execution_count": 10,
   "id": "6671d43b-3270-4f6a-8fc6-b7f656df52d2",
   "metadata": {},
   "outputs": [],
   "source": [
    "# Tạo X và y cho dữ liệu đầu vào:\n",
    "Xs, labels = padded_sequences[:, :-1], padded_sequences[:, -1]\n",
    "ys = keras.utils.to_categorical(labels, num_classes=total_words) # biến đổi labels về dạng cateogry, trong đó số lượng cateogry = tổng số lượng từ."
   ]
  },
  {
   "cell_type": "code",
   "execution_count": null,
   "id": "d2909be1-a847-4627-8c64-f494356e68c7",
   "metadata": {},
   "outputs": [],
   "source": []
  }
 ],
 "metadata": {
  "kernelspec": {
   "display_name": "Python 3",
   "language": "python",
   "name": "python3"
  },
  "language_info": {
   "codemirror_mode": {
    "name": "ipython",
    "version": 3
   },
   "file_extension": ".py",
   "mimetype": "text/x-python",
   "name": "python",
   "nbconvert_exporter": "python",
   "pygments_lexer": "ipython3",
   "version": "3.8.0"
  }
 },
 "nbformat": 4,
 "nbformat_minor": 5
}
