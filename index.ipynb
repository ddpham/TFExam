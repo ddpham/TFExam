{
 "cells": [
  {
   "cell_type": "markdown",
   "metadata": {},
   "source": [
    "# TFExam\n",
    "\n",
    "> Đây là project được sinh ra nhằm củng cố các kiến thức về tensorflow phục vụ cho việc thi chứng chỉ [Tensorflow Developer Certificate](https://www.tensorflow.org/certificate)"
   ]
  },
  {
   "cell_type": "markdown",
   "metadata": {},
   "source": [
    "## Điều kiện tối thiểu"
   ]
  },
  {
   "cell_type": "markdown",
   "metadata": {},
   "source": [
    "Để có thể thực hành được tensorflow, bạn cần có một trong các điều kiện về hardware sau:\n",
    "- Máy tính local có GPU và được cài đặt đúng để chạy được tensorflow.\n",
    "- Máy tính cloud (server) có GPU và được cài đặt đúng để chạy được tensorflow.\n",
    "\n",
    "Tuy nhiên để có thể làm bài thi được yêu cầu của tổ chức, bạn nên có máy chủ local có GPU và cài đặt theo yêu cầu của cuộc thi.\n",
    "Thông tin chi tiết về hướng dẫn cài đặt cho cuộc thi, bạn có thể tham khảo tại đây:\n",
    "- [Candidate Handbook](https://www.tensorflow.org/extras/cert/TF_Certificate_Candidate_Handbook.pdf)\n",
    "- [Set up environment for exam](https://www.tensorflow.org/extras/cert/Setting_Up_TF_Developer_Certificate_Exam.pdf)"
   ]
  },
  {
   "cell_type": "code",
   "execution_count": null,
   "metadata": {},
   "outputs": [],
   "source": []
  }
 ],
 "metadata": {
  "kernelspec": {
   "display_name": "Python 3",
   "language": "python",
   "name": "python3"
  }
 },
 "nbformat": 4,
 "nbformat_minor": 2
}