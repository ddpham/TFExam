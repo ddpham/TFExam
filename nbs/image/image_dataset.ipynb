{
 "metadata": {
  "language_info": {
   "codemirror_mode": {
    "name": "ipython",
    "version": 3
   },
   "file_extension": ".py",
   "mimetype": "text/x-python",
   "name": "python",
   "nbconvert_exporter": "python",
   "pygments_lexer": "ipython3",
   "version": 3
  },
  "orig_nbformat": 2
 },
 "nbformat": 4,
 "nbformat_minor": 2,
 "cells": [
  {
   "source": [
    "# Mục Đích\n",
    "> Trong phần này chúng ta sẽ cùng đi qua các phương thức để tạo được dataset của tensorflow, bao gồm:\n",
    "> 1. Load dữ liệu có sẵn của tensorflow_datasets\n",
    "> 2. Load dữ liệu từ folder\n",
    "> 3. Load dữ liệu từ file excel"
   ],
   "cell_type": "markdown",
   "metadata": {}
  }
 ]
}