{
 "cells": [
  {
   "cell_type": "markdown",
   "id": "963176b5",
   "metadata": {},
   "source": [
    "# Mục Đích\n",
    "> Trong phần này chúng ta sẽ học chi tiết hơn về RNN (recurrent neural network) cho dữ liệu dạng sequences (words sau khi đã được tokenize). Và kiến trúc kinh điển của RNN là LSTM (long-short term memory)."
   ]
  },
  {
   "cell_type": "code",
   "execution_count": null,
   "id": "6f86c030",
   "metadata": {},
   "outputs": [],
   "source": [
    "import tensorflow as tf\n",
    "import tensorflow.keras as keras\n",
    "import tensorflow.keras.preprocessing.text as text\n",
    "import tensorflow.keras.preprocessing.sequence as sequence\n",
    "import tensorflow_datasets as tfds\n",
    "import matplotlib.pyplot as plt\n",
    "import numpy as np\n",
    "import json"
   ]
  },
  {
   "cell_type": "code",
   "execution_count": null,
   "id": "87672097-2a7f-4bfd-8487-72b53cad97d4",
   "metadata": {},
   "outputs": [
    {
     "data": {
      "text/plain": [
       "'2.5.0'"
      ]
     },
     "execution_count": null,
     "metadata": {},
     "output_type": "execute_result"
    }
   ],
   "source": [
    "tf.__version__"
   ]
  },
  {
   "cell_type": "code",
   "execution_count": null,
   "id": "eb5ba10a-ac1f-4beb-9424-d9c70469dd05",
   "metadata": {},
   "outputs": [
    {
     "data": {
      "text/plain": [
       "[PhysicalDevice(name='/physical_device:GPU:0', device_type='GPU')]"
      ]
     },
     "execution_count": null,
     "metadata": {},
     "output_type": "execute_result"
    }
   ],
   "source": [
    "tf.config.experimental.list_physical_devices('GPU')"
   ]
  },
  {
   "cell_type": "code",
   "execution_count": null,
   "id": "b7094590",
   "metadata": {},
   "outputs": [
    {
     "name": "stdout",
     "output_type": "stream",
     "text": [
      "00_Tokenization.ipynb\t 02_RNN.ipynb  sarcasm_meta.tsv     vectors.tsv\n",
      "01_Word_Embedding.ipynb  meta.tsv      sarcasm_vectors.tsv  word_projector.jpg\n"
     ]
    }
   ],
   "source": [
    "!ls"
   ]
  },
  {
   "cell_type": "markdown",
   "id": "6059b637",
   "metadata": {},
   "source": [
    "# Load Dữ liệu\n",
    "> Chúng ta vẫn sẽ sử dụng dữ liệu Sarcasm cho vị dụ về RNN và LSTMs ở đây."
   ]
  },
  {
   "cell_type": "code",
   "execution_count": null,
   "id": "1a0b1571",
   "metadata": {},
   "outputs": [],
   "source": [
    "file_name = '/home/ddpham/git/TFExam/data/Sarcasm_Headlines_Dataset.json'\n",
    "sentences = []\n",
    "labels = []\n",
    "with open(file_name, 'r') as file:\n",
    "    for line in file.readlines():\n",
    "        data = json.loads(line)\n",
    "        sentences.append(data['headline'])\n",
    "        labels.append(data['is_sarcastic'])\n",
    "file.close()"
   ]
  },
  {
   "cell_type": "code",
   "execution_count": null,
   "id": "78471950",
   "metadata": {},
   "outputs": [
    {
     "data": {
      "text/plain": [
       "26709"
      ]
     },
     "execution_count": null,
     "metadata": {},
     "output_type": "execute_result"
    }
   ],
   "source": [
    "len(sentences)"
   ]
  },
  {
   "cell_type": "markdown",
   "id": "dc30685e",
   "metadata": {},
   "source": [
    "# Tokenizer"
   ]
  },
  {
   "cell_type": "code",
   "execution_count": null,
   "id": "c03077c0",
   "metadata": {},
   "outputs": [
    {
     "data": {
      "text/plain": [
       "((20000, 20), (6709, 20))"
      ]
     },
     "execution_count": null,
     "metadata": {},
     "output_type": "execute_result"
    }
   ],
   "source": [
    "# Tokenize:\n",
    "num_words = 1000\n",
    "oov_tok = 'UNK'\n",
    "train_size = 20000\n",
    "\n",
    "tokenizer = text.Tokenizer(num_words=num_words, oov_token=oov_tok)\n",
    "train_sentences = sentences[:train_size]\n",
    "valid_sentences = sentences[train_size:]\n",
    "train_labels = np.array(labels[:train_size])\n",
    "valid_labels = np.array(labels[train_size:])\n",
    "\n",
    "tokenizer.fit_on_texts(train_sentences)\n",
    "word_index = tokenizer.word_index\n",
    "train_sequences = tokenizer.texts_to_sequences(train_sentences)\n",
    "valid_sequences = tokenizer.texts_to_sequences(valid_sentences)\n",
    "\n",
    "# Pad:\n",
    "max_len = 20\n",
    "embed_dim = 16\n",
    "pad_type = 'post'\n",
    "trunc_type = 'post'\n",
    "\n",
    "train_sequences = sequence.pad_sequences(train_sequences, maxlen=max_len, padding=pad_type, truncating=trunc_type)\n",
    "valid_sequences = sequence.pad_sequences(valid_sequences, maxlen=max_len, padding=pad_type, truncating=trunc_type)\n",
    "train_sequences.shape, valid_sequences.shape"
   ]
  },
  {
   "cell_type": "markdown",
   "id": "a3e21a1d",
   "metadata": {},
   "source": [
    "# Tạo model\n",
    "> Chúng ta sẽ sử dụng model với LSTM bằng cách kết hợp giữa `Bidirectional` và `LSTM`. Lưu ý, Bidirectional chỉ là vỏ bọc của LSTM để hỗ trợ việc tạo ra sequence_processing, thỏa mãn các điều kiện về  sử dụng historical states của RNN hay LSTMs."
   ]
  },
  {
   "cell_type": "code",
   "execution_count": null,
   "id": "cef0663e",
   "metadata": {},
   "outputs": [
    {
     "name": "stdout",
     "output_type": "stream",
     "text": [
      "Model: \"sequential\"\n",
      "_________________________________________________________________\n",
      "Layer (type)                 Output Shape              Param #   \n",
      "=================================================================\n",
      "embedding (Embedding)        (None, 20, 16)            16000     \n",
      "_________________________________________________________________\n",
      "bidirectional (Bidirectional (None, 40)                5920      \n",
      "_________________________________________________________________\n",
      "dense (Dense)                (None, 20)                820       \n",
      "_________________________________________________________________\n",
      "dense_1 (Dense)              (None, 1)                 21        \n",
      "=================================================================\n",
      "Total params: 22,761\n",
      "Trainable params: 22,761\n",
      "Non-trainable params: 0\n",
      "_________________________________________________________________\n"
     ]
    }
   ],
   "source": [
    "model = keras.Sequential([\n",
    "    keras.layers.Embedding(num_words, embed_dim, input_length=max_len)\n",
    "    , keras.layers.Bidirectional(keras.layers.LSTM(max_len))\n",
    "    , keras.layers.Dense(max_len, activation='relu')\n",
    "    , keras.layers.Dense(1, activation='sigmoid')\n",
    "])\n",
    "model.compile(optimizer='adam', loss='binary_crossentropy', metrics='accuracy')\n",
    "model.summary()"
   ]
  },
  {
   "cell_type": "code",
   "execution_count": null,
   "id": "563840cc",
   "metadata": {},
   "outputs": [
    {
     "name": "stdout",
     "output_type": "stream",
     "text": [
      "Epoch 1/10\n",
      "625/625 [==============================] - 7s 8ms/step - loss: 0.5476 - accuracy: 0.7019 - val_loss: 0.4066 - val_accuracy: 0.8100\n",
      "Epoch 2/10\n",
      "625/625 [==============================] - 4s 7ms/step - loss: 0.3514 - accuracy: 0.8372 - val_loss: 0.3759 - val_accuracy: 0.8258\n",
      "Epoch 3/10\n",
      "625/625 [==============================] - 4s 6ms/step - loss: 0.3172 - accuracy: 0.8592 - val_loss: 0.3881 - val_accuracy: 0.8211\n",
      "Epoch 4/10\n",
      "625/625 [==============================] - 4s 6ms/step - loss: 0.3021 - accuracy: 0.8668 - val_loss: 0.3854 - val_accuracy: 0.8290\n",
      "Epoch 5/10\n",
      "625/625 [==============================] - 4s 6ms/step - loss: 0.2962 - accuracy: 0.8672 - val_loss: 0.3750 - val_accuracy: 0.8341\n",
      "Epoch 6/10\n",
      "625/625 [==============================] - 4s 6ms/step - loss: 0.2724 - accuracy: 0.8832 - val_loss: 0.3799 - val_accuracy: 0.8316\n",
      "Epoch 7/10\n",
      "625/625 [==============================] - 4s 7ms/step - loss: 0.2788 - accuracy: 0.8790 - val_loss: 0.3911 - val_accuracy: 0.8334\n",
      "Epoch 8/10\n",
      "625/625 [==============================] - 5s 8ms/step - loss: 0.2543 - accuracy: 0.8922 - val_loss: 0.3795 - val_accuracy: 0.8295\n",
      "Epoch 9/10\n",
      "625/625 [==============================] - 4s 6ms/step - loss: 0.2468 - accuracy: 0.8961 - val_loss: 0.3886 - val_accuracy: 0.8323\n",
      "Epoch 10/10\n",
      "625/625 [==============================] - 4s 6ms/step - loss: 0.2466 - accuracy: 0.8962 - val_loss: 0.4052 - val_accuracy: 0.8252\n"
     ]
    },
    {
     "data": {
      "text/plain": [
       "<tensorflow.python.keras.callbacks.History at 0x7f9a160b6a60>"
      ]
     },
     "execution_count": null,
     "metadata": {},
     "output_type": "execute_result"
    }
   ],
   "source": [
    "epochs=10\n",
    "model.fit(train_sequences, train_labels, epochs=epochs, validation_data=(valid_sequences, valid_labels))"
   ]
  },
  {
   "cell_type": "markdown",
   "id": "8f88338b",
   "metadata": {},
   "source": [
    "Chúng ta có thể thấy, chỉ với 2 epochs thôi mà kết quả đã tốt hơn so với kết quả trong phần trước (Word-Embedding)."
   ]
  },
  {
   "cell_type": "markdown",
   "id": "07cff94f-f522-468e-9ecb-d35e7c73875d",
   "metadata": {},
   "source": [
    "Chúng ta cũng có thể tạo thêm 1 Bidirectial layers phía sau 1 Bidirectional được. Hãy thử với tình huống này:"
   ]
  },
  {
   "cell_type": "code",
   "execution_count": null,
   "id": "ce930b44-c6d6-4584-b334-41e946a09f73",
   "metadata": {},
   "outputs": [
    {
     "name": "stdout",
     "output_type": "stream",
     "text": [
      "Model: \"sequential_1\"\n",
      "_________________________________________________________________\n",
      "Layer (type)                 Output Shape              Param #   \n",
      "=================================================================\n",
      "embedding_1 (Embedding)      (None, 20, 16)            16000     \n",
      "_________________________________________________________________\n",
      "bidirectional_1 (Bidirection (None, 20, 40)            5920      \n",
      "_________________________________________________________________\n",
      "bidirectional_2 (Bidirection (None, 20)                4080      \n",
      "_________________________________________________________________\n",
      "dense_2 (Dense)              (None, 10)                210       \n",
      "_________________________________________________________________\n",
      "dense_3 (Dense)              (None, 1)                 11        \n",
      "=================================================================\n",
      "Total params: 26,221\n",
      "Trainable params: 26,221\n",
      "Non-trainable params: 0\n",
      "_________________________________________________________________\n"
     ]
    }
   ],
   "source": [
    "model = keras.Sequential([\n",
    "    keras.layers.Embedding(num_words, embed_dim, input_length=20),\n",
    "    # Để có thêm 1 layer nữa của Bidirectional, chúng ta phải thêm return_sequences=T trong LSTM:\n",
    "    keras.layers.Bidirectional(keras.layers.LSTM(20, return_sequences=True)), \n",
    "    keras.layers.Bidirectional(keras.layers.LSTM(10)),\n",
    "    keras.layers.Dense(10, activation='relu'),\n",
    "    keras.layers.Dense(1, activation='sigmoid')\n",
    "])\n",
    "model.compile(optimizer='rmsprop', loss='binary_crossentropy', metrics=['accuracy'])\n",
    "model.summary()"
   ]
  },
  {
   "cell_type": "code",
   "execution_count": null,
   "id": "869b1f86-d24e-48bf-a47a-662fdf29934d",
   "metadata": {},
   "outputs": [
    {
     "name": "stdout",
     "output_type": "stream",
     "text": [
      "Epoch 1/10\n",
      "625/625 [==============================] - 89s 136ms/step - loss: 0.5358 - accuracy: 0.7094 - val_loss: 0.3967 - val_accuracy: 0.8174\n",
      "Epoch 2/10\n",
      "625/625 [==============================] - 83s 133ms/step - loss: 0.3714 - accuracy: 0.8317 - val_loss: 0.3880 - val_accuracy: 0.8235\n",
      "Epoch 3/10\n",
      "625/625 [==============================] - 81s 129ms/step - loss: 0.3572 - accuracy: 0.8376 - val_loss: 0.3862 - val_accuracy: 0.8272\n",
      "Epoch 4/10\n",
      "625/625 [==============================] - 82s 131ms/step - loss: 0.3456 - accuracy: 0.8424 - val_loss: 0.3795 - val_accuracy: 0.8274\n",
      "Epoch 5/10\n",
      "625/625 [==============================] - 82s 131ms/step - loss: 0.3376 - accuracy: 0.8468 - val_loss: 0.3946 - val_accuracy: 0.8155\n",
      "Epoch 6/10\n",
      "625/625 [==============================] - 66s 105ms/step - loss: 0.3271 - accuracy: 0.8524 - val_loss: 0.3784 - val_accuracy: 0.8295\n",
      "Epoch 7/10\n",
      "625/625 [==============================] - 58s 92ms/step - loss: 0.3207 - accuracy: 0.8567 - val_loss: 0.3718 - val_accuracy: 0.8362\n",
      "Epoch 8/10\n",
      "625/625 [==============================] - 58s 93ms/step - loss: 0.3095 - accuracy: 0.8630 - val_loss: 0.3762 - val_accuracy: 0.8375\n",
      "Epoch 9/10\n",
      "625/625 [==============================] - 62s 99ms/step - loss: 0.3079 - accuracy: 0.8632 - val_loss: 0.3767 - val_accuracy: 0.8335\n",
      "Epoch 10/10\n",
      "625/625 [==============================] - 59s 94ms/step - loss: 0.2959 - accuracy: 0.8674 - val_loss: 0.3830 - val_accuracy: 0.8310\n"
     ]
    },
    {
     "data": {
      "text/plain": [
       "<tensorflow.python.keras.callbacks.History at 0x7ff7d42ba3d0>"
      ]
     },
     "execution_count": null,
     "metadata": {},
     "output_type": "execute_result"
    }
   ],
   "source": [
    "epochs = 10\n",
    "model.fit(train_sequences, train_labels, epochs=epochs, validation_data=(valid_sequences, valid_labels))"
   ]
  },
  {
   "cell_type": "markdown",
   "id": "da54ba7c-30cd-40bb-a7a0-04e26a7300c2",
   "metadata": {},
   "source": [
    "Với kết quả ở trên, chúng ta có thể thấy khoảng cách giữa accuracy của tập train và valid được thu hẹp lại đáng kể, cho thấy mức độ overfit của model được giảm đi."
   ]
  },
  {
   "cell_type": "markdown",
   "id": "4bc82bbd",
   "metadata": {},
   "source": [
    "## Subword Tokenizer\n",
    "> Trong bài trước chúng ta cũng có đề cập về subword tokenizer, tuy nhiên chưa thực hiện. Ở đây chúng ta sẽ bàn về subword tokenizer nhiều hơn. Subword tokenizer được áp dụng cho phương pháp BERT.\n",
    "\n",
    "Để sử dụng được subwork tokenizer, chúng ta cần cài đặt tensorflow-text."
   ]
  },
  {
   "cell_type": "code",
   "execution_count": null,
   "id": "32cb36a8",
   "metadata": {},
   "outputs": [],
   "source": [
    "# !pip install tensorflow-text"
   ]
  },
  {
   "cell_type": "code",
   "execution_count": null,
   "id": "c5c5b2bd",
   "metadata": {},
   "outputs": [],
   "source": [
    "import tensorflow_text as tftext"
   ]
  },
  {
   "cell_type": "code",
   "execution_count": null,
   "id": "07a538ea-9ccb-4d0c-b29b-275b3d9e4303",
   "metadata": {},
   "outputs": [
    {
     "data": {
      "text/plain": [
       "['BertTokenizer',\n",
       " 'Detokenizer',\n",
       " 'FirstNItemSelector',\n",
       " 'HubModuleSplitter',\n",
       " 'HubModuleTokenizer',\n",
       " 'MaskValuesChooser',\n",
       " 'RandomItemSelector',\n",
       " 'Reduction',\n",
       " 'RegexSplitter',\n",
       " 'RoundRobinTrimmer',\n",
       " 'SentencepieceTokenizer',\n",
       " 'SplitMergeFromLogitsTokenizer',\n",
       " 'SplitMergeTokenizer',\n",
       " 'Splitter',\n",
       " 'StateBasedSentenceBreaker',\n",
       " 'Tokenizer',\n",
       " 'TokenizerWithOffsets',\n",
       " 'UnicodeCharTokenizer',\n",
       " 'UnicodeScriptTokenizer',\n",
       " 'WaterfallTrimmer',\n",
       " 'WhitespaceTokenizer',\n",
       " 'WordShape',\n",
       " 'WordpieceTokenizer',\n",
       " '__builtins__',\n",
       " '__cached__',\n",
       " '__doc__',\n",
       " '__file__',\n",
       " '__loader__',\n",
       " '__name__',\n",
       " '__package__',\n",
       " '__path__',\n",
       " '__spec__',\n",
       " '_allowed_symbols',\n",
       " 'case_fold_utf8',\n",
       " 'coerce_to_structurally_valid_utf8',\n",
       " 'combine_segments',\n",
       " 'find_source_offsets',\n",
       " 'gather_with_default',\n",
       " 'greedy_constrained_sequence',\n",
       " 'keras',\n",
       " 'mask_language_model',\n",
       " 'max_spanning_tree',\n",
       " 'max_spanning_tree_gradient',\n",
       " 'metrics',\n",
       " 'ngrams',\n",
       " 'normalize_utf8',\n",
       " 'normalize_utf8_with_offsets_map',\n",
       " 'pad_along_dimension',\n",
       " 'pad_model_inputs',\n",
       " 'regex_split',\n",
       " 'regex_split_with_offsets',\n",
       " 'sentence_fragments',\n",
       " 'sliding_window',\n",
       " 'span_alignment',\n",
       " 'span_overlaps',\n",
       " 'viterbi_constrained_sequence',\n",
       " 'wordshape']"
      ]
     },
     "execution_count": null,
     "metadata": {},
     "output_type": "execute_result"
    }
   ],
   "source": [
    "dir(tftext)"
   ]
  },
  {
   "cell_type": "markdown",
   "id": "208b459e-404b-4a05-a7c3-4dba138d9e1f",
   "metadata": {},
   "source": [
    "Hiện tại mình đang bị lỗi này với WSL của Windows mà chưa thể sửa được khi sử dụng cả tensorflow-gpu và tensorflow-text. Nếu mình chỉ cài tensorflow thì sẽ không thể dùng được gpu, nhưng lại dùng được tensorflow_text. Còn nếu cài tensorflow-gpu thì sẽ dùng được GPU, nhưng ko sài được tensorflow_text. Đây là vấn đề với WSL ở thời điểm hiện tại mà chưa thể xử lý được.\n",
    "\n",
    "Chúng ta sẽ dùng tool khác để sử lý bài toán về subword-tokenizer này. Hoặc thay vì tự làm, chúng ta có thể sử dụng luôn dữ liệu đã có sẵn rồi."
   ]
  },
  {
   "cell_type": "code",
   "execution_count": null,
   "id": "e986df21-c224-4e6c-8d3d-511bb81d930d",
   "metadata": {},
   "outputs": [
    {
     "data": {
      "text/plain": [
       "\u001b[0;31mInit signature:\u001b[0m\n",
       "\u001b[0mtftext\u001b[0m\u001b[0;34m.\u001b[0m\u001b[0mBertTokenizer\u001b[0m\u001b[0;34m(\u001b[0m\u001b[0;34m\u001b[0m\n",
       "\u001b[0;34m\u001b[0m    \u001b[0mvocab_lookup_table\u001b[0m\u001b[0;34m,\u001b[0m\u001b[0;34m\u001b[0m\n",
       "\u001b[0;34m\u001b[0m    \u001b[0msuffix_indicator\u001b[0m\u001b[0;34m=\u001b[0m\u001b[0;34m'##'\u001b[0m\u001b[0;34m,\u001b[0m\u001b[0;34m\u001b[0m\n",
       "\u001b[0;34m\u001b[0m    \u001b[0mmax_bytes_per_word\u001b[0m\u001b[0;34m=\u001b[0m\u001b[0;36m100\u001b[0m\u001b[0;34m,\u001b[0m\u001b[0;34m\u001b[0m\n",
       "\u001b[0;34m\u001b[0m    \u001b[0mmax_chars_per_token\u001b[0m\u001b[0;34m=\u001b[0m\u001b[0;32mNone\u001b[0m\u001b[0;34m,\u001b[0m\u001b[0;34m\u001b[0m\n",
       "\u001b[0;34m\u001b[0m    \u001b[0mtoken_out_type\u001b[0m\u001b[0;34m=\u001b[0m\u001b[0mtf\u001b[0m\u001b[0;34m.\u001b[0m\u001b[0mint64\u001b[0m\u001b[0;34m,\u001b[0m\u001b[0;34m\u001b[0m\n",
       "\u001b[0;34m\u001b[0m    \u001b[0munknown_token\u001b[0m\u001b[0;34m=\u001b[0m\u001b[0;34m'[UNK]'\u001b[0m\u001b[0;34m,\u001b[0m\u001b[0;34m\u001b[0m\n",
       "\u001b[0;34m\u001b[0m    \u001b[0msplit_unknown_characters\u001b[0m\u001b[0;34m=\u001b[0m\u001b[0;32mFalse\u001b[0m\u001b[0;34m,\u001b[0m\u001b[0;34m\u001b[0m\n",
       "\u001b[0;34m\u001b[0m    \u001b[0mlower_case\u001b[0m\u001b[0;34m=\u001b[0m\u001b[0;32mFalse\u001b[0m\u001b[0;34m,\u001b[0m\u001b[0;34m\u001b[0m\n",
       "\u001b[0;34m\u001b[0m    \u001b[0mkeep_whitespace\u001b[0m\u001b[0;34m=\u001b[0m\u001b[0;32mFalse\u001b[0m\u001b[0;34m,\u001b[0m\u001b[0;34m\u001b[0m\n",
       "\u001b[0;34m\u001b[0m    \u001b[0mnormalization_form\u001b[0m\u001b[0;34m=\u001b[0m\u001b[0;32mNone\u001b[0m\u001b[0;34m,\u001b[0m\u001b[0;34m\u001b[0m\n",
       "\u001b[0;34m\u001b[0m    \u001b[0mpreserve_unused_token\u001b[0m\u001b[0;34m=\u001b[0m\u001b[0;32mFalse\u001b[0m\u001b[0;34m,\u001b[0m\u001b[0;34m\u001b[0m\n",
       "\u001b[0;34m\u001b[0m    \u001b[0mbasic_tokenizer_class\u001b[0m\u001b[0;34m=\u001b[0m\u001b[0;34m<\u001b[0m\u001b[0;32mclass\u001b[0m \u001b[0;34m'tensorflow_text.python.ops.bert_tokenizer.BasicTokenizer'\u001b[0m\u001b[0;34m>\u001b[0m\u001b[0;34m,\u001b[0m\u001b[0;34m\u001b[0m\n",
       "\u001b[0;34m\u001b[0m\u001b[0;34m)\u001b[0m\u001b[0;34m\u001b[0m\u001b[0;34m\u001b[0m\u001b[0m\n",
       "\u001b[0;31mDocstring:\u001b[0m     \n",
       "Tokenizer used for BERT.\n",
       "\n",
       "  This tokenizer applies an end-to-end, text string to wordpiece tokenization.\n",
       "  It first applies basic tokenization, and then followed by wordpiece\n",
       "  tokenization.\n",
       "\n",
       "  See `WordpieceTokenizer` for details on the subword tokenization.\n",
       "\n",
       "Attributes:\n",
       "  vocab_lookup_table: A lookup table implementing the LookupInterface\n",
       "    containing the vocabulary of subwords or a string which is the file path\n",
       "    to the vocab.txt file.\n",
       "  suffix_indicator: (optional) The characters prepended to a wordpiece to\n",
       "    indicate that it is a suffix to another subword. Default is '##'.\n",
       "  max_bytes_per_word: (optional) Max size of input token. Default is 100.\n",
       "  max_chars_per_token: (optional) Max size of subwords, excluding suffix\n",
       "    indicator. If known, providing this improves the efficiency of decoding\n",
       "    long words.\n",
       "  token_out_type: (optional) The type of the token to return. This can be\n",
       "    `tf.int64` IDs, or `tf.string` subwords. The default is `tf.int64`.\n",
       "  unknown_token: (optional) The value to use when an unknown token is found.\n",
       "    Default is \"[UNK]\". If this is set to a string, and `token_out_type` is\n",
       "    `tf.int64`, the `vocab_lookup_table` is used to convert the\n",
       "    `unknown_token` to an integer. If this is set to `None`, out-of-vocabulary\n",
       "    tokens are left as is.\n",
       "  split_unknown_characters: (optional) Whether to split out single unknown\n",
       "    characters as subtokens. If False (default), words containing unknown\n",
       "    characters will be treated as single unknown tokens.\n",
       "  lower_case: bool - If true, a preprocessing step is added to lowercase the\n",
       "    text, apply NFD normalization, and strip accents characters.\n",
       "  keep_whitespace: bool - If true, preserves whitespace characters instead of\n",
       "    stripping them away.\n",
       "  normalization_form: If true and lower_case=False, the input text will be\n",
       "    normalized to `normalization_form`. See normalize_utf8() op for a list of\n",
       "    valid values.\n",
       "  preserve_unused_token: If true, text in the regex format `\\\\[unused\\\\d+\\\\]`\n",
       "    will be treated as a token and thus remain preserved as is to be looked up\n",
       "    in the vocabulary.\n",
       "  basic_tokenizer_class: If set, the class to use instead of BasicTokenizer\n",
       "\u001b[0;31mFile:\u001b[0m           ~/miniconda3/envs/tf/lib/python3.8/site-packages/tensorflow_text/python/ops/bert_tokenizer.py\n",
       "\u001b[0;31mType:\u001b[0m           type\n",
       "\u001b[0;31mSubclasses:\u001b[0m     \n"
      ]
     },
     "metadata": {},
     "output_type": "display_data"
    }
   ],
   "source": [
    "?tftext.BertTokenizer"
   ]
  },
  {
   "cell_type": "markdown",
   "id": "3a40365c-3b83-4c90-8773-cacb7a5a333f",
   "metadata": {},
   "source": [
    "### Sử dụng dữ liệu imdb_subword\n",
    "> Dữ liệu review phim đã được tokenizer dưới dạng subword. "
   ]
  },
  {
   "cell_type": "code",
   "execution_count": null,
   "id": "fa619d30-0a88-4aec-a6e6-df477ab20f5f",
   "metadata": {},
   "outputs": [
    {
     "name": "stderr",
     "output_type": "stream",
     "text": [
      "WARNING:absl:TFDS datasets with text encoding are deprecated and will be removed in a future version. Instead, you should use the plain text version and tokenize the text using `tensorflow_text` (See: https://www.tensorflow.org/tutorials/tensorflow_text/intro#tfdata_example)\n"
     ]
    }
   ],
   "source": [
    "# sử dụng review 8k:\n",
    "dataset, info = tfds.load('imdb_reviews/subwords8k', with_info=True, as_supervised=True)"
   ]
  },
  {
   "cell_type": "code",
   "execution_count": null,
   "id": "463b5aaf-8d4f-4f54-b79b-70fa36516634",
   "metadata": {},
   "outputs": [],
   "source": [
    "train_ds, valid_ds = dataset['train'], dataset['test']"
   ]
  },
  {
   "cell_type": "code",
   "execution_count": null,
   "id": "3e1f9202-6482-4ef5-88e2-a80af56beda5",
   "metadata": {},
   "outputs": [],
   "source": [
    "tokenizer_imdb = info.features['text'].encoder"
   ]
  },
  {
   "cell_type": "code",
   "execution_count": null,
   "id": "0d8f8def-5ac7-41ad-80bb-47caf16bbc5b",
   "metadata": {},
   "outputs": [],
   "source": [
    "BUFFER_SIZE = 10000\n",
    "BATCH_SIZE = 64\n",
    "\n",
    "train_ds = train_ds.shuffle(BUFFER_SIZE)\n",
    "train_ds = train_ds.padded_batch(BATCH_SIZE, tf.compat.v1.data.get_output_shapes(train_ds))\n",
    "valid_ds = valid_ds.padded_batch(BATCH_SIZE, tf.compat.v1.data.get_output_shapes(valid_ds))"
   ]
  },
  {
   "cell_type": "code",
   "execution_count": null,
   "id": "4a7a07c7-7096-47a5-9738-438f8dd7d9d4",
   "metadata": {},
   "outputs": [
    {
     "name": "stdout",
     "output_type": "stream",
     "text": [
      "Model: \"sequential_7\"\n",
      "_________________________________________________________________\n",
      "Layer (type)                 Output Shape              Param #   \n",
      "=================================================================\n",
      "embedding_7 (Embedding)      (None, None, 64)          523840    \n",
      "_________________________________________________________________\n",
      "bidirectional_2 (Bidirection (None, None, 128)         66048     \n",
      "_________________________________________________________________\n",
      "bidirectional_3 (Bidirection (None, 64)                41216     \n",
      "_________________________________________________________________\n",
      "dense_14 (Dense)             (None, 20)                1300      \n",
      "_________________________________________________________________\n",
      "dense_15 (Dense)             (None, 1)                 21        \n",
      "=================================================================\n",
      "Total params: 632,425\n",
      "Trainable params: 632,425\n",
      "Non-trainable params: 0\n",
      "_________________________________________________________________\n"
     ]
    }
   ],
   "source": [
    "model = keras.Sequential([\n",
    "    keras.layers.Embedding(tokenizer_imdb.vocab_size, 64),\n",
    "    keras.layers.Bidirectional(keras.layers.LSTM(64, return_sequences=True)),\n",
    "    keras.layers.Bidirectional(keras.layers.LSTM(32)),\n",
    "    keras.layers.Dense(20, activation='relu'),\n",
    "    keras.layers.Dense(1, activation='sigmoid')\n",
    "])\n",
    "model.compile(optimizer='rmsprop', loss='binary_crossentropy', metrics=['accuracy'])\n",
    "model.summary()"
   ]
  },
  {
   "cell_type": "code",
   "execution_count": null,
   "id": "fe0ef970-0238-4922-ab77-c7d0f56dfe7b",
   "metadata": {},
   "outputs": [
    {
     "name": "stdout",
     "output_type": "stream",
     "text": [
      "Epoch 1/5\n",
      "391/391 [==============================] - 1329s 3s/step - loss: 0.5256 - accuracy: 0.7330 - val_loss: 0.5824 - val_accuracy: 0.7506\n",
      "Epoch 2/5\n",
      "391/391 [==============================] - 1302s 3s/step - loss: 0.3503 - accuracy: 0.8558 - val_loss: 0.4820 - val_accuracy: 0.8098\n",
      "Epoch 3/5\n",
      "391/391 [==============================] - 1313s 3s/step - loss: 0.2942 - accuracy: 0.8845 - val_loss: 0.4432 - val_accuracy: 0.8062\n",
      "Epoch 4/5\n",
      "391/391 [==============================] - 1309s 3s/step - loss: 0.2513 - accuracy: 0.9064 - val_loss: 0.4436 - val_accuracy: 0.8118\n",
      "Epoch 5/5\n",
      "391/391 [==============================] - 1317s 3s/step - loss: 0.2262 - accuracy: 0.9150 - val_loss: 0.4027 - val_accuracy: 0.8502\n"
     ]
    },
    {
     "data": {
      "text/plain": [
       "<tensorflow.python.keras.callbacks.History at 0x7f00473b6640>"
      ]
     },
     "execution_count": null,
     "metadata": {},
     "output_type": "execute_result"
    }
   ],
   "source": [
    "epochs=5\n",
    "model.fit(train_ds, epochs=epochs, validation_data=valid_ds)"
   ]
  },
  {
   "cell_type": "code",
   "execution_count": null,
   "id": "5a2c5237-af7a-4fc9-a8ae-2bd358ebbb94",
   "metadata": {},
   "outputs": [],
   "source": [
    "def plot_history(history):\n",
    "    item_dict = {'Loss': ['loss', 'val_loss'], 'Accuracy': ['accuracy', 'val_accuracy']}\n",
    "    plot_list = ['Loss', 'Accuracy']\n",
    "    plt.figure(figsize=(8, 4))\n",
    "    for i in range(len(plot_list)):\n",
    "        plt.subplot(1, 2, i+1)\n",
    "        item = plot_list[i]\n",
    "        for items in item_dict[item]:\n",
    "            plt.plot(history.history[items])\n",
    "        plt.legend(item_dict[item])\n",
    "    plt.tight_layout()"
   ]
  },
  {
   "cell_type": "code",
   "execution_count": null,
   "id": "03e85a7b-ca6d-42a5-b2b2-8f1979203865",
   "metadata": {},
   "outputs": [
    {
     "data": {
      "image/png": "[encoded data removed]",
      "text/plain": [
       "<Figure size 576x288 with 2 Axes>"
      ]
     },
     "metadata": {
      "needs_background": "light"
     },
     "output_type": "display_data"
    }
   ],
   "source": [
    "plot_history(model.history)"
   ]
  },
  {
   "cell_type": "markdown",
   "id": "c78f65e7-e727-4db6-80af-ebde16d840ab",
   "metadata": {},
   "source": [
    "## Sử dụng CNN"
   ]
  },
  {
   "cell_type": "code",
   "execution_count": null,
   "id": "e38a84b5-df5f-4031-a4be-2112d7e27573",
   "metadata": {},
   "outputs": [
    {
     "name": "stdout",
     "output_type": "stream",
     "text": [
      "Epoch 1/5\n",
      "625/625 [==============================] - 9s 15ms/step - loss: 0.5906 - accuracy: 0.6876 - val_loss: 0.4658 - val_accuracy: 0.7827\n",
      "Epoch 2/5\n",
      "625/625 [==============================] - 9s 14ms/step - loss: 0.4145 - accuracy: 0.8120 - val_loss: 0.4107 - val_accuracy: 0.8122\n",
      "Epoch 3/5\n",
      "625/625 [==============================] - 9s 14ms/step - loss: 0.3807 - accuracy: 0.8263 - val_loss: 0.4022 - val_accuracy: 0.8164\n",
      "Epoch 4/5\n",
      "625/625 [==============================] - 9s 14ms/step - loss: 0.3690 - accuracy: 0.8346 - val_loss: 0.4045 - val_accuracy: 0.8141\n",
      "Epoch 5/5\n",
      "625/625 [==============================] - 9s 14ms/step - loss: 0.3630 - accuracy: 0.8364 - val_loss: 0.4083 - val_accuracy: 0.8062\n"
     ]
    },
    {
     "data": {
      "text/plain": [
       "<tensorflow.python.keras.callbacks.History at 0x7f00473e5dc0>"
      ]
     },
     "execution_count": null,
     "metadata": {},
     "output_type": "execute_result"
    }
   ],
   "source": [
    "# Với model này, chúng ta sẽ sử dụng lại dữ liệu sarcasm:\n",
    "model = keras.Sequential([\n",
    "    keras.layers.Embedding(num_words, embed_dim, input_length=max_len),\n",
    "    keras.layers.GlobalAveragePooling1D(), #default: pooling_size=2 \n",
    "    keras.layers.Flatten(),\n",
    "    keras.layers.Dense(24, activation='relu'),\n",
    "    keras.layers.Dense(1, activation='sigmoid')\n",
    "])\n",
    "model.compile(optimizer='rmsprop', loss='binary_crossentropy', metrics='accuracy')\n",
    "model.fit(train_sequences, train_labels, epochs=5, validation_data=(valid_sequences, valid_labels))"
   ]
  },
  {
   "cell_type": "code",
   "execution_count": null,
   "id": "43e0cf6e-e9a2-4e5e-a85e-c7cf5da4401d",
   "metadata": {},
   "outputs": [
    {
     "data": {
      "image/png": "[encoded data removed]",
      "text/plain": [
       "<Figure size 576x288 with 2 Axes>"
      ]
     },
     "metadata": {
      "needs_background": "light"
     },
     "output_type": "display_data"
    }
   ],
   "source": [
    "plot_history(model.history)"
   ]
  },
  {
   "cell_type": "code",
   "execution_count": null,
   "id": "18171a11-7e7c-4b76-8f51-971fd5f47d04",
   "metadata": {},
   "outputs": [
    {
     "name": "stdout",
     "output_type": "stream",
     "text": [
      "Epoch 1/5\n",
      "625/625 [==============================] - 12s 15ms/step - loss: 0.4722 - accuracy: 0.7610 - val_loss: 0.3999 - val_accuracy: 0.8202\n",
      "Epoch 2/5\n",
      "625/625 [==============================] - 10s 16ms/step - loss: 0.3511 - accuracy: 0.8418 - val_loss: 0.3880 - val_accuracy: 0.8211\n",
      "Epoch 3/5\n",
      "625/625 [==============================] - 9s 15ms/step - loss: 0.3108 - accuracy: 0.8648 - val_loss: 0.3930 - val_accuracy: 0.8238\n",
      "Epoch 4/5\n",
      "625/625 [==============================] - 10s 16ms/step - loss: 0.2752 - accuracy: 0.8816 - val_loss: 0.4379 - val_accuracy: 0.8144\n",
      "Epoch 5/5\n",
      "625/625 [==============================] - 10s 16ms/step - loss: 0.2473 - accuracy: 0.8965 - val_loss: 0.4389 - val_accuracy: 0.8192\n"
     ]
    },
    {
     "data": {
      "image/png": "[encoded data removed]",
      "text/plain": [
       "<Figure size 576x288 with 2 Axes>"
      ]
     },
     "metadata": {
      "needs_background": "light"
     },
     "output_type": "display_data"
    }
   ],
   "source": [
    "model = keras.Sequential([\n",
    "    keras.layers.Embedding(num_words, embed_dim, input_length=max_len),\n",
    "    keras.layers.Conv1D(128, 5, activation='relu'),\n",
    "    keras.layers.GlobalMaxPool1D(),\n",
    "    keras.layers.Flatten(),\n",
    "    keras.layers.Dense(24, activation='relu'),\n",
    "    keras.layers.Dense(1, activation='sigmoid')\n",
    "])\n",
    "model.compile(optimizer='adam', loss='binary_crossentropy', metrics='accuracy')\n",
    "model.fit(train_sequences, train_labels, epochs=5, validation_data=(valid_sequences, valid_labels))\n",
    "plot_history(model.history)"
   ]
  },
  {
   "cell_type": "code",
   "execution_count": null,
   "id": "2cbb9296-ee6f-40fe-8533-8128f09981b1",
   "metadata": {},
   "outputs": [],
   "source": []
  }
 ],
 "metadata": {
  "kernelspec": {
   "display_name": "Python 3",
   "language": "python",
   "name": "python3"
  }
 },
 "nbformat": 4,
 "nbformat_minor": 5
}
