{
 "cells": [
  {
   "cell_type": "code",
   "execution_count": null,
   "id": "92fc2a9a",
   "metadata": {},
   "outputs": [],
   "source": [
    "import tensorflow as tf\n",
    "import tensorflow.keras as keras\n",
    "from tensorflow.keras.preprocessing import text\n",
    "from tensorflow.keras.preprocessing import sequence\n",
    "import numpy as np"
   ]
  },
  {
   "cell_type": "markdown",
   "id": "286bec0b",
   "metadata": {},
   "source": [
    "# Tokenization\n",
    "> Phần đầu tiên nhất của NLP là tokenizer/tokenization: biến đổi dữ liệu dạng NLP sang dữ liệu dạng số thông qua việc khởi tạo một tập từ điển map giữa các từ (word) với số (word_index) và bảng đếm số lần xuất hiện của các từ (word_counts)."
   ]
  },
  {
   "cell_type": "code",
   "execution_count": null,
   "id": "88202414",
   "metadata": {},
   "outputs": [],
   "source": [
    "# Ví dụ đơn giản về tokenizer:\n",
    "sentences = [\n",
    "    'I love my dog'\n",
    "    , 'I love my cat'\n",
    "]"
   ]
  },
  {
   "cell_type": "code",
   "execution_count": null,
   "id": "a3db6a5e",
   "metadata": {},
   "outputs": [],
   "source": [
    "tokenizer = text.Tokenizer(num_words=100) # sự dụng tối đa 100 tokenzers (số)"
   ]
  },
  {
   "cell_type": "code",
   "execution_count": null,
   "id": "f2561f30",
   "metadata": {},
   "outputs": [
    {
     "data": {
      "text/plain": [
       "\u001b[0;31mSignature:\u001b[0m \u001b[0mtokenizer\u001b[0m\u001b[0;34m.\u001b[0m\u001b[0mfit_on_texts\u001b[0m\u001b[0;34m(\u001b[0m\u001b[0mtexts\u001b[0m\u001b[0;34m)\u001b[0m\u001b[0;34m\u001b[0m\u001b[0;34m\u001b[0m\u001b[0m\n",
       "\u001b[0;31mDocstring:\u001b[0m\n",
       "Updates internal vocabulary based on a list of texts.\n",
       "\n",
       "In the case where texts contains lists,\n",
       "we assume each entry of the lists to be a token.\n",
       "\n",
       "Required before using `texts_to_sequences` or `texts_to_matrix`.\n",
       "\n",
       "# Arguments\n",
       "    texts: can be a list of strings,\n",
       "        a generator of strings (for memory-efficiency),\n",
       "        or a list of list of strings.\n",
       "\u001b[0;31mFile:\u001b[0m      ~/miniconda3/envs/tf/lib/python3.8/site-packages/keras_preprocessing/text.py\n",
       "\u001b[0;31mType:\u001b[0m      method\n"
      ]
     },
     "metadata": {},
     "output_type": "display_data"
    }
   ],
   "source": [
    "?tokenizer.fit_on_texts"
   ]
  },
  {
   "cell_type": "code",
   "execution_count": null,
   "id": "a9254e60",
   "metadata": {},
   "outputs": [],
   "source": [
    "# Tokenize texts:\n",
    "tokenizer.fit_on_texts(sentences)"
   ]
  },
  {
   "cell_type": "code",
   "execution_count": null,
   "id": "6cbbff02",
   "metadata": {},
   "outputs": [
    {
     "name": "stdout",
     "output_type": "stream",
     "text": [
      "{'i': 1, 'love': 2, 'my': 3, 'dog': 4, 'cat': 5}\n"
     ]
    }
   ],
   "source": [
    "word_index = tokenizer.word_index\n",
    "print(word_index)"
   ]
  },
  {
   "cell_type": "code",
   "execution_count": null,
   "id": "ec5ea796",
   "metadata": {},
   "outputs": [
    {
     "data": {
      "text/plain": [
       "['I love my dog', 'I love my cat', 'You love my dog!']"
      ]
     },
     "execution_count": null,
     "metadata": {},
     "output_type": "execute_result"
    }
   ],
   "source": [
    "# Thêm câu vào danh sách:\n",
    "sentences.append(\"You love my dog!\")\n",
    "sentences"
   ]
  },
  {
   "cell_type": "code",
   "execution_count": null,
   "id": "f5bccaab",
   "metadata": {},
   "outputs": [],
   "source": [
    "# Tokenize tiếp để thêm vào từ điển từ mới.\n",
    "tokenizer.fit_on_texts(sentences)"
   ]
  },
  {
   "cell_type": "code",
   "execution_count": null,
   "id": "3a94866e",
   "metadata": {},
   "outputs": [
    {
     "name": "stdout",
     "output_type": "stream",
     "text": [
      "{'love': 1, 'my': 2, 'i': 3, 'dog': 4, 'cat': 5, 'you': 6}\n"
     ]
    }
   ],
   "source": [
    "print(tokenizer.word_index)"
   ]
  },
  {
   "cell_type": "code",
   "execution_count": null,
   "id": "a440a862",
   "metadata": {},
   "outputs": [
    {
     "data": {
      "text/plain": [
       "['__class__',\n",
       " '__delattr__',\n",
       " '__dict__',\n",
       " '__dir__',\n",
       " '__doc__',\n",
       " '__eq__',\n",
       " '__format__',\n",
       " '__ge__',\n",
       " '__getattribute__',\n",
       " '__gt__',\n",
       " '__hash__',\n",
       " '__init__',\n",
       " '__init_subclass__',\n",
       " '__le__',\n",
       " '__lt__',\n",
       " '__module__',\n",
       " '__ne__',\n",
       " '__new__',\n",
       " '__reduce__',\n",
       " '__reduce_ex__',\n",
       " '__repr__',\n",
       " '__setattr__',\n",
       " '__sizeof__',\n",
       " '__str__',\n",
       " '__subclasshook__',\n",
       " '__weakref__',\n",
       " '_keras_api_names',\n",
       " '_keras_api_names_v1',\n",
       " 'char_level',\n",
       " 'document_count',\n",
       " 'filters',\n",
       " 'fit_on_sequences',\n",
       " 'fit_on_texts',\n",
       " 'get_config',\n",
       " 'index_docs',\n",
       " 'index_word',\n",
       " 'lower',\n",
       " 'num_words',\n",
       " 'oov_token',\n",
       " 'sequences_to_matrix',\n",
       " 'sequences_to_texts',\n",
       " 'sequences_to_texts_generator',\n",
       " 'split',\n",
       " 'texts_to_matrix',\n",
       " 'texts_to_sequences',\n",
       " 'texts_to_sequences_generator',\n",
       " 'to_json',\n",
       " 'word_counts',\n",
       " 'word_docs',\n",
       " 'word_index']"
      ]
     },
     "execution_count": null,
     "metadata": {},
     "output_type": "execute_result"
    }
   ],
   "source": [
    "dir(tokenizer)"
   ]
  },
  {
   "cell_type": "code",
   "execution_count": null,
   "id": "53ddef64",
   "metadata": {},
   "outputs": [
    {
     "data": {
      "text/plain": [
       "OrderedDict([('i', 4),\n",
       "             ('love', 5),\n",
       "             ('my', 5),\n",
       "             ('dog', 3),\n",
       "             ('cat', 2),\n",
       "             ('you', 1)])"
      ]
     },
     "execution_count": null,
     "metadata": {},
     "output_type": "execute_result"
    }
   ],
   "source": [
    "tokenizer.word_counts"
   ]
  },
  {
   "cell_type": "code",
   "execution_count": null,
   "id": "7b4ee956",
   "metadata": {},
   "outputs": [
    {
     "data": {
      "text/plain": [
       "['I love my dog',\n",
       " 'I love my cat',\n",
       " 'You love my dog!',\n",
       " 'Do you think my dog is amazing?']"
      ]
     },
     "execution_count": null,
     "metadata": {},
     "output_type": "execute_result"
    }
   ],
   "source": [
    "# Thêm sentence:\n",
    "sentences.append(\"Do you think my dog is amazing?\")\n",
    "sentences"
   ]
  },
  {
   "cell_type": "code",
   "execution_count": null,
   "id": "284be159",
   "metadata": {},
   "outputs": [],
   "source": [
    "# Bổ sung thêm từ vào từ điển:\n",
    "tokenizer.fit_on_texts(sentences)"
   ]
  },
  {
   "cell_type": "code",
   "execution_count": null,
   "id": "56afceb3",
   "metadata": {},
   "outputs": [
    {
     "name": "stdout",
     "output_type": "stream",
     "text": [
      "{'my': 1, 'love': 2, 'i': 3, 'dog': 4, 'cat': 5, 'you': 6, 'do': 7, 'think': 8, 'is': 9, 'amazing': 10}\n",
      "OrderedDict([('i', 6), ('love', 8), ('my', 9), ('dog', 6), ('cat', 3), ('you', 3), ('do', 1), ('think', 1), ('is', 1), ('amazing', 1)])\n"
     ]
    }
   ],
   "source": [
    "# Chúng ta có thể kiểm tra lại word_index khi tokenize xong:\n",
    "print(tokenizer.word_index)\n",
    "print(tokenizer.word_counts)"
   ]
  },
  {
   "cell_type": "markdown",
   "id": "e0df5d9c",
   "metadata": {},
   "source": [
    "__Lưu ý:__\n",
    "Chúng ta có thể thấy, số lượng word_counts đang cao hơn thực tế tương đối. Đây là vì chúng ta chạy lại `fit_on_texts` cho một list các câu (sentences, cụ thể 3 lần: lần 1 2 câu, lần 2 3 câu, lần 3 4 câu) nhiều lần nên số lượng word_counts bị lặp lại cho các từ/câu đã được đọc rồi. Để việc này không bị xảy ra với các lần tiếp theo, chúng ta chỉ fit_on_texts với các từ/câu mới hoặc bắt đầu lại từ đầu toàn bộ câu để tránh bị lỗi, như sau:"
   ]
  },
  {
   "cell_type": "code",
   "execution_count": null,
   "id": "66c9ea27",
   "metadata": {},
   "outputs": [
    {
     "name": "stdout",
     "output_type": "stream",
     "text": [
      "{'my': 1, 'love': 2, 'dog': 3, 'i': 4, 'you': 5, 'cat': 6, 'do': 7, 'think': 8, 'is': 9, 'amazing': 10}\n",
      "OrderedDict([('i', 2), ('love', 3), ('my', 4), ('dog', 3), ('cat', 1), ('you', 2), ('do', 1), ('think', 1), ('is', 1), ('amazing', 1)])\n"
     ]
    }
   ],
   "source": [
    "# Bổ sung thêm từ vào từ điển:\n",
    "tokenizer = text.Tokenizer(100)\n",
    "tokenizer.fit_on_texts(sentences)\n",
    "print(tokenizer.word_index)\n",
    "print(tokenizer.word_counts)"
   ]
  },
  {
   "cell_type": "markdown",
   "id": "7acccb02",
   "metadata": {},
   "source": [
    "## Biến đổi text\n",
    "> Sau khi tokenize được text rồi, chúng ta có thể biến đổi một chuối số sáng text và ngược lại. Tất nhiên, số ở đây chính là id mà từ được gán với (index của từ)."
   ]
  },
  {
   "cell_type": "code",
   "execution_count": null,
   "id": "82951a22",
   "metadata": {},
   "outputs": [
    {
     "data": {
      "text/plain": [
       "[[4, 2, 1, 3]]"
      ]
     },
     "execution_count": null,
     "metadata": {},
     "output_type": "execute_result"
    }
   ],
   "source": [
    "# Biến đổi câu sang chuỗi số vs texts_to_sequences:\n",
    "tokenizer.texts_to_sequences([\"i love my dog\"])"
   ]
  },
  {
   "cell_type": "code",
   "execution_count": null,
   "id": "3bfeb3e7",
   "metadata": {},
   "outputs": [
    {
     "data": {
      "text/plain": [
       "(['my love dog'], ['my', 'love', 'dog'])"
      ]
     },
     "execution_count": null,
     "metadata": {},
     "output_type": "execute_result"
    }
   ],
   "source": [
    "# Biến đổi số sang từ vs sequences to texts:\n",
    "tokenizer.sequences_to_texts([[1, 2, 3]]), tokenizer.sequences_to_texts([[1], [2], [3]])"
   ]
  },
  {
   "cell_type": "code",
   "execution_count": null,
   "id": "e276ce97",
   "metadata": {},
   "outputs": [
    {
     "data": {
      "text/plain": [
       "[[1, 3, 9]]"
      ]
     },
     "execution_count": null,
     "metadata": {},
     "output_type": "execute_result"
    }
   ],
   "source": [
    "# Tất nhiên sẽ có nhiều từ mà ko có trong sequences:\n",
    "tokenizer.texts_to_sequences([\"my dog is 5 years old\"]) # chúng ta có hơn 5 từ ở đây, kết quả trả ra chi lả 3: do years, old, 5 không có trong từ điển"
   ]
  },
  {
   "cell_type": "code",
   "execution_count": null,
   "id": "9cf5eacc",
   "metadata": {},
   "outputs": [
    {
     "data": {
      "text/plain": [
       "['my dog']"
      ]
     },
     "execution_count": null,
     "metadata": {},
     "output_type": "execute_result"
    }
   ],
   "source": [
    "# Và tùy thuộc vào từ điểm và index của từ, có những id sẽ không có trong từ điển để map được với từ:\n",
    "tokenizer.sequences_to_texts([[1, 12, 3]]) # trong từ điển chỉ có tối đa 10 từ (từ thứ 10 là amazing), nên kết quả trả ra chỉ là 2 từ."
   ]
  },
  {
   "cell_type": "code",
   "execution_count": null,
   "id": "1af8110d",
   "metadata": {},
   "outputs": [
    {
     "data": {
      "text/plain": [
       "[[4, 2, 1, 3], [1, 3, 1]]"
      ]
     },
     "execution_count": null,
     "metadata": {},
     "output_type": "execute_result"
    }
   ],
   "source": [
    "test_data = [\n",
    "    \"I really love my dog\"\n",
    "    , \"my dog eats my hat\"\n",
    "]\n",
    "tokenizer.texts_to_sequences(test_data)"
   ]
  },
  {
   "cell_type": "markdown",
   "id": "6232dd5d",
   "metadata": {},
   "source": [
    "__Lưu ý:__ điều tương tự xảy ra với cả 2 câu ở trên, cầu đầu chưa có really trong từ điển, câu sau chưa có eats, hat trong từ điển. Tât cả các từ được lặp lại cũng sẽ được trình diễn với các id giống nhau (câu 2 với từ my - id = 1) và theo thứ tự xuất hiện trong câu.\n",
    "Để tránh việc các từ chưa có trong từ điển không được thể hiện ra với chuỗi số, chúng ta thêm arguement: oov (out of vocabulary - nằm ngoài từ điển)."
   ]
  },
  {
   "cell_type": "code",
   "execution_count": null,
   "id": "618cd46f",
   "metadata": {},
   "outputs": [
    {
     "name": "stdout",
     "output_type": "stream",
     "text": [
      "{'UNK': 1, 'my': 2, 'love': 3, 'dog': 4, 'i': 5, 'you': 6, 'cat': 7, 'do': 8, 'think': 9, 'is': 10, 'amazing': 11}\n",
      "OrderedDict([('i', 2), ('love', 3), ('my', 4), ('dog', 3), ('cat', 1), ('you', 2), ('do', 1), ('think', 1), ('is', 1), ('amazing', 1)])\n"
     ]
    }
   ],
   "source": [
    "tokenizer = text.Tokenizer(num_words=100, oov_token=\"UNK\")\n",
    "tokenizer.fit_on_texts(sentences)\n",
    "print(tokenizer.word_index)\n",
    "print(tokenizer.word_counts)"
   ]
  },
  {
   "cell_type": "code",
   "execution_count": null,
   "id": "92df8bc4",
   "metadata": {},
   "outputs": [
    {
     "data": {
      "text/plain": [
       "[[5, 1, 3, 2, 4], [2, 4, 1, 2, 1]]"
      ]
     },
     "execution_count": null,
     "metadata": {},
     "output_type": "execute_result"
    }
   ],
   "source": [
    "tokenizer.texts_to_sequences(test_data)"
   ]
  },
  {
   "cell_type": "markdown",
   "id": "9b1fea5c",
   "metadata": {},
   "source": [
    "Chúng ta có thể thấy với 2 câu ví dụ: really, eats, hat đều được map vào với ký tự nằm ngoài từ điển: UNK có index = 1. Như vậy, kết quả maping ra chuỗi số của chúng ta được hoàn hảo hơn, thay vì bị mất đi id cho các chữ có trong câu."
   ]
  },
  {
   "cell_type": "code",
   "execution_count": null,
   "id": "900099c3",
   "metadata": {},
   "outputs": [
    {
     "data": {
      "text/plain": [
       "['my UNK love']"
      ]
     },
     "execution_count": null,
     "metadata": {},
     "output_type": "execute_result"
    }
   ],
   "source": [
    "tokenizer.sequences_to_texts([[2, 12, 3]])"
   ]
  },
  {
   "cell_type": "markdown",
   "id": "c4d3d684",
   "metadata": {},
   "source": [
    "id 12 chưa có trong từ điển nên sẽ được trả về chữa UNK"
   ]
  },
  {
   "cell_type": "markdown",
   "id": "682ce36f",
   "metadata": {},
   "source": [
    "# Padding\n",
    "> padding là phương pháp bổ sung 0 vào trong chuỗi số -id của từ. Tương tự như padding trong hình ảnh, số 0 được pad thêm vào cho chuỗi số để chuổi số này (của từng câu hoặc văn bản) có cùng độ dài trước khi chúng ta đưa vào model."
   ]
  },
  {
   "cell_type": "code",
   "execution_count": null,
   "id": "6efa7558",
   "metadata": {},
   "outputs": [
    {
     "data": {
      "text/plain": [
       "\u001b[0;31mSignature:\u001b[0m\n",
       "\u001b[0msequence\u001b[0m\u001b[0;34m.\u001b[0m\u001b[0mpad_sequences\u001b[0m\u001b[0;34m(\u001b[0m\u001b[0;34m\u001b[0m\n",
       "\u001b[0;34m\u001b[0m    \u001b[0msequences\u001b[0m\u001b[0;34m,\u001b[0m\u001b[0;34m\u001b[0m\n",
       "\u001b[0;34m\u001b[0m    \u001b[0mmaxlen\u001b[0m\u001b[0;34m=\u001b[0m\u001b[0;32mNone\u001b[0m\u001b[0;34m,\u001b[0m\u001b[0;34m\u001b[0m\n",
       "\u001b[0;34m\u001b[0m    \u001b[0mdtype\u001b[0m\u001b[0;34m=\u001b[0m\u001b[0;34m'int32'\u001b[0m\u001b[0;34m,\u001b[0m\u001b[0;34m\u001b[0m\n",
       "\u001b[0;34m\u001b[0m    \u001b[0mpadding\u001b[0m\u001b[0;34m=\u001b[0m\u001b[0;34m'pre'\u001b[0m\u001b[0;34m,\u001b[0m\u001b[0;34m\u001b[0m\n",
       "\u001b[0;34m\u001b[0m    \u001b[0mtruncating\u001b[0m\u001b[0;34m=\u001b[0m\u001b[0;34m'pre'\u001b[0m\u001b[0;34m,\u001b[0m\u001b[0;34m\u001b[0m\n",
       "\u001b[0;34m\u001b[0m    \u001b[0mvalue\u001b[0m\u001b[0;34m=\u001b[0m\u001b[0;36m0.0\u001b[0m\u001b[0;34m,\u001b[0m\u001b[0;34m\u001b[0m\n",
       "\u001b[0;34m\u001b[0m\u001b[0;34m)\u001b[0m\u001b[0;34m\u001b[0m\u001b[0;34m\u001b[0m\u001b[0m\n",
       "\u001b[0;31mDocstring:\u001b[0m\n",
       "Pads sequences to the same length.\n",
       "\n",
       "This function transforms a list (of length `num_samples`)\n",
       "of sequences (lists of integers)\n",
       "into a 2D Numpy array of shape `(num_samples, num_timesteps)`.\n",
       "`num_timesteps` is either the `maxlen` argument if provided,\n",
       "or the length of the longest sequence in the list.\n",
       "\n",
       "Sequences that are shorter than `num_timesteps`\n",
       "are padded with `value` until they are `num_timesteps` long.\n",
       "\n",
       "Sequences longer than `num_timesteps` are truncated\n",
       "so that they fit the desired length.\n",
       "\n",
       "The position where padding or truncation happens is determined by\n",
       "the arguments `padding` and `truncating`, respectively.\n",
       "Pre-padding or removing values from the beginning of the sequence is the\n",
       "default.\n",
       "\n",
       ">>> sequence = [[1], [2, 3], [4, 5, 6]]\n",
       ">>> tf.keras.preprocessing.sequence.pad_sequences(sequence)\n",
       "array([[0, 0, 1],\n",
       "       [0, 2, 3],\n",
       "       [4, 5, 6]], dtype=int32)\n",
       "\n",
       ">>> tf.keras.preprocessing.sequence.pad_sequences(sequence, value=-1)\n",
       "array([[-1, -1,  1],\n",
       "       [-1,  2,  3],\n",
       "       [ 4,  5,  6]], dtype=int32)\n",
       "\n",
       ">>> tf.keras.preprocessing.sequence.pad_sequences(sequence, padding='post')\n",
       "array([[1, 0, 0],\n",
       "       [2, 3, 0],\n",
       "       [4, 5, 6]], dtype=int32)\n",
       "\n",
       ">>> tf.keras.preprocessing.sequence.pad_sequences(sequence, maxlen=2)\n",
       "array([[0, 1],\n",
       "       [2, 3],\n",
       "       [5, 6]], dtype=int32)\n",
       "\n",
       "Arguments:\n",
       "    sequences: List of sequences (each sequence is a list of integers).\n",
       "    maxlen: Optional Int, maximum length of all sequences. If not provided,\n",
       "        sequences will be padded to the length of the longest individual\n",
       "        sequence.\n",
       "    dtype: (Optional, defaults to int32). Type of the output sequences.\n",
       "        To pad sequences with variable length strings, you can use `object`.\n",
       "    padding: String, 'pre' or 'post' (optional, defaults to 'pre'):\n",
       "        pad either before or after each sequence.\n",
       "    truncating: String, 'pre' or 'post' (optional, defaults to 'pre'):\n",
       "        remove values from sequences larger than\n",
       "        `maxlen`, either at the beginning or at the end of the sequences.\n",
       "    value: Float or String, padding value. (Optional, defaults to 0.)\n",
       "\n",
       "Returns:\n",
       "    Numpy array with shape `(len(sequences), maxlen)`\n",
       "\n",
       "Raises:\n",
       "    ValueError: In case of invalid values for `truncating` or `padding`,\n",
       "        or in case of invalid shape for a `sequences` entry.\n",
       "\u001b[0;31mFile:\u001b[0m      ~/miniconda3/envs/tf/lib/python3.8/site-packages/tensorflow/python/keras/preprocessing/sequence.py\n",
       "\u001b[0;31mType:\u001b[0m      function\n"
      ]
     },
     "metadata": {},
     "output_type": "display_data"
    }
   ],
   "source": [
    "?sequence.pad_sequences"
   ]
  },
  {
   "cell_type": "code",
   "execution_count": null,
   "id": "2c25d07b",
   "metadata": {},
   "outputs": [
    {
     "data": {
      "text/plain": [
       "[[5, 3, 2, 4], [5, 3, 2, 7], [6, 3, 2, 4], [8, 6, 9, 2, 4, 10, 11]]"
      ]
     },
     "execution_count": null,
     "metadata": {},
     "output_type": "execute_result"
    }
   ],
   "source": [
    "# Biến đổi chuỗi câu ban đầu sang chuỗi dãy số:\n",
    "id_sentences = tokenizer.texts_to_sequences(sentences)\n",
    "id_sentences"
   ]
  },
  {
   "cell_type": "code",
   "execution_count": null,
   "id": "8073aae8",
   "metadata": {},
   "outputs": [
    {
     "data": {
      "text/plain": [
       "array([[ 0,  0,  0,  5,  3,  2,  4],\n",
       "       [ 0,  0,  0,  5,  3,  2,  7],\n",
       "       [ 0,  0,  0,  6,  3,  2,  4],\n",
       "       [ 8,  6,  9,  2,  4, 10, 11]], dtype=int32)"
      ]
     },
     "execution_count": null,
     "metadata": {},
     "output_type": "execute_result"
    }
   ],
   "source": [
    "# pad 0s vào chuối dãy số:\n",
    "padded_id_sentences = sequence.pad_sequences(id_sentences) # mặc định padding='pre' -> pad số 0 vào trước dãy số\n",
    "padded_id_sentences"
   ]
  },
  {
   "cell_type": "code",
   "execution_count": null,
   "id": "1b0d930e",
   "metadata": {},
   "outputs": [
    {
     "data": {
      "text/plain": [
       "array([[ 5,  3,  2,  4,  0,  0,  0],\n",
       "       [ 5,  3,  2,  7,  0,  0,  0],\n",
       "       [ 6,  3,  2,  4,  0,  0,  0],\n",
       "       [ 8,  6,  9,  2,  4, 10, 11]], dtype=int32)"
      ]
     },
     "execution_count": null,
     "metadata": {},
     "output_type": "execute_result"
    }
   ],
   "source": [
    "# Có thể pad vào đằng sau chuỗi dãy số:\n",
    "padded_id_sentences = sequence.pad_sequences(id_sentences, padding='post')\n",
    "padded_id_sentences"
   ]
  },
  {
   "cell_type": "markdown",
   "id": "81fdeed4",
   "metadata": {},
   "source": [
    "## Giới hạn đội dài và các giảm lược dãy số\n",
    "Nếu chúng ta muốn chỉ có 1 ma trận mà các chuỗi câu có tối đa x id (x từ), chúng ta có thể sử dụng maxlen, Có thể chúng ta sẽ mất đi 1 chuỗi ký số nào đó do chuỗi có độ dài > x, chúng ta có thể lựa chọn việc cắt ở trước hoặc sau chuỗi số tùy thuộc vào cách thức của chúng ta chọn."
   ]
  },
  {
   "cell_type": "code",
   "execution_count": null,
   "id": "5824feb8",
   "metadata": {},
   "outputs": [
    {
     "data": {
      "text/plain": [
       "array([[5, 3, 2, 4, 0],\n",
       "       [5, 3, 2, 7, 0],\n",
       "       [6, 3, 2, 4, 0],\n",
       "       [8, 6, 9, 2, 4]], dtype=int32)"
      ]
     },
     "execution_count": null,
     "metadata": {},
     "output_type": "execute_result"
    }
   ],
   "source": [
    "sequence.pad_sequences(id_sentences, padding='post', truncating='post', maxlen=5)"
   ]
  },
  {
   "cell_type": "markdown",
   "id": "3db99a4d",
   "metadata": {},
   "source": [
    "Như vậy chúng ta mất đi 2 số cuối cho chuỗi số cuối, và chỉ cần bổ sung thêm 1 số 0 cho các chuỗi số phía trên"
   ]
  },
  {
   "cell_type": "code",
   "execution_count": null,
   "id": "78396fdc",
   "metadata": {},
   "outputs": [
    {
     "data": {
      "text/plain": [
       "array([[ 5,  3,  2,  4,  0,  0,  0,  0,  0,  0],\n",
       "       [ 5,  3,  2,  7,  0,  0,  0,  0,  0,  0],\n",
       "       [ 6,  3,  2,  4,  0,  0,  0,  0,  0,  0],\n",
       "       [ 8,  6,  9,  2,  4, 10, 11,  0,  0,  0]], dtype=int32)"
      ]
     },
     "execution_count": null,
     "metadata": {},
     "output_type": "execute_result"
    }
   ],
   "source": [
    "sequence.pad_sequences(id_sentences, padding='post', truncating='post', maxlen=10)"
   ]
  },
  {
   "cell_type": "markdown",
   "id": "9e66b65e",
   "metadata": {},
   "source": [
    "Nếu chúng ta muốn sử dụng padding để kéo dãn các chuỗi ra về dạng shape theo yêu cầu của arc cần sử dụng, thì sẽ có nhiều số 0 được thêm vào các chuỗi số"
   ]
  },
  {
   "cell_type": "code",
   "execution_count": null,
   "id": "754c43c4",
   "metadata": {},
   "outputs": [
    {
     "data": {
      "text/plain": [
       "array([[5, 3, 2],\n",
       "       [5, 3, 2],\n",
       "       [6, 3, 2],\n",
       "       [8, 6, 9]], dtype=int32)"
      ]
     },
     "execution_count": null,
     "metadata": {},
     "output_type": "execute_result"
    }
   ],
   "source": [
    "sequence.pad_sequences(id_sentences, padding='post', truncating='post', maxlen=3)"
   ]
  },
  {
   "cell_type": "markdown",
   "id": "aa58dea4",
   "metadata": {},
   "source": [
    "# Tokenize Dữ liệu public\n",
    "> Chúng ta sử dụng dữ liệu kaggle: https://www.kaggle.com/rmisra/news-headlines-dataset-for-sarcasm-detection cho phần Tokenizer dữ liệu public này."
   ]
  },
  {
   "cell_type": "code",
   "execution_count": null,
   "id": "e0e5419e",
   "metadata": {},
   "outputs": [],
   "source": [
    "# Dữ liệu được lưu dạng json, nên chúng ta cần đọc file dạng json:\n",
    "import json"
   ]
  },
  {
   "cell_type": "markdown",
   "id": "50b54f86",
   "metadata": {},
   "source": [
    "Từng dòng dữ liệu được hiểu là 1 json, nên để đọc được dữ liệu, chúng ta cần parse từng dòng dữ liệu 1."
   ]
  },
  {
   "cell_type": "code",
   "execution_count": null,
   "id": "914c096b",
   "metadata": {},
   "outputs": [
    {
     "name": "stdout",
     "output_type": "stream",
     "text": [
      "dict_keys(['article_link', 'headline', 'is_sarcastic'])\n",
      "{'article_link': 'https://www.huffingtonpost.com/entry/versace-black-code_us_5861fbefe4b0de3a08f600d5', 'headline': \"former versace store clerk sues over secret 'black code' for minority shoppers\", 'is_sarcastic': 0}\n"
     ]
    }
   ],
   "source": [
    "# Trước hết đọc dữ liệu:\n",
    "path = '/home/ddpham/git/TFExam/data/'\n",
    "file = open(f'{path}Sarcasm_Headlines_Dataset.json', 'r') # mở file:\n",
    "lines = file.readlines()\n",
    "\n",
    "# Đọc từng line:\n",
    "for i, line in enumerate(lines):\n",
    "    if i==1: break\n",
    "    data = json.loads(line)\n",
    "    print(data.keys())\n",
    "    print(data)\n",
    "        \n",
    "file.close()"
   ]
  },
  {
   "cell_type": "markdown",
   "id": "540fe958",
   "metadata": {},
   "source": [
    "Vậy là dữ liệu có 3 keys chính: article_link (url), headline (headline của url), is_sarcastic (binary 0 hoặc 1). Chúng ta cũng có sample dữ liệu rồi.\n",
    "Vậy hãy tiến hành parse dữ liệu:"
   ]
  },
  {
   "cell_type": "code",
   "execution_count": null,
   "id": "32198231",
   "metadata": {},
   "outputs": [],
   "source": [
    "file = open(f'{path}Sarcasm_Headlines_Dataset.json', 'r') # mở file:\n",
    "lines = file.readlines()\n",
    "\n",
    "sentences = []\n",
    "labels = []\n",
    "urls = []\n",
    "\n",
    "# Đọc từng line:\n",
    "for line in lines:\n",
    "    data = json.loads(line)\n",
    "    sentences.append(data['headline'])    \n",
    "    labels.append(data['is_sarcastic'])\n",
    "    urls.append(data['article_link'])\n",
    "file.close()"
   ]
  },
  {
   "cell_type": "code",
   "execution_count": null,
   "id": "76fd612b",
   "metadata": {},
   "outputs": [
    {
     "data": {
      "text/plain": [
       "(26709, 26709, 26709)"
      ]
     },
     "execution_count": null,
     "metadata": {},
     "output_type": "execute_result"
    }
   ],
   "source": [
    "len(sentences), len(labels), len(urls)"
   ]
  },
  {
   "cell_type": "markdown",
   "id": "809649f8",
   "metadata": {},
   "source": [
    "Như vậy chúng ta có 26709 dòng dữ liệu. Hãy thử xem ví dụ một vài dòng:"
   ]
  },
  {
   "cell_type": "code",
   "execution_count": null,
   "id": "347f94c4",
   "metadata": {},
   "outputs": [
    {
     "data": {
      "text/plain": [
       "[\"former versace store clerk sues over secret 'black code' for minority shoppers\",\n",
       " \"the 'roseanne' revival catches up to our thorny political mood, for better and worse\",\n",
       " \"mom starting to fear son's web series closest thing she will have to grandchild\",\n",
       " 'boehner just wants wife to listen, not come up with alternative debt-reduction ideas',\n",
       " 'j.k. rowling wishes snape happy birthday in the most magical way']"
      ]
     },
     "execution_count": null,
     "metadata": {},
     "output_type": "execute_result"
    }
   ],
   "source": [
    "sentences[:5]"
   ]
  },
  {
   "cell_type": "code",
   "execution_count": null,
   "id": "6f2c586b",
   "metadata": {},
   "outputs": [
    {
     "data": {
      "text/plain": [
       "[0, 0, 1, 1, 0]"
      ]
     },
     "execution_count": null,
     "metadata": {},
     "output_type": "execute_result"
    }
   ],
   "source": [
    "labels[:5]"
   ]
  },
  {
   "cell_type": "code",
   "execution_count": null,
   "id": "b4961863",
   "metadata": {},
   "outputs": [
    {
     "data": {
      "text/plain": [
       "['https://www.huffingtonpost.com/entry/versace-black-code_us_5861fbefe4b0de3a08f600d5',\n",
       " 'https://www.huffingtonpost.com/entry/roseanne-revival-review_us_5ab3a497e4b054d118e04365',\n",
       " 'https://local.theonion.com/mom-starting-to-fear-son-s-web-series-closest-thing-she-1819576697',\n",
       " 'https://politics.theonion.com/boehner-just-wants-wife-to-listen-not-come-up-with-alt-1819574302',\n",
       " 'https://www.huffingtonpost.com/entry/jk-rowling-wishes-snape-happy-birthday_us_569117c4e4b0cad15e64fdcb']"
      ]
     },
     "execution_count": null,
     "metadata": {},
     "output_type": "execute_result"
    }
   ],
   "source": [
    "urls[:5]"
   ]
  },
  {
   "cell_type": "markdown",
   "id": "31ebc71a",
   "metadata": {},
   "source": [
    "## Tokenize dữ liệu"
   ]
  },
  {
   "cell_type": "code",
   "execution_count": null,
   "id": "293bfa72",
   "metadata": {},
   "outputs": [],
   "source": [
    "tokenizer = text.Tokenizer(oov_token='UNK')\n",
    "tokenizer.fit_on_texts(sentences)"
   ]
  },
  {
   "cell_type": "code",
   "execution_count": null,
   "id": "ae1157c6",
   "metadata": {},
   "outputs": [
    {
     "data": {
      "text/plain": [
       "29657"
      ]
     },
     "execution_count": null,
     "metadata": {},
     "output_type": "execute_result"
    }
   ],
   "source": [
    "word_index = tokenizer.word_index\n",
    "len(word_index)"
   ]
  },
  {
   "cell_type": "markdown",
   "id": "51fdce0d",
   "metadata": {},
   "source": [
    "Trong vocabulary của chúng ta có cả thảy 29657 từ, bao gồm cả UNK."
   ]
  },
  {
   "cell_type": "code",
   "execution_count": null,
   "id": "616a3abc",
   "metadata": {},
   "outputs": [
    {
     "data": {
      "text/plain": [
       "[[308, 15115, 679, 3337, 2298, 48, 382, 2576, 15116, 6, 2577, 8434],\n",
       " [4, 8435, 3338, 2746, 22, 2, 166, 8436, 416, 3112, 6, 258, 9, 1002],\n",
       " [145, 838, 2, 907, 1749, 2093, 582, 4719, 221, 143, 39, 46, 2, 10736],\n",
       " [1485, 36, 224, 400, 2, 1832, 29, 319, 22, 10, 2924, 1393, 6969, 968],\n",
       " [767, 719, 4720, 908, 10737, 623, 594, 5, 4, 95, 1309, 92]]"
      ]
     },
     "execution_count": null,
     "metadata": {},
     "output_type": "execute_result"
    }
   ],
   "source": [
    "# Convert câu sang dạng số:\n",
    "sentences = tokenizer.texts_to_sequences(sentences)\n",
    "sentences[:5]"
   ]
  },
  {
   "cell_type": "code",
   "execution_count": null,
   "id": "e9c3348f",
   "metadata": {},
   "outputs": [
    {
     "data": {
      "text/plain": [
       "{2, 4, 6, 9, 22, 166, 258, 416, 1002, 2746, 3112, 3338, 8435, 8436}"
      ]
     },
     "execution_count": null,
     "metadata": {},
     "output_type": "execute_result"
    }
   ],
   "source": [
    "set(sentences[1])"
   ]
  },
  {
   "cell_type": "code",
   "execution_count": null,
   "id": "6b10fce4",
   "metadata": {},
   "outputs": [
    {
     "data": {
      "text/plain": [
       "{2: 109,\n",
       " 3: 289,\n",
       " 4: 518,\n",
       " 5: 1012,\n",
       " 6: 1578,\n",
       " 7: 2177,\n",
       " 8: 2760,\n",
       " 9: 3230,\n",
       " 10: 3458,\n",
       " 11: 3271,\n",
       " 12: 2802,\n",
       " 13: 2005,\n",
       " 14: 1360,\n",
       " 15: 861,\n",
       " 16: 533,\n",
       " 17: 331,\n",
       " 18: 189,\n",
       " 19: 91,\n",
       " 20: 57,\n",
       " 21: 30,\n",
       " 22: 22,\n",
       " 23: 10,\n",
       " 24: 4,\n",
       " 25: 1,\n",
       " 26: 2,\n",
       " 27: 1,\n",
       " 28: 1,\n",
       " 29: 1,\n",
       " 30: 2,\n",
       " 31: 1,\n",
       " 38: 1,\n",
       " 39: 1,\n",
       " 40: 1}"
      ]
     },
     "execution_count": null,
     "metadata": {},
     "output_type": "execute_result"
    }
   ],
   "source": [
    "# Chúng ta hay kiểm tra một chút về độ dài của tất cả các câu:\n",
    "len_sentences = []\n",
    "for i in sentences:\n",
    "    len_sentences.append(len(i))\n",
    "len_dict = dict.fromkeys(set(len_sentences), 0)\n",
    "for length in len_sentences:\n",
    "    len_dict[length] += 1\n",
    "len_dict"
   ]
  },
  {
   "cell_type": "markdown",
   "id": "46dc8df3",
   "metadata": {},
   "source": [
    "Như vậy, chúng ta có thể thấy là phần lớn các câu có độ dài dưới 20 chữ, có ít nhất 2 chứ và tối đa là 40 chữ.\n",
    "\n",
    "__Lưu ý:__\n",
    "Vậy, khi pad thêm dữ liệu, chúng ta cũng cần cân nhắc về việc có nên giới hạn số lượng chữ tối đa hay ko, hay là để mặc định với số lượng lớn nhất. Nếu giới hạn, chúng ta sẽ mất dữ liệu, còn nếu để mặc định, rất nhiều 0s sẽ được pad vào các câu."
   ]
  },
  {
   "cell_type": "code",
   "execution_count": null,
   "id": "d08dbc5d",
   "metadata": {},
   "outputs": [
    {
     "data": {
      "text/plain": [
       "<AxesSubplot:xlabel='len'>"
      ]
     },
     "execution_count": null,
     "metadata": {},
     "output_type": "execute_result"
    },
    {
     "data": {
      "image/png": "[encoded data removed]",
      "text/plain": [
       "<Figure size 432x288 with 1 Axes>"
      ]
     },
     "metadata": {
      "needs_background": "light"
     },
     "output_type": "display_data"
    }
   ],
   "source": [
    "# Vẽ đồ thị histogram về tần suất độ dài:\n",
    "import pandas as pd\n",
    "pd.DataFrame(list(len_dict.items()), columns=['len', 'freq']).plot('len', 'freq')"
   ]
  },
  {
   "cell_type": "markdown",
   "id": "7a892add",
   "metadata": {},
   "source": [
    "Chúng ta có thể thử maxlen = 15 hoặc 20 theo như histogram ở trên"
   ]
  },
  {
   "cell_type": "code",
   "execution_count": null,
   "id": "fe6b63c2",
   "metadata": {},
   "outputs": [
    {
     "data": {
      "text/plain": [
       "\u001b[0;31mSignature:\u001b[0m\n",
       "\u001b[0msequence\u001b[0m\u001b[0;34m.\u001b[0m\u001b[0mpad_sequences\u001b[0m\u001b[0;34m(\u001b[0m\u001b[0;34m\u001b[0m\n",
       "\u001b[0;34m\u001b[0m    \u001b[0msequences\u001b[0m\u001b[0;34m,\u001b[0m\u001b[0;34m\u001b[0m\n",
       "\u001b[0;34m\u001b[0m    \u001b[0mmaxlen\u001b[0m\u001b[0;34m=\u001b[0m\u001b[0;32mNone\u001b[0m\u001b[0;34m,\u001b[0m\u001b[0;34m\u001b[0m\n",
       "\u001b[0;34m\u001b[0m    \u001b[0mdtype\u001b[0m\u001b[0;34m=\u001b[0m\u001b[0;34m'int32'\u001b[0m\u001b[0;34m,\u001b[0m\u001b[0;34m\u001b[0m\n",
       "\u001b[0;34m\u001b[0m    \u001b[0mpadding\u001b[0m\u001b[0;34m=\u001b[0m\u001b[0;34m'pre'\u001b[0m\u001b[0;34m,\u001b[0m\u001b[0;34m\u001b[0m\n",
       "\u001b[0;34m\u001b[0m    \u001b[0mtruncating\u001b[0m\u001b[0;34m=\u001b[0m\u001b[0;34m'pre'\u001b[0m\u001b[0;34m,\u001b[0m\u001b[0;34m\u001b[0m\n",
       "\u001b[0;34m\u001b[0m    \u001b[0mvalue\u001b[0m\u001b[0;34m=\u001b[0m\u001b[0;36m0.0\u001b[0m\u001b[0;34m,\u001b[0m\u001b[0;34m\u001b[0m\n",
       "\u001b[0;34m\u001b[0m\u001b[0;34m)\u001b[0m\u001b[0;34m\u001b[0m\u001b[0;34m\u001b[0m\u001b[0m\n",
       "\u001b[0;31mDocstring:\u001b[0m\n",
       "Pads sequences to the same length.\n",
       "\n",
       "This function transforms a list (of length `num_samples`)\n",
       "of sequences (lists of integers)\n",
       "into a 2D Numpy array of shape `(num_samples, num_timesteps)`.\n",
       "`num_timesteps` is either the `maxlen` argument if provided,\n",
       "or the length of the longest sequence in the list.\n",
       "\n",
       "Sequences that are shorter than `num_timesteps`\n",
       "are padded with `value` until they are `num_timesteps` long.\n",
       "\n",
       "Sequences longer than `num_timesteps` are truncated\n",
       "so that they fit the desired length.\n",
       "\n",
       "The position where padding or truncation happens is determined by\n",
       "the arguments `padding` and `truncating`, respectively.\n",
       "Pre-padding or removing values from the beginning of the sequence is the\n",
       "default.\n",
       "\n",
       ">>> sequence = [[1], [2, 3], [4, 5, 6]]\n",
       ">>> tf.keras.preprocessing.sequence.pad_sequences(sequence)\n",
       "array([[0, 0, 1],\n",
       "       [0, 2, 3],\n",
       "       [4, 5, 6]], dtype=int32)\n",
       "\n",
       ">>> tf.keras.preprocessing.sequence.pad_sequences(sequence, value=-1)\n",
       "array([[-1, -1,  1],\n",
       "       [-1,  2,  3],\n",
       "       [ 4,  5,  6]], dtype=int32)\n",
       "\n",
       ">>> tf.keras.preprocessing.sequence.pad_sequences(sequence, padding='post')\n",
       "array([[1, 0, 0],\n",
       "       [2, 3, 0],\n",
       "       [4, 5, 6]], dtype=int32)\n",
       "\n",
       ">>> tf.keras.preprocessing.sequence.pad_sequences(sequence, maxlen=2)\n",
       "array([[0, 1],\n",
       "       [2, 3],\n",
       "       [5, 6]], dtype=int32)\n",
       "\n",
       "Arguments:\n",
       "    sequences: List of sequences (each sequence is a list of integers).\n",
       "    maxlen: Optional Int, maximum length of all sequences. If not provided,\n",
       "        sequences will be padded to the length of the longest individual\n",
       "        sequence.\n",
       "    dtype: (Optional, defaults to int32). Type of the output sequences.\n",
       "        To pad sequences with variable length strings, you can use `object`.\n",
       "    padding: String, 'pre' or 'post' (optional, defaults to 'pre'):\n",
       "        pad either before or after each sequence.\n",
       "    truncating: String, 'pre' or 'post' (optional, defaults to 'pre'):\n",
       "        remove values from sequences larger than\n",
       "        `maxlen`, either at the beginning or at the end of the sequences.\n",
       "    value: Float or String, padding value. (Optional, defaults to 0.)\n",
       "\n",
       "Returns:\n",
       "    Numpy array with shape `(len(sequences), maxlen)`\n",
       "\n",
       "Raises:\n",
       "    ValueError: In case of invalid values for `truncating` or `padding`,\n",
       "        or in case of invalid shape for a `sequences` entry.\n",
       "\u001b[0;31mFile:\u001b[0m      ~/miniconda3/envs/tf/lib/python3.8/site-packages/tensorflow/python/keras/preprocessing/sequence.py\n",
       "\u001b[0;31mType:\u001b[0m      function\n"
      ]
     },
     "metadata": {},
     "output_type": "display_data"
    }
   ],
   "source": [
    "?sequence.pad_sequences"
   ]
  },
  {
   "cell_type": "code",
   "execution_count": null,
   "id": "1b6e257c",
   "metadata": {},
   "outputs": [
    {
     "data": {
      "text/plain": [
       "(26709, 15)"
      ]
     },
     "execution_count": null,
     "metadata": {},
     "output_type": "execute_result"
    }
   ],
   "source": [
    "padded_sentences_15 = sequence.pad_sequences(sentences, maxlen=15, padding='post', truncating='post')\n",
    "padded_sentences_15.shape"
   ]
  },
  {
   "cell_type": "code",
   "execution_count": null,
   "id": "1f25006e",
   "metadata": {},
   "outputs": [
    {
     "data": {
      "text/plain": [
       "array([[ 2577,  8434,     0,     0,     0],\n",
       "       [    6,   258,     9,  1002,     0],\n",
       "       [   39,    46,     2, 10736,     0],\n",
       "       [ 2924,  1393,  6969,   968,     0],\n",
       "       [ 1309,    92,     0,     0,     0]], dtype=int32)"
      ]
     },
     "execution_count": null,
     "metadata": {},
     "output_type": "execute_result"
    }
   ],
   "source": [
    "# some zeros:\n",
    "padded_sentences_15[:5, 10:]"
   ]
  },
  {
   "cell_type": "code",
   "execution_count": null,
   "id": "6e356676",
   "metadata": {},
   "outputs": [
    {
     "data": {
      "text/plain": [
       "(26709, 20)"
      ]
     },
     "execution_count": null,
     "metadata": {},
     "output_type": "execute_result"
    }
   ],
   "source": [
    "padded_sentences_20 = sequence.pad_sequences(sentences, maxlen=20, padding='post', truncating='post')\n",
    "padded_sentences_20.shape"
   ]
  },
  {
   "cell_type": "code",
   "execution_count": null,
   "id": "cb2022a0",
   "metadata": {},
   "outputs": [
    {
     "data": {
      "text/plain": [
       "array([[ 2577,  8434,     0,     0,     0,     0,     0,     0,     0,\n",
       "            0],\n",
       "       [    6,   258,     9,  1002,     0,     0,     0,     0,     0,\n",
       "            0],\n",
       "       [   39,    46,     2, 10736,     0,     0,     0,     0,     0,\n",
       "            0],\n",
       "       [ 2924,  1393,  6969,   968,     0,     0,     0,     0,     0,\n",
       "            0],\n",
       "       [ 1309,    92,     0,     0,     0,     0,     0,     0,     0,\n",
       "            0]], dtype=int32)"
      ]
     },
     "execution_count": null,
     "metadata": {},
     "output_type": "execute_result"
    }
   ],
   "source": [
    "# a bit more zeros:\n",
    "padded_sentences_20[:5, 10:]"
   ]
  },
  {
   "cell_type": "code",
   "execution_count": null,
   "id": "fe4013cd",
   "metadata": {},
   "outputs": [
    {
     "data": {
      "text/plain": [
       "(26709, 40)"
      ]
     },
     "execution_count": null,
     "metadata": {},
     "output_type": "execute_result"
    }
   ],
   "source": [
    "padded_sentences = sequence.pad_sequences(sentences, padding='post')\n",
    "padded_sentences.shape"
   ]
  },
  {
   "cell_type": "code",
   "execution_count": null,
   "id": "24f23bac",
   "metadata": {},
   "outputs": [
    {
     "data": {
      "text/plain": [
       "array([[0, 0, 0, 0, 0, 0, 0, 0, 0, 0, 0, 0, 0, 0, 0, 0, 0, 0, 0, 0],\n",
       "       [0, 0, 0, 0, 0, 0, 0, 0, 0, 0, 0, 0, 0, 0, 0, 0, 0, 0, 0, 0],\n",
       "       [0, 0, 0, 0, 0, 0, 0, 0, 0, 0, 0, 0, 0, 0, 0, 0, 0, 0, 0, 0],\n",
       "       [0, 0, 0, 0, 0, 0, 0, 0, 0, 0, 0, 0, 0, 0, 0, 0, 0, 0, 0, 0],\n",
       "       [0, 0, 0, 0, 0, 0, 0, 0, 0, 0, 0, 0, 0, 0, 0, 0, 0, 0, 0, 0]],\n",
       "      dtype=int32)"
      ]
     },
     "execution_count": null,
     "metadata": {},
     "output_type": "execute_result"
    }
   ],
   "source": [
    "# a lot of zeros\n",
    "padded_sentences[:5,20:]"
   ]
  },
  {
   "cell_type": "code",
   "execution_count": null,
   "id": "2d24149a",
   "metadata": {},
   "outputs": [],
   "source": []
  }
 ],
 "metadata": {
  "kernelspec": {
   "display_name": "Python 3",
   "language": "python",
   "name": "python3"
  }
 },
 "nbformat": 4,
 "nbformat_minor": 5
}
