{
 "cells": [
  {
   "cell_type": "code",
   "execution_count": 1,
   "id": "7bdce689-0c21-432c-95c1-915099714d03",
   "metadata": {},
   "outputs": [],
   "source": [
    "import tensorflow as tf\n",
    "import tensorflow.keras as keras\n",
    "from tensorflow.keras.preprocessing import sequence, timeseries_dataset_from_array\n",
    "import numpy as np\n",
    "import pandas as pd\n",
    "import matplotlib.pyplot as plt\n",
    "%matplotlib inline"
   ]
  },
  {
   "cell_type": "code",
   "execution_count": 2,
   "id": "f9ab23be-1efd-4583-beee-8ec2eb373a2b",
   "metadata": {},
   "outputs": [
    {
     "data": {
      "text/plain": [
       "[PhysicalDevice(name='/physical_device:CPU:0', device_type='CPU'),\n",
       " PhysicalDevice(name='/physical_device:GPU:0', device_type='GPU')]"
      ]
     },
     "execution_count": 2,
     "metadata": {},
     "output_type": "execute_result"
    }
   ],
   "source": [
    "# Kiểm tra GPU:\n",
    "tf.config.experimental.list_physical_devices()"
   ]
  },
  {
   "cell_type": "markdown",
   "id": "6f29f8a4-dac8-463d-b679-3f9c6e83d2d1",
   "metadata": {},
   "source": [
    "# Mục Đích\n",
    "> Trong phần này chúng ta sẽ đi qua những kiến thức cơ bản và cách dự báo dữ liệu dạng time-series trước khi đi vào thực hành ML, DL, lý do là để chúng ta nắm được các kiến thức cơ bản cũng như hiểu được một số những phương pháp dùng mô hình toán học cơ bản trong time-series. Những phương pháp này có thể dược sử dụng làm baseline để so sánh với cách mô hình ML, DL.\n",
    "\n",
    "> Các kiến thức trong phần này được thu lượm từ khóa học deeplearning specialization"
   ]
  },
  {
   "cell_type": "markdown",
   "id": "4d1d0a77-9b6a-4ff2-bc77-3557a2a3a0d5",
   "metadata": {},
   "source": [
    "# Các Loại time-series"
   ]
  },
  {
   "cell_type": "markdown",
   "id": "176b8fb3-374f-484a-85dd-9740fa5167e5",
   "metadata": {},
   "source": [
    "## Xu Thế (Trend) và Tính Vụ Mùa (Seasonality)"
   ]
  },
  {
   "cell_type": "markdown",
   "id": "3bb6bc99-5cc4-450c-b059-d7f308fbd908",
   "metadata": {},
   "source": [
    "Tạo hàm vẽ đồ thị:"
   ]
  },
  {
   "cell_type": "code",
   "execution_count": 3,
   "id": "f5e54592-5999-48d8-880f-0f1193b5b9ad",
   "metadata": {},
   "outputs": [],
   "source": [
    "def plot_series(time, series, format=\"-\", start=0, end=None, label=None):\n",
    "    plt.plot(time[start:end], series[start:end], format, label=label)\n",
    "    plt.xlabel(\"Time\")\n",
    "    plt.ylabel(\"Value\")\n",
    "    if label:\n",
    "        plt.legend(fontsize=14)\n",
    "    plt.grid(True)"
   ]
  },
  {
   "cell_type": "markdown",
   "id": "bc7ea3c8-cb83-4336-850c-7da33b6b6529",
   "metadata": {},
   "source": [
    "### Xu Thế"
   ]
  },
  {
   "cell_type": "code",
   "execution_count": 5,
   "id": "88047670-8d59-4d9f-92c3-542bf5c3468c",
   "metadata": {},
   "outputs": [],
   "source": [
    "# hàm tạo xu hướng: đơn giản là hàm của thời gian nhân với tỷ lệ slope (tanh):\n",
    "def get_trend(times, slope=0):\n",
    "    return times * slope"
   ]
  },
  {
   "cell_type": "code",
   "execution_count": 9,
   "id": "5abbf853-2c8f-40bb-992e-bbe99b559925",
   "metadata": {},
   "outputs": [
    {
     "data": {
      "image/png": "[encoded data removed]",
      "text/plain": [
       "<Figure size 720x432 with 1 Axes>"
      ]
     },
     "metadata": {
      "needs_background": "light"
     },
     "output_type": "display_data"
    }
   ],
   "source": [
    "# Tạo time series và vẽ đồ thị giữa thời gian và giá trị:\n",
    "times = np.arange(4*365 +1) # tạo dữ liệu cho 4 năm\n",
    "time_series = get_trend(times, .1)\n",
    "plt.figure(figsize=(10,6))\n",
    "plot_series(times, time_series)\n",
    "plt.show()"
   ]
  },
  {
   "cell_type": "markdown",
   "id": "a39e9648-e3ea-4a0a-9939-2bb732612e22",
   "metadata": {},
   "source": [
    "### Vụ Mùa"
   ]
  },
  {
   "cell_type": "code",
   "execution_count": null,
   "id": "ad5cb56a-f739-4912-a976-16db55a9484d",
   "metadata": {},
   "outputs": [],
   "source": [
    "def seasonal_pattern(season_time):\n",
    "    \"\"\"Just an arbitrary pattern, you can change it if you wish\"\"\"\n",
    "    return np.where(season_time < 0.4,\n",
    "                    np.cos(season_time * 2 * np.pi),\n",
    "                    1 / np.exp(3 * season_time))\n",
    "\n",
    "def seasonality(time, period, amplitude=1, phase=0):\n",
    "    \"\"\"Repeats the same pattern at each period\"\"\"\n",
    "    season_time = ((time + phase) % period) / period\n",
    "    return amplitude * seasonal_pattern(season_time)"
   ]
  }
 ],
 "metadata": {
  "kernelspec": {
   "display_name": "Python 3",
   "language": "python",
   "name": "python3"
  },
  "language_info": {
   "codemirror_mode": {
    "name": "ipython",
    "version": 3
   },
   "file_extension": ".py",
   "mimetype": "text/x-python",
   "name": "python",
   "nbconvert_exporter": "python",
   "pygments_lexer": "ipython3",
   "version": "3.8.10"
  }
 },
 "nbformat": 4,
 "nbformat_minor": 5
}
