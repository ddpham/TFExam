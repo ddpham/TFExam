{
 "cells": [
  {
   "cell_type": "markdown",
   "metadata": {},
   "source": [
    "# Mục Đích\n",
    "> Trong phần này chúng ta sẽ cùng đi qua các phương thức để tạo được dataset của tensorflow, bao gồm:\n",
    "> 1. Load dữ liệu có sẵn của tensorflow_datasets\n",
    "> 2. Load dữ liệu từ folder\n",
    "> 3. Load dữ liệu từ file excel"
   ]
  },
  {
   "cell_type": "code",
   "execution_count": null,
   "metadata": {},
   "outputs": [],
   "source": [
    "#default_exp image.basic_dataset"
   ]
  },
  {
   "cell_type": "code",
   "execution_count": null,
   "metadata": {},
   "outputs": [],
   "source": [
    "#export\n",
    "import tensorflow as tf\n",
    "import tensorflow_datasets as tfds\n",
    "import tensorflow.keras as keras\n",
    "import tensorflow.keras.backend as K\n",
    "import numpy as np\n",
    "import matplotlib.pyplot as plt"
   ]
  },
  {
   "cell_type": "code",
   "execution_count": null,
   "metadata": {},
   "outputs": [
    {
     "data": {
      "text/plain": [
       "('2.4.1', '2.4.0')"
      ]
     },
     "execution_count": null,
     "metadata": {},
     "output_type": "execute_result"
    }
   ],
   "source": [
    "#hide\n",
    "tf.__version__, keras.__version__"
   ]
  },
  {
   "cell_type": "code",
   "execution_count": null,
   "metadata": {},
   "outputs": [
    {
     "name": "stdout",
     "output_type": "stream",
     "text": [
      "Num GPUs Available:  1\n"
     ]
    }
   ],
   "source": [
    "#hide\n",
    "print(\"Num GPUs Available: \", len(tf.config.experimental.list_physical_devices('GPU')))"
   ]
  },
  {
   "cell_type": "markdown",
   "metadata": {},
   "source": [
    "## LOAD DATA ONLINE"
   ]
  },
  {
   "cell_type": "markdown",
   "metadata": {},
   "source": [
    "### Sử dụng keras datasets"
   ]
  },
  {
   "cell_type": "code",
   "execution_count": null,
   "metadata": {},
   "outputs": [
    {
     "data": {
      "text/plain": [
       "((60000, 28, 28), (60000,))"
      ]
     },
     "execution_count": null,
     "metadata": {},
     "output_type": "execute_result"
    }
   ],
   "source": [
    "#export\n",
    "(X_train, y_train), (X_test, y_test) = keras.datasets.mnist.load_data()\n",
    "X_train.shape, y_train.shape"
   ]
  },
  {
   "cell_type": "code",
   "execution_count": null,
   "metadata": {},
   "outputs": [
    {
     "data": {
      "image/png": "[encoded data removed]",
      "text/plain": [
       "<Figure size 216x216 with 9 Axes>"
      ]
     },
     "metadata": {
      "needs_background": "light"
     },
     "output_type": "display_data"
    }
   ],
   "source": [
    "#export\n",
    "# Kiểm tra dữ liệu:\n",
    "fig = plt.figure(figsize=(3, 3))\n",
    "for i in range(9):\n",
    "    ax = plt.subplot(3, 3, i+1)\n",
    "    plt.imshow(X_train[i,:])\n",
    "    plt.title(y_train[i])\n",
    "    plt.axis('off')\n",
    "    plt.tight_layout()"
   ]
  },
  {
   "cell_type": "code",
   "execution_count": null,
   "metadata": {},
   "outputs": [],
   "source": [
    "#export\n",
    "# Biến đổi dữ liệu:\n",
    "X_train = X_train/255\n",
    "X_test = X_test/255"
   ]
  },
  {
   "cell_type": "code",
   "execution_count": null,
   "metadata": {},
   "outputs": [
    {
     "data": {
      "text/plain": [
       "array([[0.93333333, 0.98823529, 0.98823529, 0.70196078, 0.04705882],\n",
       "       [0.99215686, 0.91372549, 0.81568627, 0.32941176, 0.        ],\n",
       "       [0.94117647, 0.27843137, 0.0745098 , 0.10980392, 0.        ],\n",
       "       [0.24705882, 0.        , 0.        , 0.        , 0.        ],\n",
       "       [0.        , 0.        , 0.        , 0.        , 0.        ]])"
      ]
     },
     "execution_count": null,
     "metadata": {},
     "output_type": "execute_result"
    }
   ],
   "source": [
    "#export\n",
    "# Kiểm tra dữ liệu sau khi chia cho 225 (giá trị sẽ từ 0 đến 1)\n",
    "X_train[1, 10:15, 10:15]"
   ]
  },
  {
   "cell_type": "code",
   "execution_count": null,
   "metadata": {},
   "outputs": [
    {
     "data": {
      "text/plain": [
       "(TensorShape([60000, 28, 28]), TensorShape([10000, 28, 28]))"
      ]
     },
     "execution_count": null,
     "metadata": {},
     "output_type": "execute_result"
    }
   ],
   "source": [
    "#export\n",
    "# Normalize dữ liệu trước khi train, sử dụng mean và variance của imagenet:\n",
    "# https://forums.fast.ai/t/is-normalizing-the-input-image-by-imagenet-mean-and-std-really-necessary/51338\n",
    "normalizer = keras.layers.experimental.preprocessing.Normalization(mean=0.485, variance=0.229**2, name='normalize') \n",
    "X_train = normalizer(X_train)\n",
    "X_test = normalizer(X_test)\n",
    "X_train.shape, X_test.shape"
   ]
  },
  {
   "cell_type": "code",
   "execution_count": null,
   "metadata": {},
   "outputs": [
    {
     "data": {
      "text/plain": [
       "<tf.Tensor: shape=(5, 5), dtype=float32, numpy=\n",
       "array([[ 1.9577874 ,  2.1975338 ,  2.1975338 ,  0.94742703, -1.9124069 ],\n",
       "       [ 2.2146587 ,  1.8721637 ,  1.4440448 , -0.67942464, -2.117904  ],\n",
       "       [ 1.9920369 , -0.9020464 , -1.7925336 , -1.6384109 , -2.117904  ],\n",
       "       [-1.0390445 , -2.117904  , -2.117904  , -2.117904  , -2.117904  ],\n",
       "       [-2.117904  , -2.117904  , -2.117904  , -2.117904  , -2.117904  ]],\n",
       "      dtype=float32)>"
      ]
     },
     "execution_count": null,
     "metadata": {},
     "output_type": "execute_result"
    }
   ],
   "source": [
    "#hide\n",
    "# Kiểm tra dữ liệu sau khi normalize:\n",
    "X_train[1, 10:15, 10:15]"
   ]
  },
  {
   "cell_type": "markdown",
   "metadata": {},
   "source": [
    "#### Tạo neural net cơ bản:"
   ]
  },
  {
   "cell_type": "code",
   "execution_count": null,
   "metadata": {},
   "outputs": [],
   "source": [
    "#export\n",
    "# Tạo neural net cơ bản:\n",
    "model = keras.Sequential([\n",
    "    keras.layers.Flatten(input_shape=(28, 28), name='flatten'),\n",
    "    keras.layers.Dense(128, activation='relu', name='layer1'),\n",
    "    keras.layers.Dropout(.2, name='dropout'),\n",
    "    keras.layers.Dense(20, activation='relu', name='layer2'),\n",
    "    keras.layers.Dense(10, activation='softmax', name='predictions')\n",
    "])\n",
    "model.compile(optimizer='rmsprop', loss='sparse_categorical_crossentropy', metrics=['accuracy'])"
   ]
  },
  {
   "cell_type": "code",
   "execution_count": null,
   "metadata": {},
   "outputs": [
    {
     "name": "stdout",
     "output_type": "stream",
     "text": [
      "Model: \"sequential\"\n",
      "_________________________________________________________________\n",
      "Layer (type)                 Output Shape              Param #   \n",
      "=================================================================\n",
      "flatten (Flatten)            (None, 784)               0         \n",
      "_________________________________________________________________\n",
      "layer1 (Dense)               (None, 128)               100480    \n",
      "_________________________________________________________________\n",
      "dropout (Dropout)            (None, 128)               0         \n",
      "_________________________________________________________________\n",
      "layer2 (Dense)               (None, 20)                2580      \n",
      "_________________________________________________________________\n",
      "predictions (Dense)          (None, 10)                210       \n",
      "=================================================================\n",
      "Total params: 103,270\n",
      "Trainable params: 103,270\n",
      "Non-trainable params: 0\n",
      "_________________________________________________________________\n"
     ]
    }
   ],
   "source": [
    "#export\n",
    "model.summary()"
   ]
  },
  {
   "cell_type": "code",
   "execution_count": null,
   "metadata": {},
   "outputs": [
    {
     "name": "stdout",
     "output_type": "stream",
     "text": [
      "Epoch 1/5\n",
      "1875/1875 [==============================] - 27s 14ms/step - loss: 0.7879 - accuracy: 0.7550 - val_loss: 0.2252 - val_accuracy: 0.9351\n",
      "Epoch 2/5\n",
      "1875/1875 [==============================] - 25s 13ms/step - loss: 0.2794 - accuracy: 0.9202 - val_loss: 0.1679 - val_accuracy: 0.9516\n",
      "Epoch 3/5\n",
      "1875/1875 [==============================] - 25s 13ms/step - loss: 0.2335 - accuracy: 0.9332 - val_loss: 0.1658 - val_accuracy: 0.9540\n",
      "Epoch 4/5\n",
      "1875/1875 [==============================] - 25s 14ms/step - loss: 0.2091 - accuracy: 0.9410 - val_loss: 0.1439 - val_accuracy: 0.9624\n",
      "Epoch 5/5\n",
      "1875/1875 [==============================] - 25s 13ms/step - loss: 0.1919 - accuracy: 0.9462 - val_loss: 0.1377 - val_accuracy: 0.9629\n"
     ]
    },
    {
     "data": {
      "text/plain": [
       "<tensorflow.python.keras.callbacks.History at 0x7f7228718040>"
      ]
     },
     "execution_count": null,
     "metadata": {},
     "output_type": "execute_result"
    }
   ],
   "source": [
    "#export\n",
    "# Đào tạo:\n",
    "model.fit(X_train, y_train, validation_data=(X_test, y_test), epochs=5)"
   ]
  },
  {
   "cell_type": "markdown",
   "metadata": {},
   "source": [
    "**Lưu ý:** chúng ta sử dụng thêm normalizer để normalize dữ liệu thì kết quả metrics chưa thực sự rõ ràng, tuy nhiên loss được cải thiện tương đối."
   ]
  },
  {
   "cell_type": "markdown",
   "metadata": {},
   "source": [
    "#### Thay đổi tốc độ học:\n",
    "> tốc độ học (learning rate) đi kèm với optimizer trong keras, nên muốn tác động vào lr, chúng ta có thể làm bằng 1 trong 2 cách sau:"
   ]
  },
  {
   "cell_type": "markdown",
   "metadata": {},
   "source": [
    "_Chọn optimizer bằng method trong keras.optimizers_"
   ]
  },
  {
   "cell_type": "code",
   "execution_count": null,
   "metadata": {},
   "outputs": [],
   "source": [
    "#hide\n",
    "# Learning rate (tốc độ học) đi kèm với optimizer. Chúng ta có thể tác động vào learning rate với keras.optimizers:\n",
    "optimizer = keras.optimizers.RMSprop(learning_rate=3e-3)"
   ]
  },
  {
   "cell_type": "markdown",
   "metadata": {},
   "source": [
    "_Hoặc sử dụng keras backends để sửa learning rate_"
   ]
  },
  {
   "cell_type": "code",
   "execution_count": null,
   "metadata": {},
   "outputs": [
    {
     "name": "stdout",
     "output_type": "stream",
     "text": [
      "lr before:  0.001\n",
      "lr after:  0.003\n"
     ]
    }
   ],
   "source": [
    "#hide\n",
    "# Hoặc bằng cách sử dụng backend set_value method:\n",
    "print('lr before: ', model.optimizer.learning_rate.numpy())\n",
    "K.set_value(model.optimizer.learning_rate, 0.003)\n",
    "print('lr after: ', model.optimizer.learning_rate.numpy())"
   ]
  },
  {
   "cell_type": "markdown",
   "metadata": {},
   "source": [
    "#### Thay đổi hàm loss:\n",
    "> hàm loss (hàm mất mát) cũng có thể được thay đổi tương tự như learning rate."
   ]
  },
  {
   "cell_type": "code",
   "execution_count": null,
   "metadata": {},
   "outputs": [
    {
     "data": {
      "text/plain": [
       "['BinaryCrossentropy',\n",
       " 'CategoricalCrossentropy',\n",
       " 'CategoricalHinge',\n",
       " 'CosineSimilarity',\n",
       " 'Hinge',\n",
       " 'Huber',\n",
       " 'KLD',\n",
       " 'KLDivergence',\n",
       " 'LogCosh',\n",
       " 'Loss',\n",
       " 'MAE',\n",
       " 'MAPE',\n",
       " 'MSE',\n",
       " 'MSLE',\n",
       " 'MeanAbsoluteError',\n",
       " 'MeanAbsolutePercentageError',\n",
       " 'MeanSquaredError',\n",
       " 'MeanSquaredLogarithmicError',\n",
       " 'Poisson',\n",
       " 'Reduction',\n",
       " 'SparseCategoricalCrossentropy',\n",
       " 'SquaredHinge',\n",
       " '__builtins__',\n",
       " '__cached__',\n",
       " '__doc__',\n",
       " '__file__',\n",
       " '__loader__',\n",
       " '__name__',\n",
       " '__package__',\n",
       " '__path__',\n",
       " '__spec__',\n",
       " '_sys',\n",
       " 'binary_crossentropy',\n",
       " 'categorical_crossentropy',\n",
       " 'categorical_hinge',\n",
       " 'cosine_similarity',\n",
       " 'deserialize',\n",
       " 'get',\n",
       " 'hinge',\n",
       " 'huber',\n",
       " 'kl_divergence',\n",
       " 'kld',\n",
       " 'kullback_leibler_divergence',\n",
       " 'log_cosh',\n",
       " 'logcosh',\n",
       " 'mae',\n",
       " 'mape',\n",
       " 'mean_absolute_error',\n",
       " 'mean_absolute_percentage_error',\n",
       " 'mean_squared_error',\n",
       " 'mean_squared_logarithmic_error',\n",
       " 'mse',\n",
       " 'msle',\n",
       " 'poisson',\n",
       " 'serialize',\n",
       " 'sparse_categorical_crossentropy',\n",
       " 'squared_hinge']"
      ]
     },
     "execution_count": null,
     "metadata": {},
     "output_type": "execute_result"
    }
   ],
   "source": [
    "#hide\n",
    "dir(keras.losses)"
   ]
  },
  {
   "cell_type": "code",
   "execution_count": null,
   "metadata": {},
   "outputs": [],
   "source": [
    "#export\n",
    "# tạo hàm loss:\n",
    "loss_func = keras.losses.SparseCategoricalCrossentropy()\n",
    "model.compile(optimizer=optimizer, loss=loss_func, metrics='accuracy')"
   ]
  },
  {
   "cell_type": "code",
   "execution_count": null,
   "metadata": {},
   "outputs": [
    {
     "name": "stdout",
     "output_type": "stream",
     "text": [
      "Epoch 1/2\n",
      "1875/1875 [==============================] - 25s 13ms/step - loss: 0.4321 - accuracy: 0.8950 - val_loss: 0.2278 - val_accuracy: 0.9349\n",
      "Epoch 2/2\n",
      "1875/1875 [==============================] - 25s 13ms/step - loss: 0.3503 - accuracy: 0.9128 - val_loss: 0.2326 - val_accuracy: 0.9451\n"
     ]
    },
    {
     "data": {
      "text/plain": [
       "<tensorflow.python.keras.callbacks.History at 0x7f72079a6a60>"
      ]
     },
     "execution_count": null,
     "metadata": {},
     "output_type": "execute_result"
    }
   ],
   "source": [
    "#export\n",
    "# Đào tạo lại\n",
    "model.fit(X_train, y_train, validation_data=(X_test, y_test), epochs=2)"
   ]
  },
  {
   "cell_type": "markdown",
   "metadata": {},
   "source": [
    "#### Thay đổi metrics\n",
    "> Tương tự như lr và loss, chúng ta cũng có thể thay đổi metrics."
   ]
  },
  {
   "cell_type": "code",
   "execution_count": null,
   "metadata": {},
   "outputs": [],
   "source": [
    "# precision = keras.metrics.Precision()\n",
    "# recall = keras.metrics.Recall()"
   ]
  },
  {
   "cell_type": "code",
   "execution_count": null,
   "metadata": {},
   "outputs": [],
   "source": [
    "# Tạo hàm F1Score dự vào True Positive (TP), False Positive (FP) và False Negative (FN):\n",
    "# def f1(y_true, y_pred):\n",
    "#     # Tính True Positive:\n",
    "#     TP = K.sum(K.round(K.clip(y_true * y_pred, 0, 1)))\n",
    "#     # Tính Actual Positve: TP + FN\n",
    "#     TP_FN = K.sum(K.round(K.clip(y_true, 0, 1)))\n",
    "#     # Tính Predicted Positve: TP + FP\n",
    "#     TP_FP = K.sum(K.round(K.clip(y_pred, 0, 1)))\n",
    "#     return  (2 * TP)/(TP_FN + TP_FP + K.epsilon())"
   ]
  },
  {
   "cell_type": "code",
   "execution_count": null,
   "metadata": {},
   "outputs": [],
   "source": [
    "#export\n",
    "model.compile(optimizer=optimizer, loss=loss_func, metrics=['accuracy'])"
   ]
  },
  {
   "cell_type": "code",
   "execution_count": null,
   "metadata": {},
   "outputs": [
    {
     "name": "stdout",
     "output_type": "stream",
     "text": [
      "Model: \"sequential\"\n",
      "_________________________________________________________________\n",
      "Layer (type)                 Output Shape              Param #   \n",
      "=================================================================\n",
      "flatten (Flatten)            (None, 784)               0         \n",
      "_________________________________________________________________\n",
      "layer1 (Dense)               (None, 128)               100480    \n",
      "_________________________________________________________________\n",
      "dropout (Dropout)            (None, 128)               0         \n",
      "_________________________________________________________________\n",
      "layer2 (Dense)               (None, 20)                2580      \n",
      "_________________________________________________________________\n",
      "predictions (Dense)          (None, 10)                210       \n",
      "=================================================================\n",
      "Total params: 103,270\n",
      "Trainable params: 103,270\n",
      "Non-trainable params: 0\n",
      "_________________________________________________________________\n"
     ]
    }
   ],
   "source": [
    "#export\n",
    "model.summary()"
   ]
  },
  {
   "cell_type": "code",
   "execution_count": null,
   "metadata": {},
   "outputs": [
    {
     "name": "stdout",
     "output_type": "stream",
     "text": [
      "1875/1875 [==============================] - 26s 14ms/step - loss: 0.3307 - accuracy: 0.9214 - val_loss: 0.2891 - val_accuracy: 0.9450\n"
     ]
    },
    {
     "data": {
      "text/plain": [
       "<tensorflow.python.keras.callbacks.History at 0x7f7207027490>"
      ]
     },
     "execution_count": null,
     "metadata": {},
     "output_type": "execute_result"
    }
   ],
   "source": [
    "#export\n",
    "model.fit(X_train, y_train, validation_data=(X_test, y_test), epochs=1, batch_size=32)"
   ]
  },
  {
   "cell_type": "markdown",
   "metadata": {},
   "source": [
    "### Sử dụng tensorflow_datasets"
   ]
  },
  {
   "cell_type": "markdown",
   "metadata": {},
   "source": [
    "**Lưu ý:**\n",
    "Với dữ liệu từ tensorflow_datasets (tfds), chúng ta cần lưu ý 1 điểm tương đối quan trọng sau:\n",
    "- Với dữ liệu có sẵn, tfds cung cấp option dữ liệu trả về bằng 2 dạng: 1) dictionary; 2) tupple.\n",
    "- Việc lựa chọn 1 trong 2 dạng này được thông qua argument: `as_supervised` (default = False)\n",
    "    - `as_supervised=False`: dữ liệu trả vể (train_ds, valid_ds) ở dạng `dictionary`\n",
    "    - `as_supervised=True`: dữ liệu trả về (train_ds, valid_ds) ở dạng `tupple`\n",
    "- Trong quá trình fit model sử dụng dữ liệu từ tfds, chúng ta cần lưu ý là model nhận dữ liệu dạng tupple, do đó, việc sử dụng dữ liệu tfds cần lưu ý bước chọn `as_supervised` ở trên."
   ]
  },
  {
   "cell_type": "markdown",
   "metadata": {},
   "source": [
    "#### Dữ liệu dạng dictionary"
   ]
  },
  {
   "cell_type": "code",
   "execution_count": null,
   "metadata": {},
   "outputs": [
    {
     "name": "stdout",
     "output_type": "stream",
     "text": [
      "\u001b[1mDownloading and preparing dataset 29.45 MiB (download: 29.45 MiB, generated: 36.42 MiB, total: 65.87 MiB) to /home/ddpham/tensorflow_datasets/fashion_mnist/3.0.1...\u001b[0m\n"
     ]
    },
    {
     "data": {
      "application/vnd.jupyter.widget-view+json": {
       "model_id": "bd0ee48fe1b446548838820c07d90628",
       "version_major": 2,
       "version_minor": 0
      },
      "text/plain": [
       "Dl Completed...: 0 url [00:00, ? url/s]"
      ]
     },
     "metadata": {},
     "output_type": "display_data"
    },
    {
     "data": {
      "application/vnd.jupyter.widget-view+json": {
       "model_id": "25200d8a7821460c8bd99974775ad699",
       "version_major": 2,
       "version_minor": 0
      },
      "text/plain": [
       "Dl Size...: 0 MiB [00:00, ? MiB/s]"
      ]
     },
     "metadata": {},
     "output_type": "display_data"
    },
    {
     "data": {
      "application/vnd.jupyter.widget-view+json": {
       "model_id": "d8182df275f04100bdc4dea1f1705a3a",
       "version_major": 2,
       "version_minor": 0
      },
      "text/plain": [
       "Extraction completed...: 0 file [00:00, ? file/s]"
      ]
     },
     "metadata": {},
     "output_type": "display_data"
    },
    {
     "data": {
      "application/vnd.jupyter.widget-view+json": {
       "model_id": "",
       "version_major": 2,
       "version_minor": 0
      },
      "text/plain": [
       "Generating splits...:   0%|          | 0/2 [00:00<?, ? splits/s]"
      ]
     },
     "metadata": {},
     "output_type": "display_data"
    },
    {
     "data": {
      "application/vnd.jupyter.widget-view+json": {
       "model_id": "",
       "version_major": 2,
       "version_minor": 0
      },
      "text/plain": [
       "Generating train examples...:   0%|          | 0/60000 [00:00<?, ? examples/s]"
      ]
     },
     "metadata": {},
     "output_type": "display_data"
    },
    {
     "data": {
      "application/vnd.jupyter.widget-view+json": {
       "model_id": "",
       "version_major": 2,
       "version_minor": 0
      },
      "text/plain": [
       "Shuffling fashion_mnist-train.tfrecord...:   0%|          | 0/60000 [00:00<?, ? examples/s]"
      ]
     },
     "metadata": {},
     "output_type": "display_data"
    },
    {
     "data": {
      "application/vnd.jupyter.widget-view+json": {
       "model_id": "",
       "version_major": 2,
       "version_minor": 0
      },
      "text/plain": [
       "Generating test examples...:   0%|          | 0/10000 [00:00<?, ? examples/s]"
      ]
     },
     "metadata": {},
     "output_type": "display_data"
    },
    {
     "data": {
      "application/vnd.jupyter.widget-view+json": {
       "model_id": "",
       "version_major": 2,
       "version_minor": 0
      },
      "text/plain": [
       "Shuffling fashion_mnist-test.tfrecord...:   0%|          | 0/10000 [00:00<?, ? examples/s]"
      ]
     },
     "metadata": {},
     "output_type": "display_data"
    },
    {
     "name": "stdout",
     "output_type": "stream",
     "text": [
      "\u001b[1mDataset fashion_mnist downloaded and prepared to /home/ddpham/tensorflow_datasets/fashion_mnist/3.0.1. Subsequent calls will reuse this data.\u001b[0m\n"
     ]
    }
   ],
   "source": [
    "#export\n",
    "train_ds, test_ds = tfds.load('fashion_mnist', split=['train', 'test'], shuffle_files=True, batch_size=32)"
   ]
  },
  {
   "cell_type": "code",
   "execution_count": null,
   "metadata": {},
   "outputs": [
    {
     "name": "stdout",
     "output_type": "stream",
     "text": [
      "dict_keys(['image', 'label'])\n"
     ]
    }
   ],
   "source": [
    "#hide\n",
    "# In keys của images:\n",
    "for images in train_ds.take(1):\n",
    "    print(images.keys())\n",
    "    break"
   ]
  },
  {
   "cell_type": "markdown",
   "metadata": {},
   "source": [
    "##### Visualize"
   ]
  },
  {
   "cell_type": "code",
   "execution_count": null,
   "metadata": {},
   "outputs": [
    {
     "data": {
      "image/png": "[encoded data removed]",
      "text/plain": [
       "<Figure size 216x216 with 9 Axes>"
      ]
     },
     "metadata": {
      "needs_background": "light"
     },
     "output_type": "display_data"
    }
   ],
   "source": [
    "#export\n",
    "# Kiểm tra dữ liệu:\n",
    "plt.figure(figsize=(3, 3))\n",
    "# Nếu sử dụng batch_size trong hàm load:\n",
    "for images in train_ds.take(1):\n",
    "    for i in range(9):\n",
    "        ax = plt.subplot(3, 3, i + 1)\n",
    "        plt.imshow(images['image'][i])\n",
    "        plt.title(images['label'][i].numpy())\n",
    "        plt.axis(\"off\")\n",
    "        plt.tight_layout()"
   ]
  },
  {
   "cell_type": "markdown",
   "metadata": {},
   "source": [
    "#### Dữ liệu dạng tupple\n",
    "> Đây là dạng dữ liệu chúng ta cần để đào tạo model"
   ]
  },
  {
   "cell_type": "code",
   "execution_count": null,
   "metadata": {},
   "outputs": [],
   "source": [
    "#export\n",
    "train_ds, valid_ds = tfds.load('fashion_mnist', split=['train', 'test'], shuffle_files=True, batch_size=64, as_supervised=True)"
   ]
  },
  {
   "cell_type": "code",
   "execution_count": null,
   "metadata": {},
   "outputs": [
    {
     "name": "stdout",
     "output_type": "stream",
     "text": [
      "Number of items: 2\n",
      "Shape of item 1: (64, 28, 28, 1)\n",
      "Shape of item 2: (64,)\n"
     ]
    }
   ],
   "source": [
    "#export\n",
    "# Kiểm tra shape:\n",
    "for images in train_ds.take(1):\n",
    "    print('Number of items:', len(images))\n",
    "    print('Shape of item 1:', images[0].shape)\n",
    "    print('Shape of item 2:', images[1].shape)"
   ]
  },
  {
   "cell_type": "code",
   "execution_count": null,
   "metadata": {},
   "outputs": [
    {
     "data": {
      "image/png": "[encoded data removed]",
      "text/plain": [
       "<Figure size 216x216 with 9 Axes>"
      ]
     },
     "metadata": {
      "needs_background": "light"
     },
     "output_type": "display_data"
    }
   ],
   "source": [
    "#export\n",
    "# Kiểm tra dữ liệu:\n",
    "plt.figure(figsize=(3, 3))\n",
    "for images in train_ds.take(1):\n",
    "    for i in range(9):\n",
    "        ax = plt.subplot(3, 3, i+1)\n",
    "        plt.imshow(np.repeat(images[0][i], 3, -1))\n",
    "        plt.title(images[1][i].numpy())\n",
    "        plt.axis('off')\n",
    "        plt.tight_layout()"
   ]
  },
  {
   "cell_type": "markdown",
   "metadata": {},
   "source": [
    "### Biến đổi dữ liệu\n",
    "> Tương tự như ở trên, chúng ta có 2 biến đổi dữ liệu cơ bản là rescale dữ liệu về khoảng 0-1 và sau đó normalize lại dữ liệu về khoảng mean + variance được xác định trươc. Ở đây mean và variance được sử dụng là của dữ liệu trong imagenet."
   ]
  },
  {
   "cell_type": "markdown",
   "metadata": {},
   "source": [
    "__Lưu ý:__ với tensorflow dataset, chúng ta muốn biến đổi dữ liệu cần áp dụng mapping với dữ liệu này, sử dụng phương pháp: `tf.data.Dataset.map`"
   ]
  },
  {
   "cell_type": "code",
   "execution_count": null,
   "metadata": {},
   "outputs": [],
   "source": [
    "#export\n",
    "def rescale_pixel(image, label):\n",
    "    image = tf.cast(image, tf.float32)/255.\n",
    "    return (image, label)\n",
    "\n",
    "def normalize_img(image, label):\n",
    "    normalizer = keras.layers.experimental.preprocessing.Normalization(mean=.485, variance=.229**2)\n",
    "    image = normalizer(image)\n",
    "    return (image, label)\n",
    "\n",
    "train_ds = train_ds.map(rescale_pixel)\n",
    "train_ds = train_ds.map(normalize_img)\n",
    "valid_ds = valid_ds.map(rescale_pixel)\n",
    "valid_ds = valid_ds.map(normalize_img)"
   ]
  },
  {
   "attachments": {
    "8208ffd7-0cba-40bc-96b4-27e231ec1e59.png": {
     "image/png": "[encoded data removed]"
    }
   },
   "cell_type": "markdown",
   "metadata": {},
   "source": [
    "__Lưu ý:__ Khi thực hiện việc biến đổi dữ liệu này, với tf 2.4.1 và keras 2.4.0, chúng ta bị lỗi: \n",
    "\n",
    "![image.png](attachment:8208ffd7-0cba-40bc-96b4-27e231ec1e59.png)\n",
    "\n",
    "Nếu không sử dụng việc biến đổi dữ liệu này vs dữ liệu gốc thì sẽ không bị lỗi vậy. Tuy nhiên, lỗi này không thực sự ổn định. Nếu chúng ta sử dụng pycharm vs cùng setup môi trường và version của tf, keras thì không có lỗi trên."
   ]
  },
  {
   "cell_type": "markdown",
   "metadata": {},
   "source": [
    "#### Tạo neural net cơ bản:"
   ]
  },
  {
   "cell_type": "code",
   "execution_count": null,
   "metadata": {},
   "outputs": [],
   "source": [
    "#export\n",
    "model = keras.Sequential()\n",
    "model.add(keras.layers.Flatten(input_shape=(28, 28, 1), name='flatten'))\n",
    "model.add(keras.layers.Dense(128, activation='relu', name='layer1'))\n",
    "model.add(keras.layers.Dropout(0.5, name='dropout'))\n",
    "model.add(keras.layers.Dense(20, activation='relu', name='layer2'))\n",
    "model.add(keras.layers.Dense(10, activation='softmax', name='prediction'))"
   ]
  },
  {
   "cell_type": "code",
   "execution_count": null,
   "metadata": {},
   "outputs": [],
   "source": [
    "#export\n",
    "# Create optimizer and loss_fuction\n",
    "optimizer = keras.optimizers.RMSprop(learning_rate=0.001)\n",
    "loss_func = keras.losses.SparseCategoricalCrossentropy()\n",
    "model.compile(optimizer=optimizer, loss=loss_func, metrics='accuracy')"
   ]
  },
  {
   "cell_type": "code",
   "execution_count": null,
   "metadata": {},
   "outputs": [
    {
     "name": "stdout",
     "output_type": "stream",
     "text": [
      "Model: \"sequential_1\"\n",
      "_________________________________________________________________\n",
      "Layer (type)                 Output Shape              Param #   \n",
      "=================================================================\n",
      "flatten (Flatten)            (None, 784)               0         \n",
      "_________________________________________________________________\n",
      "layer1 (Dense)               (None, 128)               100480    \n",
      "_________________________________________________________________\n",
      "dropout (Dropout)            (None, 128)               0         \n",
      "_________________________________________________________________\n",
      "layer2 (Dense)               (None, 20)                2580      \n",
      "_________________________________________________________________\n",
      "prediction (Dense)           (None, 10)                210       \n",
      "=================================================================\n",
      "Total params: 103,270\n",
      "Trainable params: 103,270\n",
      "Non-trainable params: 0\n",
      "_________________________________________________________________\n"
     ]
    }
   ],
   "source": [
    "#export\n",
    "model.summary()"
   ]
  },
  {
   "cell_type": "code",
   "execution_count": null,
   "metadata": {},
   "outputs": [
    {
     "name": "stdout",
     "output_type": "stream",
     "text": [
      "Epoch 1/5\n",
      "938/938 [==============================] - 15s 16ms/step - loss: 1.2742 - accuracy: 0.5132 - val_loss: 1.1417 - val_accuracy: 0.5555\n",
      "Epoch 2/5\n",
      "938/938 [==============================] - 15s 16ms/step - loss: 1.1920 - accuracy: 0.5527 - val_loss: 1.0550 - val_accuracy: 0.6048\n",
      "Epoch 3/5\n",
      " 49/938 [>.............................] - ETA: 13s - loss: 1.0748 - accuracy: 0.6110"
     ]
    }
   ],
   "source": [
    "#export\n",
    "model.fit(train_ds, epochs=5, validation_data=valid_ds)"
   ]
  },
  {
   "cell_type": "markdown",
   "metadata": {},
   "source": [
    "__Lưu ý:__ Kết quả này chưa bao gồm việc xử lý dữ liệu: rescale và normalize"
   ]
  },
  {
   "cell_type": "code",
   "execution_count": null,
   "metadata": {},
   "outputs": [],
   "source": []
  }
 ],
 "metadata": {
  "kernelspec": {
   "display_name": "Python 3",
   "language": "python",
   "name": "python3"
  }
 },
 "nbformat": 4,
 "nbformat_minor": 4
}
